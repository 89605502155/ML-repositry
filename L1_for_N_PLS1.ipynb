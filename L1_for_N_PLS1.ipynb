{
 "cells": [
  {
   "cell_type": "code",
   "execution_count": 1,
   "metadata": {},
   "outputs": [],
   "source": [
    "import numpy as np\n",
    "from gzip import open # NB: overrides standard open()\n",
    "import pickle as pkl\n",
    "import pandas as pd\n",
    "import warnings \n",
    "from glob import glob\n",
    "import os\n",
    "import math\n",
    "import functools\n",
    "import matplotlib.pyplot as plt\n",
    "from sklearn.model_selection import train_test_split\n",
    "from sklearn.metrics import mean_squared_error\n",
    "from numpy import linalg as LA\n",
    "from sklearn.metrics import r2_score\n",
    "from sklearn.base import BaseEstimator\n",
    "from sklearn.base import RegressorMixin\n",
    "import math\n",
    "from sklearn.metrics import mean_squared_error\n",
    "from sklearn.model_selection import GridSearchCV"
   ]
  },
  {
   "cell_type": "code",
   "execution_count": 2,
   "metadata": {},
   "outputs": [],
   "source": [
    "from sklearn.base import BaseEstimator\n",
    "from sklearn.base import RegressorMixin\n",
    "from sklearn.metrics import mean_squared_error"
   ]
  },
  {
   "cell_type": "code",
   "execution_count": 3,
   "metadata": {},
   "outputs": [],
   "source": [
    "from sklearn.metrics import mean_squared_error\n",
    "from sklearn.metrics import r2_score, make_scorer\n",
    "import sklearn"
   ]
  },
  {
   "cell_type": "code",
   "execution_count": 4,
   "metadata": {},
   "outputs": [],
   "source": [
    "import matplotlib as mpl\n",
    "warnings.simplefilter('ignore')"
   ]
  },
  {
   "cell_type": "markdown",
   "metadata": {},
   "source": [
    "# Пролистать до набора Марата"
   ]
  },
  {
   "cell_type": "code",
   "execution_count": 5,
   "metadata": {},
   "outputs": [],
   "source": [
    "d=np.load('2021-11-17.npz')"
   ]
  },
  {
   "cell_type": "code",
   "execution_count": 6,
   "metadata": {},
   "outputs": [
    {
     "data": {
      "text/plain": [
       "['X', 'Y', 'Em', 'Ex', 'B0', 'C0']"
      ]
     },
     "execution_count": 6,
     "metadata": {},
     "output_type": "execute_result"
    }
   ],
   "source": [
    "d.files"
   ]
  },
  {
   "cell_type": "code",
   "execution_count": 7,
   "metadata": {},
   "outputs": [],
   "source": [
    "X=d['X']"
   ]
  },
  {
   "cell_type": "code",
   "execution_count": 8,
   "metadata": {},
   "outputs": [],
   "source": [
    "X*=1e7"
   ]
  },
  {
   "cell_type": "code",
   "execution_count": 9,
   "metadata": {},
   "outputs": [],
   "source": [
    "y=d['Y'][:,2]"
   ]
  },
  {
   "cell_type": "code",
   "execution_count": 10,
   "metadata": {},
   "outputs": [],
   "source": [
    "X -= X.mean(axis = 0)"
   ]
  },
  {
   "cell_type": "code",
   "execution_count": 11,
   "metadata": {},
   "outputs": [],
   "source": [
    "y*=1e1"
   ]
  },
  {
   "cell_type": "code",
   "execution_count": 12,
   "metadata": {},
   "outputs": [],
   "source": [
    "y -= y.mean()"
   ]
  },
  {
   "cell_type": "code",
   "execution_count": 13,
   "metadata": {},
   "outputs": [],
   "source": [
    "X_train, X_test, y_train, y_test = train_test_split(\n",
    "    X, y, test_size=0.1428, random_state=42)"
   ]
  },
  {
   "cell_type": "code",
   "execution_count": 14,
   "metadata": {},
   "outputs": [
    {
     "data": {
      "text/plain": [
       "(54, 351, 35)"
      ]
     },
     "execution_count": 14,
     "metadata": {},
     "output_type": "execute_result"
    }
   ],
   "source": [
    "X_train.shape"
   ]
  },
  {
   "cell_type": "code",
   "execution_count": 15,
   "metadata": {},
   "outputs": [
    {
     "data": {
      "text/plain": [
       "(64, 351, 35)"
      ]
     },
     "execution_count": 15,
     "metadata": {},
     "output_type": "execute_result"
    }
   ],
   "source": [
    "X.shape"
   ]
  },
  {
   "cell_type": "code",
   "execution_count": 16,
   "metadata": {},
   "outputs": [],
   "source": [
    "tr=[1,-8,-9,9,8,-7]"
   ]
  },
  {
   "cell_type": "code",
   "execution_count": 17,
   "metadata": {},
   "outputs": [
    {
     "data": {
      "text/plain": [
       "array([ 1, -1, -1,  1,  1, -1])"
      ]
     },
     "execution_count": 17,
     "metadata": {},
     "output_type": "execute_result"
    }
   ],
   "source": [
    "np.sign(tr)"
   ]
  },
  {
   "cell_type": "markdown",
   "metadata": {},
   "source": [
    "# Опробую на наборе Марата"
   ]
  },
  {
   "cell_type": "code",
   "execution_count": 88,
   "metadata": {},
   "outputs": [],
   "source": [
    "Xdata_numpy = pkl.load(open('C:/Users/admin/Desktop/PLS2021/N-PLS/X_new.pkl.gz', 'rb'))\n",
    "Ydata = pkl.load(open('C:/Users/admin/Desktop/PLS2021/N-PLS/y.pkl.gz', 'rb'))"
   ]
  },
  {
   "cell_type": "code",
   "execution_count": 89,
   "metadata": {},
   "outputs": [],
   "source": [
    "import  subprocess\n",
    "import sys\n",
    "import os\n",
    "from N_PLS1_help_scripts.CenteringClass import centrir"
   ]
  },
  {
   "cell_type": "code",
   "execution_count": 90,
   "metadata": {},
   "outputs": [],
   "source": [
    "cen=centrir(testSize=0.1428,column_y=0)\n",
    "result=cen.centering_and_cv(Xdata_numpy['X'],Ydata)\n",
    "y_train=result.y_train\n",
    "y_test=result.y_test\n",
    "X_train=result.X_train\n",
    "X_test=result.X_test"
   ]
  },
  {
   "cell_type": "code",
   "execution_count": null,
   "metadata": {},
   "outputs": [],
   "source": []
  },
  {
   "cell_type": "code",
   "execution_count": null,
   "metadata": {},
   "outputs": [],
   "source": []
  },
  {
   "cell_type": "code",
   "execution_count": 136,
   "metadata": {},
   "outputs": [],
   "source": [
    "class Tri_PLS1_grid(RegressorMixin,BaseEstimator):\n",
    "    def  __init__(self, n_components=2,a=3,b_l1_k=0,b_l1_i=0):\n",
    "        self.n_components = n_components\n",
    "        self.a=a\n",
    "        self.b_l1_k=b_l1_k\n",
    "        self.b_l1_i=b_l1_i\n",
    "    \n",
    "    def l1_func(self,w,const_):\n",
    "        w1=np.absolute(w)\n",
    "        for i in range(w1.shape[0]):\n",
    "            if w1[i]<=const_:\n",
    "                w1[i]=0\n",
    "        return w1\n",
    "            \n",
    "    def fit(self, xx, yy):\n",
    "        \"\"\"Fits the model to the data (X, y)\n",
    "\n",
    "        Parameters\n",
    "        ----------\n",
    "        X : ndarray\n",
    "        y : 1D-array of shape (n_samples, )\n",
    "            labels associated with each sample\"\"\"\n",
    "        x=xx.copy()\n",
    "        y=yy.copy()        \n",
    "        Tt=np.zeros([x.shape[0],self.n_components])\n",
    "        \n",
    "        mass=np.zeros([y.shape[0]])\n",
    "        y_copy=yy.copy()\n",
    "        \"\"\"\"\n",
    "        При различных способах разрезания исходных данных, массивы w_k и w_i имеют похожие значения и именно их я планирую \n",
    "        использовать для функции predict данного класса. \"\"\"\n",
    "        w_k_mass=np.zeros([self.n_components,x.shape[1],1])\n",
    "        w_i_mass=np.zeros([self.n_components,x.shape[2],1])\n",
    "        bf_array=[]\n",
    "        \n",
    "        mmas=np.zeros([x.shape[0],x.shape[1],x.shape[2]])\n",
    "        z_pz=np.eye(x.shape[1])\n",
    "        z_z=z_pz[:,:x.shape[2]]\n",
    "        \n",
    "        for f in range(0,self.n_components):\n",
    "            z=np.zeros([x.shape[1],x.shape[2]])\n",
    "            x_product=np.zeros([x.shape[0],x.shape[1],x.shape[2]])\n",
    "            \n",
    "            for i in range(0,x.shape[0]):\n",
    "                x_product[i,:,:]=y[i]*x[i,:,:]\n",
    "            z=x_product.sum(axis=0)\n",
    "            \n",
    "            # Блок регуляризации z\n",
    "            #z_po=LA.pinv(z)\n",
    "            #z=np.dot((np.dot(z,z_po)+(self.a*np.eye(z.shape[0]))),z)\n",
    "            \n",
    "            \n",
    "            Wk, S, WI = np.linalg.svd(z)\n",
    "            #plt.imshow(Wk, aspect='auto')\n",
    "            #plt.imshow(WI, aspect='auto')\n",
    "            #plt.imshow(S, aspect='auto')\n",
    "            #plt.show();\n",
    "            w_k=np.array(Wk[:,0]).reshape(x.shape[1],1)\n",
    "            w_i=np.array(WI[0,:]).reshape(x.shape[2],1)\n",
    "            \n",
    "            # Вставим L1-регуляризацию\n",
    "            \n",
    "            #plt.plot(w_k,color=\"red\")\n",
    "            #plt.plot(np.absolute(w_k)-self.b_l1, color=\"green\")\n",
    "            w_k_max=np.max(np.absolute(w_k))\n",
    "            w_i_max=np.max(np.absolute(w_i))\n",
    "            w_k=np.multiply(np.sign(w_k),self.l1_func(w_k,w_k_max*self.b_l1_k))\n",
    "            w_i=np.multiply(np.sign(w_i),self.l1_func(w_i,w_i_max*self.b_l1_i))\n",
    "            \n",
    "            #plt.plot(w_k,color=\"blue\")\n",
    "            #plt.plot(w_k, color=\"orange\")\n",
    "            #plt.show()\n",
    "            \n",
    "            w_k_mass[f,:,:]=w_k\n",
    "            w_i_mass[f,:,:]=w_i\n",
    "            \n",
    "            for h in range(0,x.shape[0]):\n",
    "                 Tt[h,f]=np.dot(np.dot(w_i.transpose(),x[h,:,:].transpose()),w_k)\n",
    "            T=np.array(Tt[:,0:f+1]).reshape(x.shape[0],f+1)        \n",
    "            #print(T)\n",
    "            #print((np.dot(np.linalg.inv(np.dot(T,T.transpose())+(self.a*np.eye(x.shape[0]))),T)).shape)\n",
    "            \n",
    "            #print(T.shape)\n",
    "            T_T_a=np.dot(T,T.transpose())-(((self.a/(10*f+1)))*np.eye(x.shape[0]))\n",
    "            T_a_1=np.linalg.inv(T_T_a)\n",
    "            bf=np.dot((np.dot(T_a_1,T)).transpose(),\n",
    "                      y.reshape([x.shape[0],1]))\n",
    "            #print(T.shape)\n",
    "            #l1_ar=np.sign(bf)\n",
    "            \n",
    "            #tr1=l1_ar*self.b_l1\n",
    "            #tr2=np.dot(T_a_1,tr1)\n",
    "            #print(tr2.shape)\n",
    "            \n",
    "            #print(l1_ar.shape)\n",
    "            #print(l1_ar)\n",
    "            #print(bf.shape) #(self.a/(f+1)\n",
    "            #print((np.dot(T,bf)).shape).reshape(x.shape[1],x.shape[2])\n",
    "            bf_array+=[bf]\n",
    "            #plt.plot(bf)\n",
    "            #plt.show();\n",
    "            \n",
    "            WW=np.kron(w_k,w_i).reshape(x.shape[1],x.shape[2])\n",
    "            for g in range(0,x.shape[0]):\n",
    "                mmas[g,:,:]=Tt[g,f]*WW\n",
    "            #mmas=np.kron(Tt[:,f],WW).reshape(x.shape[0],x.shape[1],x.shape[2])\n",
    "            x=np.array(x-(mmas)) \n",
    "            #plt.imshow(mmas[5,:,:], aspect='auto')\n",
    "            #plt.show();\n",
    "            #for g in range(0,x.shape[0]):\n",
    "            \n",
    "            #plt.imshow(np.kron(w_k,w_i).reshape(x.shape[1],x.shape[2]), aspect='auto')\n",
    "            #plt.show();\n",
    "            \n",
    "            Y_m=(np.dot(T,bf)).reshape(x.shape[0])\n",
    "            #plt.plot(Y_m, color=\"red\")\n",
    "            #plt.plot(y_copy, color=\"blue\")\n",
    "            \n",
    "            y=(y-(np.dot(T,bf)).reshape(x.shape[0]))\n",
    "            \n",
    "            #plt.plot(y, color=\"green\")\n",
    "    \n",
    "            #print(y)\n",
    "            mass+=(np.dot(T,bf)).reshape(x.shape[0]).reshape(x.shape[0])\n",
    "            #plt.plot(mass, color=\"yellow\")\n",
    "            #plt.show();\n",
    "            bf=0\n",
    "            \n",
    "        self.bf_array=bf_array\n",
    "        self.train_error=mean_squared_error(mass,y_copy)\n",
    "        self.w_k=w_k_mass\n",
    "        self.w_i=w_i_mass\n",
    "        \n",
    "        return self\n",
    "    \n",
    "    #def fit_transform(self,x.copy()):\n",
    "        \"\"\"\"\n",
    "        Даже для 20 компонент функция fit работает быстро, а вот функция predict нет.\n",
    "        Кроме того, некоторые вычислительные операции требуют колоссальных \n",
    "        объёмов памяти, поэтому, сначала нужно провести анализ нагрузок и \n",
    "        трансформацию данных в форму поменьше.\n",
    "        \n",
    "        Отбор длин волн я решил делать при помощи поглощающих жадных алгоритмов поиска. SBS алгоритм.\n",
    "        \"\"\"\n",
    "    \n",
    "    def predict(self, xx):\n",
    "        x=xx.copy()\n",
    "        Tt=np.zeros([x.shape[0],self.n_components])\n",
    "        #y=np.random.normal(loc=0,scale=10,size=x.shape[0])\n",
    "        y=np.zeros([x.shape[0]])\n",
    "        mmas=np.zeros([x.shape[0],x.shape[1],x.shape[2]])\n",
    "        for f in range(0,self.n_components):\n",
    "            w_k=self.w_k[f,:,:]\n",
    "            w_i=self.w_i[f,:,:]\n",
    "            for h in range(0,x.shape[0]):\n",
    "                 Tt[h,f]=np.dot(np.dot(w_i.transpose(),x[h,:,:].transpose()),w_k)\n",
    "            \n",
    "            T=np.array(Tt[:,0:f+1]).reshape(x.shape[0],f+1)\n",
    "            #bf=np.dot((np.dot(np.linalg.inv(np.dot(T,T.transpose())),T)).transpose(),\n",
    "            #              y.reshape([x.shape[0],1]))\n",
    "            WW=np.kron(w_k,w_i).reshape(x.shape[1],x.shape[2])\n",
    "            #plt.imshow(WW, aspect='auto')\n",
    "            #plt.show();\n",
    "            for g in range(0,x.shape[0]):\n",
    "                #mmas[g,:,:]=Tt[g,f]*WW\n",
    "                mmas[g,:,:]=Tt[g,f]*WW\n",
    "            x=np.array(x-(mmas))\n",
    "            #print(len(np.kron(Tt[:,f],np.kron(w_i,w_k).reshape(x.shape[1],x.shape[2]))))\n",
    "            #print()\n",
    "            #plt.plot(self.bf_array[f])\n",
    "            #plt.show();\n",
    "            \n",
    "            #bf=np.dot((np.dot(np.linalg.inv(np.dot(T,T.transpose())-(self.a*np.eye(x.shape[0]))),T)).transpose(),\n",
    "             #             y.reshape([x.shape[0],1]))\n",
    "            \n",
    "            y=(y+(np.dot(T,self.bf_array[f])).reshape(x.shape[0]))\n",
    "            #y=(y+(np.dot(T,bf)).reshape(x.shape[0]))\n",
    "        \n",
    "        return y\n",
    "            \n",
    "         "
   ]
  },
  {
   "cell_type": "code",
   "execution_count": 197,
   "metadata": {},
   "outputs": [],
   "source": [
    "npls1=Tri_PLS1_grid()\n",
    "scoring={'mse': make_scorer(mean_squared_error),'r2':'r2'}\n",
    "parametrsNames={'n_components': [3],\n",
    "                'a': [0.1],\n",
    "                'b_l1_k':[0.9,0],\n",
    "                'b_l1_i':[0.01,0]}"
   ]
  },
  {
   "cell_type": "code",
   "execution_count": 198,
   "metadata": {},
   "outputs": [
    {
     "name": "stdout",
     "output_type": "stream",
     "text": [
      "Wall time: 1.38 s\n"
     ]
    }
   ],
   "source": [
    "%%time\n",
    "gridCought=GridSearchCV(npls1, parametrsNames, cv=3, scoring=scoring,refit='r2', return_train_score=True)\n",
    "gridCought.fit(X_train.copy(),y_train.copy())\n",
    "r2_p=gridCought.score(X_test.copy(), y_test.copy())\n",
    "mse_cv=gridCought.cv_results_[ \"mean_test_mse\" ]\n",
    "mse_c=gridCought.cv_results_[ \"mean_train_mse\" ]\n",
    "r2_cv=gridCought.cv_results_[ \"mean_test_r2\" ]\n",
    "r2_c=gridCought.cv_results_[ \"mean_train_r2\" ]\n",
    "#predictors=gridCought.predict(X_test.copy())"
   ]
  },
  {
   "cell_type": "code",
   "execution_count": 199,
   "metadata": {},
   "outputs": [
    {
     "data": {
      "image/png": "[encoded data removed]",
      "text/plain": [
       "<Figure size 432x288 with 1 Axes>"
      ]
     },
     "metadata": {
      "needs_background": "light"
     },
     "output_type": "display_data"
    }
   ],
   "source": [
    "#plt.plot(r2_p,\".\",color='green')\n",
    "#plt.plot(r2_c,\".\",color='blue')\n",
    "plt.plot(r2_cv,\".\",color='red')\n",
    "plt.show()"
   ]
  },
  {
   "cell_type": "code",
   "execution_count": 195,
   "metadata": {},
   "outputs": [
    {
     "data": {
      "text/plain": [
       "[<matplotlib.lines.Line2D at 0x25405eccbc8>,\n",
       " <matplotlib.lines.Line2D at 0x25405ed8888>,\n",
       " <matplotlib.lines.Line2D at 0x25405ed8a48>]"
      ]
     },
     "execution_count": 195,
     "metadata": {},
     "output_type": "execute_result"
    },
    {
     "data": {
      "image/png": "[encoded data removed]",
      "text/plain": [
       "<Figure size 432x288 with 1 Axes>"
      ]
     },
     "metadata": {
      "needs_background": "light"
     },
     "output_type": "display_data"
    },
    {
     "data": {
      "image/png": "[encoded data removed]",
      "text/plain": [
       "<Figure size 432x288 with 1 Axes>"
      ]
     },
     "metadata": {
      "needs_background": "light"
     },
     "output_type": "display_data"
    }
   ],
   "source": [
    "def flatten(x):\n",
    "    sh = x.shape\n",
    "    return x.reshape(sh[0:len(sh)-1])\n",
    "\n",
    "plt.figure()\n",
    "plt.plot(flatten(gridCought.best_estimator_.w_i).transpose())\n",
    "\n",
    "plt.figure()\n",
    "plt.plot(flatten(gridCought.best_estimator_.w_k).transpose())\n"
   ]
  },
  {
   "cell_type": "code",
   "execution_count": 196,
   "metadata": {},
   "outputs": [
    {
     "data": {
      "text/plain": [
       "{'a': 0.1, 'b_l1_i': 0.01, 'b_l1_k': 0.9, 'n_components': 3}"
      ]
     },
     "execution_count": 196,
     "metadata": {},
     "output_type": "execute_result"
    }
   ],
   "source": [
    "gridCought.best_params_"
   ]
  },
  {
   "cell_type": "code",
   "execution_count": 32,
   "metadata": {},
   "outputs": [
    {
     "data": {
      "text/plain": [
       "[<matplotlib.lines.Line2D at 0x224838c4948>,\n",
       " <matplotlib.lines.Line2D at 0x22481ad1b08>,\n",
       " <matplotlib.lines.Line2D at 0x22482b22b08>,\n",
       " <matplotlib.lines.Line2D at 0x22483693908>,\n",
       " <matplotlib.lines.Line2D at 0x22483693f48>]"
      ]
     },
     "execution_count": 32,
     "metadata": {},
     "output_type": "execute_result"
    },
    {
     "data": {
      "image/png": "[encoded data removed]",
      "text/plain": [
       "<Figure size 432x288 with 1 Axes>"
      ]
     },
     "metadata": {
      "needs_background": "light"
     },
     "output_type": "display_data"
    },
    {
     "data": {
      "image/png": "[encoded data removed]",
      "text/plain": [
       "<Figure size 432x288 with 1 Axes>"
      ]
     },
     "metadata": {
      "needs_background": "light"
     },
     "output_type": "display_data"
    }
   ],
   "source": [
    "def flatten(x):\n",
    "    sh = x.shape\n",
    "    return x.reshape(sh[0:len(sh)-1])\n",
    "\n",
    "plt.figure()\n",
    "plt.plot(flatten(gridCought.best_estimator_.w_i).transpose())\n",
    "\n",
    "plt.figure()\n",
    "plt.plot(flatten(gridCought.best_estimator_.w_k).transpose())\n"
   ]
  },
  {
   "cell_type": "code",
   "execution_count": null,
   "metadata": {},
   "outputs": [],
   "source": []
  }
 ],
 "metadata": {
  "kernelspec": {
   "display_name": "Python 3",
   "language": "python",
   "name": "python3"
  },
  "language_info": {
   "codemirror_mode": {
    "name": "ipython",
    "version": 3
   },
   "file_extension": ".py",
   "mimetype": "text/x-python",
   "name": "python",
   "nbconvert_exporter": "python",
   "pygments_lexer": "ipython3",
   "version": "3.7.4"
  }
 },
 "nbformat": 4,
 "nbformat_minor": 2
}
