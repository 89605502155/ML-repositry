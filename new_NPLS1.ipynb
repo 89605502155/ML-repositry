{
 "cells": [
  {
   "cell_type": "markdown",
   "metadata": {},
   "source": [
    "# Импорт библиотек"
   ]
  },
  {
   "cell_type": "code",
   "execution_count": 496,
   "metadata": {},
   "outputs": [],
   "source": [
    "import numpy as np\n",
    "from gzip import open # NB: overrides standard open()\n",
    "import pickle as pkl\n",
    "import pandas as pd\n",
    "import warnings \n",
    "from glob import glob\n",
    "import os\n",
    "import math\n",
    "import functools\n",
    "import matplotlib.pyplot as plt\n",
    "from sklearn.model_selection import train_test_split\n",
    "from sklearn.metrics import mean_squared_error\n",
    "from numpy import linalg as LA\n",
    "from sklearn.metrics import r2_score\n",
    "from sklearn.base import BaseEstimator\n",
    "from sklearn.base import RegressorMixin\n",
    "import math\n",
    "from sklearn.metrics import mean_squared_error\n",
    "from sklearn.model_selection import GridSearchCV"
   ]
  },
  {
   "cell_type": "code",
   "execution_count": 2,
   "metadata": {},
   "outputs": [],
   "source": [
    "import matplotlib as mpl"
   ]
  },
  {
   "cell_type": "markdown",
   "metadata": {},
   "source": [
    "### Отключим предупреждения Anaconda"
   ]
  },
  {
   "cell_type": "code",
   "execution_count": 3,
   "metadata": {},
   "outputs": [],
   "source": [
    "warnings.simplefilter('ignore')"
   ]
  },
  {
   "cell_type": "markdown",
   "metadata": {},
   "source": [
    "# Загрузим данные"
   ]
  },
  {
   "cell_type": "code",
   "execution_count": 497,
   "metadata": {},
   "outputs": [],
   "source": [
    "Xdata_numpy = pkl.load(open('C:/Users/admin/Desktop/PLS2021/N-PLS/X.pkl.gz', 'rb'))\n",
    "Ydata = pkl.load(open('C:/Users/admin/Desktop/PLS2021/N-PLS/y.pkl.gz', 'rb'))"
   ]
  },
  {
   "cell_type": "markdown",
   "metadata": {},
   "source": [
    "# N-PLS1\n",
    "## Приближение к правильному алгоритму\n",
    "### Опишу ка я центрирование в виде класса, для удобства."
   ]
  },
  {
   "cell_type": "code",
   "execution_count": 498,
   "metadata": {},
   "outputs": [],
   "source": [
    "class centrir(BaseEstimator):\n",
    "    \"\"\"\"Этот класс производит центрирование, а потом из центрированных данных переходит обратно\"\"\"\n",
    "    def  __init__(self, testSize=2*0.02857, column_y=0):\n",
    "        self.testSize = testSize\n",
    "        self.column_y=column_y\n",
    "    \n",
    "    def centering_and_cv(self,xx,yy):\n",
    "        x=xx.copy()\n",
    "        y=yy.copy()\n",
    "        x_centrir=np.array(x)\n",
    "        y_centrir=y.iloc[:,self.column_y].to_numpy()\n",
    "        x_centrir -= x_centrir.mean(axis = 0)\n",
    "        #x_centrir -= x_centrir.mean()\n",
    "        self.medium=y_centrir.mean() #Это сренее значение у. \n",
    "        y_centrir -= y_centrir.mean() \n",
    "        \n",
    "        X_train, X_test, y_train, y_test = train_test_split(\n",
    "                x_centrir, y_centrir, test_size=self.testSize \n",
    "                )\n",
    "        self.X_train=X_train\n",
    "        self.X_test=X_test\n",
    "        self.y_train=y_train\n",
    "        self.y_test=y_test\n",
    "        return self\n",
    "    \n",
    "    def recentering(self,yy):\n",
    "            y=yy.copy()\n",
    "            y+=self.medium\n",
    "            return y\n",
    "        "
   ]
  },
  {
   "cell_type": "code",
   "execution_count": 499,
   "metadata": {},
   "outputs": [],
   "source": [
    "class Tri_PLS1_grid(RegressorMixin,BaseEstimator):\n",
    "    def  __init__(self, n_components=2):\n",
    "        self.n_components = n_components\n",
    "        \n",
    "            \n",
    "    def fit(self, xx, yy):\n",
    "        \"\"\"Fits the model to the data (X, y)\n",
    "\n",
    "        Parameters\n",
    "        ----------\n",
    "        X : ndarray\n",
    "        y : 1D-array of shape (n_samples, )\n",
    "            labels associated with each sample\"\"\"\n",
    "        x=xx.copy()\n",
    "        y=yy.copy()        \n",
    "        Tt=np.zeros([x.shape[0],self.n_components])\n",
    "        mass=np.zeros([y.shape[0]])\n",
    "        y_copy=yy.copy()\n",
    "        \"\"\"\"\n",
    "        При различных способах разрезания исходных данных, массивы w_k и w_i имеют похожие значения и именно их я планирую \n",
    "        использовать для функции predict данного класса. \"\"\"\n",
    "        w_k_mass=np.zeros([self.n_components,x.shape[1],1])\n",
    "        w_i_mass=np.zeros([self.n_components,x.shape[2],1])\n",
    "        bf_array=[]\n",
    "        for f in range(0,self.n_components):\n",
    "            z=np.zeros([x.shape[1],x.shape[2]])\n",
    "            x_product=np.zeros([x.shape[0],x.shape[1],x.shape[2]])\n",
    "            for i in range(0,x.shape[0]):\n",
    "                x_product[i,:,:]=x[i,:,:]*y[i]\n",
    "            z=x_product.sum(axis=0)\n",
    "            Wk, S, WI = np.linalg.svd(z)\n",
    "            w_k=np.array(Wk[0,:]).reshape(x.shape[1],1)\n",
    "            w_i=np.array(WI[0,:]).reshape(x.shape[2],1)\n",
    "            w_k_mass[f,:,:]=w_k\n",
    "            w_i_mass[f,:,:]=w_i\n",
    "            \n",
    "            for h in range(0,x.shape[0]):\n",
    "                 Tt[h,f]=np.dot(np.dot(w_k.transpose(),x[h,:,:]),w_i)\n",
    "            T=np.array(Tt[:,0:f+1]).reshape(x.shape[0],f+1)\n",
    "            bf=np.dot(np.dot(np.linalg.inv(np.dot(T.transpose(),T)),T.transpose()),y)\n",
    "            bf_array+=[bf]\n",
    "            mmas=np.kron(Tt[:,f],np.kron(w_i,w_k).reshape(x.shape[1],x.shape[2])).reshape(x.shape[0],x.shape[1],x.shape[2])\n",
    "            x=x-(mmas)             \n",
    "            y=y-(np.dot(T,bf))\n",
    "            mass+=np.dot(T,bf)   \n",
    "        self.bf_array=bf_array\n",
    "        self.train_error=mean_squared_error(mass,y_copy)\n",
    "        self.w_k=w_k_mass\n",
    "        self.w_i=w_i_mass\n",
    "        \n",
    "        return self\n",
    "    \n",
    "    \n",
    "    def predict(self, xx):\n",
    "        x=xx.copy()\n",
    "        xn=x.reshape(x.shape[0],x.shape[1]*x.shape[2])\n",
    "        wk=np.array(self.w_k[0,:,:]).reshape(x.shape[1],1)\n",
    "        wj=np.array(self.w_i[0,:,:]).reshape(x.shape[2],1)\n",
    "        ww=np.kron(wk,wj).reshape(xn.shape[1])\n",
    "        R=np.zeros([xn.shape[1],self.n_components])\n",
    "        t=np.zeros([self.n_components,x.shape[0]])\n",
    "        R[:,0]=ww.reshape(xn.shape[1])\n",
    "        t[0,:]=np.dot(xn.copy(),ww).reshape(x.shape[0])\n",
    "        I=np.eye(xn.shape[1])\n",
    "        P=np.eye(xn.shape[1])\n",
    "        p=np.ones([xn.shape[1]])\n",
    "        B=np.zeros([self.n_components,self.n_components])\n",
    "        for j in range(0,self.n_components):\n",
    "            num=0\n",
    "            for i in self.bf_array[j]:\n",
    "                B[j,num]=i\n",
    "                num+=1\n",
    "        B=np.array([B]).reshape(self.n_components,self.n_components)\n",
    "        b=B.sum(axis=0)\n",
    "        kp=np.zeros([xn.shape[1]])\n",
    "        for f in range(0,self.n_components-1):\n",
    "            w=np.zeros([xn.shape[1]])\n",
    "            w=np.kron(np.array(self.w_k[f,:,:]).reshape(x.shape[1],1),\n",
    "                      np.array(self.w_i[f,:,:]).reshape(x.shape[2],1)\n",
    "                     ).reshape(xn.shape[1])\n",
    "            w_p=np.zeros([xn.shape[1]])\n",
    "            w_p=np.kron(np.array(self.w_k[f+1,:,:]).reshape(x.shape[1],1),\n",
    "                        np.array(self.w_i[f+1,:,:]).reshape(x.shape[2],1)\n",
    "                       ).reshape(xn.shape[1])\n",
    "            if (f<0.9):\n",
    "                P=I-np.kron(w,w.transpose()).reshape(xn.shape[1],xn.shape[1])\n",
    "                kp=np.dot(P,w_p).reshape(xn.shape[1])\n",
    "            else:\n",
    "                P=I-np.kron(kp,w.transpose()).reshape(xn.shape[1],xn.shape[1])\n",
    "                kp=np.dot(P,w_p).reshape(xn.shape[1])\n",
    "            \n",
    "            \n",
    "            \n",
    "            t[f+1,:]=np.dot(xn.copy(),kp.copy()).reshape(x.shape[0])\n",
    "            R[:,f+1]=kp.reshape(xn.shape[1])\n",
    "        \n",
    "        b_pls1=np.dot(R,b).reshape(xn.shape[1])\n",
    "        y=np.dot(xn,b_pls1).reshape(x.shape[0])\n",
    "        self.b=b_pls1\n",
    "        return y"
   ]
  },
  {
   "cell_type": "markdown",
   "metadata": {},
   "source": [
    "# Класс для отбора переменных.\n",
    "### Пока что он не связан с регрессионным классом, но в будущем я его доработаю."
   ]
  },
  {
   "cell_type": "code",
   "execution_count": 500,
   "metadata": {},
   "outputs": [],
   "source": [
    "class variable_class():\n",
    "    def  __init__(self, number_variable_emission=7, number_variable_excitation=4):\n",
    "        self.number_variable_emission=number_variable_emission\n",
    "        self.number_variable_excitation=number_variable_excitation\n",
    "        \n",
    "    def finding_variable(self,bn_npls1):\n",
    "        dict_with_collumns=dict()\n",
    "        b_npls1=bn_npls1.copy()\n",
    "        for i in range(b_npls1.shape[1]):\n",
    "            col_max=max(np.fabs(b_npls1[:,i]))\n",
    "            dict_with_collumns[col_max]=i\n",
    "        column_list_tuple=sorted(dict_with_collumns.items(), reverse=True)[:self.number_variable_excitation]\n",
    "        num_column_r=list()\n",
    "        for maxim, number in column_list_tuple:\n",
    "            num_column_r.append(number)\n",
    "        num_column=sorted(num_column_r)\n",
    "        b_new_columns=b_npls1[:,num_column]\n",
    "        self.num_column=num_column # Номера отобранных колонок матриц начиная с 0, так как индексация range () начинается с 0 \n",
    "        # теперь отберу строчки\n",
    "        dict_with_rows=dict()\n",
    "        for i in range(b_new_columns.shape[0]):\n",
    "            row_max=max(np.fabs(b_new_columns[i,:]))\n",
    "            dict_with_rows[row_max]=i\n",
    "        row_list_tuple=sorted(dict_with_rows.items(), reverse=True)[:self.number_variable_emission]\n",
    "        num_row_r=list()\n",
    "        for maxim,number in row_list_tuple:\n",
    "            num_row_r.append(number)\n",
    "        num_row=sorted(num_row_r)\n",
    "        self.num_row=num_row  # Номера отобранных строчек\n",
    "        b_new=b_new_columns[num_row,:]\n",
    "        self.b_new=b_new\n",
    "        return self\n",
    "    \n",
    "    def transform(self,xn):\n",
    "        #На вход подавать тензор\n",
    "        x=xn.copy()\n",
    "        x_new=np.zeros([x.shape[0],len(self.num_row),len(self.num_column)])\n",
    "        for matrixx in range(x.shape[0]):\n",
    "            len_x_new=0\n",
    "            for i in self.num_column:\n",
    "                shape_x_new=0\n",
    "                for j in self.num_row:\n",
    "                    x_new[matrixx,shape_x_new,len_x_new]=x[matrixx,j,i]\n",
    "                    shape_x_new+=1\n",
    "                len_x_new+=1\n",
    "        return x_new\n",
    "    \n",
    "    def emission_vave_lenth(self,emissions_array):\n",
    "        emission=emissions_array.copy()\n",
    "        emission_new=np.zeros([len(self.num_row)])\n",
    "        for i in range(len(self.num_row)):\n",
    "            emission_new[i]=emission[self.num_row[i]]\n",
    "        return emission_new\n",
    "    \n",
    "    def excitation_vave_lenth(self, excitation_array):\n",
    "        excitation=excitation_array.copy()\n",
    "        excitation_new=np.zeros([len(self.num_column)])\n",
    "        for i in range(len(self.num_column)):\n",
    "            excitation_new[i]=excitation[self.num_column[i]]\n",
    "        return excitation_new"
   ]
  },
  {
   "cell_type": "markdown",
   "metadata": {},
   "source": [
    "# Центрируем данные (замена: вместо 3-х методов теперь 2)"
   ]
  },
  {
   "cell_type": "code",
   "execution_count": 182,
   "metadata": {},
   "outputs": [],
   "source": [
    "cen=centrir(testSize=0.1428,column_y=0)"
   ]
  },
  {
   "cell_type": "code",
   "execution_count": 183,
   "metadata": {},
   "outputs": [],
   "source": [
    "result=cen.centering_and_cv(Xdata_numpy['X'],Ydata)"
   ]
  },
  {
   "cell_type": "code",
   "execution_count": 184,
   "metadata": {},
   "outputs": [],
   "source": [
    "y_train=result.y_train\n",
    "y_test=result.y_test\n",
    "X_train=result.X_train\n",
    "X_test=result.X_test"
   ]
  },
  {
   "cell_type": "code",
   "execution_count": 629,
   "metadata": {},
   "outputs": [],
   "source": [
    "y_test=pkl.load(open('C:/Users/admin/Desktop/PLS2021/N-PLS/Gominy_N-PLS1_new_final.pkl.gz', 'rb'))['y_test']\n",
    "y_train=pkl.load(open('C:/Users/admin/Desktop/PLS2021/N-PLS/Gominy_N-PLS1_new_final.pkl.gz', 'rb'))['y_train']\n",
    "X_train=pkl.load(open('C:/Users/admin/Desktop/PLS2021/N-PLS/Gominy_N-PLS1_new_final.pkl.gz', 'rb'))['X_train']\n",
    "X_test=pkl.load(open('C:/Users/admin/Desktop/PLS2021/N-PLS/Gominy_N-PLS1_new_final.pkl.gz', 'rb'))['X_test']"
   ]
  },
  {
   "cell_type": "markdown",
   "metadata": {},
   "source": [
    "# Делаем применение сразу по всем компонентам"
   ]
  },
  {
   "cell_type": "code",
   "execution_count": 630,
   "metadata": {},
   "outputs": [],
   "source": [
    "npls1=Tri_PLS1_grid()\n",
    "parametrsNames={'n_components': range(1,4)}"
   ]
  },
  {
   "cell_type": "code",
   "execution_count": 631,
   "metadata": {},
   "outputs": [
    {
     "name": "stdout",
     "output_type": "stream",
     "text": [
      "Wall time: 2min 10s\n"
     ]
    }
   ],
   "source": [
    "%%time\n",
    "gridCought=GridSearchCV(npls1, parametrsNames, cv=5,return_train_score=True)\n",
    "gridCought.fit(X_train.copy(),y_train.copy())\n",
    "r2_p=gridCought.score(X_test.copy(), y_test.copy())\n",
    "r2_cv=gridCought.cv_results_[ \"mean_test_score\" ]\n",
    "r2_c=gridCought.cv_results_[ \"mean_train_score\" ]\n",
    "predictors=gridCought.predict(X_test.copy())"
   ]
  },
  {
   "cell_type": "code",
   "execution_count": 633,
   "metadata": {},
   "outputs": [],
   "source": [
    "b_npls1_full=gridCought.best_estimator_.b.reshape(206,55)"
   ]
  },
  {
   "cell_type": "markdown",
   "metadata": {},
   "source": [
    "### Теперь произведём отбор переменных из исходных данных, чтобы потом заново центрировать и обучить новую модель"
   ]
  },
  {
   "cell_type": "code",
   "execution_count": 634,
   "metadata": {},
   "outputs": [
    {
     "data": {
      "text/plain": [
       "<__main__.variable_class at 0x18808186608>"
      ]
     },
     "execution_count": 634,
     "metadata": {},
     "output_type": "execute_result"
    }
   ],
   "source": [
    "select=variable_class()\n",
    "select.finding_variable(b_npls1_full)"
   ]
  },
  {
   "cell_type": "code",
   "execution_count": 635,
   "metadata": {},
   "outputs": [],
   "source": [
    "x_new=select.transform(Xdata_numpy['X'])"
   ]
  },
  {
   "cell_type": "markdown",
   "metadata": {},
   "source": [
    "### Заново центрируем новые данные"
   ]
  },
  {
   "cell_type": "code",
   "execution_count": 743,
   "metadata": {},
   "outputs": [],
   "source": [
    "new_cen=centrir(testSize=0.1428,column_y=0)"
   ]
  },
  {
   "cell_type": "code",
   "execution_count": 744,
   "metadata": {},
   "outputs": [],
   "source": [
    "new_result=new_cen.centering_and_cv(x_new,Ydata)"
   ]
  },
  {
   "cell_type": "code",
   "execution_count": 745,
   "metadata": {},
   "outputs": [],
   "source": [
    "y_train=new_result.y_train\n",
    "y_test=new_result.y_test\n",
    "X_train=new_result.X_train\n",
    "X_test=new_result.X_test"
   ]
  },
  {
   "cell_type": "markdown",
   "metadata": {},
   "source": [
    "### Снова делаем обучение по всем компонентам, но уже на новых данных"
   ]
  },
  {
   "cell_type": "code",
   "execution_count": 746,
   "metadata": {},
   "outputs": [],
   "source": [
    "new_npls1=Tri_PLS1_grid()\n",
    "parametrsNames={'n_components': range(1,8)}"
   ]
  },
  {
   "cell_type": "code",
   "execution_count": 747,
   "metadata": {},
   "outputs": [
    {
     "name": "stdout",
     "output_type": "stream",
     "text": [
      "Wall time: 201 ms\n"
     ]
    }
   ],
   "source": [
    "%%time\n",
    "new_gridCought=GridSearchCV(new_npls1, parametrsNames, cv=5,return_train_score=True)\n",
    "new_gridCought.fit(X_train.copy(),y_train.copy())\n",
    "new_r2_p=new_gridCought.score(X_test.copy(), y_test.copy())\n",
    "new_r2_cv=new_gridCought.cv_results_[ \"mean_test_score\" ]\n",
    "new_r2_c=new_gridCought.cv_results_[ \"mean_train_score\" ]\n",
    "new_predictors=new_gridCought.predict(X_test.copy())"
   ]
  },
  {
   "cell_type": "code",
   "execution_count": 748,
   "metadata": {},
   "outputs": [
    {
     "data": {
      "image/png": "[encoded data removed]",
      "text/plain": [
       "<Figure size 432x288 with 1 Axes>"
      ]
     },
     "metadata": {
      "needs_background": "light"
     },
     "output_type": "display_data"
    }
   ],
   "source": [
    "plt.plot(new_r2_p,\".\", color=\"green\")\n",
    "plt.plot(new_r2_c, \".\", color=\"blue\")\n",
    "plt.plot(new_r2_cv,\".\", color=\"red\")\n",
    "plt.show()"
   ]
  },
  {
   "cell_type": "code",
   "execution_count": 749,
   "metadata": {},
   "outputs": [],
   "source": [
    "b_npls1_small=new_gridCought.best_estimator_.b.reshape(7,4)"
   ]
  },
  {
   "cell_type": "code",
   "execution_count": 750,
   "metadata": {},
   "outputs": [
    {
     "data": {
      "text/plain": [
       "array([[ -5.14616927,  -4.41164037,  -6.24738138,  -4.13542271],\n",
       "       [  0.65569022,  -2.90839931,  -0.57547773,   0.10851708],\n",
       "       [  5.23810163,   8.35298421,   8.13958825,   4.64880388],\n",
       "       [ -5.72964174, -10.41226303,  -8.87800832,  -6.94070123],\n",
       "       [  6.28927369,   6.85434178,   5.39873499,   3.5269506 ],\n",
       "       [  3.83366246,   7.33661985,   6.26551011,   4.13602189],\n",
       "       [ 10.62906266,  11.4282305 ,  11.03178009,   9.80258445]])"
      ]
     },
     "execution_count": 750,
     "metadata": {},
     "output_type": "execute_result"
    }
   ],
   "source": [
    "b_npls1_small"
   ]
  },
  {
   "cell_type": "code",
   "execution_count": 751,
   "metadata": {},
   "outputs": [
    {
     "data": {
      "text/plain": [
       "Tri_PLS1_grid(n_components=6)"
      ]
     },
     "execution_count": 751,
     "metadata": {},
     "output_type": "execute_result"
    }
   ],
   "source": [
    "new_gridCought.best_estimator_"
   ]
  },
  {
   "cell_type": "code",
   "execution_count": null,
   "metadata": {},
   "outputs": [],
   "source": []
  },
  {
   "cell_type": "code",
   "execution_count": null,
   "metadata": {},
   "outputs": [],
   "source": []
  },
  {
   "cell_type": "code",
   "execution_count": 771,
   "metadata": {},
   "outputs": [
    {
     "data": {
      "text/plain": [
       "array([318., 354., 362., 378., 452., 458., 474.])"
      ]
     },
     "execution_count": 771,
     "metadata": {},
     "output_type": "execute_result"
    }
   ],
   "source": [
    "select.emission_vave_lenth(Xdata_numpy['emission'])"
   ]
  },
  {
   "cell_type": "code",
   "execution_count": 772,
   "metadata": {},
   "outputs": [
    {
     "data": {
      "text/plain": [
       "array([250., 255., 260., 265.])"
      ]
     },
     "execution_count": 772,
     "metadata": {},
     "output_type": "execute_result"
    }
   ],
   "source": [
    "select.excitation_vave_lenth(Xdata_numpy['excitation'])"
   ]
  },
  {
   "cell_type": "code",
   "execution_count": null,
   "metadata": {},
   "outputs": [],
   "source": []
  },
  {
   "cell_type": "code",
   "execution_count": null,
   "metadata": {},
   "outputs": [],
   "source": []
  },
  {
   "cell_type": "code",
   "execution_count": 773,
   "metadata": {},
   "outputs": [],
   "source": [
    "pkl.dump(\n",
    "\t{'r2_cv': new_r2_cv, 'r2_c': new_r2_c, 'r2_p': new_r2_p, 'predict':new_predictors,'y_test':y_test,\n",
    "     'parametrs':gridCought.best_params_, 'True_predictors':n_predictors, 'True_y':yTest,\n",
    "     'X_test':X_test,'X_train':X_train,'y_train':y_train, 'b_npls1_v-s':b_npls1_small, \n",
    "     'emission_vale_lendth':select.emission_vave_lenth(Xdata_numpy['emission']),\n",
    "     'excitation_vale_lendth':select.excitation_vave_lenth(Xdata_numpy['excitation']),\n",
    "     'b_npls1_without_v-s':b_npls1_full},\n",
    "\topen('C:/Users/admin/Desktop/PLS2021/N-PLS/Gominy_N-PLS1_final_with_variable_selection.pkl.gz', 'wb')\n",
    ")"
   ]
  },
  {
   "cell_type": "markdown",
   "metadata": {},
   "source": [
    "# Строю R2 по новому"
   ]
  },
  {
   "cell_type": "code",
   "execution_count": 762,
   "metadata": {},
   "outputs": [
    {
     "data": {
      "image/png": "[encoded data removed]",
      "text/plain": [
       "<Figure size 864x504 with 1 Axes>"
      ]
     },
     "metadata": {
      "needs_background": "light"
     },
     "output_type": "display_data"
    }
   ],
   "source": [
    "mpl.rc('font',family='Times New Roman')\n",
    "fig, axs = plt.subplots(figsize=(12, 7))\n",
    "axs.plot(new_r2_cv,\".\",color=\"red\",ms=20,label='$R_{cv}^{2}$')\n",
    "#axs.plot(r2_c,\".\",color=\"blue\",ms=20,label='$R_c^{2}$')\n",
    "#axs.plot(r2_p,\".\",color=\"green\",ms=20,label='$R_p^{2}$')\n",
    "\n",
    "axs.set_xticks(range(0,7,1)) # Задаём места, где будет сетка и метки по оси ох\n",
    "axs.set_yticks(np.linspace(-0.30, 0.20, num = 6))\n",
    "\n",
    "axs.set_ylabel('R$^{2}$',  fontsize=25,labelpad=5)\n",
    "axs.grid(color=\"black\", drawstyle=\"default\", linewidth=0.7)\n",
    "axs.set_xlabel(\"Количество компонент\",  fontsize=25,labelpad=15)\n",
    "axs.set_title(\"Зависимость R$^{2}$ N-PLS1 от числа компонент для Gominy\", fontsize=28,loc=\"center\" ,pad=15)\n",
    "axs.tick_params(which='major', length=10, width=2)\n",
    "#axs.ticklabel_format()\n",
    "\n",
    "axs.set_xticklabels(range(1,9,1), fontsize=20)\n",
    "axs.set_yticklabels(['-0.30','-0.20','-0.10','0.00','0.10','0.20','0.70','0.94','1.00'], fontsize=20)\n",
    "axs.get_xaxis().set_tick_params(direction='in')\n",
    "axs.get_yaxis().set_tick_params(direction='in')\n",
    "axs.legend(loc=1,fontsize=20, markerscale=1,handletextpad=0)\n",
    "\n",
    "axs.set_xlim(xmax=7) # можно определить границы графика которые будут выводиться на экран\n",
    "fig.tight_layout()\n",
    "#fig.set_figwidth(12) можно задать размеры самого поля для рисования\n",
    "#fig.set_figheight(6)\n",
    "\n",
    "plt.savefig('N-PLS1 Gominy с использованием отбора переменных.png', format='png', dpi=300)\n",
    "plt.savefig(\"N-PLS1 Gominy с использованием отбора переменных.svg\", format=\"svg\")\n",
    "\n",
    "\n",
    "plt.show();"
   ]
  },
  {
   "cell_type": "markdown",
   "metadata": {},
   "source": [
    "# Строю введено-найдено по новому"
   ]
  },
  {
   "cell_type": "code",
   "execution_count": 763,
   "metadata": {},
   "outputs": [],
   "source": [
    "yTest=y_test+new_result.medium"
   ]
  },
  {
   "cell_type": "code",
   "execution_count": 764,
   "metadata": {},
   "outputs": [
    {
     "data": {
      "text/plain": [
       "array([-4.59584285,  3.27807984,  5.45213345,  2.1530446 ,  4.40507881])"
      ]
     },
     "execution_count": 764,
     "metadata": {},
     "output_type": "execute_result"
    }
   ],
   "source": [
    "y_test"
   ]
  },
  {
   "cell_type": "code",
   "execution_count": 765,
   "metadata": {},
   "outputs": [
    {
     "data": {
      "text/plain": [
       "array([35.39881485, 43.27273755, 45.44679116, 42.14770231, 44.39973652])"
      ]
     },
     "execution_count": 765,
     "metadata": {},
     "output_type": "execute_result"
    }
   ],
   "source": [
    "yTest"
   ]
  },
  {
   "cell_type": "code",
   "execution_count": 766,
   "metadata": {},
   "outputs": [],
   "source": [
    "n_predictors=new_predictors+new_result.medium"
   ]
  },
  {
   "cell_type": "code",
   "execution_count": 767,
   "metadata": {},
   "outputs": [
    {
     "data": {
      "text/plain": [
       "array([33.74885545, 40.8542985 , 43.42783169, 36.65864158, 42.05313467])"
      ]
     },
     "execution_count": 767,
     "metadata": {},
     "output_type": "execute_result"
    }
   ],
   "source": [
    "n_predictors"
   ]
  },
  {
   "cell_type": "code",
   "execution_count": 770,
   "metadata": {},
   "outputs": [
    {
     "data": {
      "image/png": "[encoded data removed]",
      "text/plain": [
       "<Figure size 864x504 with 1 Axes>"
      ]
     },
     "metadata": {
      "needs_background": "light"
     },
     "output_type": "display_data"
    }
   ],
   "source": [
    "mpl.rc('font',family='Times New Roman')\n",
    "fig, axs = plt.subplots(figsize=(12, 7))\n",
    "axs.plot(yTest,n_predictors,\".\",color=\"red\",ms=40)\n",
    "axs.plot(yTest,yTest,color=\"blue\",lw=5)\n",
    "axs.set_ylabel(\"Предсказанные значения\" , fontsize=25,labelpad=8)\n",
    "axs.grid(color=\"black\",linewidth=0.7)\n",
    "axs.set_xlabel(\"Истинные значения\",  fontsize=25,labelpad=15)\n",
    "axs.set_title(\"График введено-найдено N-PLS1 Gominy\", fontsize=28,loc=\"center\" ,pad=15)\n",
    "axs.tick_params(which='major', length=10, width=2)\n",
    "axs.set_xticklabels(range(34,48,2), fontsize=20)\n",
    "axs.set_yticklabels(range(32,48,2), fontsize=20)\n",
    "axs.get_xaxis().set_tick_params(direction='in')\n",
    "axs.get_yaxis().set_tick_params(direction='in')\n",
    "plt.savefig('График введено-найдено N-PLS1 Gominy с использованием отбора переменных.png', format='png', dpi=300)\n",
    "plt.savefig(\"График введено-найдено N-PLS1 Gominy с использованием отбора переменных.svg\", format=\"svg\")\n",
    "plt.show();"
   ]
  },
  {
   "cell_type": "markdown",
   "metadata": {},
   "source": [
    "# Сохраним абсолютно всё в пикль, потому что считать заново - это очень долго."
   ]
  },
  {
   "cell_type": "code",
   "execution_count": 141,
   "metadata": {},
   "outputs": [],
   "source": [
    "pkl.dump(\n",
    "\t{'r2_cv': r2_cv, 'r2_c': r2_c, 'r2_p': r2_p, 'predict':predictors,'y_test':y_test,\n",
    "     'parametrs':gridCought.best_params_, 'True_predictors':n_predictors, 'True_y':yTest,\n",
    "     'X_test':X_test,'X_train':X_train,'y_train':y_train},\n",
    "\topen('C:/Users/admin/Desktop/PLS2021/N-PLS/Trp_N-PLS1_final.pkl.gz', 'wb')\n",
    ")"
   ]
  },
  {
   "cell_type": "code",
   "execution_count": null,
   "metadata": {},
   "outputs": [],
   "source": []
  },
  {
   "cell_type": "code",
   "execution_count": null,
   "metadata": {},
   "outputs": [],
   "source": []
  },
  {
   "cell_type": "markdown",
   "metadata": {},
   "source": [
    "### Зделаю ка я применение двух предыдущих классов тоже в виде класса"
   ]
  },
  {
   "cell_type": "code",
   "execution_count": 327,
   "metadata": {},
   "outputs": [],
   "source": [
    "class run_class(RegressorMixin,BaseEstimator):\n",
    "    def  __init__(self, testSize=0.1428, column_y=0, components_array=range(1,17), number_vallidations=5):\n",
    "        self.testSize = testSize\n",
    "        self.column_y=column_y\n",
    "        self.components_array = components_array\n",
    "        self.number_vallidations=number_vallidations\n",
    "        \n",
    "    def data_centerng(self,x,y):\n",
    "        data=centrir(testSize=self.testSize, column_y=self.column_y)\n",
    "        self.data_cv=data.centering_and_cv(x.copy(),y.copy())\n",
    "        return self\n",
    "    \n",
    "    def cv(self):\n",
    "        train_error=np.zeros([len(self.components_array)])\n",
    "        test_error=np.zeros([len(self.components_array)])\n",
    "        p_error=np.zeros([len(self.components_array)])\n",
    "        n=0\n",
    "        for i in self.components_array:\n",
    "            regressioModel=Tri_PLS1_grid()\n",
    "            parametrsNames={ \n",
    "                'n_components': [i]\n",
    "            }\n",
    "\n",
    "            gridCought=GridSearchCV(regressioModel, parametrsNames, cv=self.number_vallidations, return_train_score=True)\n",
    "            gridCought.fit(self.data_cv.X_train.copy(),self.data_cv.y_train.copy())\n",
    "            train_error[n]=gridCought.cv_results_[ \"mean_train_score\"]\n",
    "            test_error[n]=gridCought.cv_results_[ \"mean_test_score\" ]\n",
    "            \n",
    "            p_error[n]=gridCought.score(self.data_cv.X_test.copy(),self.data_cv.y_test.copy())\n",
    "            n+=1\n",
    "        self.train_error=train_error\n",
    "        self.test_error=test_error\n",
    "        self.p_error=p_error\n",
    "        plt.plot(train_error,\".\", color=\"red\")\n",
    "        plt.plot(test_error,\".\", color=\"blue\")\n",
    "        plt.plot(p_error,\".\", color=\"green\")\n",
    "        plt.show();\n",
    "        return self"
   ]
  },
  {
   "cell_type": "code",
   "execution_count": 328,
   "metadata": {},
   "outputs": [],
   "source": [
    "mod=run_class(testSize=0.1428,components_array=range(1,13),number_vallidations=5)"
   ]
  },
  {
   "cell_type": "code",
   "execution_count": 329,
   "metadata": {},
   "outputs": [],
   "source": [
    "#mod.data_centerng(Xdata_numpy[\"X\"][:,160:200,0:15],Ydata)"
   ]
  },
  {
   "cell_type": "code",
   "execution_count": 330,
   "metadata": {},
   "outputs": [
    {
     "data": {
      "image/png": "[encoded data removed]",
      "text/plain": [
       "<Figure size 432x288 with 1 Axes>"
      ]
     },
     "metadata": {
      "needs_background": "light"
     },
     "output_type": "display_data"
    },
    {
     "name": "stdout",
     "output_type": "stream",
     "text": [
      "Wall time: 21.6 s\n"
     ]
    }
   ],
   "source": [
    "%%time\n",
    "mod.data_centerng(Xdata_numpy[\"X\"][:,150:200,0:20],Ydata)\n",
    "result=mod.cv()"
   ]
  },
  {
   "cell_type": "code",
   "execution_count": 331,
   "metadata": {},
   "outputs": [
    {
     "data": {
      "text/plain": [
       "run_class(column_y=0, components_array=range(1, 13), number_vallidations=5,\n",
       "          testSize=0.1428)"
      ]
     },
     "execution_count": 331,
     "metadata": {},
     "output_type": "execute_result"
    }
   ],
   "source": [
    "result"
   ]
  },
  {
   "cell_type": "code",
   "execution_count": 332,
   "metadata": {},
   "outputs": [
    {
     "data": {
      "text/plain": [
       "array([0.46931723, 0.60565466, 0.4612    , 0.60484968, 0.57221136,\n",
       "       0.58184412, 0.56203913, 0.55663922, 0.56657806, 0.33714295,\n",
       "       0.23930075, 0.09730211])"
      ]
     },
     "execution_count": 332,
     "metadata": {},
     "output_type": "execute_result"
    }
   ],
   "source": [
    "result.train_error"
   ]
  },
  {
   "cell_type": "code",
   "execution_count": null,
   "metadata": {},
   "outputs": [],
   "source": []
  },
  {
   "cell_type": "code",
   "execution_count": null,
   "metadata": {},
   "outputs": [],
   "source": []
  },
  {
   "cell_type": "code",
   "execution_count": null,
   "metadata": {},
   "outputs": [],
   "source": [
    "# Пример из интернета, почитаю на досуге\n",
    "def pls_variable_selection(X, y, max_comp):  \n",
    "    # Define MSE array to be populated \n",
    "    mse = np.zeros((max_comp,X.shape[1])) \n",
    "    # Loop over the number of PLS components \n",
    "    for i in range(max_comp): \n",
    "        # Regression with specified number of components, using full spectrum \n",
    "        pls1 = PLSRegression(n_components=i+1) \n",
    "        pls1.fit(X, y) \n",
    "        # Indices of sort spectra according to ascending absolute value of PLS coefficients \n",
    "        sorted_ind = np.argsort(np.abs(pls1.coef_[:,0])) \n",
    "        # Sort spectra accordingly \n",
    "        Xc = X[:,sorted_ind] \n",
    "        # Discard one wavelength at a time of the sorted spectra, \n",
    "        # regress, and calculate the MSE cross-validation \n",
    "        for j in range(Xc.shape[1]-(i+1)): \n",
    "            pls2 = PLSRegression(n_components=i+1) \n",
    "            pls2.fit(Xc[:, j:], y) \n",
    "            y_cv = cross_val_predict(pls2, Xc[:, j:], y, cv=5) \n",
    "            mse[i,j] = mean_squared_error(y, y_cv) \n",
    "            comp = 100*(i+1)/(max_comp) \n",
    "            stdout.write(\"\\r%d%% completed\" % comp) \n",
    "            stdout.flush() \n",
    "            stdout.write(\"\\n\") \n",
    "            # # Calculate and print the position of minimum in MSE \n",
    "            mseminx,mseminy = np.where(mse==np.min(mse[np.nonzero(mse)])) \n",
    "            print(\"Optimised number of PLS components: \", mseminx[0]+1) \n",
    "            print(\"Wavelengths to be discarded \",mseminy[0]) \n",
    "            print('Optimised MSEP ', mse[mseminx,mseminy][0]) \n",
    "            stdout.write(\"\\n\") \n",
    "            # plt.imshow(mse, interpolation=None) \n",
    "    # plt.show() # Calculate PLS with optimal components and export values \n",
    "    pls = PLSRegression(n_components=mseminx[0]+1) \n",
    "    pls.fit(X, y) sorted_ind = np.argsort(np.abs(pls.coef_[:,0])) \n",
    "    Xc = X[:,sorted_ind] \n",
    "    return(Xc[:,mseminy[0]:],mseminx[0]+1,mseminy[0], sorted_ind)"
   ]
  }
 ],
 "metadata": {
  "kernelspec": {
   "display_name": "Python 3",
   "language": "python",
   "name": "python3"
  },
  "language_info": {
   "codemirror_mode": {
    "name": "ipython",
    "version": 3
   },
   "file_extension": ".py",
   "mimetype": "text/x-python",
   "name": "python",
   "nbconvert_exporter": "python",
   "pygments_lexer": "ipython3",
   "version": "3.7.4"
  }
 },
 "nbformat": 4,
 "nbformat_minor": 2
}
