{
 "cells": [
  {
   "cell_type": "markdown",
   "metadata": {},
   "source": [
    "# Импорт библиотек"
   ]
  },
  {
   "cell_type": "code",
   "execution_count": 1,
   "metadata": {},
   "outputs": [],
   "source": [
    "import numpy as np\n",
    "from gzip import open # NB: overrides standard open()\n",
    "import pickle as pkl\n",
    "import pandas as pd\n",
    "import warnings \n",
    "from glob import glob\n",
    "import os\n",
    "import math\n",
    "import functools\n",
    "import matplotlib.pyplot as plt\n",
    "from sklearn.model_selection import train_test_split\n",
    "from sklearn.metrics import mean_squared_error\n",
    "from numpy import linalg as LA\n",
    "from sklearn.metrics import r2_score\n",
    "from sklearn.base import BaseEstimator\n",
    "from sklearn.base import RegressorMixin\n",
    "import math\n",
    "from sklearn.metrics import mean_squared_error\n",
    "from sklearn.model_selection import GridSearchCV"
   ]
  },
  {
   "cell_type": "code",
   "execution_count": 2,
   "metadata": {},
   "outputs": [],
   "source": [
    "import matplotlib as mpl"
   ]
  },
  {
   "cell_type": "markdown",
   "metadata": {},
   "source": [
    "### Отключим предупреждения Anaconda"
   ]
  },
  {
   "cell_type": "code",
   "execution_count": 3,
   "metadata": {},
   "outputs": [],
   "source": [
    "warnings.simplefilter('ignore')"
   ]
  },
  {
   "cell_type": "markdown",
   "metadata": {},
   "source": [
    "# Загрузим данные"
   ]
  },
  {
   "cell_type": "code",
   "execution_count": 4,
   "metadata": {},
   "outputs": [],
   "source": [
    "Xdata_numpy = pkl.load(open('C:/Users/admin/Desktop/PLS2021/N-PLS/X.pkl.gz', 'rb'))\n",
    "Ydata = pkl.load(open('C:/Users/admin/Desktop/PLS2021/N-PLS/y.pkl.gz', 'rb'))"
   ]
  },
  {
   "cell_type": "code",
   "execution_count": 28,
   "metadata": {},
   "outputs": [
    {
     "data": {
      "text/plain": [
       "{'X': array([[[0.        , 0.        , 0.        , ..., 0.        ,\n",
       "          0.        , 0.        ],\n",
       "         [0.        , 0.        , 0.        , ..., 0.        ,\n",
       "          0.        , 0.        ],\n",
       "         [0.        , 0.        , 0.        , ..., 0.        ,\n",
       "          0.        , 0.        ],\n",
       "         ...,\n",
       "         [0.        , 0.        , 0.0237846 , ..., 0.        ,\n",
       "          0.        , 0.        ],\n",
       "         [0.        , 0.        , 0.02531928, ..., 0.        ,\n",
       "          0.        , 0.        ],\n",
       "         [0.        , 0.        , 0.02805651, ..., 0.        ,\n",
       "          0.        , 0.        ]],\n",
       " \n",
       "        [[0.        , 0.        , 0.        , ..., 0.        ,\n",
       "          0.        , 0.        ],\n",
       "         [0.        , 0.        , 0.        , ..., 0.        ,\n",
       "          0.        , 0.        ],\n",
       "         [0.        , 0.        , 0.        , ..., 0.        ,\n",
       "          0.        , 0.        ],\n",
       "         ...,\n",
       "         [0.        , 0.        , 0.02737534, ..., 0.        ,\n",
       "          0.        , 0.        ],\n",
       "         [0.        , 0.        , 0.02239733, ..., 0.        ,\n",
       "          0.        , 0.        ],\n",
       "         [0.        , 0.        , 0.02479864, ..., 0.        ,\n",
       "          0.        , 0.        ]],\n",
       " \n",
       "        [[0.        , 0.        , 0.        , ..., 0.        ,\n",
       "          0.        , 0.        ],\n",
       "         [0.        , 0.        , 0.        , ..., 0.        ,\n",
       "          0.        , 0.        ],\n",
       "         [0.        , 0.        , 0.        , ..., 0.        ,\n",
       "          0.        , 0.        ],\n",
       "         ...,\n",
       "         [0.        , 0.        , 0.02097413, ..., 0.        ,\n",
       "          0.        , 0.        ],\n",
       "         [0.        , 0.        , 0.01584873, ..., 0.        ,\n",
       "          0.        , 0.        ],\n",
       "         [0.        , 0.        , 0.01591797, ..., 0.        ,\n",
       "          0.        , 0.        ]],\n",
       " \n",
       "        ...,\n",
       " \n",
       "        [[0.        , 0.        , 0.        , ..., 0.        ,\n",
       "          0.        , 0.        ],\n",
       "         [0.        , 0.        , 0.        , ..., 0.        ,\n",
       "          0.        , 0.        ],\n",
       "         [0.        , 0.        , 0.        , ..., 0.        ,\n",
       "          0.        , 0.        ],\n",
       "         ...,\n",
       "         [0.        , 0.        , 0.02222182, ..., 0.        ,\n",
       "          0.        , 0.        ],\n",
       "         [0.        , 0.        , 0.0255573 , ..., 0.        ,\n",
       "          0.        , 0.        ],\n",
       "         [0.        , 0.        , 0.02483428, ..., 0.        ,\n",
       "          0.        , 0.        ]],\n",
       " \n",
       "        [[0.        , 0.        , 0.        , ..., 0.        ,\n",
       "          0.        , 0.        ],\n",
       "         [0.        , 0.        , 0.        , ..., 0.        ,\n",
       "          0.        , 0.        ],\n",
       "         [0.        , 0.        , 0.        , ..., 0.        ,\n",
       "          0.        , 0.        ],\n",
       "         ...,\n",
       "         [0.        , 0.        , 0.01582235, ..., 0.        ,\n",
       "          0.        , 0.        ],\n",
       "         [0.        , 0.        , 0.0172992 , ..., 0.        ,\n",
       "          0.        , 0.        ],\n",
       "         [0.        , 0.        , 0.01579558, ..., 0.        ,\n",
       "          0.        , 0.        ]],\n",
       " \n",
       "        [[0.        , 0.        , 0.        , ..., 0.        ,\n",
       "          0.        , 0.        ],\n",
       "         [0.        , 0.        , 0.        , ..., 0.        ,\n",
       "          0.        , 0.        ],\n",
       "         [0.        , 0.        , 0.        , ..., 0.        ,\n",
       "          0.        , 0.        ],\n",
       "         ...,\n",
       "         [0.        , 0.        , 0.01937641, ..., 0.        ,\n",
       "          0.        , 0.        ],\n",
       "         [0.        , 0.        , 0.01739433, ..., 0.        ,\n",
       "          0.        , 0.        ],\n",
       "         [0.        , 0.        , 0.01796836, ..., 0.        ,\n",
       "          0.        , 0.        ]]]),\n",
       " 'emission': array([240, 242, 244, 246, 248, 250, 252, 254, 256, 258, 260, 262, 264,\n",
       "        266, 268, 270, 272, 274, 276, 278, 280, 282, 284, 286, 288, 290,\n",
       "        292, 294, 296, 298, 300, 302, 304, 306, 308, 310, 312, 314, 316,\n",
       "        318, 320, 322, 324, 326, 328, 330, 332, 334, 336, 338, 340, 342,\n",
       "        344, 346, 348, 350, 352, 354, 356, 358, 360, 362, 364, 366, 368,\n",
       "        370, 372, 374, 376, 378, 380, 382, 384, 386, 388, 390, 392, 394,\n",
       "        396, 398, 400, 402, 404, 406, 408, 410, 412, 414, 416, 418, 420,\n",
       "        422, 424, 426, 428, 430, 432, 434, 436, 438, 440, 442, 444, 446,\n",
       "        448, 450, 452, 454, 456, 458, 460, 462, 464, 466, 468, 470, 472,\n",
       "        474, 476, 478, 480, 482, 484, 486, 488, 490, 492, 494, 496, 498,\n",
       "        500, 502, 504, 506, 508, 510, 512, 514, 516, 518, 520, 522, 524,\n",
       "        526, 528, 530, 532, 534, 536, 538, 540, 542, 544, 546, 548, 550,\n",
       "        552, 554, 556, 558, 560, 562, 564, 566, 568, 570, 572, 574, 576,\n",
       "        578, 580, 582, 584, 586, 588, 590, 592, 594, 596, 598, 600, 602,\n",
       "        604, 606, 608, 610, 612, 614, 616, 618, 620, 622, 624, 626, 628,\n",
       "        630, 632, 634, 636, 638, 640, 642, 644, 646, 648, 650], dtype=int64),\n",
       " 'excitation': array(['230', '235', '240', '245', '250', '255', '260', '265', '270',\n",
       "        '275', '280', '285', '290', '295', '300', '305', '310', '315',\n",
       "        '320', '325', '330', '335', '340', '345', '350', '355', '360',\n",
       "        '365', '370', '375', '380', '385', '390', '395', '400', '405',\n",
       "        '410', '415', '420', '425', '430', '435', '440', '445', '450',\n",
       "        '455', '460', '465', '470', '475', '480', '485', '490', '495',\n",
       "        '500'], dtype=object)}"
      ]
     },
     "execution_count": 28,
     "metadata": {},
     "output_type": "execute_result"
    }
   ],
   "source": [
    "Xdata_numpy"
   ]
  },
  {
   "cell_type": "markdown",
   "metadata": {},
   "source": [
    "# N-PLS1\n",
    "## Приближение к правильному алгоритму\n",
    "### Опишу ка я центрирование в виде класса, для удобства."
   ]
  },
  {
   "cell_type": "code",
   "execution_count": 5,
   "metadata": {},
   "outputs": [],
   "source": [
    "class centrir(BaseEstimator):\n",
    "    \"\"\"\"Этот класс производит центрирование, а потом из центрированных данных переходит обратно\"\"\"\n",
    "    def  __init__(self, testSize=2*0.02857, column_y=0):\n",
    "        self.testSize = testSize\n",
    "        self.column_y=column_y\n",
    "    \n",
    "    def centering_and_cv(self,xx,yy):\n",
    "        x=xx.copy()\n",
    "        y=yy.copy()\n",
    "        x_centrir=np.array(x)\n",
    "        y_centrir=y.iloc[:,self.column_y].to_numpy()\n",
    "        x_centrir -= x_centrir.mean(axis = 0)\n",
    "        #x_centrir -= x_centrir.mean()\n",
    "        self.medium=y_centrir.mean() #Это сренее значение у. \n",
    "        y_centrir -= y_centrir.mean() \n",
    "        \n",
    "        X_train, X_test, y_train, y_test = train_test_split(\n",
    "                x_centrir, y_centrir, test_size=self.testSize \n",
    "                )\n",
    "        self.X_train=X_train\n",
    "        self.X_test=X_test\n",
    "        self.y_train=y_train\n",
    "        self.y_test=y_test\n",
    "        return self\n",
    "    \n",
    "    def recentering(self,yy):\n",
    "            y=yy.copy()\n",
    "            y+=self.medium\n",
    "            return y\n",
    "        "
   ]
  },
  {
   "cell_type": "code",
   "execution_count": 6,
   "metadata": {},
   "outputs": [],
   "source": [
    "class Tri_PLS1_grid(RegressorMixin,BaseEstimator):\n",
    "    def  __init__(self, n_components=2):\n",
    "        self.n_components = n_components\n",
    "        \n",
    "            \n",
    "    def fit(self, xx, yy):\n",
    "        \"\"\"Fits the model to the data (X, y)\n",
    "\n",
    "        Parameters\n",
    "        ----------\n",
    "        X : ndarray\n",
    "        y : 1D-array of shape (n_samples, )\n",
    "            labels associated with each sample\"\"\"\n",
    "        x=xx.copy()\n",
    "        y=yy.copy()        \n",
    "        Tt=np.zeros([x.shape[0],self.n_components])\n",
    "        mass=np.zeros([y.shape[0]])\n",
    "        y_copy=yy.copy()\n",
    "        \"\"\"\"\n",
    "        При различных способах разрезания исходных данных, массивы w_k и w_i имеют похожие значения и именно их я планирую \n",
    "        использовать для функции predict данного класса. \"\"\"\n",
    "        w_k_mass=np.zeros([self.n_components,x.shape[1],1])\n",
    "        w_i_mass=np.zeros([self.n_components,x.shape[2],1])\n",
    "        bf_array=[]\n",
    "        for f in range(0,self.n_components):\n",
    "            z=np.zeros([x.shape[1],x.shape[2]])\n",
    "            x_product=np.zeros([x.shape[0],x.shape[1],x.shape[2]])\n",
    "            for i in range(0,x.shape[0]):\n",
    "                x_product[i,:,:]=x[i,:,:]*y[i]\n",
    "            z=x_product.sum(axis=0)\n",
    "            Wk, S, WI = np.linalg.svd(z)\n",
    "            w_k=np.array(Wk[0,:]).reshape(x.shape[1],1)\n",
    "            w_i=np.array(WI[0,:]).reshape(x.shape[2],1)\n",
    "            w_k_mass[f,:,:]=w_k\n",
    "            w_i_mass[f,:,:]=w_i\n",
    "            \n",
    "            for h in range(0,x.shape[0]):\n",
    "                 Tt[h,f]=np.dot(np.dot(w_k.transpose(),x[h,:,:]),w_i)\n",
    "            T=np.array(Tt[:,0:f+1]).reshape(x.shape[0],f+1)\n",
    "            bf=np.dot(np.dot(np.linalg.inv(np.dot(T.transpose(),T)),T.transpose()),y)\n",
    "            bf_array+=[bf]\n",
    "            mmas=np.kron(Tt[:,f],np.kron(w_i,w_k).reshape(x.shape[1],x.shape[2])).reshape(x.shape[0],x.shape[1],x.shape[2])\n",
    "            x=x-(mmas)             \n",
    "            y=y-(np.dot(T,bf))\n",
    "            mass+=np.dot(T,bf)   \n",
    "        self.bf_array=bf_array\n",
    "        self.train_error=mean_squared_error(mass,y_copy)\n",
    "        self.w_k=w_k_mass\n",
    "        self.w_i=w_i_mass\n",
    "        \n",
    "        return self\n",
    "    \n",
    "    \n",
    "    def predict(self, xx):\n",
    "        x=xx.copy()\n",
    "        xn=x.reshape(x.shape[0],x.shape[1]*x.shape[2])\n",
    "        wk=np.array(self.w_k[0,:,:]).reshape(x.shape[1],1)\n",
    "        wj=np.array(self.w_i[0,:,:]).reshape(x.shape[2],1)\n",
    "        ww=np.kron(wk,wj).reshape(xn.shape[1])\n",
    "        R=np.zeros([xn.shape[1],self.n_components])\n",
    "        t=np.zeros([self.n_components,x.shape[0]])\n",
    "        R[:,0]=ww.reshape(xn.shape[1])\n",
    "        t[0,:]=np.dot(xn.copy(),ww).reshape(x.shape[0])\n",
    "        I=np.eye(xn.shape[1])\n",
    "        P=np.eye(xn.shape[1])\n",
    "        p=np.ones([xn.shape[1]])\n",
    "        B=np.zeros([self.n_components,self.n_components])\n",
    "        for j in range(0,self.n_components):\n",
    "            num=0\n",
    "            for i in self.bf_array[j]:\n",
    "                B[j,num]=i\n",
    "                num+=1\n",
    "        B=np.array([B]).reshape(self.n_components,self.n_components)\n",
    "        b=B.sum(axis=0)\n",
    "        kp=np.zeros([xn.shape[1]])\n",
    "        for f in range(0,self.n_components-1):\n",
    "            w=np.zeros([xn.shape[1]])\n",
    "            w=np.kron(np.array(self.w_k[f,:,:]).reshape(x.shape[1],1),\n",
    "                      np.array(self.w_i[f,:,:]).reshape(x.shape[2],1)\n",
    "                     ).reshape(xn.shape[1])\n",
    "            w_p=np.zeros([xn.shape[1]])\n",
    "            w_p=np.kron(np.array(self.w_k[f+1,:,:]).reshape(x.shape[1],1),\n",
    "                        np.array(self.w_i[f+1,:,:]).reshape(x.shape[2],1)\n",
    "                       ).reshape(xn.shape[1])\n",
    "            if (f<0.9):\n",
    "                P=I-np.kron(w,w.transpose()).reshape(xn.shape[1],xn.shape[1])\n",
    "                kp=np.dot(P,w_p).reshape(xn.shape[1])\n",
    "            else:\n",
    "                P=I-np.kron(kp,w.transpose()).reshape(xn.shape[1],xn.shape[1])\n",
    "                kp=np.dot(P,w_p).reshape(xn.shape[1])\n",
    "            \n",
    "            \n",
    "            \n",
    "            t[f+1,:]=np.dot(xn.copy(),kp.copy()).reshape(x.shape[0])\n",
    "            R[:,f+1]=kp.reshape(xn.shape[1])\n",
    "        \n",
    "        b_pls1=np.dot(R,b).reshape(xn.shape[1])\n",
    "        y=np.dot(xn,b_pls1).reshape(x.shape[0])\n",
    "        self.b=b_pls1\n",
    "        return y"
   ]
  },
  {
   "cell_type": "markdown",
   "metadata": {},
   "source": [
    "# Класс для отбора переменных.\n",
    "### Пока что он не связан с регрессионным классом, но в будущем я его доработаю."
   ]
  },
  {
   "cell_type": "code",
   "execution_count": 160,
   "metadata": {},
   "outputs": [],
   "source": [
    "class variable_class():\n",
    "    def  __init__(self, number_variable_emission=7, number_variable_excitation=4):\n",
    "        self.number_variable_emission=number_variable_emission\n",
    "        self.number_variable_excitation=number_variable_excitation\n",
    "        \n",
    "    def finding_variable(self,bn_npls1):\n",
    "        dict_with_collumns=dict()\n",
    "        b_npls1=bn_npls1.copy()\n",
    "        for i in range(b_npls1.shape[1]):\n",
    "            col_max=max(np.fabs(b_npls1[:,i]))\n",
    "            dict_with_collumns[col_max]=i\n",
    "        column_list_tuple=sorted(dict_with_collumns.items(), reverse=True)[:self.number_variable_excitation]\n",
    "        num_column_r=list()\n",
    "        for maxim, number in column_list_tuple:\n",
    "            num_column_r.append(number)\n",
    "        num_column=sorted(num_column_r)\n",
    "        b_new_columns=b_npls1[:,num_column]\n",
    "        self.num_column=num_column # Номера отобранных колонок матриц начиная с 0, так как индексация range () начинается с 0 \n",
    "        # теперь отберу строчки\n",
    "        dict_with_rows=dict()\n",
    "        for i in range(b_new_columns.shape[0]):\n",
    "            row_max=max(np.fabs(b_new_columns[i,:]))\n",
    "            dict_with_rows[row_max]=i\n",
    "        row_list_tuple=sorted(dict_with_rows.items(), reverse=True)[:self.number_variable_emission]\n",
    "        num_row_r=list()\n",
    "        for maxim,number in row_list_tuple:\n",
    "            num_row_r.append(number)\n",
    "        num_row=sorted(num_row_r)\n",
    "        self.num_row=num_row  # Номера отобранных строчек\n",
    "        b_new=b_new_columns[num_row,:]\n",
    "        self.b_new=b_new\n",
    "        return self\n",
    "    \n",
    "    def transform(self,xn):\n",
    "        #На вход подавать тензор\n",
    "        x=xn.copy()\n",
    "        x_new=np.zeros([x.shape[0],len(self.num_row),len(self.num_column)])\n",
    "        for matrixx in range(x.shape[0]):\n",
    "            len_x_new=0\n",
    "            for i in self.num_column:\n",
    "                shape_x_new=0\n",
    "                for j in self.num_row:\n",
    "                    x_new[matrixx,shape_x_new,len_x_new]=x[matrixx,j,i]\n",
    "                    shape_x_new+=1\n",
    "                len_x_new+=1\n",
    "        return x_new\n",
    "    \n",
    "    def emission_vave_lenth(self,emissions_array):\n",
    "        emission=emissions_array.copy()\n",
    "        emission_new=np.zeros([len(self.num_row)])\n",
    "        for i in range(len(self.num_row)):\n",
    "            emission_new[i]=emission[self.num_row[i]]\n",
    "        return emission_new\n",
    "    \n",
    "    def excitation_vave_lenth(self, excitation_array):\n",
    "        excitation=excitation_array.copy()\n",
    "        excitation_new=np.zeros([len(self.num_column)])\n",
    "        for i in range(len(self.num_column)):\n",
    "            excitation_new[i]=excitation[self.num_column[i]]\n",
    "        return excitation_new"
   ]
  },
  {
   "cell_type": "markdown",
   "metadata": {},
   "source": [
    "# Центрируем данные (замена: вместо 3-х методов теперь 2)"
   ]
  },
  {
   "cell_type": "code",
   "execution_count": 7,
   "metadata": {},
   "outputs": [],
   "source": [
    "cen=centrir(testSize=0.1428,column_y=2)"
   ]
  },
  {
   "cell_type": "code",
   "execution_count": 8,
   "metadata": {},
   "outputs": [],
   "source": [
    "result=cen.centering_and_cv(Xdata_numpy['X'],Ydata)"
   ]
  },
  {
   "cell_type": "code",
   "execution_count": 9,
   "metadata": {},
   "outputs": [],
   "source": [
    "y_train=result.y_train\n",
    "y_test=result.y_test\n",
    "X_train=result.X_train\n",
    "X_test=result.X_test"
   ]
  },
  {
   "cell_type": "code",
   "execution_count": 7,
   "metadata": {},
   "outputs": [],
   "source": [
    "y_train=pkl.load(open('C:/Users/admin/Desktop/PLS2021/N-PLS/Trp_N-PLS1_final.pkl.gz', 'rb'))['y_train']\n",
    "y_test=pkl.load(open('C:/Users/admin/Desktop/PLS2021/N-PLS/Trp_N-PLS1_final.pkl.gz', 'rb'))['y_test']\n",
    "X_train=pkl.load(open('C:/Users/admin/Desktop/PLS2021/N-PLS/Trp_N-PLS1_final.pkl.gz', 'rb'))['X_train']\n",
    "X_test=pkl.load(open('C:/Users/admin/Desktop/PLS2021/N-PLS/Trp_N-PLS1_final.pkl.gz', 'rb'))['X_test']"
   ]
  },
  {
   "cell_type": "markdown",
   "metadata": {},
   "source": [
    "# Делаем применение сразу по всем компонентам"
   ]
  },
  {
   "cell_type": "code",
   "execution_count": 26,
   "metadata": {},
   "outputs": [],
   "source": [
    "npls1=Tri_PLS1_grid()\n",
    "parametrsNames={'n_components': range(1,2)}"
   ]
  },
  {
   "cell_type": "code",
   "execution_count": 27,
   "metadata": {},
   "outputs": [
    {
     "name": "stdout",
     "output_type": "stream",
     "text": [
      "Wall time: 2.03 s\n"
     ]
    }
   ],
   "source": [
    "%%time\n",
    "gridCought=GridSearchCV(npls1, parametrsNames, cv=5,return_train_score=True)\n",
    "gridCought.fit(X_train.copy(),y_train.copy())\n",
    "r2_p=gridCought.score(X_test.copy(), y_test.copy())\n",
    "r2_cv=gridCought.cv_results_[ \"mean_test_score\" ]\n",
    "r2_c=gridCought.cv_results_[ \"mean_train_score\" ]\n",
    "predictors=gridCought.predict(X_test.copy())"
   ]
  },
  {
   "cell_type": "code",
   "execution_count": null,
   "metadata": {},
   "outputs": [],
   "source": []
  },
  {
   "cell_type": "code",
   "execution_count": 10,
   "metadata": {},
   "outputs": [],
   "source": [
    "npls1n=Tri_PLS1_grid(n_components= 2)"
   ]
  },
  {
   "cell_type": "code",
   "execution_count": 11,
   "metadata": {},
   "outputs": [
    {
     "data": {
      "text/plain": [
       "Tri_PLS1_grid(n_components=2)"
      ]
     },
     "execution_count": 11,
     "metadata": {},
     "output_type": "execute_result"
    }
   ],
   "source": [
    "npls1n.fit(X_train.copy(),y_train.copy())"
   ]
  },
  {
   "cell_type": "code",
   "execution_count": 12,
   "metadata": {},
   "outputs": [],
   "source": [
    "predictors=npls1n.predict(X_test.copy())"
   ]
  },
  {
   "cell_type": "code",
   "execution_count": 13,
   "metadata": {},
   "outputs": [
    {
     "data": {
      "text/plain": [
       "[array([-1.36291797]), array([1.33370135, 0.6530201 ])]"
      ]
     },
     "execution_count": 13,
     "metadata": {},
     "output_type": "execute_result"
    }
   ],
   "source": [
    "npls1n.bf_array"
   ]
  },
  {
   "cell_type": "code",
   "execution_count": 14,
   "metadata": {},
   "outputs": [],
   "source": [
    "gridd=npls1n.b.reshape(206,55)"
   ]
  },
  {
   "cell_type": "code",
   "execution_count": 122,
   "metadata": {},
   "outputs": [
    {
     "data": {
      "text/plain": [
       "array([[-6.05301135e-14,  2.60760457e-17,  2.06215249e-07, ...,\n",
       "         7.91536960e-11,  0.00000000e+00,  0.00000000e+00],\n",
       "       [-8.21178640e-13,  3.53759319e-16,  2.79760846e-06, ...,\n",
       "         1.07383450e-09,  0.00000000e+00,  0.00000000e+00],\n",
       "       [ 9.51173362e-13, -4.09760343e-16, -3.24047719e-06, ...,\n",
       "        -1.24382531e-09,  0.00000000e+00,  0.00000000e+00],\n",
       "       ...,\n",
       "       [-7.29524527e-10,  3.14275223e-13,  2.48535933e-03, ...,\n",
       "         9.53980742e-07,  0.00000000e+00,  0.00000000e+00],\n",
       "       [ 8.93675703e-11, -3.84990662e-14, -3.04459297e-04, ...,\n",
       "        -1.16863708e-07,  0.00000000e+00,  0.00000000e+00],\n",
       "       [ 1.34129071e-09, -5.77820788e-13, -4.56953708e-03, ...,\n",
       "        -1.75397188e-06,  0.00000000e+00,  0.00000000e+00]])"
      ]
     },
     "execution_count": 122,
     "metadata": {},
     "output_type": "execute_result"
    }
   ],
   "source": [
    "gridd"
   ]
  },
  {
   "cell_type": "code",
   "execution_count": null,
   "metadata": {},
   "outputs": [],
   "source": []
  },
  {
   "cell_type": "code",
   "execution_count": null,
   "metadata": {},
   "outputs": [],
   "source": []
  },
  {
   "cell_type": "code",
   "execution_count": 161,
   "metadata": {},
   "outputs": [],
   "source": [
    "aaa=variable_class()"
   ]
  },
  {
   "cell_type": "code",
   "execution_count": 162,
   "metadata": {},
   "outputs": [
    {
     "data": {
      "text/plain": [
       "<__main__.variable_class at 0x1b314d50fc8>"
      ]
     },
     "execution_count": 162,
     "metadata": {},
     "output_type": "execute_result"
    }
   ],
   "source": [
    "aaa.finding_variable(gridd)"
   ]
  },
  {
   "cell_type": "code",
   "execution_count": 163,
   "metadata": {},
   "outputs": [
    {
     "data": {
      "text/plain": [
       "array([[-0.04016744, -0.04413284, -0.04598856, -0.04267075],\n",
       "       [ 0.09882099,  0.10857676,  0.11314224,  0.10497969],\n",
       "       [-0.05954443, -0.06542275, -0.06817368, -0.06325535],\n",
       "       [ 0.03906441,  0.04292091,  0.04472567,  0.04149897],\n",
       "       [ 0.0905655 ,  0.09950628,  0.10369036,  0.09620972],\n",
       "       [ 0.03735101,  0.04103836,  0.04276396,  0.03967879],\n",
       "       [ 0.04547059,  0.04995952,  0.05206024,  0.0483044 ]])"
      ]
     },
     "execution_count": 163,
     "metadata": {},
     "output_type": "execute_result"
    }
   ],
   "source": [
    "aaa.b_new"
   ]
  },
  {
   "cell_type": "code",
   "execution_count": 164,
   "metadata": {},
   "outputs": [
    {
     "data": {
      "text/plain": [
       "[6, 7, 8, 9]"
      ]
     },
     "execution_count": 164,
     "metadata": {},
     "output_type": "execute_result"
    }
   ],
   "source": [
    "aaa.num_column"
   ]
  },
  {
   "cell_type": "code",
   "execution_count": 165,
   "metadata": {},
   "outputs": [
    {
     "data": {
      "text/plain": [
       "[16, 57, 60, 62, 63, 64, 131]"
      ]
     },
     "execution_count": 165,
     "metadata": {},
     "output_type": "execute_result"
    }
   ],
   "source": [
    "aaa.num_row"
   ]
  },
  {
   "cell_type": "code",
   "execution_count": 166,
   "metadata": {},
   "outputs": [],
   "source": [
    "asd=aaa.transform(X_train)"
   ]
  },
  {
   "cell_type": "code",
   "execution_count": 167,
   "metadata": {},
   "outputs": [
    {
     "data": {
      "text/plain": [
       "(30, 7, 4)"
      ]
     },
     "execution_count": 167,
     "metadata": {},
     "output_type": "execute_result"
    }
   ],
   "source": [
    "asd.shape"
   ]
  },
  {
   "cell_type": "code",
   "execution_count": 168,
   "metadata": {},
   "outputs": [
    {
     "data": {
      "text/plain": [
       "array([272., 354., 360., 364., 366., 368., 502.])"
      ]
     },
     "execution_count": 168,
     "metadata": {},
     "output_type": "execute_result"
    }
   ],
   "source": [
    "aaa.emission_vave_lenth(Xdata_numpy['emission'])"
   ]
  },
  {
   "cell_type": "code",
   "execution_count": 169,
   "metadata": {},
   "outputs": [
    {
     "data": {
      "text/plain": [
       "array([260., 265., 270., 275.])"
      ]
     },
     "execution_count": 169,
     "metadata": {},
     "output_type": "execute_result"
    }
   ],
   "source": [
    "aaa.excitation_vave_lenth(Xdata_numpy['excitation'])"
   ]
  },
  {
   "cell_type": "code",
   "execution_count": 170,
   "metadata": {},
   "outputs": [
    {
     "data": {
      "text/plain": [
       "array(['230', '235', '240', '245', '250', '255', '260', '265', '270',\n",
       "       '275', '280', '285', '290', '295', '300', '305', '310', '315',\n",
       "       '320', '325', '330', '335', '340', '345', '350', '355', '360',\n",
       "       '365', '370', '375', '380', '385', '390', '395', '400', '405',\n",
       "       '410', '415', '420', '425', '430', '435', '440', '445', '450',\n",
       "       '455', '460', '465', '470', '475', '480', '485', '490', '495',\n",
       "       '500'], dtype=object)"
      ]
     },
     "execution_count": 170,
     "metadata": {},
     "output_type": "execute_result"
    }
   ],
   "source": [
    "Xdata_numpy['excitation']"
   ]
  },
  {
   "cell_type": "code",
   "execution_count": null,
   "metadata": {},
   "outputs": [],
   "source": []
  },
  {
   "cell_type": "code",
   "execution_count": 15,
   "metadata": {},
   "outputs": [
    {
     "data": {
      "image/png": "[encoded data removed]",
      "text/plain": [
       "<Figure size 432x288 with 1 Axes>"
      ]
     },
     "metadata": {
      "needs_background": "light"
     },
     "output_type": "display_data"
    }
   ],
   "source": [
    "plt.imshow(gridd, aspect=\"auto\")\n",
    "plt.show()"
   ]
  },
  {
   "cell_type": "code",
   "execution_count": 29,
   "metadata": {},
   "outputs": [
    {
     "data": {
      "image/png": "[encoded data removed]",
      "text/plain": [
       "<Figure size 432x288 with 1 Axes>"
      ]
     },
     "metadata": {
      "needs_background": "light"
     },
     "output_type": "display_data"
    }
   ],
   "source": [
    "plt.plot(gridd[55,:])\n",
    "plt.show()"
   ]
  },
  {
   "cell_type": "code",
   "execution_count": 25,
   "metadata": {},
   "outputs": [
    {
     "data": {
      "image/png": "[encoded data removed]",
      "text/plain": [
       "<Figure size 432x288 with 1 Axes>"
      ]
     },
     "metadata": {
      "needs_background": "light"
     },
     "output_type": "display_data"
    }
   ],
   "source": [
    "plt.plot(gridd[:,1])\n",
    "plt.show()"
   ]
  },
  {
   "cell_type": "code",
   "execution_count": null,
   "metadata": {},
   "outputs": [],
   "source": []
  },
  {
   "cell_type": "code",
   "execution_count": 31,
   "metadata": {},
   "outputs": [
    {
     "data": {
      "text/plain": [
       "(206, 55)"
      ]
     },
     "execution_count": 31,
     "metadata": {},
     "output_type": "execute_result"
    }
   ],
   "source": [
    "gridd.shape"
   ]
  },
  {
   "cell_type": "code",
   "execution_count": 24,
   "metadata": {},
   "outputs": [
    {
     "data": {
      "image/png": "[encoded data removed]",
      "text/plain": [
       "<Figure size 432x288 with 1 Axes>"
      ]
     },
     "metadata": {
      "needs_background": "light"
     },
     "output_type": "display_data"
    }
   ],
   "source": [
    "plt.plot(r2_p,\".\", color=\"green\")\n",
    "plt.plot(r2_c, \".\", color=\"blue\")\n",
    "plt.plot(r2_cv,\".\", color=\"red\")\n",
    "plt.show()"
   ]
  },
  {
   "cell_type": "code",
   "execution_count": 124,
   "metadata": {},
   "outputs": [
    {
     "data": {
      "text/plain": [
       "array([-0.0514364 ,  0.35148579,  0.40597082,  0.31184064, -0.25121104,\n",
       "       -1.72667183, -4.43688267])"
      ]
     },
     "execution_count": 124,
     "metadata": {},
     "output_type": "execute_result"
    }
   ],
   "source": [
    "r2_cv"
   ]
  },
  {
   "cell_type": "code",
   "execution_count": 23,
   "metadata": {},
   "outputs": [
    {
     "data": {
      "text/plain": [
       "{'n_components': 2}"
      ]
     },
     "execution_count": 23,
     "metadata": {},
     "output_type": "execute_result"
    }
   ],
   "source": [
    "gridCought.best_params_"
   ]
  },
  {
   "cell_type": "code",
   "execution_count": 126,
   "metadata": {},
   "outputs": [
    {
     "data": {
      "text/plain": [
       "Tri_PLS1_grid(n_components=3)"
      ]
     },
     "execution_count": 126,
     "metadata": {},
     "output_type": "execute_result"
    }
   ],
   "source": [
    "gridCought.best_estimator_"
   ]
  },
  {
   "cell_type": "code",
   "execution_count": 127,
   "metadata": {},
   "outputs": [
    {
     "data": {
      "text/plain": [
       "0.9590896845887107"
      ]
     },
     "execution_count": 127,
     "metadata": {},
     "output_type": "execute_result"
    }
   ],
   "source": [
    "r2_p"
   ]
  },
  {
   "cell_type": "code",
   "execution_count": 128,
   "metadata": {},
   "outputs": [
    {
     "data": {
      "text/plain": [
       "array([ 0.49386191,  0.77650884,  0.86406307,  0.76948651,  0.38032812,\n",
       "       -0.56928702, -2.98095866])"
      ]
     },
     "execution_count": 128,
     "metadata": {},
     "output_type": "execute_result"
    }
   ],
   "source": [
    "r2_c"
   ]
  },
  {
   "cell_type": "markdown",
   "metadata": {},
   "source": [
    "# Строю R2 по новому"
   ]
  },
  {
   "cell_type": "code",
   "execution_count": 132,
   "metadata": {},
   "outputs": [
    {
     "data": {
      "image/png": "[encoded data removed]",
      "text/plain": [
       "<Figure size 864x504 with 1 Axes>"
      ]
     },
     "metadata": {
      "needs_background": "light"
     },
     "output_type": "display_data"
    }
   ],
   "source": [
    "mpl.rc('font',family='Times New Roman')\n",
    "fig, axs = plt.subplots(figsize=(12, 7))\n",
    "axs.plot(r2_cv,\".\",color=\"red\",ms=20,label='$R_{cv}^{2}$')\n",
    "#axs.plot(r2_c,\".\",color=\"blue\",ms=20,label='$R_c^{2}$')\n",
    "#axs.plot(r2_p,\".\",color=\"green\",ms=20,label='$R_p^{2}$')\n",
    "\n",
    "axs.set_xticks(range(0,7,1)) # Задаём места, где будет сетка и метки по оси ох\n",
    "\n",
    "axs.set_ylabel('R$^{2}$',  fontsize=25,labelpad=5)\n",
    "axs.grid(color=\"black\", drawstyle=\"default\", linewidth=0.7)\n",
    "axs.set_xlabel(\"Количество компонент\",  fontsize=25,labelpad=15)\n",
    "axs.set_title(\"Зависимость R$^{2}$ N-PLS1 от числа компонент для Trp\", fontsize=28,loc=\"center\" ,pad=15)\n",
    "axs.tick_params(which='major', length=10, width=2)\n",
    "#axs.ticklabel_format()\n",
    "\n",
    "axs.set_xticklabels(range(1,9,1), fontsize=20)\n",
    "axs.set_yticklabels(['-5.00','-4.00','-3.00','-2.00','-1.00','0.00','1.00','0.40','0.92','0.94','1.00'], fontsize=20)\n",
    "axs.get_xaxis().set_tick_params(direction='in')\n",
    "axs.get_yaxis().set_tick_params(direction='in')\n",
    "axs.legend(loc=1,fontsize=20, markerscale=1,handletextpad=0)\n",
    "\n",
    "axs.set_xlim(xmax=7) # можно определить границы графика которые будут выводиться на экран\n",
    "fig.tight_layout()\n",
    "#fig.set_figwidth(12) можно задать размеры самого поля для рисования\n",
    "#fig.set_figheight(6)\n",
    "\n",
    "plt.savefig('N-PLS1 Trp.png', format='png', dpi=300)\n",
    "plt.savefig(\"N-PLS1 Trp.svg\", format=\"svg\")\n",
    "\n",
    "\n",
    "plt.show();"
   ]
  },
  {
   "cell_type": "markdown",
   "metadata": {},
   "source": [
    "# Строю введено-найдено по новому"
   ]
  },
  {
   "cell_type": "code",
   "execution_count": 133,
   "metadata": {},
   "outputs": [],
   "source": [
    "yTest=y_test+result.medium"
   ]
  },
  {
   "cell_type": "code",
   "execution_count": 134,
   "metadata": {},
   "outputs": [
    {
     "data": {
      "text/plain": [
       "array([-1.17878692, -0.51935278,  1.8083062 , -1.49703176, -1.2909683 ])"
      ]
     },
     "execution_count": 134,
     "metadata": {},
     "output_type": "execute_result"
    }
   ],
   "source": [
    "y_test"
   ]
  },
  {
   "cell_type": "code",
   "execution_count": 135,
   "metadata": {},
   "outputs": [
    {
     "data": {
      "text/plain": [
       "array([1.32654998, 1.98598412, 4.3136431 , 1.00830513, 1.21436859])"
      ]
     },
     "execution_count": 135,
     "metadata": {},
     "output_type": "execute_result"
    }
   ],
   "source": [
    "yTest"
   ]
  },
  {
   "cell_type": "code",
   "execution_count": 136,
   "metadata": {},
   "outputs": [],
   "source": [
    "n_predictors=predictors+result.medium"
   ]
  },
  {
   "cell_type": "code",
   "execution_count": 137,
   "metadata": {},
   "outputs": [
    {
     "data": {
      "text/plain": [
       "array([1.53252589, 1.65251449, 4.62741765, 0.78587618, 1.25032648])"
      ]
     },
     "execution_count": 137,
     "metadata": {},
     "output_type": "execute_result"
    }
   ],
   "source": [
    "n_predictors"
   ]
  },
  {
   "cell_type": "code",
   "execution_count": 140,
   "metadata": {},
   "outputs": [
    {
     "data": {
      "image/png": "[encoded data removed]",
      "text/plain": [
       "<Figure size 864x504 with 1 Axes>"
      ]
     },
     "metadata": {
      "needs_background": "light"
     },
     "output_type": "display_data"
    }
   ],
   "source": [
    "mpl.rc('font',family='Times New Roman')\n",
    "fig, axs = plt.subplots(figsize=(12, 7))\n",
    "axs.plot(yTest,n_predictors,\".\",color=\"red\",ms=40)\n",
    "axs.plot(yTest,yTest,color=\"blue\",lw=5)\n",
    "axs.set_ylabel(\"Предсказанные значения\" , fontsize=25,labelpad=8)\n",
    "axs.grid(color=\"black\",linewidth=0.7)\n",
    "axs.set_xlabel(\"Истинные значения\",  fontsize=25,labelpad=15)\n",
    "axs.set_title(\"График введено-найдено N-PLS1 Trp\", fontsize=28,loc=\"center\" ,pad=15)\n",
    "axs.tick_params(which='major', length=10, width=2)\n",
    "axs.set_xticklabels(['0.5','1.0','1.5','2.0','2.5','3.0','3.5',\n",
    "                     '4.0','4.0','47.5','50.0'], fontsize=20)\n",
    "axs.set_yticklabels(['0.5','1.0','1.5','2.0','2.5','3.0','3.5',\n",
    "                     '4.0','4.0','47.5','50.0'], fontsize=20)\n",
    "axs.get_xaxis().set_tick_params(direction='in')\n",
    "axs.get_yaxis().set_tick_params(direction='in')\n",
    "plt.savefig('График введено-найдено N-PLS1 Trp.png', format='png', dpi=300)\n",
    "plt.savefig(\"График введено-найдено N-PLS1 Trp.svg\", format=\"svg\")\n",
    "plt.show();"
   ]
  },
  {
   "cell_type": "markdown",
   "metadata": {},
   "source": [
    "# Сохраним абсолютно всё в пикль, потому что считать заново - это очень долго."
   ]
  },
  {
   "cell_type": "code",
   "execution_count": 141,
   "metadata": {},
   "outputs": [],
   "source": [
    "pkl.dump(\n",
    "\t{'r2_cv': r2_cv, 'r2_c': r2_c, 'r2_p': r2_p, 'predict':predictors,'y_test':y_test,\n",
    "     'parametrs':gridCought.best_params_, 'True_predictors':n_predictors, 'True_y':yTest,\n",
    "     'X_test':X_test,'X_train':X_train,'y_train':y_train},\n",
    "\topen('C:/Users/admin/Desktop/PLS2021/N-PLS/Trp_N-PLS1_final.pkl.gz', 'wb')\n",
    ")"
   ]
  },
  {
   "cell_type": "code",
   "execution_count": null,
   "metadata": {},
   "outputs": [],
   "source": []
  },
  {
   "cell_type": "code",
   "execution_count": null,
   "metadata": {},
   "outputs": [],
   "source": []
  },
  {
   "cell_type": "markdown",
   "metadata": {},
   "source": [
    "### Зделаю ка я применение двух предыдущих классов тоже в виде класса"
   ]
  },
  {
   "cell_type": "code",
   "execution_count": 327,
   "metadata": {},
   "outputs": [],
   "source": [
    "class run_class(RegressorMixin,BaseEstimator):\n",
    "    def  __init__(self, testSize=0.1428, column_y=0, components_array=range(1,17), number_vallidations=5):\n",
    "        self.testSize = testSize\n",
    "        self.column_y=column_y\n",
    "        self.components_array = components_array\n",
    "        self.number_vallidations=number_vallidations\n",
    "        \n",
    "    def data_centerng(self,x,y):\n",
    "        data=centrir(testSize=self.testSize, column_y=self.column_y)\n",
    "        self.data_cv=data.centering_and_cv(x.copy(),y.copy())\n",
    "        return self\n",
    "    \n",
    "    def cv(self):\n",
    "        train_error=np.zeros([len(self.components_array)])\n",
    "        test_error=np.zeros([len(self.components_array)])\n",
    "        p_error=np.zeros([len(self.components_array)])\n",
    "        n=0\n",
    "        for i in self.components_array:\n",
    "            regressioModel=Tri_PLS1_grid()\n",
    "            parametrsNames={ \n",
    "                'n_components': [i]\n",
    "            }\n",
    "\n",
    "            gridCought=GridSearchCV(regressioModel, parametrsNames, cv=self.number_vallidations, return_train_score=True)\n",
    "            gridCought.fit(self.data_cv.X_train.copy(),self.data_cv.y_train.copy())\n",
    "            train_error[n]=gridCought.cv_results_[ \"mean_train_score\"]\n",
    "            test_error[n]=gridCought.cv_results_[ \"mean_test_score\" ]\n",
    "            \n",
    "            p_error[n]=gridCought.score(self.data_cv.X_test.copy(),self.data_cv.y_test.copy())\n",
    "            n+=1\n",
    "        self.train_error=train_error\n",
    "        self.test_error=test_error\n",
    "        self.p_error=p_error\n",
    "        plt.plot(train_error,\".\", color=\"red\")\n",
    "        plt.plot(test_error,\".\", color=\"blue\")\n",
    "        plt.plot(p_error,\".\", color=\"green\")\n",
    "        plt.show();\n",
    "        return self"
   ]
  },
  {
   "cell_type": "code",
   "execution_count": 328,
   "metadata": {},
   "outputs": [],
   "source": [
    "mod=run_class(testSize=0.1428,components_array=range(1,13),number_vallidations=5)"
   ]
  },
  {
   "cell_type": "code",
   "execution_count": 329,
   "metadata": {},
   "outputs": [],
   "source": [
    "#mod.data_centerng(Xdata_numpy[\"X\"][:,160:200,0:15],Ydata)"
   ]
  },
  {
   "cell_type": "code",
   "execution_count": 330,
   "metadata": {},
   "outputs": [
    {
     "data": {
      "image/png": "[encoded data removed]",
      "text/plain": [
       "<Figure size 432x288 with 1 Axes>"
      ]
     },
     "metadata": {
      "needs_background": "light"
     },
     "output_type": "display_data"
    },
    {
     "name": "stdout",
     "output_type": "stream",
     "text": [
      "Wall time: 21.6 s\n"
     ]
    }
   ],
   "source": [
    "%%time\n",
    "mod.data_centerng(Xdata_numpy[\"X\"][:,150:200,0:20],Ydata)\n",
    "result=mod.cv()"
   ]
  },
  {
   "cell_type": "code",
   "execution_count": 331,
   "metadata": {},
   "outputs": [
    {
     "data": {
      "text/plain": [
       "run_class(column_y=0, components_array=range(1, 13), number_vallidations=5,\n",
       "          testSize=0.1428)"
      ]
     },
     "execution_count": 331,
     "metadata": {},
     "output_type": "execute_result"
    }
   ],
   "source": [
    "result"
   ]
  },
  {
   "cell_type": "code",
   "execution_count": 332,
   "metadata": {},
   "outputs": [
    {
     "data": {
      "text/plain": [
       "array([0.46931723, 0.60565466, 0.4612    , 0.60484968, 0.57221136,\n",
       "       0.58184412, 0.56203913, 0.55663922, 0.56657806, 0.33714295,\n",
       "       0.23930075, 0.09730211])"
      ]
     },
     "execution_count": 332,
     "metadata": {},
     "output_type": "execute_result"
    }
   ],
   "source": [
    "result.train_error"
   ]
  },
  {
   "cell_type": "code",
   "execution_count": null,
   "metadata": {},
   "outputs": [],
   "source": []
  },
  {
   "cell_type": "code",
   "execution_count": null,
   "metadata": {},
   "outputs": [],
   "source": []
  },
  {
   "cell_type": "code",
   "execution_count": null,
   "metadata": {},
   "outputs": [],
   "source": [
    "# Пример из интернета, почитаю на досуге\n",
    "def pls_variable_selection(X, y, max_comp):  \n",
    "    # Define MSE array to be populated \n",
    "    mse = np.zeros((max_comp,X.shape[1])) \n",
    "    # Loop over the number of PLS components \n",
    "    for i in range(max_comp): \n",
    "        # Regression with specified number of components, using full spectrum \n",
    "        pls1 = PLSRegression(n_components=i+1) \n",
    "        pls1.fit(X, y) \n",
    "        # Indices of sort spectra according to ascending absolute value of PLS coefficients \n",
    "        sorted_ind = np.argsort(np.abs(pls1.coef_[:,0])) \n",
    "        # Sort spectra accordingly \n",
    "        Xc = X[:,sorted_ind] \n",
    "        # Discard one wavelength at a time of the sorted spectra, \n",
    "        # regress, and calculate the MSE cross-validation \n",
    "        for j in range(Xc.shape[1]-(i+1)): \n",
    "            pls2 = PLSRegression(n_components=i+1) \n",
    "            pls2.fit(Xc[:, j:], y) \n",
    "            y_cv = cross_val_predict(pls2, Xc[:, j:], y, cv=5) \n",
    "            mse[i,j] = mean_squared_error(y, y_cv) \n",
    "            comp = 100*(i+1)/(max_comp) \n",
    "            stdout.write(\"\\r%d%% completed\" % comp) \n",
    "            stdout.flush() \n",
    "            stdout.write(\"\\n\") \n",
    "            # # Calculate and print the position of minimum in MSE \n",
    "            mseminx,mseminy = np.where(mse==np.min(mse[np.nonzero(mse)])) \n",
    "            print(\"Optimised number of PLS components: \", mseminx[0]+1) \n",
    "            print(\"Wavelengths to be discarded \",mseminy[0]) \n",
    "            print('Optimised MSEP ', mse[mseminx,mseminy][0]) \n",
    "            stdout.write(\"\\n\") \n",
    "            # plt.imshow(mse, interpolation=None) \n",
    "    # plt.show() # Calculate PLS with optimal components and export values \n",
    "    pls = PLSRegression(n_components=mseminx[0]+1) \n",
    "    pls.fit(X, y) sorted_ind = np.argsort(np.abs(pls.coef_[:,0])) \n",
    "    Xc = X[:,sorted_ind] \n",
    "    return(Xc[:,mseminy[0]:],mseminx[0]+1,mseminy[0], sorted_ind)"
   ]
  }
 ],
 "metadata": {
  "kernelspec": {
   "display_name": "Python 3",
   "language": "python",
   "name": "python3"
  },
  "language_info": {
   "codemirror_mode": {
    "name": "ipython",
    "version": 3
   },
   "file_extension": ".py",
   "mimetype": "text/x-python",
   "name": "python",
   "nbconvert_exporter": "python",
   "pygments_lexer": "ipython3",
   "version": "3.7.4"
  }
 },
 "nbformat": 4,
 "nbformat_minor": 2
}
