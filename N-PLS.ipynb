{
 "cells": [
  {
   "cell_type": "markdown",
   "metadata": {},
   "source": [
    "# Импорт библиотек"
   ]
  },
  {
   "cell_type": "code",
   "execution_count": 1,
   "metadata": {},
   "outputs": [],
   "source": [
    "import numpy as np\n",
    "from gzip import open # NB: overrides standard open()\n",
    "import pickle as pkl\n",
    "import pandas as pd\n",
    "import warnings \n",
    "from glob import glob\n",
    "import os\n",
    "import math\n",
    "import functools"
   ]
  },
  {
   "cell_type": "code",
   "execution_count": 2,
   "metadata": {},
   "outputs": [],
   "source": [
    "import matplotlib.pyplot as plt"
   ]
  },
  {
   "cell_type": "code",
   "execution_count": 3,
   "metadata": {},
   "outputs": [],
   "source": [
    "from sklearn.model_selection import train_test_split"
   ]
  },
  {
   "cell_type": "code",
   "execution_count": 4,
   "metadata": {},
   "outputs": [],
   "source": [
    "from sklearn.metrics import mean_squared_error"
   ]
  },
  {
   "cell_type": "code",
   "execution_count": 5,
   "metadata": {},
   "outputs": [],
   "source": [
    "from numpy import linalg as LA"
   ]
  },
  {
   "cell_type": "code",
   "execution_count": 6,
   "metadata": {},
   "outputs": [],
   "source": [
    "from sklearn.metrics import r2_score"
   ]
  },
  {
   "cell_type": "code",
   "execution_count": 7,
   "metadata": {},
   "outputs": [],
   "source": [
    "from sklearn.base import BaseEstimator\n",
    "from sklearn.base import RegressorMixin\n",
    "import math\n",
    "from sklearn.metrics import mean_squared_error\n",
    "from sklearn.model_selection import GridSearchCV"
   ]
  },
  {
   "cell_type": "markdown",
   "metadata": {},
   "source": [
    "### Отключим предупреждения Anaconda"
   ]
  },
  {
   "cell_type": "code",
   "execution_count": 8,
   "metadata": {},
   "outputs": [],
   "source": [
    "warnings.simplefilter('ignore')"
   ]
  },
  {
   "cell_type": "markdown",
   "metadata": {},
   "source": [
    "# Загрузим данные"
   ]
  },
  {
   "cell_type": "code",
   "execution_count": 142,
   "metadata": {},
   "outputs": [],
   "source": [
    "Xdata_numpy = pkl.load(open('train.pkl.gz', 'rb'))\n",
    "#Ydata = pkl.load(open('y.pkl.gz', 'rb'))"
   ]
  },
  {
   "cell_type": "code",
   "execution_count": 143,
   "metadata": {},
   "outputs": [],
   "source": [
    "# C:/Users/admin/Desktop/PLS_continue_2020/\n",
    "# Сохранил чисто для себя на случай, если вновь что-то не получится"
   ]
  },
  {
   "cell_type": "markdown",
   "metadata": {},
   "source": [
    "# N-PLS1"
   ]
  },
  {
   "cell_type": "markdown",
   "metadata": {},
   "source": [
    "# Приближение к правильному алгоритму"
   ]
  },
  {
   "cell_type": "markdown",
   "metadata": {},
   "source": [
    " ### Опишу ка я центрирование в виде класса, для удобства."
   ]
  },
  {
   "cell_type": "code",
   "execution_count": 144,
   "metadata": {},
   "outputs": [],
   "source": [
    "#y.iloc[:,self.column_y].to_numpy()"
   ]
  },
  {
   "cell_type": "code",
   "execution_count": 145,
   "metadata": {},
   "outputs": [],
   "source": [
    "class centrir(BaseEstimator):\n",
    "    \"\"\"\"Этот класс производит центрирование, а потом из центрированных данных переходит обратно\"\"\"\n",
    "    def  __init__(self, testSize=2*0.02857, column_y=0):\n",
    "        self.testSize = testSize\n",
    "        self.column_y=column_y\n",
    "    \n",
    "    \n",
    "    def centering_and_cv(self,xx,yy,xtt,ytt):\n",
    "        x=xx.copy()\n",
    "        y=yy.copy()\n",
    "        xt=xtt.copy()\n",
    "        yt=ytt.copy()\n",
    "        x_centrir=np.array(x)\n",
    "        y_centrir=np.array(y)\n",
    "        xt=np.array(xt)\n",
    "        yt=np.array(yt)\n",
    "        xt-=x_centrir.mean(axis = 0)\n",
    "        x_centrir -= x_centrir.mean(axis = 0)\n",
    "        self.medium=y_centrir.mean() #Это сренее значение у.\n",
    "        yt-=y_centrir.mean()\n",
    "        y_centrir -= y_centrir.mean()\n",
    "        \n",
    "        #X_train, X_test, y_train, y_test = train_test_split(\n",
    "                #x_centrir, y_centrir, test_size=self.testSize \n",
    "                #)\n",
    "        self.X_train=x_centrir\n",
    "        self.X_test=xt\n",
    "        self.y_train=y_centrir\n",
    "        self.y_test=yt\n",
    "        return self\n",
    "    \n",
    "    def recentering(self,yy):\n",
    "            y=yy.copy()\n",
    "            y+=self.medium\n",
    "            return y\n",
    "        \n",
    "    "
   ]
  },
  {
   "cell_type": "markdown",
   "metadata": {},
   "source": [
    "### Переделаю класс с учётом твоих замечаний и так, чтобы его можно было загнать в GridSearchCV"
   ]
  },
  {
   "cell_type": "code",
   "execution_count": 146,
   "metadata": {},
   "outputs": [],
   "source": [
    "class Tri_PLS1_grid(RegressorMixin,BaseEstimator):\n",
    "    def  __init__(self, n_components=2):\n",
    "        self.n_components = n_components\n",
    "        \n",
    "            \n",
    "    def fit(self, xx, yy):\n",
    "        \"\"\"Fits the model to the data (X, y)\n",
    "\n",
    "        Parameters\n",
    "        ----------\n",
    "        X : ndarray\n",
    "        y : 1D-array of shape (n_samples, )\n",
    "            labels associated with each sample\"\"\"\n",
    "        x=xx.copy()\n",
    "        y=yy.copy()        \n",
    "        Tt=np.zeros([x.shape[0],self.n_components])\n",
    "        mass=np.zeros([y.shape[0]])\n",
    "        y_copy=yy.copy()\n",
    "        \"\"\"\"\n",
    "        При различных способах разрезания исходных данных, массивы w_k и w_i имеют похожие значения и именно их я планирую \n",
    "        использовать для функции predict данного класса. \"\"\"\n",
    "        w_k_mass=np.zeros([self.n_components,x.shape[1],1])\n",
    "        w_i_mass=np.zeros([self.n_components,x.shape[2],1])\n",
    "        bf_array=[]\n",
    "        for f in range(0,self.n_components):\n",
    "            z=np.zeros([x.shape[1],x.shape[2]])\n",
    "            x_product=np.zeros([x.shape[0],x.shape[1],x.shape[2]])\n",
    "            for i in range(0,x.shape[0]):\n",
    "                x_product[i,:,:]=x[i,:,:]*y[i]\n",
    "            z=x_product.sum(axis=0)\n",
    "            Wk, S, WI = np.linalg.svd(z)\n",
    "            w_k=np.array(Wk[0,:]).reshape(x.shape[1],1)\n",
    "            w_i=np.array(WI[0,:]).reshape(x.shape[2],1)\n",
    "            w_k_mass[f,:,:]=w_k\n",
    "            w_i_mass[f,:,:]=w_i\n",
    "            \n",
    "            for h in range(0,x.shape[0]):\n",
    "                 Tt[h,f]=np.dot(np.dot(w_k.transpose(),x[h,:,:]),w_i)\n",
    "            T=np.array(Tt[:,0:f+1]).reshape(x.shape[0],f+1)\n",
    "            bf=np.dot(np.dot(np.linalg.inv(np.dot(T.transpose(),T)),T.transpose()),y)\n",
    "            bf_array+=[bf]\n",
    "            mmas=np.kron(Tt[:,f],np.kron(w_i,w_k).reshape(x.shape[1],x.shape[2])).reshape(x.shape[0],x.shape[1],x.shape[2])\n",
    "            x=x-(mmas)             \n",
    "            y=y-(np.dot(T,bf))\n",
    "            mass+=np.dot(T,bf)   \n",
    "        self.bf_array=bf_array\n",
    "        self.train_error=mean_squared_error(mass,y_copy)\n",
    "        self.w_k=w_k_mass\n",
    "        self.w_i=w_i_mass\n",
    "        \n",
    "        return self\n",
    "    \n",
    "    \n",
    "\n",
    "    def predict(self, xx):\n",
    "        x=xx.copy()\n",
    "        xn=x.reshape(x.shape[0],x.shape[1]*x.shape[2])\n",
    "        wk=np.array(self.w_k[0,:,:]).reshape(x.shape[1],1)\n",
    "        wj=np.array(self.w_i[0,:,:]).reshape(x.shape[2],1)\n",
    "        ww=np.kron(wk,wj).reshape(xn.shape[1])\n",
    "        R=np.zeros([xn.shape[1],self.n_components])\n",
    "        t=np.zeros([self.n_components,x.shape[0]])\n",
    "        R[:,0]=ww.reshape(xn.shape[1])\n",
    "        t[0,:]=np.dot(xn.copy(),ww).reshape(x.shape[0])\n",
    "        I=np.eye(xn.shape[1])\n",
    "        P=np.eye(xn.shape[1])\n",
    "        p=np.ones([xn.shape[1]])\n",
    "        B=np.zeros([self.n_components,self.n_components])\n",
    "        for j in range(0,self.n_components):\n",
    "            num=0\n",
    "            for i in self.bf_array[j]:\n",
    "                B[j,num]=i\n",
    "                num+=1\n",
    "        B=np.array([B]).reshape(self.n_components,self.n_components)\n",
    "        b=B.sum(axis=0)\n",
    "        kp=np.zeros([xn.shape[1]])\n",
    "        for f in range(0,self.n_components-1):\n",
    "            w=np.zeros([xn.shape[1]])\n",
    "            w=np.kron(np.array(self.w_k[f,:,:]).reshape(x.shape[1],1),\n",
    "                      np.array(self.w_i[f,:,:]).reshape(x.shape[2],1)\n",
    "                     ).reshape(xn.shape[1])\n",
    "            w_p=np.zeros([xn.shape[1]])\n",
    "            w_p=np.kron(np.array(self.w_k[f+1,:,:]).reshape(x.shape[1],1),\n",
    "                        np.array(self.w_i[f+1,:,:]).reshape(x.shape[2],1)\n",
    "                       ).reshape(xn.shape[1])\n",
    "            P=I-np.kron(w if f == 0 \n",
    "                        else kp, w.transpose()).reshape(xn.shape[1], xn.shape[1])\n",
    "            kp=np.dot(P,w_p).reshape(xn.shape[1])\n",
    "            \n",
    "            \n",
    "            t[f+1,:]=np.dot(xn.copy(),kp.copy()).reshape(x.shape[0])\n",
    "            R[:,f+1]=kp.reshape(xn.shape[1])\n",
    "        \n",
    "        b_pls1=np.dot(R,b).reshape(xn.shape[1])\n",
    "        y=np.dot(xn,b_pls1).reshape(x.shape[0])\n",
    "       \n",
    "        return y"
   ]
  },
  {
   "cell_type": "markdown",
   "metadata": {},
   "source": [
    "### Зделаю ка я применение двух предыдущих классов тоже в виде класса"
   ]
  },
  {
   "cell_type": "code",
   "execution_count": 168,
   "metadata": {},
   "outputs": [],
   "source": [
    "class run_class(RegressorMixin,BaseEstimator):\n",
    "    def  __init__(self, testSize=0.1428, column_y=0, components_array=range(1,17), number_vallidations=5):\n",
    "        self.testSize = testSize\n",
    "        self.column_y=column_y\n",
    "        self.components_array = components_array\n",
    "        self.number_vallidations=number_vallidations\n",
    "        \n",
    "    def data_centerng(self,x,y,xt,yt):\n",
    "        data=centrir(testSize=self.testSize, column_y=self.column_y)\n",
    "        self.data_cv=data.centering_and_cv(x.copy(),y.copy(),xt.copy(),yt.copy())\n",
    "        return self\n",
    "    \n",
    "    def cv(self):\n",
    "        train_error=np.zeros([len(self.components_array)])\n",
    "        test_error=np.zeros([len(self.components_array)])\n",
    "        p_error=np.zeros([len(self.components_array)])\n",
    "        n=0\n",
    "        for i in self.components_array:\n",
    "            regressioModel=Tri_PLS1_grid()\n",
    "            parametrsNames={ \n",
    "                'n_components': [i]\n",
    "            }\n",
    "\n",
    "            gridCought=GridSearchCV(regressioModel, parametrsNames, cv=self.number_vallidations, return_train_score=True)\n",
    "            gridCought.fit(self.data_cv.X_train.copy(),self.data_cv.y_train.copy())\n",
    "            train_error[n]=gridCought.cv_results_[ \"mean_train_score\"]\n",
    "            test_error[n]=gridCought.cv_results_[ \"mean_test_score\" ]\n",
    "            p_error[n]=gridCought.score(self.data_cv.X_test.copy(),self.data_cv.y_test.copy())\n",
    "            n+=1\n",
    "        self.train_error=train_error\n",
    "        self.test_error=test_error\n",
    "        self.p_error=p_error\n",
    "        plt.figure(figsize=(12,14))\n",
    "        plt.plot(train_error,\".\", color=\"red\")\n",
    "        plt.plot(test_error,\".\", color=\"blue\")\n",
    "        plt.plot(p_error,\".\", color=\"green\")\n",
    "        plt.grid()\n",
    "        plt.show();\n",
    "        return self"
   ]
  },
  {
   "cell_type": "code",
   "execution_count": 180,
   "metadata": {},
   "outputs": [],
   "source": [
    "mod=run_class(testSize=10*0.00999,components_array=range(1,4),number_vallidations=5)"
   ]
  },
  {
   "cell_type": "code",
   "execution_count": 181,
   "metadata": {},
   "outputs": [
    {
     "data": {
      "image/png": "[encoded data removed]",
      "text/plain": [
       "<Figure size 864x1008 with 1 Axes>"
      ]
     },
     "metadata": {
      "needs_background": "light"
     },
     "output_type": "display_data"
    },
    {
     "name": "stdout",
     "output_type": "stream",
     "text": [
      "Wall time: 1.63 s\n"
     ]
    }
   ],
   "source": [
    "%%time\n",
    "mod.data_centerng(Xdata_numpy[\"X\"],Xdata_numpy[\"y\"],Xdata_numpy[\"x_test\"],Xdata_numpy[\"y_test\"])\n",
    "result=mod.cv()"
   ]
  },
  {
   "cell_type": "code",
   "execution_count": 182,
   "metadata": {},
   "outputs": [
    {
     "data": {
      "text/plain": [
       "array([0.99683679, 0.99683928, 0.97436877])"
      ]
     },
     "execution_count": 182,
     "metadata": {},
     "output_type": "execute_result"
    }
   ],
   "source": [
    "result.test_error"
   ]
  },
  {
   "cell_type": "code",
   "execution_count": 183,
   "metadata": {},
   "outputs": [
    {
     "data": {
      "text/plain": [
       "array([0.73706146, 0.73721868, 0.74793797])"
      ]
     },
     "execution_count": 183,
     "metadata": {},
     "output_type": "execute_result"
    }
   ],
   "source": [
    "result.p_error"
   ]
  },
  {
   "cell_type": "code",
   "execution_count": 184,
   "metadata": {},
   "outputs": [
    {
     "data": {
      "text/plain": [
       "array([0.99986447, 0.99986422, 0.99913391])"
      ]
     },
     "execution_count": 184,
     "metadata": {},
     "output_type": "execute_result"
    }
   ],
   "source": [
    "result.train_error"
   ]
  },
  {
   "cell_type": "code",
   "execution_count": 185,
   "metadata": {},
   "outputs": [
    {
     "data": {
      "image/png": "[encoded data removed]",
      "text/plain": [
       "<Figure size 432x288 with 1 Axes>"
      ]
     },
     "metadata": {
      "needs_background": "light"
     },
     "output_type": "display_data"
    }
   ],
   "source": [
    "plt.plot(result.p_error,\".\")\n",
    "plt.show();"
   ]
  },
  {
   "cell_type": "code",
   "execution_count": 186,
   "metadata": {},
   "outputs": [
    {
     "data": {
      "image/png": "[encoded data removed]",
      "text/plain": [
       "<Figure size 432x288 with 1 Axes>"
      ]
     },
     "metadata": {
      "needs_background": "light"
     },
     "output_type": "display_data"
    }
   ],
   "source": [
    "plt.plot(result.train_error,\".\")\n",
    "plt.show();"
   ]
  },
  {
   "cell_type": "code",
   "execution_count": 187,
   "metadata": {},
   "outputs": [
    {
     "data": {
      "image/png": "[encoded data removed]",
      "text/plain": [
       "<Figure size 432x288 with 1 Axes>"
      ]
     },
     "metadata": {
      "needs_background": "light"
     },
     "output_type": "display_data"
    }
   ],
   "source": [
    "plt.plot(result.test_error,\".\")\n",
    "plt.show();"
   ]
  }
 ],
 "metadata": {
  "kernelspec": {
   "display_name": "Python 3",
   "language": "python",
   "name": "python3"
  },
  "language_info": {
   "codemirror_mode": {
    "name": "ipython",
    "version": 3
   },
   "file_extension": ".py",
   "mimetype": "text/x-python",
   "name": "python",
   "nbconvert_exporter": "python",
   "pygments_lexer": "ipython3",
   "version": "3.7.4"
  }
 },
 "nbformat": 4,
 "nbformat_minor": 2
}
