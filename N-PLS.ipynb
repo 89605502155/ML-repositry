{
 "cells": [
  {
   "cell_type": "markdown",
   "metadata": {},
   "source": [
    "# Импорт библиотек"
   ]
  },
  {
   "cell_type": "code",
   "execution_count": 1,
   "metadata": {},
   "outputs": [],
   "source": [
    "import numpy as np\n",
    "from gzip import open # NB: overrides standard open()\n",
    "import pickle as pkl\n",
    "import pandas as pd\n",
    "import warnings \n",
    "from glob import glob\n",
    "import os\n",
    "import math\n",
    "import functools"
   ]
  },
  {
   "cell_type": "code",
   "execution_count": 2,
   "metadata": {},
   "outputs": [],
   "source": [
    "import matplotlib.pyplot as plt"
   ]
  },
  {
   "cell_type": "code",
   "execution_count": 3,
   "metadata": {},
   "outputs": [],
   "source": [
    "from sklearn.model_selection import train_test_split"
   ]
  },
  {
   "cell_type": "code",
   "execution_count": 4,
   "metadata": {},
   "outputs": [],
   "source": [
    "from sklearn.metrics import mean_squared_error"
   ]
  },
  {
   "cell_type": "code",
   "execution_count": 5,
   "metadata": {},
   "outputs": [],
   "source": [
    "from numpy import linalg as LA"
   ]
  },
  {
   "cell_type": "code",
   "execution_count": 12,
   "metadata": {},
   "outputs": [],
   "source": [
    "from sklearn.metrics import r2_score"
   ]
  },
  {
   "cell_type": "code",
   "execution_count": 10,
   "metadata": {},
   "outputs": [],
   "source": [
    "from sklearn.base import BaseEstimator\n",
    "from sklearn.base import RegressorMixin\n",
    "import math\n",
    "from sklearn.metrics import mean_squared_error\n",
    "from sklearn.model_selection import GridSearchCV"
   ]
  },
  {
   "cell_type": "markdown",
   "metadata": {},
   "source": [
    "### Отключим предупреждения Anaconda"
   ]
  },
  {
   "cell_type": "code",
   "execution_count": 7,
   "metadata": {},
   "outputs": [],
   "source": [
    "warnings.simplefilter('ignore')"
   ]
  },
  {
   "cell_type": "markdown",
   "metadata": {},
   "source": [
    "# Загрузим данные"
   ]
  },
  {
   "cell_type": "code",
   "execution_count": 13,
   "metadata": {},
   "outputs": [],
   "source": [
    "Xdata_numpy = pkl.load(open('C:/Users/admin/Desktop/PLS_continue_2020/X.pkl.gz', 'rb'))\n",
    "Ydata = pkl.load(open('C:/Users/admin/Desktop/PLS_continue_2020/y.pkl.gz', 'rb'))"
   ]
  },
  {
   "cell_type": "markdown",
   "metadata": {},
   "source": [
    "# N-PLS1"
   ]
  },
  {
   "cell_type": "markdown",
   "metadata": {},
   "source": [
    "# Приближение к правильному алгоритму"
   ]
  },
  {
   "cell_type": "markdown",
   "metadata": {},
   "source": [
    " ### Опишу ка я центрирование в виде класса, для удобства."
   ]
  },
  {
   "cell_type": "code",
   "execution_count": 90,
   "metadata": {},
   "outputs": [],
   "source": [
    "class centrir(BaseEstimator):\n",
    "    \"\"\"\"Этот класс производит центрирование, а потом из центрированных данных переходит обратно\"\"\"\n",
    "    def  __init__(self, testSize=0.0571, column_y=0):\n",
    "        self.testSize = testSize\n",
    "        self.column_y=column_y\n",
    "    \n",
    "    def centering_and_cv(self,xx,yy):\n",
    "        x=xx.copy()\n",
    "        y=yy.copy()\n",
    "        x_centrir=np.array(x)\n",
    "        y_centrir=y.iloc[:,self.column_y].to_numpy()\n",
    "        x_centrir -= x_centrir.mean(axis = 0)\n",
    "        self.medium=y_centrir.mean() #Это сренее значение у. \n",
    "        y_centrir -= y_centrir.mean()\n",
    "        \n",
    "        X_train, X_test, y_train, y_test = train_test_split(\n",
    "                x_centrir, y_centrir, test_size=self.testSize \n",
    "                )\n",
    "        self.X_train=X_train\n",
    "        self.X_test=X_test\n",
    "        self.y_train=y_train\n",
    "        self.y_test=y_test\n",
    "        return self\n",
    "    \n",
    "    def recentering(self,yy):\n",
    "            y=yy.copy()\n",
    "            y+=self.medium\n",
    "            return y\n",
    "        \n",
    "    "
   ]
  },
  {
   "cell_type": "markdown",
   "metadata": {},
   "source": [
    "### Переделаю класс с учётом твоих замечаний и так, чтобы его можно было загнать в GridSearchCV"
   ]
  },
  {
   "cell_type": "code",
   "execution_count": 94,
   "metadata": {},
   "outputs": [],
   "source": [
    "class Tri_PLS1_grid(RegressorMixin,BaseEstimator):\n",
    "    def  __init__(self, n_components=2):\n",
    "        self.n_components = n_components\n",
    "        \n",
    "            \n",
    "    def fit(self, xx, yy):\n",
    "        \"\"\"Fits the model to the data (X, y)\n",
    "\n",
    "        Parameters\n",
    "        ----------\n",
    "        X : ndarray\n",
    "        y : 1D-array of shape (n_samples, )\n",
    "            labels associated with each sample\"\"\"\n",
    "        x=xx.copy()\n",
    "        y=yy.copy()        \n",
    "        Tt=np.zeros([x.shape[0],self.n_components])\n",
    "        mass=np.zeros([y.shape[0]])\n",
    "        y_copy=yy.copy()\n",
    "        \"\"\"\"\n",
    "        При различных способах разрезания исходных данных, массивы w_k и w_i имеют похожие значения и именно их я планирую \n",
    "        использовать для функции predict данного класса. \"\"\"\n",
    "        w_k_mass=np.zeros([self.n_components,x.shape[1],1])\n",
    "        w_i_mass=np.zeros([self.n_components,x.shape[2],1])\n",
    "        bf_array=[]\n",
    "        for f in range(0,self.n_components):\n",
    "            z=np.zeros([x.shape[1],x.shape[2]])\n",
    "            x_product=np.zeros([x.shape[0],x.shape[1],x.shape[2]])\n",
    "            for i in range(0,x.shape[0]):\n",
    "                x_product[i,:,:]=x[i,:,:]*y[i]\n",
    "            z=x_product.sum(axis=0)\n",
    "            Wk, S, WI = np.linalg.svd(z)\n",
    "            w_k=np.array(Wk[0,:]).reshape(x.shape[1],1)\n",
    "            w_i=np.array(WI[0,:]).reshape(x.shape[2],1)\n",
    "            w_k_mass[f,:,:]=w_k\n",
    "            w_i_mass[f,:,:]=w_i\n",
    "            \n",
    "            for h in range(0,x.shape[0]):\n",
    "                 Tt[h,f]=np.dot(np.dot(w_k.transpose(),x[h,:,:]),w_i)\n",
    "            T=np.array(Tt[:,0:f+1]).reshape(x.shape[0],f+1)\n",
    "            bf=np.dot(np.dot(np.linalg.inv(np.dot(T.transpose(),T)),T.transpose()),y)\n",
    "            bf_array+=[bf]\n",
    "            mmas=np.kron(Tt[:,f],np.kron(w_i,w_k).reshape(x.shape[1],x.shape[2])).reshape(x.shape[0],x.shape[1],x.shape[2])\n",
    "            x=x-(mmas)             \n",
    "            y=y-(np.dot(T,bf))\n",
    "            mass+=np.dot(T,bf)   \n",
    "        self.bf_array=bf_array\n",
    "        self.train_error=mean_squared_error(mass,y_copy)\n",
    "        self.w_k=w_k_mass\n",
    "        self.w_i=w_i_mass\n",
    "        print(\"aaa\")\n",
    "        return self\n",
    "    \n",
    "    def predict(self, x):\n",
    "        \"\"\"\" x is a test 3-D centering data.\"\"\"\n",
    "        \n",
    "        Tt=np.zeros([x.shape[0],self.n_components])\n",
    "        output=np.zeros([self.n_components])\n",
    "        print(self.n_components)\n",
    "        for f in range(0,self.n_components):\n",
    "            w_k=np.array(self.w_k[f,:,:]).reshape(x.shape[1],1)\n",
    "            w_i=np.array(self.w_i[f,:,:]).reshape(x.shape[2],1)\n",
    "            for h in range(0,x.shape[0]):\n",
    "                 Tt[h,f]=np.dot(np.dot(w_k.transpose(),x[h,:,:]),w_i)\n",
    "            mmas=np.kron(Tt[:,f].reshape(x.shape[0]),np.kron(w_i,w_k).reshape(x.shape[1],x.shape[2])).reshape(x.shape[0],x.shape[1],x.shape[2])\n",
    "            x=x-(mmas) \n",
    "            \n",
    "        \"\"\"\" В функции fit мы двигались от исходных у к 0, а здесь нужно идти наоборот. И для этого нужен коэффициент bf\"\"\"\n",
    "        y_find=np.zeros([x.shape[0],self.n_components])\n",
    "        Tt=Tt.reshape(x.shape[0],self.n_components)\n",
    "        \n",
    "        y=np.random.normal(0, math.pow(10,-6), x.shape[0])\n",
    "        for f in range(0,self.n_components):\n",
    "            size_T=self.n_components-f\n",
    "            T_part=Tt[:,0:size_T]\n",
    "            bf=self.bf_array[size_T-1]\n",
    "            y=y+(np.dot(T_part,bf))\n",
    "        \n",
    "        \n",
    "        return y"
   ]
  },
  {
   "cell_type": "markdown",
   "metadata": {},
   "source": [
    "### Зделаю ка я применение двух предыдущих классов тоже в виде класса"
   ]
  },
  {
   "cell_type": "code",
   "execution_count": 107,
   "metadata": {},
   "outputs": [],
   "source": [
    "class run_class(RegressorMixin,BaseEstimator):\n",
    "    def  __init__(self, testSize=0.1428, column_y=0, components_array=range(1,17), number_vallidations=5):\n",
    "        self.testSize = testSize\n",
    "        self.column_y=column_y\n",
    "        self.components_array = components_array\n",
    "        self.number_vallidations=number_vallidations\n",
    "        \n",
    "    def data_centerng(self,x,y):\n",
    "        data=centrir(testSize=self.testSize, column_y=self.column_y)\n",
    "        self.data_cv=data.centering_and_cv(x,y)\n",
    "        return self\n",
    "    \n",
    "    def cv(self):\n",
    "        train_error=np.zeros([len(self.components_array)])\n",
    "        test_error=np.zeros([len(self.components_array)])\n",
    "        p_error=np.zeros([len(self.components_array)])\n",
    "        n=0\n",
    "        for i in self.components_array:\n",
    "            regressioModel=Tri_PLS1_grid()\n",
    "            parametrsNames={ \n",
    "                'n_components': [i]\n",
    "            }\n",
    "\n",
    "            gridCought=GridSearchCV(regressioModel, parametrsNames, cv=self.number_vallidations, return_train_score=True)\n",
    "            gridCought.fit(self.data_cv.X_train.copy(),self.data_cv.y_train.copy())\n",
    "            train_error[n]=gridCought.cv_results_[ \"mean_train_score\"]\n",
    "            test_error[n]=gridCought.cv_results_[ \"mean_test_score\" ]\n",
    "            print(gridCought.best_params_)\n",
    "            p_error[n]=gridCought.score(self.data_cv.X_test.copy(),self.data_cv.y_test.copy())\n",
    "            n+=1\n",
    "        self.train_error=train_error\n",
    "        self.test_error=test_error\n",
    "        self.p_error=p_error\n",
    "        plt.plot(train_error,\".\", color=\"red\")\n",
    "        plt.plot(test_error,\".\", color=\"blue\")\n",
    "        plt.plot(p_error,\".\", color=\"green\")\n",
    "        plt.show();\n",
    "        return self"
   ]
  },
  {
   "cell_type": "code",
   "execution_count": 108,
   "metadata": {},
   "outputs": [],
   "source": [
    "mod=run_class()"
   ]
  },
  {
   "cell_type": "code",
   "execution_count": 109,
   "metadata": {},
   "outputs": [
    {
     "data": {
      "text/plain": [
       "run_class(column_y=0, components_array=range(1, 17), number_vallidations=5,\n",
       "          testSize=0.1428)"
      ]
     },
     "execution_count": 109,
     "metadata": {},
     "output_type": "execute_result"
    }
   ],
   "source": [
    "mod.data_centerng(Xdata_numpy[\"X\"],Ydata)"
   ]
  },
  {
   "cell_type": "code",
   "execution_count": 110,
   "metadata": {},
   "outputs": [
    {
     "name": "stdout",
     "output_type": "stream",
     "text": [
      "aaa\n",
      "1\n",
      "1\n",
      "aaa\n",
      "1\n",
      "1\n",
      "aaa\n",
      "1\n",
      "1\n",
      "aaa\n",
      "1\n",
      "1\n",
      "aaa\n",
      "1\n",
      "1\n",
      "aaa\n",
      "{'n_components': 1}\n",
      "1\n",
      "aaa\n",
      "2\n",
      "2\n",
      "aaa\n",
      "2\n",
      "2\n",
      "aaa\n",
      "2\n",
      "2\n",
      "aaa\n",
      "2\n",
      "2\n",
      "aaa\n",
      "2\n",
      "2\n",
      "aaa\n",
      "{'n_components': 2}\n",
      "2\n",
      "aaa\n",
      "3\n",
      "3\n",
      "aaa\n",
      "3\n",
      "3\n",
      "aaa\n",
      "3\n",
      "3\n",
      "aaa\n",
      "3\n",
      "3\n",
      "aaa\n",
      "3\n",
      "3\n",
      "aaa\n",
      "{'n_components': 3}\n",
      "3\n",
      "aaa\n",
      "4\n",
      "4\n",
      "aaa\n",
      "4\n",
      "4\n",
      "aaa\n",
      "4\n",
      "4\n",
      "aaa\n",
      "4\n",
      "4\n",
      "aaa\n",
      "4\n",
      "4\n",
      "aaa\n",
      "{'n_components': 4}\n",
      "4\n",
      "aaa\n",
      "5\n",
      "5\n",
      "aaa\n",
      "5\n",
      "5\n",
      "aaa\n",
      "5\n",
      "5\n",
      "aaa\n",
      "5\n",
      "5\n",
      "aaa\n",
      "5\n",
      "5\n",
      "aaa\n",
      "{'n_components': 5}\n",
      "5\n",
      "aaa\n",
      "6\n",
      "6\n",
      "aaa\n",
      "6\n",
      "6\n",
      "aaa\n",
      "6\n",
      "6\n",
      "aaa\n",
      "6\n",
      "6\n",
      "aaa\n",
      "6\n",
      "6\n",
      "aaa\n",
      "{'n_components': 6}\n",
      "6\n",
      "aaa\n",
      "7\n",
      "7\n",
      "aaa\n",
      "7\n",
      "7\n",
      "aaa\n",
      "7\n",
      "7\n",
      "aaa\n",
      "7\n",
      "7\n",
      "aaa\n",
      "7\n",
      "7\n",
      "aaa\n",
      "{'n_components': 7}\n",
      "7\n",
      "aaa\n",
      "8\n",
      "8\n",
      "aaa\n",
      "8\n",
      "8\n",
      "aaa\n",
      "8\n",
      "8\n",
      "aaa\n",
      "8\n",
      "8\n",
      "aaa\n",
      "8\n",
      "8\n",
      "aaa\n",
      "{'n_components': 8}\n",
      "8\n",
      "aaa\n",
      "9\n",
      "9\n",
      "aaa\n",
      "9\n",
      "9\n",
      "aaa\n",
      "9\n",
      "9\n",
      "aaa\n",
      "9\n",
      "9\n",
      "aaa\n",
      "9\n",
      "9\n",
      "aaa\n",
      "{'n_components': 9}\n",
      "9\n",
      "aaa\n",
      "10\n",
      "10\n",
      "aaa\n",
      "10\n",
      "10\n",
      "aaa\n",
      "10\n",
      "10\n",
      "aaa\n",
      "10\n",
      "10\n",
      "aaa\n",
      "10\n",
      "10\n",
      "aaa\n",
      "{'n_components': 10}\n",
      "10\n",
      "aaa\n",
      "11\n",
      "11\n",
      "aaa\n",
      "11\n",
      "11\n",
      "aaa\n",
      "11\n",
      "11\n",
      "aaa\n",
      "11\n",
      "11\n",
      "aaa\n",
      "11\n",
      "11\n",
      "aaa\n",
      "{'n_components': 11}\n",
      "11\n",
      "aaa\n",
      "12\n",
      "12\n",
      "aaa\n",
      "12\n",
      "12\n",
      "aaa\n",
      "12\n",
      "12\n",
      "aaa\n",
      "12\n",
      "12\n",
      "aaa\n",
      "12\n",
      "12\n",
      "aaa\n",
      "{'n_components': 12}\n",
      "12\n",
      "aaa\n",
      "13\n",
      "13\n",
      "aaa\n",
      "13\n",
      "13\n",
      "aaa\n",
      "13\n",
      "13\n",
      "aaa\n",
      "13\n",
      "13\n",
      "aaa\n",
      "13\n",
      "13\n",
      "aaa\n",
      "{'n_components': 13}\n",
      "13\n",
      "aaa\n",
      "14\n",
      "14\n",
      "aaa\n",
      "14\n",
      "14\n",
      "aaa\n",
      "14\n",
      "14\n",
      "aaa\n",
      "14\n",
      "14\n",
      "aaa\n",
      "14\n",
      "14\n",
      "aaa\n",
      "{'n_components': 14}\n",
      "14\n",
      "aaa\n",
      "15\n",
      "15\n",
      "aaa\n",
      "15\n",
      "15\n",
      "aaa\n",
      "15\n",
      "15\n",
      "aaa\n",
      "15\n",
      "15\n",
      "aaa\n",
      "15\n",
      "15\n",
      "aaa\n",
      "{'n_components': 15}\n",
      "15\n",
      "aaa\n",
      "16\n",
      "16\n",
      "aaa\n",
      "16\n",
      "16\n",
      "aaa\n",
      "16\n",
      "16\n",
      "aaa\n",
      "16\n",
      "16\n",
      "aaa\n",
      "16\n",
      "16\n",
      "aaa\n",
      "{'n_components': 16}\n",
      "16\n"
     ]
    },
    {
     "data": {
      "image/png": "[encoded data removed]",
      "text/plain": [
       "<Figure size 432x288 with 1 Axes>"
      ]
     },
     "metadata": {
      "needs_background": "light"
     },
     "output_type": "display_data"
    },
    {
     "data": {
      "text/plain": [
       "run_class(column_y=0, components_array=range(1, 17), number_vallidations=5,\n",
       "          testSize=0.1428)"
      ]
     },
     "execution_count": 110,
     "metadata": {},
     "output_type": "execute_result"
    }
   ],
   "source": [
    "mod.cv()"
   ]
  },
  {
   "cell_type": "markdown",
   "metadata": {},
   "source": [
    "# Дальше можно не проверять."
   ]
  },
  {
   "cell_type": "code",
   "execution_count": 19,
   "metadata": {},
   "outputs": [
    {
     "name": "stdout",
     "output_type": "stream",
     "text": [
      "aaa\n",
      "1\n",
      "1\n",
      "aaa\n",
      "1\n",
      "1\n",
      "aaa\n",
      "1\n",
      "1\n",
      "aaa\n",
      "1\n",
      "1\n",
      "aaa\n",
      "1\n",
      "1\n",
      "aaa\n",
      "2\n",
      "2\n",
      "aaa\n",
      "2\n",
      "2\n",
      "aaa\n",
      "2\n",
      "2\n",
      "aaa\n",
      "2\n",
      "2\n",
      "aaa\n",
      "2\n",
      "2\n",
      "aaa\n",
      "3\n",
      "3\n",
      "aaa\n",
      "3\n",
      "3\n",
      "aaa\n",
      "3\n",
      "3\n",
      "aaa\n",
      "3\n",
      "3\n",
      "aaa\n",
      "3\n",
      "3\n",
      "aaa\n",
      "4\n",
      "4\n",
      "aaa\n",
      "4\n",
      "4\n",
      "aaa\n",
      "4\n",
      "4\n",
      "aaa\n",
      "4\n",
      "4\n",
      "aaa\n",
      "4\n",
      "4\n",
      "aaa\n",
      "5\n",
      "5\n",
      "aaa\n",
      "5\n",
      "5\n",
      "aaa\n",
      "5\n",
      "5\n",
      "aaa\n",
      "5\n",
      "5\n",
      "aaa\n",
      "5\n",
      "5\n",
      "aaa\n",
      "6\n",
      "6\n",
      "aaa\n",
      "6\n",
      "6\n",
      "aaa\n",
      "6\n",
      "6\n",
      "aaa\n",
      "6\n",
      "6\n",
      "aaa\n",
      "6\n",
      "6\n",
      "aaa\n",
      "7\n",
      "7\n",
      "aaa\n",
      "7\n",
      "7\n",
      "aaa\n",
      "7\n",
      "7\n",
      "aaa\n",
      "7\n",
      "7\n",
      "aaa\n",
      "7\n",
      "7\n",
      "aaa\n",
      "8\n",
      "8\n",
      "aaa\n",
      "8\n",
      "8\n",
      "aaa\n",
      "8\n",
      "8\n",
      "aaa\n",
      "8\n",
      "8\n",
      "aaa\n",
      "8\n",
      "8\n",
      "aaa\n",
      "9\n",
      "9\n",
      "aaa\n",
      "9\n",
      "9\n",
      "aaa\n",
      "9\n",
      "9\n",
      "aaa\n",
      "9\n",
      "9\n",
      "aaa\n",
      "9\n",
      "9\n",
      "aaa\n",
      "10\n",
      "10\n",
      "aaa\n",
      "10\n",
      "10\n",
      "aaa\n",
      "10\n",
      "10\n",
      "aaa\n",
      "10\n",
      "10\n",
      "aaa\n",
      "10\n",
      "10\n",
      "aaa\n",
      "11\n",
      "11\n",
      "aaa\n",
      "11\n",
      "11\n",
      "aaa\n",
      "11\n",
      "11\n",
      "aaa\n",
      "11\n",
      "11\n",
      "aaa\n",
      "11\n",
      "11\n",
      "aaa\n",
      "12\n",
      "12\n",
      "aaa\n",
      "12\n",
      "12\n",
      "aaa\n",
      "12\n",
      "12\n",
      "aaa\n",
      "12\n",
      "12\n",
      "aaa\n",
      "12\n",
      "12\n",
      "aaa\n",
      "13\n",
      "13\n",
      "aaa\n",
      "13\n",
      "13\n",
      "aaa\n",
      "13\n",
      "13\n",
      "aaa\n",
      "13\n",
      "13\n",
      "aaa\n",
      "13\n",
      "13\n",
      "aaa\n",
      "14\n",
      "14\n",
      "aaa\n",
      "14\n",
      "14\n",
      "aaa\n",
      "14\n",
      "14\n",
      "aaa\n",
      "14\n",
      "14\n",
      "aaa\n",
      "14\n",
      "14\n",
      "aaa\n",
      "{'n_components': 11}\n",
      "Wall time: 19.2 s\n"
     ]
    }
   ],
   "source": [
    "%%time\n",
    "\n",
    "\n",
    "#начинаем применять\n",
    "regressioModel=Tri_PLS1_grid()\n",
    "parametrsNames={ \n",
    "    'n_components': range(1,15)\n",
    "}\n",
    "\n",
    "gridCought=GridSearchCV(regressioModel, parametrsNames, cv=5,return_train_score=True)\n",
    "gridCought.fit(data_2.X_train,data_2.y_train)\n",
    "\n",
    "\n",
    "print(gridCought.best_params_)"
   ]
  },
  {
   "cell_type": "code",
   "execution_count": 20,
   "metadata": {},
   "outputs": [],
   "source": [
    "import matplotlib as mpl"
   ]
  },
  {
   "cell_type": "code",
   "execution_count": 21,
   "metadata": {},
   "outputs": [
    {
     "data": {
      "text/plain": [
       "Tri_PLS1_grid(n_components=11)"
      ]
     },
     "execution_count": 21,
     "metadata": {},
     "output_type": "execute_result"
    }
   ],
   "source": [
    "gridCought.best_estimator_"
   ]
  },
  {
   "cell_type": "code",
   "execution_count": 113,
   "metadata": {},
   "outputs": [
    {
     "data": {
      "image/png": "[encoded data removed]",
      "text/plain": [
       "<Figure size 864x504 with 2 Axes>"
      ]
     },
     "metadata": {
      "needs_background": "light"
     },
     "output_type": "display_data"
    }
   ],
   "source": [
    "W=gridCought.best_estimator_.w_k\n",
    "\n",
    "W=W.reshape([4,206])\n",
    "mpl.rc('font',family='Times New Roman')\n",
    "plt.figure(figsize=(12,7))\n",
    "plt.imshow(W,aspect=\"auto\", origin='lower')\n",
    "\n",
    "cbar = plt.colorbar()\n",
    "cbar.ax.tick_params(labelsize=20)\n",
    "\n",
    "plt.show();"
   ]
  },
  {
   "cell_type": "code",
   "execution_count": 115,
   "metadata": {},
   "outputs": [
    {
     "data": {
      "image/png": "[encoded data removed]",
      "text/plain": [
       "<Figure size 864x504 with 2 Axes>"
      ]
     },
     "metadata": {
      "needs_background": "light"
     },
     "output_type": "display_data"
    }
   ],
   "source": [
    "T=gridCought.best_estimator_.w_i\n",
    "T=T.reshape([4,55])\n",
    "mpl.rc('font',family='Times New Roman')\n",
    "plt.figure(figsize=(12,7))\n",
    "plt.imshow(T,aspect=\"auto\", origin='lower')\n",
    "\n",
    "cbar = plt.colorbar()\n",
    "cbar.ax.tick_params(labelsize=20)\n",
    "\n",
    "plt.show();"
   ]
  },
  {
   "cell_type": "code",
   "execution_count": 116,
   "metadata": {},
   "outputs": [
    {
     "data": {
      "text/plain": [
       "array([[ 3.43310567e-07,  8.67223192e-07,  6.21866361e-06, ...,\n",
       "         4.12987270e-05,  7.11619856e-06,  5.12894706e-05],\n",
       "       [ 2.26745038e-06,  6.02219246e-06,  4.40682528e-05, ...,\n",
       "         1.37398019e-04,  6.76523093e-05,  1.57177018e-04],\n",
       "       [ 1.70882206e-04,  4.67035578e-04,  3.46300365e-03, ...,\n",
       "         9.98245526e-04,  7.19329001e-03,  3.19972924e-03],\n",
       "       ...,\n",
       "       [-9.11345348e-07, -2.41190152e-06, -1.76203001e-05, ...,\n",
       "        -6.11444517e-05, -2.58866495e-05, -6.87675149e-05],\n",
       "       [-2.08303550e-06, -5.48180864e-06, -3.99694036e-05, ...,\n",
       "        -1.49476840e-04, -5.86027834e-05, -1.75587186e-04],\n",
       "       [-2.55659838e-07, -7.03129866e-07, -5.21414241e-06, ...,\n",
       "        -4.40583155e-06, -9.31946709e-06, -2.85277463e-06]])"
      ]
     },
     "execution_count": 116,
     "metadata": {},
     "output_type": "execute_result"
    }
   ],
   "source": [
    "np.dot(T.transpose(),W)"
   ]
  },
  {
   "cell_type": "code",
   "execution_count": 117,
   "metadata": {},
   "outputs": [
    {
     "data": {
      "image/png": "[encoded data removed]",
      "text/plain": [
       "<Figure size 864x504 with 2 Axes>"
      ]
     },
     "metadata": {
      "needs_background": "light"
     },
     "output_type": "display_data"
    }
   ],
   "source": [
    "mpl.rc('font',family='Times New Roman')\n",
    "plt.figure(figsize=(12,7))\n",
    "plt.imshow(np.dot(T.transpose(),W),aspect=\"auto\", origin='lower')\n",
    "\n",
    "cbar = plt.colorbar()\n",
    "cbar.ax.tick_params(labelsize=20)\n",
    "\n",
    "plt.show();"
   ]
  },
  {
   "cell_type": "code",
   "execution_count": 22,
   "metadata": {},
   "outputs": [
    {
     "data": {
      "image/png": "[encoded data removed]",
      "text/plain": [
       "<Figure size 432x288 with 1 Axes>"
      ]
     },
     "metadata": {
      "needs_background": "light"
     },
     "output_type": "display_data"
    }
   ],
   "source": [
    "plt.plot(gridCought.cv_results_[ \"mean_train_score\" ],\".\")\n",
    "plt.show();"
   ]
  },
  {
   "cell_type": "code",
   "execution_count": 23,
   "metadata": {},
   "outputs": [
    {
     "data": {
      "image/png": "[encoded data removed]",
      "text/plain": [
       "<Figure size 432x288 with 1 Axes>"
      ]
     },
     "metadata": {
      "needs_background": "light"
     },
     "output_type": "display_data"
    }
   ],
   "source": [
    "plt.plot(gridCought.cv_results_[ \"mean_test_score\" ],\".\")\n",
    "plt.show();"
   ]
  },
  {
   "cell_type": "code",
   "execution_count": 24,
   "metadata": {},
   "outputs": [
    {
     "data": {
      "text/plain": [
       "0.3551784991081294"
      ]
     },
     "execution_count": 24,
     "metadata": {},
     "output_type": "execute_result"
    }
   ],
   "source": [
    "max(gridCought.cv_results_[ \"mean_test_score\" ])"
   ]
  },
  {
   "cell_type": "code",
   "execution_count": 25,
   "metadata": {},
   "outputs": [
    {
     "name": "stdout",
     "output_type": "stream",
     "text": [
      "11\n"
     ]
    },
    {
     "data": {
      "text/plain": [
       "array([50.22226334, 39.92515958])"
      ]
     },
     "execution_count": 25,
     "metadata": {},
     "output_type": "execute_result"
    }
   ],
   "source": [
    "data.recentering(gridCought.predict(data_2.X_test))"
   ]
  },
  {
   "cell_type": "code",
   "execution_count": 26,
   "metadata": {},
   "outputs": [
    {
     "data": {
      "text/plain": [
       "array([45.44679116, 35.69579348])"
      ]
     },
     "execution_count": 26,
     "metadata": {},
     "output_type": "execute_result"
    }
   ],
   "source": [
    "data.recentering(data_2.y_test)"
   ]
  },
  {
   "cell_type": "code",
   "execution_count": 27,
   "metadata": {},
   "outputs": [
    {
     "name": "stdout",
     "output_type": "stream",
     "text": [
      "11\n"
     ]
    },
    {
     "data": {
      "text/plain": [
       "0.1440506214695627"
      ]
     },
     "execution_count": 27,
     "metadata": {},
     "output_type": "execute_result"
    }
   ],
   "source": [
    "gridCought.score(data_2.X_test,data_2.y_test)"
   ]
  },
  {
   "cell_type": "code",
   "execution_count": 28,
   "metadata": {},
   "outputs": [
    {
     "name": "stdout",
     "output_type": "stream",
     "text": [
      "11\n"
     ]
    },
    {
     "data": {
      "text/plain": [
       "0.14405019791960516"
      ]
     },
     "execution_count": 28,
     "metadata": {},
     "output_type": "execute_result"
    }
   ],
   "source": [
    "r2_score(data_2.y_test, gridCought.predict(data_2.X_test))"
   ]
  },
  {
   "cell_type": "code",
   "execution_count": null,
   "metadata": {},
   "outputs": [],
   "source": []
  },
  {
   "cell_type": "code",
   "execution_count": null,
   "metadata": {},
   "outputs": [],
   "source": []
  },
  {
   "cell_type": "code",
   "execution_count": null,
   "metadata": {},
   "outputs": [],
   "source": []
  },
  {
   "cell_type": "code",
   "execution_count": null,
   "metadata": {},
   "outputs": [],
   "source": []
  },
  {
   "cell_type": "code",
   "execution_count": null,
   "metadata": {},
   "outputs": [],
   "source": []
  },
  {
   "cell_type": "code",
   "execution_count": null,
   "metadata": {},
   "outputs": [],
   "source": []
  },
  {
   "cell_type": "code",
   "execution_count": null,
   "metadata": {},
   "outputs": [],
   "source": []
  },
  {
   "cell_type": "code",
   "execution_count": 156,
   "metadata": {},
   "outputs": [],
   "source": [
    "b=Tri_PLS1_grid(10)"
   ]
  },
  {
   "cell_type": "code",
   "execution_count": 157,
   "metadata": {},
   "outputs": [],
   "source": [
    "for i in range(0,1):\n",
    "    b.fit(X_train,y_train)"
   ]
  },
  {
   "cell_type": "code",
   "execution_count": 158,
   "metadata": {},
   "outputs": [
    {
     "name": "stdout",
     "output_type": "stream",
     "text": [
      "10\n"
     ]
    },
    {
     "data": {
      "text/plain": [
       "array([-3.60979414, -1.90610219,  3.88842363, -3.58264326, -3.30159225,\n",
       "       12.05308735, -4.13845848, -6.75562827,  3.70127468, 10.81225349])"
      ]
     },
     "execution_count": 158,
     "metadata": {},
     "output_type": "execute_result"
    }
   ],
   "source": [
    "b.predict(X_test)"
   ]
  },
  {
   "cell_type": "code",
   "execution_count": 159,
   "metadata": {},
   "outputs": [
    {
     "name": "stdout",
     "output_type": "stream",
     "text": [
      "10\n"
     ]
    },
    {
     "data": {
      "text/plain": [
       "0.26233076945872946"
      ]
     },
     "execution_count": 159,
     "metadata": {},
     "output_type": "execute_result"
    }
   ],
   "source": [
    "r2_score(y_test, b.predict(X_test))"
   ]
  },
  {
   "cell_type": "markdown",
   "metadata": {},
   "source": [
    "### Старый вариант класса. Ниже этой клетки можно в принципе и не проверять."
   ]
  },
  {
   "cell_type": "code",
   "execution_count": 311,
   "metadata": {},
   "outputs": [],
   "source": [
    "class Tri_PLS1_first(BaseEstimator, RegressorMixin):\n",
    "    def  __init__(self, n_components=2, *, max_iter=500, tol=1e-06, copy=True):\n",
    "        self.n_components = n_components\n",
    "        self.max_iter = max_iter # Пока в ней нет необходимости. Прописал для общего фона.\n",
    "        self.tol = tol\n",
    "        self.copy = copy\n",
    "        \n",
    "    \n",
    "    def fit(self, x, y):\n",
    "        \"\"\"Fits the model to the data (X, y)\n",
    "\n",
    "        Parameters\n",
    "        ----------\n",
    "        X : ndarray, which was centering before running this code\n",
    "            tensor data of shape (n_samples, N1, ..., NS)\n",
    "        y : 1D-array of shape (n_samples, )\n",
    "            labels associated with each sample\"\"\"\n",
    "        Tt=np.zeros([x.shape[0],self.n_components])\n",
    "        output=np.zeros([self.n_components])\n",
    "        mass=np.zeros([y.shape[0]])\n",
    "        y_copy=y\n",
    "        \"\"\"\"\n",
    "        При различных способах разрезания исходных данных, массивы w_k и w_i имеют похожие значения, и именно их я планирую \n",
    "        использовать для функции predict данного класса. \"\"\"\n",
    "        w_k_mass=np.zeros([self.n_components,x.shape[1],1])\n",
    "        w_i_mass=np.zeros([self.n_components,x.shape[2],1])\n",
    "        bf_array=[]\n",
    "        for f in range(0,self.n_components):\n",
    "            z=np.zeros([x.shape[1],x.shape[2]])\n",
    "            x_product=np.zeros([x.shape[0],x.shape[1],x.shape[2]])\n",
    "            for i in range(0,x.shape[0]):\n",
    "                x_product[i,:,:]=x[i,:,:]*y[i]\n",
    "            z=x_product.sum(axis=0)\n",
    "            Wk, S, WI = np.linalg.svd(z)\n",
    "            w_k=np.array(Wk[0,:]).reshape(x.shape[1],1)\n",
    "            w_i=np.array(WI[0,:]).reshape(x.shape[2],1)\n",
    "            w_k_mass[f,:,:]=w_k\n",
    "            w_i_mass[f,:,:]=w_i\n",
    "            t=np.zeros([x.shape[0]])\n",
    "            for h in range(0,x.shape[0]):\n",
    "                t[h]=np.dot(np.dot(w_k.transpose(),x[h,:,:]),w_i)\n",
    "            t=np.array(t).reshape(x.shape[0])\n",
    "            Tt[:,f]=t\n",
    "            T=np.array(Tt[:,0:f+1]).reshape(x.shape[0],f+1)\n",
    "            bf=np.dot(np.dot(np.linalg.inv(np.dot(T.transpose(),T)),T.transpose()),y)\n",
    "            bf_array+=[bf]\n",
    "            mmas=np.kron(t,np.kron(w_i,w_k).reshape(x.shape[1],x.shape[2])).reshape(x.shape[0],x.shape[1],x.shape[2])\n",
    "            x=x-(mmas)             \n",
    "            y=y-(np.dot(T,bf))\n",
    "            mass+=np.dot(T,bf)   \n",
    "            output[f]=mean_squared_error(mass,y_copy)\n",
    "        # Оставил только чтобы контролировать воспроизводимость и адекватность. \n",
    "        plt.plot(output)\n",
    "        plt.show();\n",
    "        self.bf_array=bf_array\n",
    "        self.train_error=output\n",
    "        self.w_k=w_k_mass\n",
    "        self.w_i=w_i_mass\n",
    "        return self\n",
    "    \n",
    "    def predict(self, x, y_test):\n",
    "        \"\"\"\" x is a test 3-D centering data.\"\"\"\n",
    "        Tt=np.zeros([x.shape[0],self.n_components])\n",
    "        output=np.zeros([self.n_components])\n",
    "        for f in range(0,self.n_components):\n",
    "            w_k=np.array(self.w_k[f,:,:]).reshape(x.shape[1],1)\n",
    "            w_i=np.array(self.w_i[f,:,:]).reshape(x.shape[2],1)\n",
    "            t=np.zeros([x.shape[0]])\n",
    "            for h in range(0,x.shape[0]):\n",
    "                t[h]=np.dot(np.dot(w_k.transpose(),x[h,:,:]),w_i)\n",
    "            t=np.array(t).reshape(x.shape[0])\n",
    "            Tt[:,f]=t\n",
    "            T=np.array(Tt[:,0:f+1]).reshape(x.shape[0],f+1)\n",
    "            mmas=np.kron(t,np.kron(w_i,w_k).reshape(x.shape[1],x.shape[2])).reshape(x.shape[0],x.shape[1],x.shape[2])\n",
    "            x=x-(mmas) \n",
    "            \n",
    "        \"\"\"\" В функции fit мы двигались от исходных у к 0, а здесь нужно идти наоборот. И для этого нужен коэффициент bf\"\"\"\n",
    "        y_find=np.zeros([x.shape[0],self.n_components])\n",
    "        for d in range(0,self.n_components):\n",
    "            y=np.random.normal(0, math.sqrt(self.train_error[d]), x.shape[0])\n",
    "            for f in range(0,d+1):\n",
    "                size_T=d+1-f\n",
    "                T_part=T[:,0:size_T]\n",
    "                bf=self.bf_array[size_T-1]\n",
    "                y=y+(np.dot(T_part,bf))\n",
    "            y_find[:,d]=y\n",
    "            if (((d-6)<0.9) and ((d-6)>(-0.9))):\n",
    "                print(y)\n",
    "                print(y_test)\n",
    "            output[d]=mean_squared_error(y,y_test)\n",
    "        plt.plot(output)\n",
    "        plt.show();\n",
    "        self.test_error=output\n",
    "        self.y_find=y_find\n",
    "        return self"
   ]
  },
  {
   "cell_type": "code",
   "execution_count": 312,
   "metadata": {},
   "outputs": [],
   "source": [
    "a=Tri_PLS1_first(17)"
   ]
  },
  {
   "cell_type": "code",
   "execution_count": 313,
   "metadata": {},
   "outputs": [
    {
     "data": {
      "image/png": "[encoded data removed]",
      "text/plain": [
       "<Figure size 432x288 with 1 Axes>"
      ]
     },
     "metadata": {
      "needs_background": "light"
     },
     "output_type": "display_data"
    }
   ],
   "source": [
    "for i in range(0,1):\n",
    "    a.fit(data_2.X_train,data_2.y_train)"
   ]
  },
  {
   "cell_type": "code",
   "execution_count": 314,
   "metadata": {},
   "outputs": [
    {
     "name": "stdout",
     "output_type": "stream",
     "text": [
      "[16.3690397   8.35658588  4.8764599   4.08315744 -1.10566639 -0.21604375\n",
      "  3.52041394 -4.68734611  1.21353032 -3.09259296]\n",
      "[ 14.64600637  -6.65260834   3.27807984  -4.64005226   4.40507881\n",
      "   1.0451428   16.05197918 -13.79718301  -0.15706949   7.44718265]\n"
     ]
    },
    {
     "data": {
      "image/png": "[encoded data removed]",
      "text/plain": [
       "<Figure size 432x288 with 1 Axes>"
      ]
     },
     "metadata": {
      "needs_background": "light"
     },
     "output_type": "display_data"
    }
   ],
   "source": [
    "for i in range(0,1):\n",
    "    a.predict(data_2.X_test,data_2.y_test)"
   ]
  },
  {
   "cell_type": "code",
   "execution_count": 80,
   "metadata": {},
   "outputs": [
    {
     "data": {
      "text/plain": [
       "(10, 17)"
      ]
     },
     "execution_count": 80,
     "metadata": {},
     "output_type": "execute_result"
    }
   ],
   "source": [
    "a.y_find.shape"
   ]
  },
  {
   "cell_type": "code",
   "execution_count": 317,
   "metadata": {},
   "outputs": [
    {
     "data": {
      "text/plain": [
       "0.34573519134502084"
      ]
     },
     "execution_count": 317,
     "metadata": {},
     "output_type": "execute_result"
    }
   ],
   "source": [
    "r2_score(data_2.y_test, a.y_find[:,8])"
   ]
  },
  {
   "cell_type": "code",
   "execution_count": 23,
   "metadata": {},
   "outputs": [],
   "source": [
    "y_test9=y_test+asas\n",
    "y_test99=a.y_find[:,6]+asas"
   ]
  },
  {
   "cell_type": "code",
   "execution_count": 24,
   "metadata": {},
   "outputs": [
    {
     "data": {
      "text/plain": [
       "46.35540667228468"
      ]
     },
     "execution_count": 24,
     "metadata": {},
     "output_type": "execute_result"
    }
   ],
   "source": [
    "mean_squared_error(y_test9,y_test99)"
   ]
  },
  {
   "cell_type": "code",
   "execution_count": 25,
   "metadata": {},
   "outputs": [
    {
     "data": {
      "text/plain": [
       "array([  4.55217322,   3.27807984,  -6.65260834,  -4.64005226,\n",
       "        -0.15706949, -11.81077856,  -5.7521935 ,  -8.58399134,\n",
       "        -1.37197484,   9.41508832])"
      ]
     },
     "execution_count": 25,
     "metadata": {},
     "output_type": "execute_result"
    }
   ],
   "source": [
    "y_test"
   ]
  },
  {
   "cell_type": "code",
   "execution_count": 26,
   "metadata": {},
   "outputs": [
    {
     "data": {
      "image/png": "[encoded data removed]",
      "text/plain": [
       "<Figure size 432x288 with 1 Axes>"
      ]
     },
     "metadata": {
      "needs_background": "light"
     },
     "output_type": "display_data"
    }
   ],
   "source": [
    "plt.plot(y_test9,y_test9)\n",
    "plt.plot(y_test9,y_test99,\".\")\n",
    "plt.show()"
   ]
  },
  {
   "cell_type": "markdown",
   "metadata": {},
   "source": [
    "### Дальше идут черновики, и прочие нефункциональные или тренировочные элементы."
   ]
  },
  {
   "cell_type": "code",
   "execution_count": 84,
   "metadata": {},
   "outputs": [
    {
     "data": {
      "text/plain": [
       "N_PLS1_first(copy=True, max_iter=500, n_components=27, norm_y_weights=False,\n",
       "             scale=True, tol=1e-06)"
      ]
     },
     "execution_count": 84,
     "metadata": {},
     "output_type": "execute_result"
    }
   ],
   "source": [
    "a"
   ]
  },
  {
   "cell_type": "code",
   "execution_count": null,
   "metadata": {},
   "outputs": [],
   "source": [
    ".reshape(x.shape[0],1)\n",
    "-np.array(mass).reshape(1,x.shape[0]).mean()"
   ]
  },
  {
   "cell_type": "code",
   "execution_count": 179,
   "metadata": {},
   "outputs": [
    {
     "data": {
      "text/plain": [
       "array([34.19308759, 35.72443085, 46.32211944, 35.69579348, 47.44184036,\n",
       "       33.34204937, 42.44462856, 39.9018207 , 44.39973652, 54.64066407,\n",
       "       53.71596802, 44.04933373, 36.11255278, 34.24246421, 36.22622795,\n",
       "       26.1974747 , 41.0398005 , 31.41066637, 34.07047331, 42.14770231,\n",
       "       45.44679116, 21.41118209, 44.54683093, 35.35460545, 36.47993911])"
      ]
     },
     "execution_count": 179,
     "metadata": {},
     "output_type": "execute_result"
    }
   ],
   "source": [
    "y"
   ]
  },
  {
   "cell_type": "code",
   "execution_count": 395,
   "metadata": {},
   "outputs": [
    {
     "data": {
      "text/plain": [
       "array([[5.20396143e+04, 4.91918971e+04, 4.38839916e+04, 3.88590076e+04,\n",
       "        3.28461510e+04, 2.71640444e+04, 2.06742360e+04, 1.51864921e+04,\n",
       "        1.08940127e+04, 7.45914196e+03, 5.10460116e+03, 3.13773457e+03,\n",
       "        1.85325287e+03, 8.68438137e+02, 4.09180232e+02, 2.46334649e+02,\n",
       "        1.76439608e+02, 1.32129844e+02, 1.09666897e+02, 8.20938712e+01,\n",
       "        4.59856659e+01, 2.60763430e+01, 1.10681096e+01, 4.58247849e+00,\n",
       "        9.94812128e-01, 1.09443246e-07, 1.55442375e-08, 1.07111515e-08,\n",
       "        4.36357780e-09, 8.25991184e-09, 8.28521838e-09, 3.91514087e-08,\n",
       "        4.05800265e-07, 9.57270667e-08, 3.17840084e-06, 2.82484373e-06,\n",
       "        6.49010797e-07, 2.30233617e-04, 7.71299123e-03, 1.62744298e-01,\n",
       "        6.11296107e+01, 1.03835530e+03, 1.01042473e+03, 4.74122861e+03,\n",
       "        6.23619775e+04, 9.49571644e+04, 1.22425553e+06, 5.50510253e+06,\n",
       "        5.15620269e+06, 4.28673709e+06, 1.03028491e+09, 1.22720823e+12,\n",
       "        9.71049882e+14, 6.76286674e+15, 4.44894505e+18]])"
      ]
     },
     "execution_count": 395,
     "metadata": {},
     "output_type": "execute_result"
    }
   ],
   "source": [
    "output=np.zeros([parameters['numbers_of_components']])\n",
    "for v in range(0,parameters['numbers_of_learning']):\n",
    "    X_train, X_test, y_train, y_test = train_test_split(\n",
    "        Xdata_numpy[\"X\"], Ydata.iloc[:,parameters['column_y']], test_size=parameters['testSize'] \n",
    "        )\n",
    "    x=X_train\n",
    "    y=y_train\n",
    "    y=np.array(y)\n",
    "    x=np.array(x)\n",
    "    Tt=[]\n",
    "    mass=np.zeros([y.shape[0]])\n",
    "    for f in range(0,parameters['numbers_of_components']):\n",
    "        z=np.zeros([x.shape[1],x.shape[2]])\n",
    "        for i in range(0,x.shape[2]):\n",
    "            for j in range(0,x.shape[1]):\n",
    "                zsum=0\n",
    "                for k in range(0,x.shape[0]):\n",
    "                    zsum= zsum+ x[k,j,i]*y[k]\n",
    "                z[j,i]=zsum\n",
    "        Wk, S, WI = np.linalg.svd(z)\n",
    "        w_k=np.array(Wk[0,:]).reshape(x.shape[1],1)\n",
    "        w_i=np.array(WI[0,:]).reshape(x.shape[2],1)\n",
    "        t=[]\n",
    "        for h in range(0,x.shape[0]):\n",
    "            t+=[np.dot(np.dot(w_k.transpose(),x[h,:,:]),w_i)]\n",
    "        t=np.array(t).reshape(x.shape[0],1)\n",
    "        Tt+=[t]\n",
    "        T=np.array(Tt).reshape(x.shape[0],f+1)\n",
    "        bf=np.dot(np.dot(np.linalg.inv(np.dot(T.transpose(),T)),T.transpose()),y)\n",
    "        mmas=np.kron(np.kron(w_i,w_k).reshape(x.shape[1],x.shape[2])\n",
    "        \n",
    "        for g in range(0,x.shape[0]):\n",
    "            x[g,:,:]=x[g,:,:]-(t[g]*w_i.transpose()*w_k)\n",
    "        y=y-(np.dot(T,bf))\n",
    "        mass+=np.dot(T,bf)   \n",
    "        output[f]+=error(mass,y_train)\n",
    "np.array(output).reshape(1,parameters['numbers_of_components'])"
   ]
  },
  {
   "cell_type": "code",
   "execution_count": 75,
   "metadata": {},
   "outputs": [],
   "source": [
    "pp=np.array([[[1,2],[3,4]],[[5,6],[7,8]]])"
   ]
  },
  {
   "cell_type": "code",
   "execution_count": 76,
   "metadata": {},
   "outputs": [
    {
     "data": {
      "text/plain": [
       "array([[[1, 2],\n",
       "        [3, 4]],\n",
       "\n",
       "       [[5, 6],\n",
       "        [7, 8]]])"
      ]
     },
     "execution_count": 76,
     "metadata": {},
     "output_type": "execute_result"
    }
   ],
   "source": [
    "pp"
   ]
  },
  {
   "cell_type": "code",
   "execution_count": 77,
   "metadata": {},
   "outputs": [],
   "source": [
    "yu=np.array([1,2])"
   ]
  },
  {
   "cell_type": "code",
   "execution_count": 100,
   "metadata": {},
   "outputs": [
    {
     "name": "stdout",
     "output_type": "stream",
     "text": [
      "<class 'numpy.ndarray'>\n"
     ]
    }
   ],
   "source": [
    "print(type(pp))"
   ]
  },
  {
   "cell_type": "code",
   "execution_count": 78,
   "metadata": {},
   "outputs": [
    {
     "data": {
      "text/plain": [
       "array([[10, 12],\n",
       "       [14, 16]])"
      ]
     },
     "execution_count": 78,
     "metadata": {},
     "output_type": "execute_result"
    }
   ],
   "source": [
    "np.dot(pp[1,:,:],yu[1])"
   ]
  },
  {
   "cell_type": "code",
   "execution_count": 286,
   "metadata": {},
   "outputs": [
    {
     "name": "stdout",
     "output_type": "stream",
     "text": [
      "[array([-1.66118692]), array([-6.29079172,  6.73688692]), array([-4.12522941,  1.04501877, -5.43633477]), array([-2.47312785, -0.77091171, -3.58375233,  0.30593637]), array([16.50410601, -5.00622902, -8.22588722,  1.24655259,  3.29071373]), array([-4.19790957, -2.35053163,  0.98214464,  0.34894549, -0.05205299,\n",
      "        0.86235296]), array([-1.87063411,  0.91027459, -0.09391723,  0.92112484, -2.92076064,\n",
      "        0.98227647, -0.96633831]), array([-3.40181009,  0.31731486,  0.53363854,  1.63610577,  0.3901178 ,\n",
      "        2.24601301, -1.17585434, -0.2064675 ]), array([-0.44467154,  0.55624498, -0.64257114, -0.23228063,  0.52400954,\n",
      "       -0.46183266, -0.72497265,  0.01414457,  0.54696848]), array([-9.11867149,  5.3415317 , 11.71030015, -3.67531275, -0.65128271,\n",
      "        8.63820213, -5.58461098, -5.64958101,  0.19695864,  3.50070102]), array([-0.5694123 , -0.15692167,  0.21129866, -0.18233175,  0.30182872,\n",
      "       -0.26179883,  0.48778146, -0.24362274,  0.02664971, -0.19194008,\n",
      "        0.84289922]), array([ 0.27243998,  0.35782967,  0.19003544, -0.161592  ,  0.0633164 ,\n",
      "       -0.14548735,  0.04806866,  0.17113721,  0.06009501, -0.14858176,\n",
      "       -0.04690047, -0.29120264])]\n"
     ]
    }
   ],
   "source": [
    "x=X_train\n",
    "y=y_train\n",
    "y=np.array(y)\n",
    "x=np.array(x)\n",
    "Tt=[]\n",
    "output=np.zeros([parameters['numbers_of_components']])\n",
    "mass=np.zeros([y.shape[0]])\n",
    "kk=[]\n",
    "for f in range(0,parameters['numbers_of_components']):\n",
    "    z=np.zeros([x.shape[1],x.shape[2]])\n",
    "    x_product=np.zeros([y.shape[0],x.shape[1],x.shape[2]])\n",
    "    for i in range(0,y.shape[0]):\n",
    "        x_product[i,:,:]=np.dot(x[i,:,:],y[i])\n",
    "    z=x_product.sum(axis=0)\n",
    "    Wk, S, WI = np.linalg.svd(z)\n",
    "    w_k=np.array(Wk[0,:]).reshape(x.shape[1],1)\n",
    "    w_i=np.array(WI[0,:]).reshape(x.shape[2],1)\n",
    "    \n",
    "    t=[]\n",
    "    for h in range(0,x.shape[0]):\n",
    "        t+=[np.dot(np.dot(w_k.transpose(),x[h,:,:]),w_i)]\n",
    "    t=np.array(t).reshape(x.shape[0],1)\n",
    "    Tt+=[t]\n",
    "    T=np.array(Tt).reshape(x.shape[0],f+1)\n",
    "    bf=np.dot(np.dot(np.linalg.inv(np.dot(T.transpose(),T)),T.transpose()),y)\n",
    "    kk+=[bf]\n",
    "    for g in range(0,x.shape[0]):\n",
    "        x[g,:,:]=x[g,:,:]-(t[g]*w_i.transpose()*w_k)\n",
    "    y=y-(np.dot(T,bf))\n",
    "    mass+=np.dot(T,bf)   \n",
    "    output[f]+=mean_squared_error(mass,y_train)\n",
    "print(kk)\n",
    "fgffgffgfgf=np.array(output).reshape(1,parameters['numbers_of_components'])"
   ]
  },
  {
   "cell_type": "code",
   "execution_count": 79,
   "metadata": {},
   "outputs": [
    {
     "data": {
      "text/plain": [
       "array([[ 6,  8],\n",
       "       [10, 12]])"
      ]
     },
     "execution_count": 79,
     "metadata": {},
     "output_type": "execute_result"
    }
   ],
   "source": [
    "pp.sum(axis=0)"
   ]
  },
  {
   "cell_type": "code",
   "execution_count": 125,
   "metadata": {},
   "outputs": [],
   "source": [
    "vv=np.kron(np.array([7,6]),pp)"
   ]
  },
  {
   "cell_type": "code",
   "execution_count": 126,
   "metadata": {},
   "outputs": [
    {
     "data": {
      "text/plain": [
       "array([[[ 7, 14,  6, 12],\n",
       "        [21, 28, 18, 24]],\n",
       "\n",
       "       [[35, 42, 30, 36],\n",
       "        [49, 56, 42, 48]]])"
      ]
     },
     "execution_count": 126,
     "metadata": {},
     "output_type": "execute_result"
    }
   ],
   "source": [
    "vv"
   ]
  },
  {
   "cell_type": "code",
   "execution_count": 130,
   "metadata": {},
   "outputs": [
    {
     "data": {
      "text/plain": [
       "array([7])"
      ]
     },
     "execution_count": 130,
     "metadata": {},
     "output_type": "execute_result"
    }
   ],
   "source": [
    "vv[0,0,0:1]"
   ]
  },
  {
   "cell_type": "code",
   "execution_count": 219,
   "metadata": {},
   "outputs": [],
   "source": [
    "j=np.array([1,2,3])\n",
    "jj=np.array([4,5,6])\n",
    "jjj=np.array([7,8,9])"
   ]
  },
  {
   "cell_type": "code",
   "execution_count": 195,
   "metadata": {},
   "outputs": [
    {
     "data": {
      "text/plain": [
       "array([[32],\n",
       "       [64],\n",
       "       [96]])"
      ]
     },
     "execution_count": 195,
     "metadata": {},
     "output_type": "execute_result"
    }
   ],
   "source": [
    "np.dot(ggg,j)"
   ]
  },
  {
   "cell_type": "code",
   "execution_count": 191,
   "metadata": {},
   "outputs": [
    {
     "data": {
      "text/plain": [
       "array([ 4, 10, 18])"
      ]
     },
     "execution_count": 191,
     "metadata": {},
     "output_type": "execute_result"
    }
   ],
   "source": [
    "j*jj"
   ]
  },
  {
   "cell_type": "code",
   "execution_count": 192,
   "metadata": {},
   "outputs": [
    {
     "data": {
      "text/plain": [
       "array([[ 4, 10, 18],\n",
       "       [ 8, 20, 36],\n",
       "       [12, 30, 54]])"
      ]
     },
     "execution_count": 192,
     "metadata": {},
     "output_type": "execute_result"
    }
   ],
   "source": [
    "j*ggg"
   ]
  },
  {
   "cell_type": "code",
   "execution_count": 172,
   "metadata": {},
   "outputs": [],
   "source": [
    "gg=j*jj.transpose()"
   ]
  },
  {
   "cell_type": "code",
   "execution_count": 178,
   "metadata": {},
   "outputs": [
    {
     "data": {
      "text/plain": [
       "array([ 4, 10, 18])"
      ]
     },
     "execution_count": 178,
     "metadata": {},
     "output_type": "execute_result"
    }
   ],
   "source": [
    "gg"
   ]
  },
  {
   "cell_type": "code",
   "execution_count": 181,
   "metadata": {},
   "outputs": [],
   "source": [
    "ggg=np.kron(j,jj.transpose()).reshape(3,3)"
   ]
  },
  {
   "cell_type": "code",
   "execution_count": 184,
   "metadata": {},
   "outputs": [
    {
     "data": {
      "text/plain": [
       "array([[ 4,  5,  6],\n",
       "       [ 8, 10, 12],\n",
       "       [12, 15, 18]])"
      ]
     },
     "execution_count": 184,
     "metadata": {},
     "output_type": "execute_result"
    }
   ],
   "source": [
    "ggg"
   ]
  },
  {
   "cell_type": "code",
   "execution_count": 252,
   "metadata": {},
   "outputs": [
    {
     "data": {
      "text/plain": [
       "array([[ 8, 10, 12],\n",
       "       [16, 20, 24],\n",
       "       [24, 30, 36]])"
      ]
     },
     "execution_count": 252,
     "metadata": {},
     "output_type": "execute_result"
    }
   ],
   "source": [
    "ggg*2"
   ]
  },
  {
   "cell_type": "code",
   "execution_count": 183,
   "metadata": {},
   "outputs": [
    {
     "data": {
      "text/plain": [
       "array([[[ 28,  35,  42],\n",
       "        [ 32,  40,  48],\n",
       "        [ 36,  45,  54]],\n",
       "\n",
       "       [[ 56,  70,  84],\n",
       "        [ 64,  80,  96],\n",
       "        [ 72,  90, 108]],\n",
       "\n",
       "       [[ 84, 105, 126],\n",
       "        [ 96, 120, 144],\n",
       "        [108, 135, 162]]])"
      ]
     },
     "execution_count": 183,
     "metadata": {},
     "output_type": "execute_result"
    }
   ],
   "source": [
    "np.kron(jjj,ggg).reshape(3,3,3)"
   ]
  },
  {
   "cell_type": "code",
   "execution_count": 218,
   "metadata": {},
   "outputs": [],
   "source": [
    "fff=np.kron(jjj,ggg).reshape(3,3,3)"
   ]
  },
  {
   "cell_type": "code",
   "execution_count": 225,
   "metadata": {},
   "outputs": [
    {
     "data": {
      "text/plain": [
       "array([[ 56,  70,  84],\n",
       "       [ 64,  80,  96],\n",
       "       [ 72,  90, 108]])"
      ]
     },
     "execution_count": 225,
     "metadata": {},
     "output_type": "execute_result"
    }
   ],
   "source": [
    "np.dot(fff[0,:,:],j[1])"
   ]
  },
  {
   "cell_type": "code",
   "execution_count": null,
   "metadata": {},
   "outputs": [],
   "source": []
  },
  {
   "cell_type": "code",
   "execution_count": null,
   "metadata": {},
   "outputs": [],
   "source": []
  },
  {
   "cell_type": "code",
   "execution_count": null,
   "metadata": {},
   "outputs": [],
   "source": []
  },
  {
   "cell_type": "code",
   "execution_count": null,
   "metadata": {},
   "outputs": [],
   "source": [
    "# пока в планах\n",
    "class N_PLS1():\n",
    "    def error(a,b):\n",
    "        s=0\n",
    "        for i in range(0,len(a)):\n",
    "            s+=((a[i]-b.iloc[i]))**2\n",
    "        return s\n",
    "    def function_1(x,y,fn):\n",
    "        Tt=[]\n",
    "        mass=np.zeros([y.shape[0]])\n",
    "        output=[]\n",
    "        for f in range(0,fn):\n",
    "            z=np.zeros([x.shape[1],x.shape[2]])\n",
    "            for i in range(0,x.shape[2]):\n",
    "                for j in range(0,x.shape[1]):\n",
    "                    zsum=0\n",
    "                    for k in range(0,x.shape[0]):\n",
    "                        zsum= zsum+ x[k,j,i]*y[k]\n",
    "                    z[j,i]=zsum\n",
    "            Wk, S, WI = np.linalg.svd(z)\n",
    "            w_k=np.array(Wk[0,:]).reshape(x.shape[1],1)\n",
    "            w_i=np.array(WI[0,:]).reshape(x.shape[2],1)\n",
    "            t=[]\n",
    "            for h in range(0,x.shape[0]):\n",
    "                t+=[np.dot(np.dot(w_k.transpose(),x[h,:,:]),w_i)]\n",
    "            t=np.array(t).reshape(x.shape[0],1)\n",
    "            Tt+=[t]\n",
    "            T=np.array(Tt).reshape(x.shape[0],f+1)\n",
    "            bf=np.dot(np.dot(np.linalg.inv(np.dot(T.transpose(),T)),T.transpose()),y)\n",
    "            for g in range(0,x.shape[0]):\n",
    "                x[g,:,:]=x[g,:,:]-(t[g]*w_i.transpose()*w_k)\n",
    "            y=y-(np.dot(T,bf))\n",
    "            mass+=np.dot(T,bf)\n",
    "            output+=[error(mass,y_train)]\n",
    "        return output\n",
    "    def fit(x,y,fn):\n",
    "        \n",
    "            \n",
    "        return y"
   ]
  }
 ],
 "metadata": {
  "kernelspec": {
   "display_name": "Python 3",
   "language": "python",
   "name": "python3"
  },
  "language_info": {
   "codemirror_mode": {
    "name": "ipython",
    "version": 3
   },
   "file_extension": ".py",
   "mimetype": "text/x-python",
   "name": "python",
   "nbconvert_exporter": "python",
   "pygments_lexer": "ipython3",
   "version": "3.7.4"
  }
 },
 "nbformat": 4,
 "nbformat_minor": 2
}
