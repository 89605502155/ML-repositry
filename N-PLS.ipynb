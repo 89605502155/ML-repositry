{
 "cells": [
  {
   "cell_type": "markdown",
   "metadata": {},
   "source": [
    "# Импорт библиотек"
   ]
  },
  {
   "cell_type": "code",
   "execution_count": 1,
   "metadata": {},
   "outputs": [],
   "source": [
    "import numpy as np\n",
    "from gzip import open # NB: overrides standard open()\n",
    "import pickle as pkl\n",
    "import pandas as pd\n",
    "import warnings \n",
    "from glob import glob\n",
    "import os\n",
    "import math\n",
    "import functools"
   ]
  },
  {
   "cell_type": "markdown",
   "metadata": {},
   "source": [
    "### Отключим предупреждения Anaconda"
   ]
  },
  {
   "cell_type": "code",
   "execution_count": 2,
   "metadata": {},
   "outputs": [],
   "source": [
    "warnings.simplefilter('ignore')"
   ]
  },
  {
   "cell_type": "markdown",
   "metadata": {},
   "source": [
    "# Загрузим данные"
   ]
  },
  {
   "cell_type": "code",
   "execution_count": 3,
   "metadata": {},
   "outputs": [],
   "source": [
    "Xdata_numpy = pkl.load(open('C:/Users/admin/Desktop/PLS_continue_2020/X.pkl.gz', 'rb'))\n",
    "Ydata = pkl.load(open('C:/Users/admin/Desktop/PLS_continue_2020/y.pkl.gz', 'rb'))"
   ]
  },
  {
   "cell_type": "markdown",
   "metadata": {},
   "source": [
    "# N-PLS1"
   ]
  },
  {
   "cell_type": "markdown",
   "metadata": {},
   "source": [
    "## Выберем столбец у с которым будем работать"
   ]
  },
  {
   "cell_type": "code",
   "execution_count": 4,
   "metadata": {},
   "outputs": [],
   "source": [
    "parameters={'numbers_of_learning':10, 'numbers_of_components':55, 'testSize':0.2857, 'column_y':0}"
   ]
  },
  {
   "cell_type": "markdown",
   "metadata": {},
   "source": [
    "# Приближение к правильному алгоритму"
   ]
  },
  {
   "cell_type": "code",
   "execution_count": 5,
   "metadata": {},
   "outputs": [],
   "source": [
    "from sklearn.model_selection import train_test_split"
   ]
  },
  {
   "cell_type": "markdown",
   "metadata": {},
   "source": [
    "#### Центрирование данных"
   ]
  },
  {
   "cell_type": "code",
   "execution_count": 6,
   "metadata": {},
   "outputs": [],
   "source": [
    "x_centrir=np.array(Xdata_numpy[\"X\"])"
   ]
  },
  {
   "cell_type": "code",
   "execution_count": 7,
   "metadata": {},
   "outputs": [],
   "source": [
    "y_centrir=Ydata.iloc[:,parameters['column_y']].to_numpy()"
   ]
  },
  {
   "cell_type": "code",
   "execution_count": 8,
   "metadata": {},
   "outputs": [],
   "source": [
    "x_centrir -= x_centrir.mean(axis = 0)"
   ]
  },
  {
   "cell_type": "code",
   "execution_count": 9,
   "metadata": {},
   "outputs": [],
   "source": [
    "y_centrir -= y_centrir.mean()"
   ]
  },
  {
   "cell_type": "markdown",
   "metadata": {},
   "source": [
    "#### Делим на тестовый и обучающий наборы"
   ]
  },
  {
   "cell_type": "code",
   "execution_count": 10,
   "metadata": {},
   "outputs": [],
   "source": [
    "X_train, X_test, y_train, y_test = train_test_split(\n",
    "        x_centrir, y_centrir, test_size=parameters['testSize'] \n",
    "        )"
   ]
  },
  {
   "cell_type": "markdown",
   "metadata": {},
   "source": [
    "#### Получаем ошибки"
   ]
  },
  {
   "cell_type": "code",
   "execution_count": 11,
   "metadata": {},
   "outputs": [],
   "source": [
    "from sklearn.metrics import mean_squared_error"
   ]
  },
  {
   "cell_type": "code",
   "execution_count": 117,
   "metadata": {},
   "outputs": [
    {
     "data": {
      "text/plain": [
       "array([[5.88770378e+01, 5.63102183e+01, 5.16805840e+01, 4.70367820e+01,\n",
       "        3.90418848e+01, 2.35146355e+01, 1.66156486e+01, 1.44741283e+01,\n",
       "        1.14443045e+01, 7.70958485e+00, 4.81199975e+00, 2.31114895e+00,\n",
       "        1.80044286e+00, 1.17694239e+00, 4.00829756e-01, 1.10361439e-01,\n",
       "        8.23460457e-02, 7.64814114e-02, 2.57215248e-02, 9.48106618e-03,\n",
       "        3.97949779e-03, 8.39433392e-04, 1.79548399e-04, 2.66465093e-05,\n",
       "        7.37620012e-16, 6.66976352e-19, 2.01383747e-18, 5.77746014e-17,\n",
       "        2.34172144e-15, 2.51619349e-11, 2.02281567e-11, 2.71241272e-10,\n",
       "        1.70368114e-10, 3.69820717e-10, 1.22373112e-08, 3.46329663e-07,\n",
       "        1.11321535e-06, 3.14315214e-06, 5.78643588e-03, 6.33444422e-01,\n",
       "        5.76168221e+00, 8.33843280e+00, 1.28122483e+03, 6.90714712e+02,\n",
       "        5.35695876e+05, 1.10948171e+08, 2.23539134e+09, 6.62010802e+10,\n",
       "        1.72386046e+11, 2.78826520e+13, 1.92293901e+15, 6.32091331e+19,\n",
       "        5.88498180e+20, 1.23226692e+24, 1.55638420e+26]])"
      ]
     },
     "execution_count": 117,
     "metadata": {},
     "output_type": "execute_result"
    }
   ],
   "source": [
    "x=X_train\n",
    "y=y_train\n",
    "y=np.array(y)\n",
    "x=np.array(x)\n",
    "Tt=[]\n",
    "output=np.zeros([parameters['numbers_of_components']])\n",
    "mass=np.zeros([y.shape[0]])\n",
    "for f in range(0,parameters['numbers_of_components']):\n",
    "    z=np.zeros([x.shape[1],x.shape[2]])\n",
    "    x_product=np.zeros([y.shape[0],x.shape[1],x.shape[2]])\n",
    "    for i in range(0,y.shape[0]):\n",
    "        x_product[i,:,:]=np.dot(x[i,:,:],y[i])\n",
    "    z=x_product.sum(axis=0)\n",
    "    Wk, S, WI = np.linalg.svd(z)\n",
    "    w_k=np.array(Wk[0,:]).reshape(x.shape[1],1)\n",
    "    w_i=np.array(WI[0,:]).reshape(x.shape[2],1)\n",
    "    t=[]\n",
    "    for h in range(0,x.shape[0]):\n",
    "        t+=[np.dot(np.dot(w_k.transpose(),x[h,:,:]),w_i)]\n",
    "    t=np.array(t).reshape(x.shape[0],1)\n",
    "    Tt+=[t]\n",
    "    T=np.array(Tt).reshape(x.shape[0],f+1)\n",
    "    bf=np.dot(np.dot(np.linalg.inv(np.dot(T.transpose(),T)),T.transpose()),y)\n",
    "    for g in range(0,x.shape[0]):\n",
    "        x[g,:,:]=x[g,:,:]-(t[g]*w_i.transpose()*w_k)\n",
    "    y=y-(np.dot(T,bf))\n",
    "    mass+=np.dot(T,bf)   \n",
    "    output[f]+=mean_squared_error(mass,y_train)\n",
    "np.array(output).reshape(1,parameters['numbers_of_components'])"
   ]
  },
  {
   "cell_type": "code",
   "execution_count": 118,
   "metadata": {},
   "outputs": [
    {
     "data": {
      "text/plain": [
       "array([5.88770378e+01, 5.63102183e+01, 5.16805840e+01, 4.70367820e+01,\n",
       "       3.90418848e+01, 2.35146355e+01, 1.66156486e+01, 1.44741283e+01,\n",
       "       1.14443045e+01, 7.70958485e+00, 4.81199975e+00, 2.31114895e+00,\n",
       "       1.80044286e+00, 1.17694239e+00, 4.00829756e-01, 1.10361439e-01,\n",
       "       8.23460457e-02, 7.64814114e-02, 2.57215248e-02, 9.48106618e-03,\n",
       "       3.97949779e-03, 8.39433392e-04, 1.79548399e-04, 2.66465093e-05,\n",
       "       7.37620012e-16, 6.66976352e-19, 2.01383747e-18, 5.77746014e-17,\n",
       "       2.34172144e-15, 2.51619349e-11, 2.02281567e-11, 2.71241272e-10,\n",
       "       1.70368114e-10, 3.69820717e-10, 1.22373112e-08, 3.46329663e-07,\n",
       "       1.11321535e-06, 3.14315214e-06, 5.78643588e-03, 6.33444422e-01,\n",
       "       5.76168221e+00, 8.33843280e+00, 1.28122483e+03, 6.90714712e+02,\n",
       "       5.35695876e+05, 1.10948171e+08, 2.23539134e+09, 6.62010802e+10,\n",
       "       1.72386046e+11, 2.78826520e+13, 1.92293901e+15, 6.32091331e+19,\n",
       "       5.88498180e+20, 1.23226692e+24, 1.55638420e+26])"
      ]
     },
     "execution_count": 118,
     "metadata": {},
     "output_type": "execute_result"
    }
   ],
   "source": [
    "output"
   ]
  },
  {
   "cell_type": "markdown",
   "metadata": {},
   "source": [
    "#### Сразу создам файл для выгрузки результатов этого шага построения модели, что б, когда работа будет идти на финальной стадии не обучаться с нуля"
   ]
  },
  {
   "cell_type": "code",
   "execution_count": 33,
   "metadata": {},
   "outputs": [],
   "source": [
    "pkl.dump(output,open('C:/Users/admin/Desktop/PLS_continue_2020/output.pkl.gz', 'wb'))"
   ]
  },
  {
   "cell_type": "markdown",
   "metadata": {},
   "source": [
    "#### Рисуем ошибки"
   ]
  },
  {
   "cell_type": "code",
   "execution_count": 34,
   "metadata": {},
   "outputs": [],
   "source": [
    "import matplotlib.pyplot as plt"
   ]
  },
  {
   "cell_type": "code",
   "execution_count": 119,
   "metadata": {},
   "outputs": [
    {
     "data": {
      "image/png": "[encoded data removed]",
      "text/plain": [
       "<Figure size 432x288 with 1 Axes>"
      ]
     },
     "metadata": {
      "needs_background": "light"
     },
     "output_type": "display_data"
    }
   ],
   "source": [
    "plt.plot(output)\n",
    "plt.show();"
   ]
  },
  {
   "cell_type": "code",
   "execution_count": 120,
   "metadata": {},
   "outputs": [
    {
     "data": {
      "image/png": "[encoded data removed]",
      "text/plain": [
       "<Figure size 432x288 with 1 Axes>"
      ]
     },
     "metadata": {
      "needs_background": "light"
     },
     "output_type": "display_data"
    }
   ],
   "source": [
    "plt.plot(output[0:39])\n",
    "plt.show();"
   ]
  },
  {
   "cell_type": "code",
   "execution_count": 121,
   "metadata": {},
   "outputs": [
    {
     "data": {
      "image/png": "[encoded data removed]",
      "text/plain": [
       "<Figure size 432x288 with 1 Axes>"
      ]
     },
     "metadata": {
      "needs_background": "light"
     },
     "output_type": "display_data"
    }
   ],
   "source": [
    "plt.plot(output[0:20])\n",
    "plt.show();"
   ]
  },
  {
   "cell_type": "code",
   "execution_count": 122,
   "metadata": {},
   "outputs": [
    {
     "data": {
      "image/png": "[encoded data removed]",
      "text/plain": [
       "<Figure size 432x288 with 1 Axes>"
      ]
     },
     "metadata": {
      "needs_background": "light"
     },
     "output_type": "display_data"
    }
   ],
   "source": [
    "plt.plot(output[0:12])\n",
    "plt.show();"
   ]
  },
  {
   "cell_type": "markdown",
   "metadata": {},
   "source": [
    "# Попробую оформить всё в виде полноценного класса"
   ]
  },
  {
   "cell_type": "code",
   "execution_count": 15,
   "metadata": {},
   "outputs": [],
   "source": [
    "from sklearn.base import BaseEstimator\n",
    "from sklearn.base import RegressorMixin"
   ]
  },
  {
   "cell_type": "code",
   "execution_count": 16,
   "metadata": {},
   "outputs": [],
   "source": [
    "class N_PLS1_first(BaseEstimator, RegressorMixin):\n",
    "    def  __init__(self, n_components=2, *,norm_y_weights=False, scale=True, max_iter=500, tol=1e-06, copy=True):\n",
    "        self.n_components = n_components\n",
    "        self.norm_y_weights = norm_y_weights\n",
    "        self.scale = scale\n",
    "        self.max_iter = max_iter\n",
    "        self.tol = tol\n",
    "        self.copy = copy\n",
    "        "
   ]
  },
  {
   "cell_type": "code",
   "execution_count": 17,
   "metadata": {},
   "outputs": [],
   "source": [
    "a=N_PLS1_first(3)"
   ]
  },
  {
   "cell_type": "code",
   "execution_count": 18,
   "metadata": {},
   "outputs": [
    {
     "data": {
      "text/plain": [
       "N_PLS1_first(copy=True, max_iter=500, n_components=3, norm_y_weights=False,\n",
       "             scale=True, tol=1e-06)"
      ]
     },
     "execution_count": 18,
     "metadata": {},
     "output_type": "execute_result"
    }
   ],
   "source": [
    "a"
   ]
  },
  {
   "cell_type": "code",
   "execution_count": null,
   "metadata": {},
   "outputs": [],
   "source": [
    "# пока в планах\n",
    "class N_PLS1():\n",
    "    def error(a,b):\n",
    "        s=0\n",
    "        for i in range(0,len(a)):\n",
    "            s+=((a[i]-b.iloc[i]))**2\n",
    "        return s\n",
    "    def function_1(x,y,fn):\n",
    "        Tt=[]\n",
    "        mass=np.zeros([y.shape[0]])\n",
    "        output=[]\n",
    "        for f in range(0,fn):\n",
    "            z=np.zeros([x.shape[1],x.shape[2]])\n",
    "            for i in range(0,x.shape[2]):\n",
    "                for j in range(0,x.shape[1]):\n",
    "                    zsum=0\n",
    "                    for k in range(0,x.shape[0]):\n",
    "                        zsum= zsum+ x[k,j,i]*y[k]\n",
    "                    z[j,i]=zsum\n",
    "            Wk, S, WI = np.linalg.svd(z)\n",
    "            w_k=np.array(Wk[0,:]).reshape(x.shape[1],1)\n",
    "            w_i=np.array(WI[0,:]).reshape(x.shape[2],1)\n",
    "            t=[]\n",
    "            for h in range(0,x.shape[0]):\n",
    "                t+=[np.dot(np.dot(w_k.transpose(),x[h,:,:]),w_i)]\n",
    "            t=np.array(t).reshape(x.shape[0],1)\n",
    "            Tt+=[t]\n",
    "            T=np.array(Tt).reshape(x.shape[0],f+1)\n",
    "            bf=np.dot(np.dot(np.linalg.inv(np.dot(T.transpose(),T)),T.transpose()),y)\n",
    "            for g in range(0,x.shape[0]):\n",
    "                x[g,:,:]=x[g,:,:]-(t[g]*w_i.transpose()*w_k)\n",
    "            y=y-(np.dot(T,bf))\n",
    "            mass+=np.dot(T,bf)\n",
    "            output+=[error(mass,y_train)]\n",
    "        return output\n",
    "    def fit(x,y,fn):\n",
    "        \n",
    "            \n",
    "        return y"
   ]
  },
  {
   "cell_type": "code",
   "execution_count": 179,
   "metadata": {},
   "outputs": [
    {
     "data": {
      "text/plain": [
       "array([34.19308759, 35.72443085, 46.32211944, 35.69579348, 47.44184036,\n",
       "       33.34204937, 42.44462856, 39.9018207 , 44.39973652, 54.64066407,\n",
       "       53.71596802, 44.04933373, 36.11255278, 34.24246421, 36.22622795,\n",
       "       26.1974747 , 41.0398005 , 31.41066637, 34.07047331, 42.14770231,\n",
       "       45.44679116, 21.41118209, 44.54683093, 35.35460545, 36.47993911])"
      ]
     },
     "execution_count": 179,
     "metadata": {},
     "output_type": "execute_result"
    }
   ],
   "source": [
    "y"
   ]
  },
  {
   "cell_type": "code",
   "execution_count": 395,
   "metadata": {},
   "outputs": [
    {
     "data": {
      "text/plain": [
       "array([[5.20396143e+04, 4.91918971e+04, 4.38839916e+04, 3.88590076e+04,\n",
       "        3.28461510e+04, 2.71640444e+04, 2.06742360e+04, 1.51864921e+04,\n",
       "        1.08940127e+04, 7.45914196e+03, 5.10460116e+03, 3.13773457e+03,\n",
       "        1.85325287e+03, 8.68438137e+02, 4.09180232e+02, 2.46334649e+02,\n",
       "        1.76439608e+02, 1.32129844e+02, 1.09666897e+02, 8.20938712e+01,\n",
       "        4.59856659e+01, 2.60763430e+01, 1.10681096e+01, 4.58247849e+00,\n",
       "        9.94812128e-01, 1.09443246e-07, 1.55442375e-08, 1.07111515e-08,\n",
       "        4.36357780e-09, 8.25991184e-09, 8.28521838e-09, 3.91514087e-08,\n",
       "        4.05800265e-07, 9.57270667e-08, 3.17840084e-06, 2.82484373e-06,\n",
       "        6.49010797e-07, 2.30233617e-04, 7.71299123e-03, 1.62744298e-01,\n",
       "        6.11296107e+01, 1.03835530e+03, 1.01042473e+03, 4.74122861e+03,\n",
       "        6.23619775e+04, 9.49571644e+04, 1.22425553e+06, 5.50510253e+06,\n",
       "        5.15620269e+06, 4.28673709e+06, 1.03028491e+09, 1.22720823e+12,\n",
       "        9.71049882e+14, 6.76286674e+15, 4.44894505e+18]])"
      ]
     },
     "execution_count": 395,
     "metadata": {},
     "output_type": "execute_result"
    }
   ],
   "source": [
    "output=np.zeros([parameters['numbers_of_components']])\n",
    "for v in range(0,parameters['numbers_of_learning']):\n",
    "    X_train, X_test, y_train, y_test = train_test_split(\n",
    "        Xdata_numpy[\"X\"], Ydata.iloc[:,parameters['column_y']], test_size=parameters['testSize'] \n",
    "        )\n",
    "    x=X_train\n",
    "    y=y_train\n",
    "    y=np.array(y)\n",
    "    x=np.array(x)\n",
    "    Tt=[]\n",
    "    mass=np.zeros([y.shape[0]])\n",
    "    for f in range(0,parameters['numbers_of_components']):\n",
    "        z=np.zeros([x.shape[1],x.shape[2]])\n",
    "        for i in range(0,x.shape[2]):\n",
    "            for j in range(0,x.shape[1]):\n",
    "                zsum=0\n",
    "                for k in range(0,x.shape[0]):\n",
    "                    zsum= zsum+ x[k,j,i]*y[k]\n",
    "                z[j,i]=zsum\n",
    "        Wk, S, WI = np.linalg.svd(z)\n",
    "        w_k=np.array(Wk[0,:]).reshape(x.shape[1],1)\n",
    "        w_i=np.array(WI[0,:]).reshape(x.shape[2],1)\n",
    "        t=[]\n",
    "        for h in range(0,x.shape[0]):\n",
    "            t+=[np.dot(np.dot(w_k.transpose(),x[h,:,:]),w_i)]\n",
    "        t=np.array(t).reshape(x.shape[0],1)\n",
    "        Tt+=[t]\n",
    "        T=np.array(Tt).reshape(x.shape[0],f+1)\n",
    "        bf=np.dot(np.dot(np.linalg.inv(np.dot(T.transpose(),T)),T.transpose()),y)\n",
    "        for g in range(0,x.shape[0]):\n",
    "            x[g,:,:]=x[g,:,:]-(t[g]*w_i.transpose()*w_k)\n",
    "        y=y-(np.dot(T,bf))\n",
    "        mass+=np.dot(T,bf)   \n",
    "        output[f]+=error(mass,y_train)\n",
    "np.array(output).reshape(1,parameters['numbers_of_components'])"
   ]
  },
  {
   "cell_type": "code",
   "execution_count": 107,
   "metadata": {},
   "outputs": [],
   "source": [
    "pp=np.array([[[1,2],[3,4]],[[5,6],[7,8]]])"
   ]
  },
  {
   "cell_type": "code",
   "execution_count": 94,
   "metadata": {},
   "outputs": [
    {
     "data": {
      "text/plain": [
       "[[[1, 2], [3, 4]], [[5, 6], [7, 8]]]"
      ]
     },
     "execution_count": 94,
     "metadata": {},
     "output_type": "execute_result"
    }
   ],
   "source": [
    "pp"
   ]
  },
  {
   "cell_type": "code",
   "execution_count": 108,
   "metadata": {},
   "outputs": [
    {
     "data": {
      "text/plain": [
       "array([[[ 7, 14],\n",
       "        [21, 28]],\n",
       "\n",
       "       [[35, 42],\n",
       "        [49, 56]]])"
      ]
     },
     "execution_count": 108,
     "metadata": {},
     "output_type": "execute_result"
    }
   ],
   "source": [
    "np.dot(pp,(7))"
   ]
  },
  {
   "cell_type": "code",
   "execution_count": 109,
   "metadata": {},
   "outputs": [
    {
     "data": {
      "text/plain": [
       "array([[ 6,  8],\n",
       "       [10, 12]])"
      ]
     },
     "execution_count": 109,
     "metadata": {},
     "output_type": "execute_result"
    }
   ],
   "source": [
    "pp.sum(axis=0)"
   ]
  },
  {
   "cell_type": "code",
   "execution_count": 111,
   "metadata": {},
   "outputs": [
    {
     "data": {
      "text/plain": [
       "array([[[ 7, 14,  6, 12],\n",
       "        [21, 28, 18, 24]],\n",
       "\n",
       "       [[35, 42, 30, 36],\n",
       "        [49, 56, 42, 48]]])"
      ]
     },
     "execution_count": 111,
     "metadata": {},
     "output_type": "execute_result"
    }
   ],
   "source": [
    "np.kron(np.array([7,6]),pp)"
   ]
  },
  {
   "cell_type": "code",
   "execution_count": null,
   "metadata": {},
   "outputs": [],
   "source": []
  }
 ],
 "metadata": {
  "kernelspec": {
   "display_name": "Python 3",
   "language": "python",
   "name": "python3"
  },
  "language_info": {
   "codemirror_mode": {
    "name": "ipython",
    "version": 3
   },
   "file_extension": ".py",
   "mimetype": "text/x-python",
   "name": "python",
   "nbconvert_exporter": "python",
   "pygments_lexer": "ipython3",
   "version": "3.7.4"
  }
 },
 "nbformat": 4,
 "nbformat_minor": 2
}
