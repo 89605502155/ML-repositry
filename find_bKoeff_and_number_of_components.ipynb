{
 "cells": [
  {
   "cell_type": "code",
   "execution_count": 1,
   "metadata": {},
   "outputs": [],
   "source": [
    "import numpy as np\n",
    "from gzip import open # NB: overrides standard open()\n",
    "import pickle as pkl\n",
    "import pandas as pd\n",
    "import warnings \n",
    "from glob import glob\n",
    "import os\n",
    "import math\n",
    "import functools\n",
    "import matplotlib.pyplot as plt\n",
    "from sklearn.model_selection import train_test_split\n",
    "from sklearn.metrics import mean_squared_error\n",
    "from numpy import linalg as LA\n",
    "from sklearn.metrics import r2_score\n",
    "from sklearn.base import BaseEstimator\n",
    "from sklearn.base import RegressorMixin\n",
    "import math\n",
    "from sklearn.metrics import mean_squared_error\n",
    "from sklearn.model_selection import GridSearchCV"
   ]
  },
  {
   "cell_type": "code",
   "execution_count": 2,
   "metadata": {},
   "outputs": [],
   "source": [
    "import matplotlib as mpl"
   ]
  },
  {
   "cell_type": "code",
   "execution_count": 3,
   "metadata": {},
   "outputs": [],
   "source": [
    "warnings.simplefilter('ignore')"
   ]
  },
  {
   "cell_type": "code",
   "execution_count": 4,
   "metadata": {},
   "outputs": [],
   "source": [
    "Xdata_numpy = pkl.load(open('C:/Users/admin/Desktop/PLS2021/N-PLS/X_new.pkl.gz', 'rb'))\n",
    "Ydata = pkl.load(open('C:/Users/admin/Desktop/PLS2021/N-PLS/y.pkl.gz', 'rb'))"
   ]
  },
  {
   "cell_type": "code",
   "execution_count": 5,
   "metadata": {},
   "outputs": [],
   "source": [
    "import  subprocess\n",
    "import sys\n",
    "import os\n",
    "from N_PLS1_help_scripts.CenteringClass import centrir\n",
    "from N_PLS1_help_scripts.N_PLS1_algorithm import Tri_PLS1_grid"
   ]
  },
  {
   "cell_type": "code",
   "execution_count": 6,
   "metadata": {},
   "outputs": [],
   "source": [
    "cen=centrir(testSize=0.1428,column_y=0)"
   ]
  },
  {
   "cell_type": "code",
   "execution_count": 7,
   "metadata": {},
   "outputs": [],
   "source": [
    "result=cen.centering_and_cv(Xdata_numpy['X'],Ydata)"
   ]
  },
  {
   "cell_type": "code",
   "execution_count": 8,
   "metadata": {},
   "outputs": [],
   "source": [
    "y_train=result.y_train\n",
    "y_test=result.y_test\n",
    "X_train=result.X_train\n",
    "X_test=result.X_test"
   ]
  },
  {
   "cell_type": "code",
   "execution_count": 9,
   "metadata": {},
   "outputs": [
    {
     "data": {
      "image/png": "[encoded data removed]",
      "text/plain": [
       "<Figure size 432x288 with 1 Axes>"
      ]
     },
     "metadata": {
      "needs_background": "light"
     },
     "output_type": "display_data"
    }
   ],
   "source": [
    "plt.imshow(X_train[12,:,:],aspect='auto')\n",
    "plt.show()"
   ]
  },
  {
   "cell_type": "code",
   "execution_count": 10,
   "metadata": {},
   "outputs": [],
   "source": [
    "from sklearn.metrics import mean_squared_error\n",
    "from sklearn.metrics import r2_score, make_scorer\n",
    "import sklearn"
   ]
  },
  {
   "cell_type": "markdown",
   "metadata": {},
   "source": [
    "Чтобы подтянуть Решётчатый поиск для оптимизации сразу двух параметров, нужно его немного расширить"
   ]
  },
  {
   "cell_type": "code",
   "execution_count": 12,
   "metadata": {},
   "outputs": [],
   "source": [
    "import numpy as np\n",
    "from sklearn.base import BaseEstimator\n",
    "from sklearn.base import RegressorMixin\n",
    "from sklearn.metrics import mean_squared_error\n",
    "import itertools as it"
   ]
  },
  {
   "cell_type": "code",
   "execution_count": 23,
   "metadata": {},
   "outputs": [],
   "source": [
    "aa=list(it.product([1,2,3],['a','s'],repeat=1))"
   ]
  },
  {
   "cell_type": "code",
   "execution_count": 26,
   "metadata": {},
   "outputs": [
    {
     "data": {
      "text/plain": [
       "[(1, 'a'), (1, 's'), (2, 'a'), (2, 's'), (3, 'a'), (3, 's')]"
      ]
     },
     "execution_count": 26,
     "metadata": {},
     "output_type": "execute_result"
    }
   ],
   "source": [
    "aa"
   ]
  },
  {
   "cell_type": "code",
   "execution_count": 27,
   "metadata": {},
   "outputs": [
    {
     "data": {
      "text/plain": [
       "0"
      ]
     },
     "execution_count": 27,
     "metadata": {},
     "output_type": "execute_result"
    }
   ],
   "source": [
    "aa.index((1, 'a'))"
   ]
  },
  {
   "cell_type": "code",
   "execution_count": 20,
   "metadata": {},
   "outputs": [
    {
     "name": "stdout",
     "output_type": "stream",
     "text": [
      "1\n",
      "1\n",
      "2\n",
      "2\n",
      "3\n",
      "3\n"
     ]
    }
   ],
   "source": [
    "for i,j in a:\n",
    "    print(i)"
   ]
  },
  {
   "cell_type": "code",
   "execution_count": 55,
   "metadata": {},
   "outputs": [],
   "source": [
    "class myGridsearch(RegressorMixin,BaseEstimator):\n",
    "    def __init__(self,b_koef,n_components,cv=5):\n",
    "        self.b_koef=b_koef\n",
    "        self.n_components=n_components\n",
    "        self.cv=cv\n",
    "        \n",
    "    def fit(self,x,y,X_test, y_test):\n",
    "        resoult=np.zeros([len(self.b_koef),self.n_components])\n",
    "        for i,j in list(it.product(list(self.b_koef),list(range(1,self.n_components)),repeat=1)):\n",
    "            npls1=Tri_PLS1_grid()\n",
    "            scoring={'mse': make_scorer(mean_squared_error),'r2':'r2'}\n",
    "            parametrsNames={'n_components': [j],\n",
    "                            'a': [np.power(10, i, dtype = np.float)]}\n",
    "            gridCought=GridSearchCV(npls1, parametrsNames, cv=self.cv, scoring=scoring,refit='r2', return_train_score=True)\n",
    "            gridCought.fit(x.copy(), y.copy())\n",
    "            r2_p=gridCought.score(X_test.copy(), y_test.copy())\n",
    "            r2_cv=gridCought.cv_results_[ \"mean_test_r2\" ]\n",
    "            if ((r2_p<=0) or (r2_cv<=0)):\n",
    "                resoult[self.b_koef.index(i),j-1]=0\n",
    "            else:\n",
    "                resoult[self.b_koef.index(i),j-1]= r2_cv\n",
    "        self.resoult=resoult\n",
    "        return self"
   ]
  },
  {
   "cell_type": "code",
   "execution_count": 51,
   "metadata": {},
   "outputs": [
    {
     "data": {
      "text/plain": [
       "[(1, 'a'),\n",
       " (1, 's'),\n",
       " (2, 'a'),\n",
       " (2, 's'),\n",
       " (3, 'a'),\n",
       " (3, 's'),\n",
       " (4, 'a'),\n",
       " (4, 's'),\n",
       " (5, 'a'),\n",
       " (5, 's'),\n",
       " (6, 'a'),\n",
       " (6, 's')]"
      ]
     },
     "execution_count": 51,
     "metadata": {},
     "output_type": "execute_result"
    }
   ],
   "source": [
    "list(it.product(range(1,7),['a','s'],repeat=1))"
   ]
  },
  {
   "cell_type": "code",
   "execution_count": 22,
   "metadata": {},
   "outputs": [
    {
     "data": {
      "text/plain": [
       "<itertools.product at 0x192795949f8>"
      ]
     },
     "execution_count": 22,
     "metadata": {},
     "output_type": "execute_result"
    }
   ],
   "source": [
    "a"
   ]
  },
  {
   "cell_type": "code",
   "execution_count": 32,
   "metadata": {},
   "outputs": [],
   "source": [
    "aa=np.zeros([4,8])"
   ]
  },
  {
   "cell_type": "code",
   "execution_count": 33,
   "metadata": {},
   "outputs": [],
   "source": [
    "aa[3,1]+=5"
   ]
  },
  {
   "cell_type": "code",
   "execution_count": 34,
   "metadata": {},
   "outputs": [
    {
     "data": {
      "text/plain": [
       "array([[0., 0., 0., 0., 0., 0., 0., 0.],\n",
       "       [0., 0., 0., 0., 0., 0., 0., 0.],\n",
       "       [0., 0., 0., 0., 0., 0., 0., 0.],\n",
       "       [0., 5., 0., 0., 0., 0., 0., 0.]])"
      ]
     },
     "execution_count": 34,
     "metadata": {},
     "output_type": "execute_result"
    }
   ],
   "source": [
    "aa"
   ]
  },
  {
   "cell_type": "code",
   "execution_count": null,
   "metadata": {},
   "outputs": [],
   "source": [
    "y_train=result.y_train\n",
    "y_test=result.y_test\n",
    "X_train=result.X_train\n",
    "X_test=result.X_test"
   ]
  },
  {
   "cell_type": "code",
   "execution_count": 63,
   "metadata": {},
   "outputs": [],
   "source": [
    "model=myGridsearch(b_koef=range(-15,6,1),n_components=4)"
   ]
  },
  {
   "cell_type": "code",
   "execution_count": 64,
   "metadata": {},
   "outputs": [],
   "source": [
    "t=model.fit(X_train,y_train,X_test,y_test)"
   ]
  },
  {
   "cell_type": "code",
   "execution_count": 65,
   "metadata": {},
   "outputs": [
    {
     "data": {
      "text/plain": [
       "array([[0.        , 0.        , 0.        , 0.        ],\n",
       "       [0.        , 0.        , 0.        , 0.        ],\n",
       "       [0.        , 0.        , 0.        , 0.        ],\n",
       "       [0.        , 0.3333315 , 0.44038711, 0.        ],\n",
       "       [0.        , 0.38904404, 0.63213439, 0.        ],\n",
       "       [0.        , 0.39214903, 0.62977263, 0.        ],\n",
       "       [0.        , 0.39179528, 0.62952108, 0.        ],\n",
       "       [0.        , 0.39174616, 0.62954788, 0.        ],\n",
       "       [0.        , 0.3917476 , 0.62954436, 0.        ],\n",
       "       [0.        , 0.39174746, 0.62954509, 0.        ],\n",
       "       [0.        , 0.39174738, 0.62954502, 0.        ],\n",
       "       [0.        , 0.391747  , 0.62954499, 0.        ],\n",
       "       [0.        , 0.39174319, 0.62954464, 0.        ],\n",
       "       [0.        , 0.39170509, 0.6295411 , 0.        ],\n",
       "       [0.        , 0.39132215, 0.62950591, 0.        ],\n",
       "       [0.        , 0.38730164, 0.62917619, 0.        ],\n",
       "       [0.        , 0.32272209, 0.62892222, 0.        ],\n",
       "       [0.        , 0.        , 0.        , 0.        ],\n",
       "       [0.        , 0.        , 0.        , 0.        ],\n",
       "       [0.        , 0.        , 0.        , 0.        ],\n",
       "       [0.        , 0.        , 0.        , 0.        ]])"
      ]
     },
     "execution_count": 65,
     "metadata": {},
     "output_type": "execute_result"
    }
   ],
   "source": [
    "t.resoult"
   ]
  },
  {
   "cell_type": "code",
   "execution_count": 67,
   "metadata": {},
   "outputs": [
    {
     "data": {
      "text/plain": [
       "array([[0.        , 0.        , 0.        , 0.        ],\n",
       "       [0.        , 0.        , 0.        , 0.        ],\n",
       "       [0.        , 0.        , 0.        , 0.        ],\n",
       "       [0.        , 0.3333315 , 0.44038711, 0.        ],\n",
       "       [0.        , 0.38904404, 0.63213439, 0.        ],\n",
       "       [0.        , 0.39214903, 0.62977263, 0.        ],\n",
       "       [0.        , 0.39179528, 0.62952108, 0.        ],\n",
       "       [0.        , 0.39174616, 0.62954788, 0.        ],\n",
       "       [0.        , 0.3917476 , 0.62954436, 0.        ],\n",
       "       [0.        , 0.39174746, 0.62954509, 0.        ],\n",
       "       [0.        , 0.39174738, 0.62954502, 0.        ],\n",
       "       [0.        , 0.391747  , 0.62954499, 0.        ],\n",
       "       [0.        , 0.39174319, 0.62954464, 0.        ],\n",
       "       [0.        , 0.39170509, 0.6295411 , 0.        ],\n",
       "       [0.        , 0.39132215, 0.62950591, 0.        ],\n",
       "       [0.        , 0.38730164, 0.62917619, 0.        ],\n",
       "       [0.        , 0.32272209, 0.62892222, 0.        ],\n",
       "       [0.        , 0.        , 0.        , 0.        ],\n",
       "       [0.        , 0.        , 0.        , 0.        ],\n",
       "       [0.        , 0.        , 0.        , 0.        ],\n",
       "       [0.        , 0.        , 0.        , 0.        ]])"
      ]
     },
     "execution_count": 67,
     "metadata": {},
     "output_type": "execute_result"
    }
   ],
   "source": [
    "t.resoult"
   ]
  },
  {
   "cell_type": "code",
   "execution_count": 66,
   "metadata": {},
   "outputs": [
    {
     "data": {
      "image/png": "[encoded data removed]",
      "text/plain": [
       "<Figure size 432x288 with 1 Axes>"
      ]
     },
     "metadata": {
      "needs_background": "light"
     },
     "output_type": "display_data"
    }
   ],
   "source": [
    "plt.imshow(t.resoult, aspect=\"auto\")\n",
    "plt.show();"
   ]
  },
  {
   "cell_type": "code",
   "execution_count": null,
   "metadata": {},
   "outputs": [],
   "source": []
  }
 ],
 "metadata": {
  "kernelspec": {
   "display_name": "Python 3",
   "language": "python",
   "name": "python3"
  },
  "language_info": {
   "codemirror_mode": {
    "name": "ipython",
    "version": 3
   },
   "file_extension": ".py",
   "mimetype": "text/x-python",
   "name": "python",
   "nbconvert_exporter": "python",
   "pygments_lexer": "ipython3",
   "version": "3.7.4"
  }
 },
 "nbformat": 4,
 "nbformat_minor": 2
}
