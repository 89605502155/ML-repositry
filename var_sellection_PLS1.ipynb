{
 "cells": [
  {
   "cell_type": "markdown",
   "metadata": {},
   "source": [
    "### Хочу сначала отобрать признаки. Признаки с низкой дисперсией скорее всего менее информативны, поэтому, сначала сделаю отбор по дисперсии. В следующем ноутбуке хочу попробовать SBS алгоритм."
   ]
  },
  {
   "cell_type": "code",
   "execution_count": 1,
   "metadata": {},
   "outputs": [],
   "source": [
    "import numpy as np\n",
    "from gzip import open # NB: overrides standard open()\n",
    "import pickle as pkl\n",
    "import tensorly as tl\n",
    "from tensorly.base import tensor_to_vec,  partial_tensor_to_vec\n",
    "import pandas as pd\n",
    "import warnings \n",
    "import matplotlib.pyplot as plt\n",
    "from sklearn.model_selection import cross_val_score\n",
    "from sklearn.model_selection import cross_validate\n",
    "from sklearn.model_selection import train_test_split\n",
    "from sklearn.cross_decomposition import PLSRegression\n",
    "from sklearn.model_selection import GridSearchCV\n",
    "import matplotlib as mpl\n",
    "from glob import glob\n",
    "import os\n",
    "import math\n",
    "import functools\n",
    "from sklearn.base import BaseEstimator\n",
    "from sklearn.base import RegressorMixin"
   ]
  },
  {
   "cell_type": "code",
   "execution_count": 2,
   "metadata": {},
   "outputs": [],
   "source": [
    "warnings.simplefilter('ignore') # отключим предупреждения Anaconda"
   ]
  },
  {
   "cell_type": "code",
   "execution_count": 3,
   "metadata": {},
   "outputs": [
    {
     "name": "stdout",
     "output_type": "stream",
     "text": [
      "(206,)\n"
     ]
    }
   ],
   "source": [
    "Xdata_numpy = pkl.load(open('C:/Users/admin/Desktop/PLS2021/N-PLS/X_new.pkl.gz', 'rb'))\n",
    "Ydata = pkl.load(open('C:/Users/admin/Desktop/PLS2021/N-PLS/y.pkl.gz', 'rb'))\n",
    "print(Xdata_numpy['emission'].shape)"
   ]
  },
  {
   "cell_type": "code",
   "execution_count": 4,
   "metadata": {},
   "outputs": [
    {
     "data": {
      "text/plain": [
       "array([245., 250., 255., 260., 265., 270., 275., 280., 285., 290., 295.,\n",
       "       300., 305., 310., 315., 320., 325., 330., 335., 340., 345., 350.,\n",
       "       355., 360., 365., 370., 375., 380., 385., 390., 395., 400., 405.,\n",
       "       410., 415., 420., 425., 430., 435., 440., 445., 450., 455., 460.,\n",
       "       465., 470., 475., 480., 485., 490., 495., 500.])"
      ]
     },
     "execution_count": 4,
     "metadata": {},
     "output_type": "execute_result"
    }
   ],
   "source": [
    "Xdata_numpy['excitation']"
   ]
  },
  {
   "cell_type": "code",
   "execution_count": 5,
   "metadata": {},
   "outputs": [],
   "source": [
    "X_big=Xdata_numpy['X']"
   ]
  },
  {
   "cell_type": "code",
   "execution_count": 6,
   "metadata": {},
   "outputs": [
    {
     "data": {
      "text/plain": [
       "(206, 52)"
      ]
     },
     "execution_count": 6,
     "metadata": {},
     "output_type": "execute_result"
    }
   ],
   "source": [
    "(X_big.mean(axis=0)).shape"
   ]
  },
  {
   "cell_type": "code",
   "execution_count": 7,
   "metadata": {},
   "outputs": [
    {
     "data": {
      "text/plain": [
       "array([0.65146595, 1.04989102, 0.45439327, 0.83234159, 0.94569607,\n",
       "       0.87379848, 0.25354816, 1.28721509, 0.75324228, 1.06003262,\n",
       "       0.41105254, 1.05576681, 1.27723665, 1.4299822 , 1.44627517,\n",
       "       0.38409103, 1.28565132, 0.71377399, 0.54094439, 0.53461583,\n",
       "       0.9341003 , 0.98641663, 1.15157006, 0.9252526 , 0.26309461,\n",
       "       0.62352113, 0.85551931, 0.42271355, 0.5376293 , 0.51435184,\n",
       "       0.50412126, 0.84849171, 0.71693687, 0.62951692, 0.82833542])"
      ]
     },
     "execution_count": 7,
     "metadata": {},
     "output_type": "execute_result"
    }
   ],
   "source": [
    "X_big[:,50,8]"
   ]
  },
  {
   "cell_type": "code",
   "execution_count": 8,
   "metadata": {},
   "outputs": [
    {
     "data": {
      "text/plain": [
       "0.7995024560851044"
      ]
     },
     "execution_count": 8,
     "metadata": {},
     "output_type": "execute_result"
    }
   ],
   "source": [
    "X_big[:,50,8].mean()"
   ]
  },
  {
   "cell_type": "code",
   "execution_count": 9,
   "metadata": {},
   "outputs": [
    {
     "data": {
      "text/plain": [
       "array([-0.14803651,  0.25038856, -0.34510918,  0.03283913,  0.14619361,\n",
       "        0.07429603, -0.54595429,  0.48771264, -0.04626018,  0.26053016,\n",
       "       -0.38844991,  0.25626435,  0.47773419,  0.63047974,  0.64677271,\n",
       "       -0.41541142,  0.48614887, -0.08572846, -0.25855807, -0.26488663,\n",
       "        0.13459784,  0.18691417,  0.3520676 ,  0.12575014, -0.53640785,\n",
       "       -0.17598133,  0.05601685, -0.3767889 , -0.26187316, -0.28515062,\n",
       "       -0.2953812 ,  0.04898926, -0.08256559, -0.16998553,  0.02883296])"
      ]
     },
     "execution_count": 9,
     "metadata": {},
     "output_type": "execute_result"
    }
   ],
   "source": [
    "X_big[:,50,8]-X_big[:,50,8].mean()"
   ]
  },
  {
   "cell_type": "code",
   "execution_count": 10,
   "metadata": {},
   "outputs": [
    {
     "data": {
      "text/plain": [
       "array([0.02191481, 0.06269443, 0.11910035, 0.00107841, 0.02137257,\n",
       "       0.0055199 , 0.29806609, 0.23786361, 0.00214   , 0.06787596,\n",
       "       0.15089334, 0.06567142, 0.22822996, 0.39750471, 0.41831494,\n",
       "       0.17256665, 0.23634072, 0.00734937, 0.06685227, 0.07016493,\n",
       "       0.01811658, 0.03493691, 0.1239516 , 0.0158131 , 0.28773338,\n",
       "       0.03096943, 0.00313789, 0.14196988, 0.06857755, 0.08131087,\n",
       "       0.08725005, 0.00239995, 0.00681708, 0.02889508, 0.00083134])"
      ]
     },
     "execution_count": 10,
     "metadata": {},
     "output_type": "execute_result"
    }
   ],
   "source": [
    "(X_big[:,50,8]-X_big[:,50,8].mean())**2"
   ]
  },
  {
   "cell_type": "code",
   "execution_count": 11,
   "metadata": {},
   "outputs": [
    {
     "data": {
      "text/plain": [
       "3.5842251112831938"
      ]
     },
     "execution_count": 11,
     "metadata": {},
     "output_type": "execute_result"
    }
   ],
   "source": [
    "sum((X_big[:,50,8]-X_big[:,50,8].mean())**2)"
   ]
  },
  {
   "cell_type": "code",
   "execution_count": 12,
   "metadata": {},
   "outputs": [],
   "source": [
    "import  subprocess\n",
    "import sys\n",
    "import os\n",
    "from PLS1_help_scripts.variable_wave import firstSellectionVariables"
   ]
  },
  {
   "cell_type": "code",
   "execution_count": 13,
   "metadata": {},
   "outputs": [],
   "source": [
    "a=firstSellectionVariables()"
   ]
  },
  {
   "cell_type": "code",
   "execution_count": 14,
   "metadata": {},
   "outputs": [],
   "source": [
    "t=a.variance(X_big.copy())"
   ]
  },
  {
   "cell_type": "code",
   "execution_count": 16,
   "metadata": {},
   "outputs": [],
   "source": [
    "tt=a.selectionExctationWave(X_big.copy(),Xdata_numpy['excitation'],Xdata_numpy['emission'])"
   ]
  },
  {
   "cell_type": "code",
   "execution_count": 17,
   "metadata": {},
   "outputs": [
    {
     "data": {
      "text/plain": [
       "<bound method BaseEstimator.get_params of firstSellectionVariables(var_emission=0.2, var_excitation=0.01)>"
      ]
     },
     "execution_count": 17,
     "metadata": {},
     "output_type": "execute_result"
    }
   ],
   "source": [
    "tt.get_params"
   ]
  },
  {
   "cell_type": "code",
   "execution_count": 18,
   "metadata": {},
   "outputs": [
    {
     "data": {
      "text/plain": [
       "(35, 30, 11)"
      ]
     },
     "execution_count": 18,
     "metadata": {},
     "output_type": "execute_result"
    }
   ],
   "source": [
    "tt.x_new_.shape"
   ]
  },
  {
   "cell_type": "code",
   "execution_count": null,
   "metadata": {},
   "outputs": [],
   "source": []
  }
 ],
 "metadata": {
  "kernelspec": {
   "display_name": "Python 3",
   "language": "python",
   "name": "python3"
  },
  "language_info": {
   "codemirror_mode": {
    "name": "ipython",
    "version": 3
   },
   "file_extension": ".py",
   "mimetype": "text/x-python",
   "name": "python",
   "nbconvert_exporter": "python",
   "pygments_lexer": "ipython3",
   "version": "3.7.4"
  }
 },
 "nbformat": 4,
 "nbformat_minor": 2
}
