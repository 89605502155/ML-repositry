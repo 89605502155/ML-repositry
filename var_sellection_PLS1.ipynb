{
 "cells": [
  {
   "cell_type": "markdown",
   "metadata": {},
   "source": [
    "### Хочу сначала отобрать признаки. Признаки с низкой дисперсией скорее всего менее информативны, поэтому, сначала сделаю отбор по дисперсии. В следующем ноутбуке хочу попробовать SBS алгоритм."
   ]
  },
  {
   "cell_type": "code",
   "execution_count": 5,
   "metadata": {},
   "outputs": [],
   "source": [
    "import numpy as np\n",
    "from gzip import open # NB: overrides standard open()\n",
    "import pickle as pkl\n",
    "import tensorly as tl\n",
    "from tensorly.base import tensor_to_vec,  partial_tensor_to_vec\n",
    "import pandas as pd\n",
    "import warnings \n",
    "import matplotlib.pyplot as plt\n",
    "from sklearn.model_selection import cross_val_score\n",
    "from sklearn.model_selection import cross_validate\n",
    "from sklearn.model_selection import train_test_split\n",
    "from sklearn.cross_decomposition import PLSRegression\n",
    "from sklearn.model_selection import GridSearchCV\n",
    "import matplotlib as mpl\n",
    "from glob import glob\n",
    "import os\n",
    "import math\n",
    "import functools\n",
    "from sklearn.base import BaseEstimator\n",
    "from sklearn.base import RegressorMixin"
   ]
  },
  {
   "cell_type": "code",
   "execution_count": 2,
   "metadata": {},
   "outputs": [],
   "source": [
    "warnings.simplefilter('ignore') # отключим предупреждения Anaconda"
   ]
  },
  {
   "cell_type": "code",
   "execution_count": 55,
   "metadata": {},
   "outputs": [
    {
     "name": "stdout",
     "output_type": "stream",
     "text": [
      "(206,)\n"
     ]
    }
   ],
   "source": [
    "Xdata_numpy = pkl.load(open('C:/Users/admin/Desktop/PLS2021/N-PLS/X_new.pkl.gz', 'rb'))\n",
    "Ydata = pkl.load(open('C:/Users/admin/Desktop/PLS2021/N-PLS/y.pkl.gz', 'rb'))\n",
    "print(Xdata_numpy['emission'].shape)"
   ]
  },
  {
   "cell_type": "code",
   "execution_count": 56,
   "metadata": {},
   "outputs": [
    {
     "data": {
      "text/plain": [
       "array([245., 250., 255., 260., 265., 270., 275., 280., 285., 290., 295.,\n",
       "       300., 305., 310., 315., 320., 325., 330., 335., 340., 345., 350.,\n",
       "       355., 360., 365., 370., 375., 380., 385., 390., 395., 400., 405.,\n",
       "       410., 415., 420., 425., 430., 435., 440., 445., 450., 455., 460.,\n",
       "       465., 470., 475., 480., 485., 490., 495., 500.])"
      ]
     },
     "execution_count": 56,
     "metadata": {},
     "output_type": "execute_result"
    }
   ],
   "source": [
    "Xdata_numpy['excitation']"
   ]
  },
  {
   "cell_type": "code",
   "execution_count": 4,
   "metadata": {},
   "outputs": [],
   "source": [
    "X_big=Xdata_numpy['X']"
   ]
  },
  {
   "cell_type": "code",
   "execution_count": 8,
   "metadata": {},
   "outputs": [
    {
     "data": {
      "text/plain": [
       "(206, 52)"
      ]
     },
     "execution_count": 8,
     "metadata": {},
     "output_type": "execute_result"
    }
   ],
   "source": [
    "(X_big.mean(axis=0)).shape"
   ]
  },
  {
   "cell_type": "code",
   "execution_count": 17,
   "metadata": {},
   "outputs": [
    {
     "data": {
      "text/plain": [
       "array([0.65146595, 1.04989102, 0.45439327, 0.83234159, 0.94569607,\n",
       "       0.87379848, 0.25354816, 1.28721509, 0.75324228, 1.06003262,\n",
       "       0.41105254, 1.05576681, 1.27723665, 1.4299822 , 1.44627517,\n",
       "       0.38409103, 1.28565132, 0.71377399, 0.54094439, 0.53461583,\n",
       "       0.9341003 , 0.98641663, 1.15157006, 0.9252526 , 0.26309461,\n",
       "       0.62352113, 0.85551931, 0.42271355, 0.5376293 , 0.51435184,\n",
       "       0.50412126, 0.84849171, 0.71693687, 0.62951692, 0.82833542])"
      ]
     },
     "execution_count": 17,
     "metadata": {},
     "output_type": "execute_result"
    }
   ],
   "source": [
    "X_big[:,50,8]"
   ]
  },
  {
   "cell_type": "code",
   "execution_count": 18,
   "metadata": {},
   "outputs": [
    {
     "data": {
      "text/plain": [
       "0.7995024560851044"
      ]
     },
     "execution_count": 18,
     "metadata": {},
     "output_type": "execute_result"
    }
   ],
   "source": [
    "X_big[:,50,8].mean()"
   ]
  },
  {
   "cell_type": "code",
   "execution_count": 15,
   "metadata": {},
   "outputs": [
    {
     "data": {
      "text/plain": [
       "array([-0.14803651,  0.25038856, -0.34510918,  0.03283913,  0.14619361,\n",
       "        0.07429603, -0.54595429,  0.48771264, -0.04626018,  0.26053016,\n",
       "       -0.38844991,  0.25626435,  0.47773419,  0.63047974,  0.64677271,\n",
       "       -0.41541142,  0.48614887, -0.08572846, -0.25855807, -0.26488663,\n",
       "        0.13459784,  0.18691417,  0.3520676 ,  0.12575014, -0.53640785,\n",
       "       -0.17598133,  0.05601685, -0.3767889 , -0.26187316, -0.28515062,\n",
       "       -0.2953812 ,  0.04898926, -0.08256559, -0.16998553,  0.02883296])"
      ]
     },
     "execution_count": 15,
     "metadata": {},
     "output_type": "execute_result"
    }
   ],
   "source": [
    "X_big[:,50,8]-X_big[:,50,8].mean()"
   ]
  },
  {
   "cell_type": "code",
   "execution_count": 19,
   "metadata": {},
   "outputs": [
    {
     "data": {
      "text/plain": [
       "array([0.02191481, 0.06269443, 0.11910035, 0.00107841, 0.02137257,\n",
       "       0.0055199 , 0.29806609, 0.23786361, 0.00214   , 0.06787596,\n",
       "       0.15089334, 0.06567142, 0.22822996, 0.39750471, 0.41831494,\n",
       "       0.17256665, 0.23634072, 0.00734937, 0.06685227, 0.07016493,\n",
       "       0.01811658, 0.03493691, 0.1239516 , 0.0158131 , 0.28773338,\n",
       "       0.03096943, 0.00313789, 0.14196988, 0.06857755, 0.08131087,\n",
       "       0.08725005, 0.00239995, 0.00681708, 0.02889508, 0.00083134])"
      ]
     },
     "execution_count": 19,
     "metadata": {},
     "output_type": "execute_result"
    }
   ],
   "source": [
    "(X_big[:,50,8]-X_big[:,50,8].mean())**2"
   ]
  },
  {
   "cell_type": "code",
   "execution_count": 20,
   "metadata": {},
   "outputs": [
    {
     "data": {
      "text/plain": [
       "3.5842251112831938"
      ]
     },
     "execution_count": 20,
     "metadata": {},
     "output_type": "execute_result"
    }
   ],
   "source": [
    "sum((X_big[:,50,8]-X_big[:,50,8].mean())**2)"
   ]
  },
  {
   "cell_type": "code",
   "execution_count": null,
   "metadata": {},
   "outputs": [],
   "source": []
  },
  {
   "cell_type": "code",
   "execution_count": null,
   "metadata": {},
   "outputs": [],
   "source": []
  },
  {
   "cell_type": "code",
   "execution_count": 111,
   "metadata": {},
   "outputs": [],
   "source": [
    "class firstSellectionVariables (BaseEstimator):\n",
    "    def __init__(self, var_excitation=0.01, var_emission=0.2):\n",
    "        self.var_excitation=var_excitation\n",
    "        self.var_emission=var_emission\n",
    "        \n",
    "    def variance(self, x):\n",
    "        dispersion=np.zeros([x.shape[1],x.shape[2]])\n",
    "        for i in range(0, x.shape[1]):\n",
    "            for j in range(0, x.shape[2]):\n",
    "                dispersion[i,j]=(1/x.shape[0])*(sum((x[:,i,j]-x[:,i,j].mean())**2))\n",
    "        self.dispersion=dispersion\n",
    "        \n",
    "    def selectionExctationWave(self,x,waveExcitation, waveEmission):\n",
    "        excitation=dict()\n",
    "        for i in range(0,x.shape[2]):\n",
    "            excitation[max(self.dispersion[:,i])]=i\n",
    "        excitation_var=sorted(excitation, reverse=True)\n",
    "        sortedExcitation=dict()\n",
    "        k=0\n",
    "        while(True):\n",
    "            if (excitation_var[k] < self.var_excitation):\n",
    "                break\n",
    "            sortedExcitation[excitation_var[k]]=excitation[excitation_var[k]]\n",
    "            k+=1\n",
    "        print(sortedExcitation)\n",
    "        wave1=list()\n",
    "        wave1=sorted(sortedExcitation.values())\n",
    "        print(wave1)\n",
    "        x_meta=x[:,:,wave1]\n",
    "        new_excitation=waveExcitation[wave1]\n",
    "        plt.imshow(x_meta[5,:,:], aspect='auto')\n",
    "        plt.show();\n",
    "        print(new_excitation)\n",
    "        \n",
    "        emission=dict()\n",
    "        for i in range(0, x.shape[1]):\n",
    "            emission[max(self.dispersion[i,wave1])]=i\n",
    "        emission_var=sorted(emission, reverse=True)\n",
    "        #print(emission_var)\n",
    "        wave2=list()\n",
    "        k=0\n",
    "        sortedEmission=dict()\n",
    "        while(True):\n",
    "            if (emission_var[k] < self.var_emission):\n",
    "                break\n",
    "            sortedEmission[emission_var[k]]=emission[emission_var[k]]\n",
    "            k+=1\n",
    "        print(sortedEmission)\n",
    "        wave2=sorted(sortedEmission.values())\n",
    "        print(wave2)\n",
    "        x_new_=x_meta[:,wave2,:]\n",
    "        new_emission=waveEmission[wave2]\n",
    "        plt.imshow(x_new_[5,:,:], aspect='auto')\n",
    "        plt.show();\n",
    "        print(new_emission)\n",
    "        self.x_new_=x_new_\n",
    "        self.new_emission=new_emission\n",
    "        self.new_excitation=new_excitation\n",
    "        return self"
   ]
  },
  {
   "cell_type": "code",
   "execution_count": 112,
   "metadata": {},
   "outputs": [],
   "source": [
    "a=firstSellectionVariables()"
   ]
  },
  {
   "cell_type": "code",
   "execution_count": 113,
   "metadata": {},
   "outputs": [],
   "source": [
    "a.variance(X_big.copy())"
   ]
  },
  {
   "cell_type": "code",
   "execution_count": 114,
   "metadata": {},
   "outputs": [
    {
     "name": "stdout",
     "output_type": "stream",
     "text": [
      "{0.5302252138281708: 5, 0.4906916368453562: 4, 0.4590632894247468: 6, 0.4142525017312679: 3, 0.32874194872720225: 2, 0.293389273191901: 7, 0.2374102236292818: 1, 0.1605522917411513: 0, 0.1382565726010714: 8, 0.0459477572661032: 9, 0.011304033659109633: 10}\n",
      "[0, 1, 2, 3, 4, 5, 6, 7, 8, 9, 10]\n"
     ]
    },
    {
     "data": {
      "image/png": "[encoded data removed]",
      "text/plain": [
       "<Figure size 432x288 with 1 Axes>"
      ]
     },
     "metadata": {
      "needs_background": "light"
     },
     "output_type": "display_data"
    },
    {
     "name": "stdout",
     "output_type": "stream",
     "text": [
      "[245. 250. 255. 260. 265. 270. 275. 280. 285. 290. 295.]\n",
      "{0.5302252138281708: 56, 0.5299276402362565: 57, 0.5214309820476697: 55, 0.5212520817613329: 58, 0.51035744173323: 59, 0.5083296950275183: 54, 0.49831853429375417: 60, 0.4893598477177294: 53, 0.4835469804957803: 61, 0.4701781180310853: 52, 0.4510448355355595: 62, 0.43717840380046336: 51, 0.4226275932892278: 63, 0.4117388888447714: 50, 0.39629883542595856: 64, 0.37956781449345084: 49, 0.36291379486549874: 65, 0.3385677542675956: 48, 0.33137964950887977: 66, 0.299991971510546: 47, 0.2966113772688456: 67, 0.2714299817553319: 68, 0.2602746025051181: 46, 0.24186136357928364: 69, 0.2257531801361496: 45, 0.21563273645158096: 30, 0.21506604228809093: 70, 0.20919899829343677: 31, 0.20664339435035795: 29, 0.20440804251051028: 32}\n",
      "[29, 30, 31, 32, 45, 46, 47, 48, 49, 50, 51, 52, 53, 54, 55, 56, 57, 58, 59, 60, 61, 62, 63, 64, 65, 66, 67, 68, 69, 70]\n"
     ]
    },
    {
     "data": {
      "image/png": "[encoded data removed]",
      "text/plain": [
       "<Figure size 432x288 with 1 Axes>"
      ]
     },
     "metadata": {
      "needs_background": "light"
     },
     "output_type": "display_data"
    },
    {
     "name": "stdout",
     "output_type": "stream",
     "text": [
      "[298. 300. 302. 304. 330. 332. 334. 336. 338. 340. 342. 344. 346. 348.\n",
      " 350. 352. 354. 356. 358. 360. 362. 364. 366. 368. 370. 372. 374. 376.\n",
      " 378. 380.]\n"
     ]
    },
    {
     "data": {
      "text/plain": [
       "firstSellectionVariables(var_emission=0.2, var_excitation=0.01)"
      ]
     },
     "execution_count": 114,
     "metadata": {},
     "output_type": "execute_result"
    }
   ],
   "source": [
    "a.selectionExctationWave(X_big.copy(),Xdata_numpy['excitation'],Xdata_numpy['emission'])"
   ]
  },
  {
   "cell_type": "code",
   "execution_count": null,
   "metadata": {},
   "outputs": [],
   "source": []
  }
 ],
 "metadata": {
  "kernelspec": {
   "display_name": "Python 3",
   "language": "python",
   "name": "python3"
  },
  "language_info": {
   "codemirror_mode": {
    "name": "ipython",
    "version": 3
   },
   "file_extension": ".py",
   "mimetype": "text/x-python",
   "name": "python",
   "nbconvert_exporter": "python",
   "pygments_lexer": "ipython3",
   "version": "3.7.4"
  }
 },
 "nbformat": 4,
 "nbformat_minor": 2
}
