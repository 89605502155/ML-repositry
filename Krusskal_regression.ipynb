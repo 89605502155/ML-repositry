{
 "cells": [
  {
   "cell_type": "markdown",
   "metadata": {},
   "source": [
    "# Подготовка к циклу"
   ]
  },
  {
   "cell_type": "code",
   "execution_count": 9,
   "metadata": {},
   "outputs": [],
   "source": [
    "from gzip import open # NB: overrides standard open()\n",
    "import pickle as pkl\n",
    "import tensorly as tl\n",
    "from tensorly.base import tensor_to_vec,  partial_tensor_to_vec\n",
    "import pandas as pd\n",
    "import warnings \n",
    "import matplotlib.pyplot as plt\n",
    "import matplotlib as mpl\n",
    "from sklearn.model_selection import cross_val_score\n",
    "from sklearn.model_selection import cross_validate\n",
    "from sklearn.model_selection import train_test_split\n",
    "from sklearn.base import BaseEstimator\n",
    "from sklearn.metrics import r2_score\n",
    "from tensorly.regression.kruskal_regression import KruskalRegressor\n",
    "from sklearn.model_selection import GridSearchCV\n",
    "import numpy as np\n",
    "import math"
   ]
  },
  {
   "cell_type": "code",
   "execution_count": 10,
   "metadata": {},
   "outputs": [],
   "source": [
    "#формируем логарифмическую шкалу для tol\n",
    "log_space=np.logspace(-6,6,3,endpoint=True)"
   ]
  },
  {
   "cell_type": "code",
   "execution_count": 11,
   "metadata": {},
   "outputs": [],
   "source": [
    "#формируем логарифмическую шкалу для reg_W\n",
    "log_space2=np.logspace(-3,3,7,endpoint=True)"
   ]
  },
  {
   "cell_type": "code",
   "execution_count": 12,
   "metadata": {},
   "outputs": [
    {
     "data": {
      "application/json": {
       "cell": {
        "!": "OSMagics",
        "HTML": "Other",
        "SVG": "Other",
        "bash": "Other",
        "capture": "ExecutionMagics",
        "cmd": "Other",
        "debug": "ExecutionMagics",
        "file": "Other",
        "html": "DisplayMagics",
        "javascript": "DisplayMagics",
        "js": "DisplayMagics",
        "latex": "DisplayMagics",
        "markdown": "DisplayMagics",
        "perl": "Other",
        "prun": "ExecutionMagics",
        "pypy": "Other",
        "python": "Other",
        "python2": "Other",
        "python3": "Other",
        "ruby": "Other",
        "script": "ScriptMagics",
        "sh": "Other",
        "svg": "DisplayMagics",
        "sx": "OSMagics",
        "system": "OSMagics",
        "time": "ExecutionMagics",
        "timeit": "ExecutionMagics",
        "writefile": "OSMagics"
       },
       "line": {
        "alias": "OSMagics",
        "alias_magic": "BasicMagics",
        "autoawait": "AsyncMagics",
        "autocall": "AutoMagics",
        "automagic": "AutoMagics",
        "autosave": "KernelMagics",
        "bookmark": "OSMagics",
        "cd": "OSMagics",
        "clear": "KernelMagics",
        "cls": "KernelMagics",
        "colors": "BasicMagics",
        "conda": "PackagingMagics",
        "config": "ConfigMagics",
        "connect_info": "KernelMagics",
        "copy": "Other",
        "ddir": "Other",
        "debug": "ExecutionMagics",
        "dhist": "OSMagics",
        "dirs": "OSMagics",
        "doctest_mode": "BasicMagics",
        "echo": "Other",
        "ed": "Other",
        "edit": "KernelMagics",
        "env": "OSMagics",
        "gui": "BasicMagics",
        "hist": "Other",
        "history": "HistoryMagics",
        "killbgscripts": "ScriptMagics",
        "ldir": "Other",
        "less": "KernelMagics",
        "load": "CodeMagics",
        "load_ext": "ExtensionMagics",
        "loadpy": "CodeMagics",
        "logoff": "LoggingMagics",
        "logon": "LoggingMagics",
        "logstart": "LoggingMagics",
        "logstate": "LoggingMagics",
        "logstop": "LoggingMagics",
        "ls": "Other",
        "lsmagic": "BasicMagics",
        "macro": "ExecutionMagics",
        "magic": "BasicMagics",
        "matplotlib": "PylabMagics",
        "mkdir": "Other",
        "more": "KernelMagics",
        "notebook": "BasicMagics",
        "page": "BasicMagics",
        "pastebin": "CodeMagics",
        "pdb": "ExecutionMagics",
        "pdef": "NamespaceMagics",
        "pdoc": "NamespaceMagics",
        "pfile": "NamespaceMagics",
        "pinfo": "NamespaceMagics",
        "pinfo2": "NamespaceMagics",
        "pip": "PackagingMagics",
        "popd": "OSMagics",
        "pprint": "BasicMagics",
        "precision": "BasicMagics",
        "prun": "ExecutionMagics",
        "psearch": "NamespaceMagics",
        "psource": "NamespaceMagics",
        "pushd": "OSMagics",
        "pwd": "OSMagics",
        "pycat": "OSMagics",
        "pylab": "PylabMagics",
        "qtconsole": "KernelMagics",
        "quickref": "BasicMagics",
        "recall": "HistoryMagics",
        "rehashx": "OSMagics",
        "reload_ext": "ExtensionMagics",
        "ren": "Other",
        "rep": "Other",
        "rerun": "HistoryMagics",
        "reset": "NamespaceMagics",
        "reset_selective": "NamespaceMagics",
        "rmdir": "Other",
        "run": "ExecutionMagics",
        "save": "CodeMagics",
        "sc": "OSMagics",
        "set_env": "OSMagics",
        "store": "StoreMagics",
        "sx": "OSMagics",
        "system": "OSMagics",
        "tb": "ExecutionMagics",
        "time": "ExecutionMagics",
        "timeit": "ExecutionMagics",
        "unalias": "OSMagics",
        "unload_ext": "ExtensionMagics",
        "who": "NamespaceMagics",
        "who_ls": "NamespaceMagics",
        "whos": "NamespaceMagics",
        "xdel": "NamespaceMagics",
        "xmode": "BasicMagics"
       }
      },
      "text/plain": [
       "Available line magics:\n",
       "%alias  %alias_magic  %autoawait  %autocall  %automagic  %autosave  %bookmark  %cd  %clear  %cls  %colors  %conda  %config  %connect_info  %copy  %ddir  %debug  %dhist  %dirs  %doctest_mode  %echo  %ed  %edit  %env  %gui  %hist  %history  %killbgscripts  %ldir  %less  %load  %load_ext  %loadpy  %logoff  %logon  %logstart  %logstate  %logstop  %ls  %lsmagic  %macro  %magic  %matplotlib  %mkdir  %more  %notebook  %page  %pastebin  %pdb  %pdef  %pdoc  %pfile  %pinfo  %pinfo2  %pip  %popd  %pprint  %precision  %prun  %psearch  %psource  %pushd  %pwd  %pycat  %pylab  %qtconsole  %quickref  %recall  %rehashx  %reload_ext  %ren  %rep  %rerun  %reset  %reset_selective  %rmdir  %run  %save  %sc  %set_env  %store  %sx  %system  %tb  %time  %timeit  %unalias  %unload_ext  %who  %who_ls  %whos  %xdel  %xmode\n",
       "\n",
       "Available cell magics:\n",
       "%%!  %%HTML  %%SVG  %%bash  %%capture  %%cmd  %%debug  %%file  %%html  %%javascript  %%js  %%latex  %%markdown  %%perl  %%prun  %%pypy  %%python  %%python2  %%python3  %%ruby  %%script  %%sh  %%svg  %%sx  %%system  %%time  %%timeit  %%writefile\n",
       "\n",
       "Automagic is ON, % prefix IS NOT needed for line magics."
      ]
     },
     "execution_count": 12,
     "metadata": {},
     "output_type": "execute_result"
    }
   ],
   "source": [
    "%lsmagic"
   ]
  },
  {
   "cell_type": "code",
   "execution_count": 13,
   "metadata": {},
   "outputs": [],
   "source": [
    "warnings.simplefilter('ignore') # отключим предупреждения Anaconda"
   ]
  },
  {
   "cell_type": "markdown",
   "metadata": {},
   "source": [
    "# Непосредственно сама обработка данных"
   ]
  },
  {
   "cell_type": "markdown",
   "metadata": {},
   "source": [
    "## Вынесу класс оборачивающий регрессию в обдельную клетку"
   ]
  },
  {
   "cell_type": "code",
   "execution_count": 6,
   "metadata": {},
   "outputs": [],
   "source": [
    "class WrappedKruskalRegressor(BaseEstimator):\n",
    "\tdef __init__(self, weight_rank = 1, tol = 1e-6, reg_W = 1, n_iter_max = 100):\n",
    "\t\tself.weight_rank = weight_rank\n",
    "\t\tself.tol = tol\n",
    "\t\tself.reg_W = reg_W\n",
    "\t\tself.n_iter_max = n_iter_max\n",
    "\t\n",
    "\tdef fit(self, X, y = None):\n",
    "\t\tself._model = KruskalRegressor(self.weight_rank, self.tol, self.reg_W, self.n_iter_max)\n",
    "\t\tself._model.fit(X, y)\n",
    "\t\tif self._model.n_iterations_ == self.n_iter_max:\n",
    "\t\t\traise Exception('{} did not converge'.format(self))\n",
    "\t\treturn self\n",
    "\t\n",
    "\tdef predict(self, X):\n",
    "\t\treturn self._model.predict(X)\n",
    "\t\n",
    "\tdef score(self, X, y):\n",
    "\t\treturn r2_score(y, self.predict(X))"
   ]
  },
  {
   "cell_type": "markdown",
   "metadata": {},
   "source": [
    "## Начинаем применять класс"
   ]
  },
  {
   "cell_type": "code",
   "execution_count": 7,
   "metadata": {},
   "outputs": [],
   "source": [
    "Xdata_numpy = pkl.load(open('C:/Users/admin/Desktop/88/X.pkl.gz', 'rb'))\n",
    "Ydata = pkl.load(open('C:/Users/admin/Desktop/88/y.pkl.gz', 'rb'))"
   ]
  },
  {
   "cell_type": "code",
   "execution_count": 52,
   "metadata": {},
   "outputs": [
    {
     "name": "stdout",
     "output_type": "stream",
     "text": [
      "<class 'numpy.ndarray'>\n",
      "(25, 3)\n",
      "\n",
      "Converged in 2 iterations\n",
      "\n",
      "Converged in 2 iterations\n",
      "\n",
      "Converged in 2 iterations\n",
      "\n",
      "Converged in 2 iterations\n",
      "\n",
      "Converged in 2 iterations\n",
      "\n",
      "Converged in 2 iterations\n",
      "{'n_iter_max': 30000000, 'reg_W': 1, 'tol': 1000000.0, 'weight_rank': 1}\n",
      "Wall time: 152 ms\n"
     ]
    }
   ],
   "source": [
    "%%time\n",
    "print(type(Xdata_numpy[\"X\"]))\n",
    "\n",
    "#делим набор на обучающий и тестовый\n",
    "X_train, X_test, y_train, y_test = train_test_split(\n",
    "     Xdata_numpy[\"X\"], Ydata, test_size=0.2857 \n",
    ")\n",
    "\n",
    "print( y_train.shape)\n",
    "\n",
    "#начинаем применять\n",
    "regressioModel=WrappedKruskalRegressor()\n",
    "parametrsNames={'n_iter_max': [30000000],\n",
    "                'reg_W': [1],\n",
    "                'tol': [1000000.0],\n",
    "                'weight_rank': [1]\n",
    "               }\n",
    "\n",
    "gridCought=GridSearchCV(regressioModel, parametrsNames, cv=5,return_train_score=True)\n",
    "gridCought.fit(X_train,y_train.iloc[:,2])\n",
    "predictors=gridCought.predict(X_test)\n",
    "\n",
    "print(gridCought.best_params_)"
   ]
  },
  {
   "cell_type": "markdown",
   "metadata": {},
   "source": [
    "## вытащим параметры недоступные решётчатому поиску"
   ]
  },
  {
   "cell_type": "code",
   "execution_count": 59,
   "metadata": {},
   "outputs": [
    {
     "ename": "AttributeError",
     "evalue": "'KruskalRegressor' object has no attribute 'kruskal_loading_'",
     "output_type": "error",
     "traceback": [
      "\u001b[1;31m---------------------------------------------------------------------------\u001b[0m",
      "\u001b[1;31mAttributeError\u001b[0m                            Traceback (most recent call last)",
      "\u001b[1;32m<ipython-input-59-4e40262ee66c>\u001b[0m in \u001b[0;36m<module>\u001b[1;34m\u001b[0m\n\u001b[1;32m----> 1\u001b[1;33m \u001b[0mW\u001b[0m \u001b[1;33m=\u001b[0m \u001b[0mgridCought\u001b[0m\u001b[1;33m.\u001b[0m\u001b[0mbest_estimator_\u001b[0m\u001b[1;33m.\u001b[0m\u001b[0m_model\u001b[0m\u001b[1;33m.\u001b[0m\u001b[0mkruskal_loading_\u001b[0m\u001b[1;33m[\u001b[0m\u001b[1;36m1\u001b[0m\u001b[1;33m]\u001b[0m\u001b[1;33m\u001b[0m\u001b[1;33m\u001b[0m\u001b[0m\n\u001b[0m",
      "\u001b[1;31mAttributeError\u001b[0m: 'KruskalRegressor' object has no attribute 'kruskal_loading_'"
     ]
    }
   ],
   "source": [
    "W = gridCought.best_estimator_._model.kruskal_weight_[1]"
   ]
  },
  {
   "cell_type": "code",
   "execution_count": 61,
   "metadata": {},
   "outputs": [],
   "source": [
    "?gridCought.best_estimator_._model.kruskal_weight_"
   ]
  },
  {
   "cell_type": "code",
   "execution_count": 57,
   "metadata": {},
   "outputs": [
    {
     "data": {
      "text/plain": [
       "(206, 55)"
      ]
     },
     "execution_count": 57,
     "metadata": {},
     "output_type": "execute_result"
    }
   ],
   "source": [
    "np.outer(W[0][:,0], W[1][:,0]).shape"
   ]
  },
  {
   "cell_type": "code",
   "execution_count": 22,
   "metadata": {},
   "outputs": [
    {
     "data": {
      "image/png": "[encoded data removed]",
      "text/plain": [
       "<Figure size 432x288 with 1 Axes>"
      ]
     },
     "metadata": {
      "needs_background": "light"
     },
     "output_type": "display_data"
    },
    {
     "data": {
      "image/png": "[encoded data removed]",
      "text/plain": [
       "<Figure size 432x288 with 4 Axes>"
      ]
     },
     "metadata": {
      "needs_background": "light"
     },
     "output_type": "display_data"
    }
   ],
   "source": [
    "# plot canonical tensor decomposition values for each axis separately\n",
    "\n",
    "fig2, (ax21) = plt.subplots()\n",
    "# assuming that lambda_em and lambda_ex are vectors of wavelengths\n",
    "ax21.plot(Xdata_numpy['emission'], W[0])\n",
    "ax21.plot(Xdata_numpy['excitation'], W[1])\n",
    "ax21.title.set_text('Fitted Kruskal weights')\n",
    "\n",
    "# plot each CPD factor as an imageu\n",
    "\n",
    "fig3, ax30 = plt.subplots(ncols = W[0].shape[1])\n",
    "# for \"convenience\", ncols=1 results in a single object,\n",
    "# while ncols>1 gives us a tuple\n",
    "if type(ax30) is not np.ndarray:\n",
    "        ax30 = ax30,\n",
    "\n",
    "for i in range(W[0].shape[1]):\n",
    "        ax30[i].imshow(np.outer(W[0][:,i], W[1][:,i]), aspect = 'auto')\n",
    "        ax30[i].title.set_text('component {}'.format(i + 1))"
   ]
  },
  {
   "cell_type": "code",
   "execution_count": 58,
   "metadata": {},
   "outputs": [
    {
     "data": {
      "image/png": "[encoded data removed]",
      "text/plain": [
       "<Figure size 864x504 with 2 Axes>"
      ]
     },
     "metadata": {
      "needs_background": "light"
     },
     "output_type": "display_data"
    }
   ],
   "source": [
    "for i in range(0,W[0].shape[1]):\n",
    "    mpl.rc('font',family='Times New Roman')\n",
    "    plt.figure(figsize=(12,7))\n",
    "    plt.imshow(np.outer(W[0][:,i], W[1][:,i]),aspect=\"auto\", origin='lower')\n",
    "\n",
    "    plt.title(\"Weights Trp WrappedKruskalRegressor компонента \"+str(i+1),  {'fontname':'Times New Roman'}, fontsize=28,loc=\"center\" ,pad=15)\n",
    "    plt.ylabel(\"Emission\" , fontsize=25,labelpad=15)\n",
    "    plt.xlabel(\"Excitation\",  fontsize=25,labelpad=15)\n",
    "    plt.yticks(idi,Xdata_numpy['emission'][idi],fontsize=20)\n",
    "    plt.xticks(ind,Xdata_numpy['excitation'][ind], fontsize=20)\n",
    "    cbar = plt.colorbar()\n",
    "    cbar.ax.tick_params(labelsize=20)\n",
    "\n",
    "    plt.savefig('Weights WrappedKruskalRegressor для Trp '+str(i)+'.png', format='png', dpi=1024)\n",
    "plt.show();"
   ]
  },
  {
   "cell_type": "code",
   "execution_count": 34,
   "metadata": {},
   "outputs": [],
   "source": [
    "ind=np.arange(0,55,7)"
   ]
  },
  {
   "cell_type": "code",
   "execution_count": 35,
   "metadata": {},
   "outputs": [],
   "source": [
    "idi=np.arange(0,206,30)"
   ]
  },
  {
   "cell_type": "code",
   "execution_count": null,
   "metadata": {},
   "outputs": [],
   "source": []
  },
  {
   "cell_type": "markdown",
   "metadata": {},
   "source": [
    "### Сохраним результаты, что бы завтра продолжить"
   ]
  },
  {
   "cell_type": "code",
   "execution_count": 9,
   "metadata": {},
   "outputs": [],
   "source": [
    "cvres  = gridCought.cv_results_"
   ]
  },
  {
   "cell_type": "code",
   "execution_count": 10,
   "metadata": {},
   "outputs": [],
   "source": [
    "pkl.dump(cvres,open('C:/Users/admin/Desktop/88/KrusskalRegression_Trp.pkl.gz', 'wb'))"
   ]
  },
  {
   "cell_type": "code",
   "execution_count": 11,
   "metadata": {},
   "outputs": [],
   "source": [
    "pkl.dump(gridCought.best_params_,open('C:/Users/admin/Desktop/88/KrusskalRegression_bestparams_Trp.pkl.gz', 'wb'))"
   ]
  },
  {
   "cell_type": "code",
   "execution_count": 12,
   "metadata": {},
   "outputs": [],
   "source": [
    "pkl.dump(gridCought.best_estimator_,open('C:/Users/admin/Desktop/88/KrusskalRegression_bestestimator_Trp.pkl.gz', 'wb'))"
   ]
  },
  {
   "cell_type": "code",
   "execution_count": 31,
   "metadata": {},
   "outputs": [],
   "source": [
    "pkl.dump(gridCought.score,open('C:/Users/admin/Desktop/88/KrusskalRegression_bestscore_Trp.pkl.gz', 'wb'))"
   ]
  },
  {
   "cell_type": "markdown",
   "metadata": {},
   "source": [
    "### Считаем данные обратно"
   ]
  },
  {
   "cell_type": "code",
   "execution_count": 88,
   "metadata": {},
   "outputs": [],
   "source": [
    "cvr=pkl.load(open('C:/Users/admin/Desktop/88/KrusskalRegression_Tyr.pkl.gz', 'rb'))"
   ]
  },
  {
   "cell_type": "code",
   "execution_count": 89,
   "metadata": {},
   "outputs": [],
   "source": [
    "bestparameters=pkl.load(open('C:/Users/admin/Desktop/88/KrusskalRegression_bestparams_Tyr.pkl.gz', 'rb'))"
   ]
  },
  {
   "cell_type": "code",
   "execution_count": 90,
   "metadata": {},
   "outputs": [],
   "source": [
    "best_estimator=pkl.load(open('C:/Users/admin/Desktop/88/KrusskalRegression_bestestimator_Tyr.pkl.gz', 'rb'))"
   ]
  },
  {
   "cell_type": "code",
   "execution_count": 91,
   "metadata": {},
   "outputs": [],
   "source": [
    "best_score=pkl.load(open('C:/Users/admin/Desktop/88/KrusskalRegression_bestscore_Tyr.pkl.gz', 'rb'))"
   ]
  },
  {
   "cell_type": "markdown",
   "metadata": {},
   "source": [
    "### Готовим данные к постройке графиков нового образца"
   ]
  },
  {
   "cell_type": "markdown",
   "metadata": {},
   "source": [
    "### Делаем метки оси оу"
   ]
  },
  {
   "cell_type": "code",
   "execution_count": 92,
   "metadata": {},
   "outputs": [],
   "source": [
    "ylow=cvr['mean_test_score']"
   ]
  },
  {
   "cell_type": "code",
   "execution_count": 93,
   "metadata": {},
   "outputs": [],
   "source": [
    "ylow2=cvr['mean_train_score']"
   ]
  },
  {
   "cell_type": "code",
   "execution_count": 108,
   "metadata": {},
   "outputs": [],
   "source": [
    "yy=np.arange(-7,2,1)"
   ]
  },
  {
   "cell_type": "code",
   "execution_count": 109,
   "metadata": {},
   "outputs": [
    {
     "data": {
      "text/plain": [
       "array([-7, -6, -5, -4, -3, -2, -1,  0,  1])"
      ]
     },
     "execution_count": 109,
     "metadata": {},
     "output_type": "execute_result"
    }
   ],
   "source": [
    "yy"
   ]
  },
  {
   "cell_type": "code",
   "execution_count": 97,
   "metadata": {},
   "outputs": [
    {
     "data": {
      "text/plain": [
       "{'n_iter_max': 30000000, 'reg_W': 0.01, 'tol': 1.0, 'weight_rank': 4}"
      ]
     },
     "execution_count": 97,
     "metadata": {},
     "output_type": "execute_result"
    }
   ],
   "source": [
    "bestparameters"
   ]
  },
  {
   "cell_type": "code",
   "execution_count": 99,
   "metadata": {},
   "outputs": [
    {
     "data": {
      "text/plain": [
       "0.7642796569021723"
      ]
     },
     "execution_count": 99,
     "metadata": {},
     "output_type": "execute_result"
    }
   ],
   "source": [
    "max(cvr [ \"mean_test_score\" ])"
   ]
  },
  {
   "cell_type": "code",
   "execution_count": 100,
   "metadata": {},
   "outputs": [],
   "source": [
    "reg=[]\n",
    "train=[]\n",
    "test=[]"
   ]
  },
  {
   "cell_type": "code",
   "execution_count": 101,
   "metadata": {},
   "outputs": [
    {
     "name": "stdout",
     "output_type": "stream",
     "text": [
      "0.9999986574979387 0.1709799054119148 {'n_iter_max': 30000000, 'reg_W': 0.001, 'tol': 1e-06, 'weight_rank': 1}\n",
      "0.9999993443053958 0.22830506833379566 {'n_iter_max': 30000000, 'reg_W': 0.001, 'tol': 1e-06, 'weight_rank': 2}\n",
      "0.9999994771228267 0.5771158422630188 {'n_iter_max': 30000000, 'reg_W': 0.001, 'tol': 1e-06, 'weight_rank': 3}\n",
      "0.999999521058721 0.47536970860880357 {'n_iter_max': 30000000, 'reg_W': 0.001, 'tol': 1e-06, 'weight_rank': 4}\n",
      "0.9999995557919334 0.4090113439898924 {'n_iter_max': 30000000, 'reg_W': 0.001, 'tol': 1e-06, 'weight_rank': 5}\n",
      "0.9999745173194612 0.48135973421877176 {'n_iter_max': 30000000, 'reg_W': 0.001, 'tol': 1.0, 'weight_rank': 1}\n",
      "0.9999786754197831 0.25678527855408245 {'n_iter_max': 30000000, 'reg_W': 0.001, 'tol': 1.0, 'weight_rank': 2}\n",
      "0.9999825899008921 0.2965094923952201 {'n_iter_max': 30000000, 'reg_W': 0.001, 'tol': 1.0, 'weight_rank': 3}\n",
      "0.9999808712434299 0.63010441048472 {'n_iter_max': 30000000, 'reg_W': 0.001, 'tol': 1.0, 'weight_rank': 4}\n",
      "0.9999751837541645 0.6442183990859549 {'n_iter_max': 30000000, 'reg_W': 0.001, 'tol': 1.0, 'weight_rank': 5}\n",
      "0.999980194477373 0.4439698080891338 {'n_iter_max': 30000000, 'reg_W': 0.001, 'tol': 1000000.0, 'weight_rank': 1}\n",
      "0.9999743291217026 0.2919085486614988 {'n_iter_max': 30000000, 'reg_W': 0.001, 'tol': 1000000.0, 'weight_rank': 2}\n",
      "0.9999795793049419 0.3199585283686374 {'n_iter_max': 30000000, 'reg_W': 0.001, 'tol': 1000000.0, 'weight_rank': 3}\n",
      "0.9999750847683293 0.46455177403769154 {'n_iter_max': 30000000, 'reg_W': 0.001, 'tol': 1000000.0, 'weight_rank': 4}\n",
      "0.9999820982268595 0.5861224942156839 {'n_iter_max': 30000000, 'reg_W': 0.001, 'tol': 1000000.0, 'weight_rank': 5}\n",
      "0.9998747628282587 0.24618375463955192 {'n_iter_max': 30000000, 'reg_W': 0.01, 'tol': 1e-06, 'weight_rank': 1}\n",
      "0.9999347202969282 0.6395004158049583 {'n_iter_max': 30000000, 'reg_W': 0.01, 'tol': 1e-06, 'weight_rank': 2}\n",
      "0.9999502198460645 0.4767273011789508 {'n_iter_max': 30000000, 'reg_W': 0.01, 'tol': 1e-06, 'weight_rank': 3}\n",
      "0.9999505372285586 0.47497012712653996 {'n_iter_max': 30000000, 'reg_W': 0.01, 'tol': 1e-06, 'weight_rank': 4}\n",
      "0.9999505814003997 0.47630482355807047 {'n_iter_max': 30000000, 'reg_W': 0.01, 'tol': 1e-06, 'weight_rank': 5}\n",
      "0.9993437776626445 0.17844302581313556 {'n_iter_max': 30000000, 'reg_W': 0.01, 'tol': 1.0, 'weight_rank': 1}\n",
      "0.9997123092076249 0.631677044336077 {'n_iter_max': 30000000, 'reg_W': 0.01, 'tol': 1.0, 'weight_rank': 2}\n",
      "0.9998289265818542 0.64325166414618 {'n_iter_max': 30000000, 'reg_W': 0.01, 'tol': 1.0, 'weight_rank': 3}\n",
      "0.999770030566904 0.7642796569021723 {'n_iter_max': 30000000, 'reg_W': 0.01, 'tol': 1.0, 'weight_rank': 4}\n",
      "0.9998313877297044 0.5272753665805271 {'n_iter_max': 30000000, 'reg_W': 0.01, 'tol': 1.0, 'weight_rank': 5}\n",
      "0.9994946356015634 0.4694835838106068 {'n_iter_max': 30000000, 'reg_W': 0.01, 'tol': 1000000.0, 'weight_rank': 1}\n",
      "0.9997498190513946 0.06584587026470187 {'n_iter_max': 30000000, 'reg_W': 0.01, 'tol': 1000000.0, 'weight_rank': 2}\n",
      "0.9998032329433265 0.3788525542703561 {'n_iter_max': 30000000, 'reg_W': 0.01, 'tol': 1000000.0, 'weight_rank': 3}\n",
      "0.999791045786108 0.5500012897135713 {'n_iter_max': 30000000, 'reg_W': 0.01, 'tol': 1000000.0, 'weight_rank': 4}\n",
      "0.9997954505669047 0.32072023864068927 {'n_iter_max': 30000000, 'reg_W': 0.01, 'tol': 1000000.0, 'weight_rank': 5}\n",
      "0.9922653616853989 0.08585287334430282 {'n_iter_max': 30000000, 'reg_W': 0.1, 'tol': 1e-06, 'weight_rank': 1}\n",
      "0.9964399055888954 0.43464313724427817 {'n_iter_max': 30000000, 'reg_W': 0.1, 'tol': 1e-06, 'weight_rank': 2}\n",
      "0.9970003122439401 0.4794791253575049 {'n_iter_max': 30000000, 'reg_W': 0.1, 'tol': 1e-06, 'weight_rank': 3}\n",
      "0.9970003685890013 0.4794785943482001 {'n_iter_max': 30000000, 'reg_W': 0.1, 'tol': 1e-06, 'weight_rank': 4}\n",
      "0.997000331228411 0.4794790703444483 {'n_iter_max': 30000000, 'reg_W': 0.1, 'tol': 1e-06, 'weight_rank': 5}\n",
      "0.9904060434978117 0.26910837537016014 {'n_iter_max': 30000000, 'reg_W': 0.1, 'tol': 1.0, 'weight_rank': 1}\n",
      "0.994799580145993 0.5296898769554543 {'n_iter_max': 30000000, 'reg_W': 0.1, 'tol': 1.0, 'weight_rank': 2}\n",
      "0.9959753579134469 0.4721136959468391 {'n_iter_max': 30000000, 'reg_W': 0.1, 'tol': 1.0, 'weight_rank': 3}\n",
      "0.9967922038714032 0.47496791315443404 {'n_iter_max': 30000000, 'reg_W': 0.1, 'tol': 1.0, 'weight_rank': 4}\n",
      "0.9963739692096361 0.40294537652705087 {'n_iter_max': 30000000, 'reg_W': 0.1, 'tol': 1.0, 'weight_rank': 5}\n",
      "0.986430384055143 -0.05045528531825731 {'n_iter_max': 30000000, 'reg_W': 0.1, 'tol': 1000000.0, 'weight_rank': 1}\n",
      "0.9949384944681536 0.37007853744080665 {'n_iter_max': 30000000, 'reg_W': 0.1, 'tol': 1000000.0, 'weight_rank': 2}\n",
      "0.9963989367487104 0.5797997481639385 {'n_iter_max': 30000000, 'reg_W': 0.1, 'tol': 1000000.0, 'weight_rank': 3}\n",
      "0.9966459352176711 0.41080824241580044 {'n_iter_max': 30000000, 'reg_W': 0.1, 'tol': 1000000.0, 'weight_rank': 4}\n",
      "0.9964148696763802 0.38416758058894485 {'n_iter_max': 30000000, 'reg_W': 0.1, 'tol': 1000000.0, 'weight_rank': 5}\n",
      "0.9275892674109993 0.2552779136837438 {'n_iter_max': 30000000, 'reg_W': 1.0, 'tol': 1e-06, 'weight_rank': 1}\n",
      "0.9400975265936371 0.2586463177107894 {'n_iter_max': 30000000, 'reg_W': 1.0, 'tol': 1e-06, 'weight_rank': 2}\n",
      "0.9401206176005926 0.2583891315732722 {'n_iter_max': 30000000, 'reg_W': 1.0, 'tol': 1e-06, 'weight_rank': 3}\n",
      "0.9400940468466171 0.25843065856531366 {'n_iter_max': 30000000, 'reg_W': 1.0, 'tol': 1e-06, 'weight_rank': 4}\n",
      "0.9400960292924859 0.2584305447237298 {'n_iter_max': 30000000, 'reg_W': 1.0, 'tol': 1e-06, 'weight_rank': 5}\n",
      "0.9092449432479258 0.3510029204431611 {'n_iter_max': 30000000, 'reg_W': 1.0, 'tol': 1.0, 'weight_rank': 1}\n",
      "0.9366425937077395 0.2673120891936856 {'n_iter_max': 30000000, 'reg_W': 1.0, 'tol': 1.0, 'weight_rank': 2}\n",
      "0.9385036793908812 0.2495710070053564 {'n_iter_max': 30000000, 'reg_W': 1.0, 'tol': 1.0, 'weight_rank': 3}\n",
      "0.9415661118755569 0.2575202643812729 {'n_iter_max': 30000000, 'reg_W': 1.0, 'tol': 1.0, 'weight_rank': 4}\n",
      "0.9413389466033072 0.2114506440296962 {'n_iter_max': 30000000, 'reg_W': 1.0, 'tol': 1.0, 'weight_rank': 5}\n",
      "0.8972403793076117 0.18943052790621387 {'n_iter_max': 30000000, 'reg_W': 1.0, 'tol': 1000000.0, 'weight_rank': 1}\n",
      "0.9382841121284915 0.1585504256249585 {'n_iter_max': 30000000, 'reg_W': 1.0, 'tol': 1000000.0, 'weight_rank': 2}\n",
      "0.9358820730729496 0.32327594986804586 {'n_iter_max': 30000000, 'reg_W': 1.0, 'tol': 1000000.0, 'weight_rank': 3}\n",
      "0.941313770559117 0.2575075477006506 {'n_iter_max': 30000000, 'reg_W': 1.0, 'tol': 1000000.0, 'weight_rank': 4}\n",
      "0.940290887673101 0.26058121333952633 {'n_iter_max': 30000000, 'reg_W': 1.0, 'tol': 1000000.0, 'weight_rank': 5}\n",
      "0.6387019947014585 0.028251597648335486 {'n_iter_max': 30000000, 'reg_W': 10.0, 'tol': 1e-06, 'weight_rank': 1}\n",
      "0.6387062352590046 0.028257582147101362 {'n_iter_max': 30000000, 'reg_W': 10.0, 'tol': 1e-06, 'weight_rank': 2}\n",
      "0.6387062280311678 0.028257516952223602 {'n_iter_max': 30000000, 'reg_W': 10.0, 'tol': 1e-06, 'weight_rank': 3}\n",
      "0.6387062605772897 0.02825765103681448 {'n_iter_max': 30000000, 'reg_W': 10.0, 'tol': 1e-06, 'weight_rank': 4}\n",
      "0.6387062578714711 0.028257588580812155 {'n_iter_max': 30000000, 'reg_W': 10.0, 'tol': 1e-06, 'weight_rank': 5}\n",
      "0.6519319504034636 0.2917705751935222 {'n_iter_max': 30000000, 'reg_W': 10.0, 'tol': 1.0, 'weight_rank': 1}\n",
      "0.6744314114276498 0.22508654432669645 {'n_iter_max': 30000000, 'reg_W': 10.0, 'tol': 1.0, 'weight_rank': 2}\n",
      "0.6771433976239257 0.18948711300662197 {'n_iter_max': 30000000, 'reg_W': 10.0, 'tol': 1.0, 'weight_rank': 3}\n",
      "0.6814179991393248 0.15085457148887596 {'n_iter_max': 30000000, 'reg_W': 10.0, 'tol': 1.0, 'weight_rank': 4}\n",
      "0.682521400992542 0.24432726561608317 {'n_iter_max': 30000000, 'reg_W': 10.0, 'tol': 1.0, 'weight_rank': 5}\n",
      "0.6399235062334805 -0.1730613595205834 {'n_iter_max': 30000000, 'reg_W': 10.0, 'tol': 1000000.0, 'weight_rank': 1}\n",
      "0.6922194014732335 0.23447344640333256 {'n_iter_max': 30000000, 'reg_W': 10.0, 'tol': 1000000.0, 'weight_rank': 2}\n",
      "0.689813132885259 0.17292228289038902 {'n_iter_max': 30000000, 'reg_W': 10.0, 'tol': 1000000.0, 'weight_rank': 3}\n",
      "0.6837467517293442 0.22142135339971403 {'n_iter_max': 30000000, 'reg_W': 10.0, 'tol': 1000000.0, 'weight_rank': 4}\n",
      "0.6851830111174486 0.22539907559565614 {'n_iter_max': 30000000, 'reg_W': 10.0, 'tol': 1000000.0, 'weight_rank': 5}\n",
      "-0.22404078033805805 -1.1018892255497035 {'n_iter_max': 30000000, 'reg_W': 100.0, 'tol': 1e-06, 'weight_rank': 1}\n",
      "-0.22404036991035364 -1.1018895238831699 {'n_iter_max': 30000000, 'reg_W': 100.0, 'tol': 1e-06, 'weight_rank': 2}\n",
      "-0.22404019298955605 -1.1018880849829005 {'n_iter_max': 30000000, 'reg_W': 100.0, 'tol': 1e-06, 'weight_rank': 3}\n",
      "-0.22404018751644514 -1.1018892882134663 {'n_iter_max': 30000000, 'reg_W': 100.0, 'tol': 1e-06, 'weight_rank': 4}\n",
      "-0.2240402892404631 -1.101890027833348 {'n_iter_max': 30000000, 'reg_W': 100.0, 'tol': 1e-06, 'weight_rank': 5}\n",
      "-0.21798853370929802 -1.2477023016196016 {'n_iter_max': 30000000, 'reg_W': 100.0, 'tol': 1.0, 'weight_rank': 1}\n",
      "-0.1968285544527238 -0.9319723870389098 {'n_iter_max': 30000000, 'reg_W': 100.0, 'tol': 1.0, 'weight_rank': 2}\n",
      "-0.20272840283251817 -0.8535241932121628 {'n_iter_max': 30000000, 'reg_W': 100.0, 'tol': 1.0, 'weight_rank': 3}\n",
      "-0.19930331265646614 -0.8818606570797927 {'n_iter_max': 30000000, 'reg_W': 100.0, 'tol': 1.0, 'weight_rank': 4}\n",
      "-0.19908473471959026 -0.9080428834102673 {'n_iter_max': 30000000, 'reg_W': 100.0, 'tol': 1.0, 'weight_rank': 5}\n",
      "-0.23039420346212344 -1.2637116357836602 {'n_iter_max': 30000000, 'reg_W': 100.0, 'tol': 1000000.0, 'weight_rank': 1}\n",
      "-0.20145083650430462 -0.8346415159910577 {'n_iter_max': 30000000, 'reg_W': 100.0, 'tol': 1000000.0, 'weight_rank': 2}\n",
      "-0.20232101589239213 -0.8329575997125928 {'n_iter_max': 30000000, 'reg_W': 100.0, 'tol': 1000000.0, 'weight_rank': 3}\n",
      "-0.20466473724282902 -0.8260324662344765 {'n_iter_max': 30000000, 'reg_W': 100.0, 'tol': 1000000.0, 'weight_rank': 4}\n",
      "-0.19696141922869922 -0.8657301070828112 {'n_iter_max': 30000000, 'reg_W': 100.0, 'tol': 1000000.0, 'weight_rank': 5}\n",
      "-3.415204727670725 -4.732002126477398 {'n_iter_max': 30000000, 'reg_W': 1000.0, 'tol': 1e-06, 'weight_rank': 1}\n",
      "-3.4152051117592466 -4.73200263626241 {'n_iter_max': 30000000, 'reg_W': 1000.0, 'tol': 1e-06, 'weight_rank': 2}\n",
      "-3.4152053416701875 -4.732003127748609 {'n_iter_max': 30000000, 'reg_W': 1000.0, 'tol': 1e-06, 'weight_rank': 3}\n",
      "-3.4152052767789103 -4.732002984560879 {'n_iter_max': 30000000, 'reg_W': 1000.0, 'tol': 1e-06, 'weight_rank': 4}\n",
      "-3.415205384205856 -4.732003177211151 {'n_iter_max': 30000000, 'reg_W': 1000.0, 'tol': 1e-06, 'weight_rank': 5}\n",
      "-3.6876263786978534 -5.064276290794456 {'n_iter_max': 30000000, 'reg_W': 1000.0, 'tol': 1.0, 'weight_rank': 1}\n",
      "-3.6093137093641956 -4.987941604927771 {'n_iter_max': 30000000, 'reg_W': 1000.0, 'tol': 1.0, 'weight_rank': 2}\n",
      "-3.838557807617827 -5.300972855332878 {'n_iter_max': 30000000, 'reg_W': 1000.0, 'tol': 1.0, 'weight_rank': 3}\n",
      "-4.0184075892950615 -5.656245682669197 {'n_iter_max': 30000000, 'reg_W': 1000.0, 'tol': 1.0, 'weight_rank': 4}\n",
      "-4.1395752802346575 -5.963217447251975 {'n_iter_max': 30000000, 'reg_W': 1000.0, 'tol': 1.0, 'weight_rank': 5}\n",
      "-3.5888482712629206 -5.029099211374421 {'n_iter_max': 30000000, 'reg_W': 1000.0, 'tol': 1000000.0, 'weight_rank': 1}\n",
      "-3.633427836038244 -5.012863071206311 {'n_iter_max': 30000000, 'reg_W': 1000.0, 'tol': 1000000.0, 'weight_rank': 2}\n",
      "-3.8423643750641916 -5.392362293174487 {'n_iter_max': 30000000, 'reg_W': 1000.0, 'tol': 1000000.0, 'weight_rank': 3}\n",
      "-3.9507417230380404 -5.638106943863359 {'n_iter_max': 30000000, 'reg_W': 1000.0, 'tol': 1000000.0, 'weight_rank': 4}\n",
      "-4.127971755320312 -5.7858607979179215 {'n_iter_max': 30000000, 'reg_W': 1000.0, 'tol': 1000000.0, 'weight_rank': 5}\n"
     ]
    }
   ],
   "source": [
    "for mm,mean_score,  params  in zip(cvr [ \"mean_train_score\" ], cvr [ \"mean_test_score\" ], \n",
    "                                    cvr [ \"params\" ]\n",
    "                                    ): \n",
    "    reg+=[params['reg_W']]\n",
    "    train+=[mm]\n",
    "    test+=[mean_score]\n",
    "    print (mm,mean_score , params)"
   ]
  },
  {
   "cell_type": "markdown",
   "metadata": {},
   "source": [
    "### Делаем метки оси ох"
   ]
  },
  {
   "cell_type": "code",
   "execution_count": 102,
   "metadata": {},
   "outputs": [],
   "source": [
    "xx=np.arange(-20,120,20)"
   ]
  },
  {
   "cell_type": "code",
   "execution_count": 116,
   "metadata": {},
   "outputs": [],
   "source": [
    "xlab=[]\n",
    "xlab6=np.arange(-4,8,1)\n",
    "xlab2=[]"
   ]
  },
  {
   "cell_type": "code",
   "execution_count": 117,
   "metadata": {},
   "outputs": [],
   "source": [
    "for i in range(0,len(reg)):\n",
    "    xlab2+=[math.log10(reg[i])]"
   ]
  },
  {
   "cell_type": "code",
   "execution_count": 118,
   "metadata": {},
   "outputs": [],
   "source": [
    "for i in np.arange(0,len(reg),16):\n",
    "    xlab+=[math.log10(reg[i])]"
   ]
  },
  {
   "cell_type": "code",
   "execution_count": 119,
   "metadata": {},
   "outputs": [
    {
     "data": {
      "text/plain": [
       "array([-4, -3, -2, -1,  0,  1,  2,  3,  4,  5,  6,  7])"
      ]
     },
     "execution_count": 119,
     "metadata": {},
     "output_type": "execute_result"
    }
   ],
   "source": [
    "xlab6"
   ]
  },
  {
   "cell_type": "markdown",
   "metadata": {},
   "source": [
    "# Графики нового образца"
   ]
  },
  {
   "cell_type": "code",
   "execution_count": 121,
   "metadata": {},
   "outputs": [
    {
     "data": {
      "image/png": "[encoded data removed]",
      "text/plain": [
       "<Figure size 864x504 with 1 Axes>"
      ]
     },
     "metadata": {
      "needs_background": "light"
     },
     "output_type": "display_data"
    }
   ],
   "source": [
    "mpl.rc('font',family='Times New Roman')\n",
    "fig, axs = plt.subplots(figsize=(12, 7))\n",
    "axs.plot(xlab2,test,\".\",color=\"red\",ms=7,label=\"meam_test_score\")\n",
    "axs.plot(xlab2,train,\".\",color=\"blue\",ms=7,label=\"meam_train_score\")\n",
    "axs.set_ylabel('Score',  fontsize=25,labelpad=12)\n",
    "axs.grid(color=\"black\",linewidth=0.7)\n",
    "axs.set_xlabel(\"lg(reg_W)\",  fontsize=25,labelpad=15)\n",
    "axs.set_title(\"Зависимость score от значения reg_W для Tyr\", fontsize=28,loc=\"center\" ,pad=15)\n",
    "axs.tick_params(which='major', length=10, width=2)\n",
    "axs.set_xticklabels(xlab6, fontsize=20)\n",
    "axs.set_yticklabels(yy, fontsize=20)\n",
    "axs.get_xaxis().set_tick_params(direction='in')\n",
    "axs.get_yaxis().set_tick_params(direction='in')\n",
    "axs.legend(fontsize=20, markerscale=5,handletextpad=0)\n",
    "\n",
    "plt.savefig('Зависимость ошибки от параметров для Kruskal_Tyr.png', format='png', dpi=1024)\n",
    "plt.show();"
   ]
  },
  {
   "cell_type": "code",
   "execution_count": null,
   "metadata": {},
   "outputs": [],
   "source": [
    "axs.set_xticklabels(xlab, fontsize=20)"
   ]
  },
  {
   "cell_type": "code",
   "execution_count": null,
   "metadata": {},
   "outputs": [],
   "source": [
    "axs.set_xticklabels(xlab6, fontsize=20)\n",
    "axs.set_yticklabels(yy, fontsize=20)"
   ]
  },
  {
   "cell_type": "code",
   "execution_count": null,
   "metadata": {},
   "outputs": [],
   "source": []
  },
  {
   "cell_type": "markdown",
   "metadata": {},
   "source": [
    "### Строим графики предикт референс новые"
   ]
  },
  {
   "cell_type": "code",
   "execution_count": 129,
   "metadata": {},
   "outputs": [
    {
     "data": {
      "image/png": "[encoded data removed]",
      "text/plain": [
       "<Figure size 864x504 with 1 Axes>"
      ]
     },
     "metadata": {
      "needs_background": "light"
     },
     "output_type": "display_data"
    }
   ],
   "source": [
    "mpl.rc('font',family='Times New Roman')\n",
    "fig, axs = plt.subplots(figsize=(12, 7))\n",
    "axs.plot(y_test.iloc[:,1],predictors,\".\",color=\"red\",ms=40)\n",
    "axs.plot(y_test.iloc[:,1],y_test.iloc[:,1],color=\"blue\",lw=5)\n",
    "axs.set_ylabel(\"Предсказанные значения\" , fontsize=25,labelpad=8)\n",
    "axs.grid(color=\"black\",linewidth=0.7)\n",
    "axs.set_xlabel(\"Истинные значения\",  fontsize=25,labelpad=15)\n",
    "axs.set_title(\"График predicted-reference KrusskalRegression Tyr\", fontsize=28,loc=\"center\" ,pad=15)\n",
    "axs.tick_params(which='major', length=10, width=2)\n",
    "axs.set_xticklabels(xlab6, fontsize=20)\n",
    "axs.set_yticklabels(yy, fontsize=20)\n",
    "axs.get_xaxis().set_tick_params(direction='in')\n",
    "axs.get_yaxis().set_tick_params(direction='in')\n",
    "plt.savefig('График predicted-reference krusskal Tyr.png', format='png', dpi=1024)\n",
    "plt.show();"
   ]
  },
  {
   "cell_type": "code",
   "execution_count": 124,
   "metadata": {},
   "outputs": [],
   "source": [
    "xlab6=np.arange(0.5,5.5,0.5)"
   ]
  },
  {
   "cell_type": "code",
   "execution_count": 125,
   "metadata": {},
   "outputs": [],
   "source": [
    "yy=np.arange(-1,6,1)"
   ]
  },
  {
   "cell_type": "code",
   "execution_count": null,
   "metadata": {},
   "outputs": [],
   "source": [
    "axs.set_xticklabels(xlab6, fontsize=20)\n",
    "axs.set_yticklabels(yy, fontsize=20)"
   ]
  },
  {
   "cell_type": "code",
   "execution_count": 35,
   "metadata": {},
   "outputs": [
    {
     "data": {
      "text/plain": [
       "array([3.71558649, 4.11922293, 2.90014398, 2.17650122, 2.57608838,\n",
       "       2.71275246, 1.03353344, 3.10845509, 1.84088127, 2.68049709])"
      ]
     },
     "execution_count": 35,
     "metadata": {},
     "output_type": "execute_result"
    }
   ],
   "source": [
    "predictors"
   ]
  },
  {
   "cell_type": "code",
   "execution_count": null,
   "metadata": {},
   "outputs": [],
   "source": []
  },
  {
   "cell_type": "code",
   "execution_count": null,
   "metadata": {},
   "outputs": [],
   "source": []
  },
  {
   "cell_type": "code",
   "execution_count": null,
   "metadata": {},
   "outputs": [],
   "source": []
  },
  {
   "cell_type": "code",
   "execution_count": null,
   "metadata": {},
   "outputs": [],
   "source": []
  },
  {
   "cell_type": "code",
   "execution_count": null,
   "metadata": {},
   "outputs": [],
   "source": []
  },
  {
   "cell_type": "code",
   "execution_count": null,
   "metadata": {},
   "outputs": [],
   "source": []
  },
  {
   "cell_type": "markdown",
   "metadata": {},
   "source": [
    "# Предыдущие наработки"
   ]
  },
  {
   "cell_type": "code",
   "execution_count": 1,
   "metadata": {},
   "outputs": [
    {
     "ename": "NameError",
     "evalue": "name 'gridCought' is not defined",
     "output_type": "error",
     "traceback": [
      "\u001b[1;31m---------------------------------------------------------------------------\u001b[0m",
      "\u001b[1;31mNameError\u001b[0m                                 Traceback (most recent call last)",
      "\u001b[1;32m<ipython-input-1-cbf470f58690>\u001b[0m in \u001b[0;36m<module>\u001b[1;34m\u001b[0m\n\u001b[1;32m----> 1\u001b[1;33m \u001b[0mgridCought\u001b[0m\u001b[1;33m.\u001b[0m\u001b[0mbest_estimator_\u001b[0m\u001b[1;33m\u001b[0m\u001b[1;33m\u001b[0m\u001b[0m\n\u001b[0m",
      "\u001b[1;31mNameError\u001b[0m: name 'gridCought' is not defined"
     ]
    }
   ],
   "source": [
    "gridCought.best_estimator_"
   ]
  },
  {
   "cell_type": "code",
   "execution_count": 38,
   "metadata": {},
   "outputs": [
    {
     "data": {
      "text/plain": [
       "0.7036271555621243"
      ]
     },
     "execution_count": 38,
     "metadata": {},
     "output_type": "execute_result"
    }
   ],
   "source": [
    "gridCought.score(X_test, y_test.iloc[:,0])"
   ]
  },
  {
   "cell_type": "code",
   "execution_count": 39,
   "metadata": {},
   "outputs": [
    {
     "data": {
      "image/png": "[encoded data removed]",
      "text/plain": [
       "<Figure size 432x288 with 1 Axes>"
      ]
     },
     "metadata": {
      "needs_background": "light"
     },
     "output_type": "display_data"
    }
   ],
   "source": [
    "plt.plot(y_test.iloc[:,0],y_test.iloc[:,0],color=\"blue\")\n",
    "plt.plot(y_test.iloc[:,0],predictors,\".\",color=\"red\")\n",
    "plt.xlabel(\"Истинные значения\",fontsize=12)\n",
    "plt.ylabel(\"Предсказанные значения\", fontsize=12)\n",
    "plt.grid()\n",
    "plt.show();"
   ]
  },
  {
   "cell_type": "code",
   "execution_count": 40,
   "metadata": {},
   "outputs": [
    {
     "data": {
      "text/plain": [
       "<function sklearn.metrics.scorer._passthrough_scorer(estimator, *args, **kwargs)>"
      ]
     },
     "execution_count": 40,
     "metadata": {},
     "output_type": "execute_result"
    }
   ],
   "source": [
    "gridCought.scorer_"
   ]
  },
  {
   "cell_type": "code",
   "execution_count": 41,
   "metadata": {},
   "outputs": [
    {
     "data": {
      "text/plain": [
       "<bound method BaseSearchCV.score of GridSearchCV(cv=5, error_score='raise-deprecating',\n",
       "             estimator=WrappedKruskalRegressor(n_iter_max=100, reg_W=1,\n",
       "                                               tol=1e-06, weight_rank=1),\n",
       "             iid='warn', n_jobs=None,\n",
       "             param_grid={'n_iter_max': [300000],\n",
       "                         'reg_W': array([1.e-06, 1.e-03, 1.e+00, 1.e+03]),\n",
       "                         'tol': array([1.e-06, 1.e+00, 1.e+06]),\n",
       "                         'weight_rank': range(1, 6)},\n",
       "             pre_dispatch='2*n_jobs', refit=True, return_train_score=True,\n",
       "             scoring=None, verbose=0)>"
      ]
     },
     "execution_count": 41,
     "metadata": {},
     "output_type": "execute_result"
    }
   ],
   "source": [
    "gridCought.score"
   ]
  },
  {
   "cell_type": "code",
   "execution_count": 60,
   "metadata": {},
   "outputs": [
    {
     "data": {
      "text/plain": [
       "{'mean_fit_time': array([1.84724365e+02, 1.33805616e+02, 7.06979847e-01, 1.28220963e+00,\n",
       "        2.97970438e+00, 1.67442322e-02, 6.54746056e-02, 1.34457350e-01,\n",
       "        2.11561823e-01, 3.44115114e-01, 1.73454285e-02, 6.96840763e-02,\n",
       "        1.32151461e-01, 2.83754110e-01, 3.44538546e-01, 2.84757390e+00,\n",
       "        3.68797728e+01, 1.01356579e+03, 1.20347384e+02, 1.66959630e+03,\n",
       "        2.14593410e-02, 5.55526733e-02, 9.77586746e-02, 1.65989923e-01,\n",
       "        2.62022829e-01, 1.23339653e-02, 5.10396957e-02, 1.01077414e-01,\n",
       "        1.66020155e-01, 2.60557079e-01, 6.08659060e+01, 2.72349798e+02,\n",
       "        4.48102086e+02, 2.19639480e+02, 2.05719359e+02, 1.62418842e-02,\n",
       "        6.38705254e-02, 1.20519781e-01, 1.97625637e-01, 3.64067650e-01,\n",
       "        1.34350300e-02, 5.95587730e-02, 1.19217348e-01, 1.93515301e-01,\n",
       "        3.04209852e-01, 6.39317134e+01, 5.40228164e+01, 3.28180871e+01,\n",
       "        4.06642649e+01, 7.45927350e+01, 1.44412518e-02, 6.65765762e-02,\n",
       "        1.35760689e-01, 2.16475201e-01, 3.10226297e-01, 1.34347916e-02,\n",
       "        7.44967461e-02, 1.35860634e-01, 2.25300360e-01, 3.26970577e-01,\n",
       "        4.49214721e+00, 4.19748745e+00, 5.26149373e+00, 7.69008031e+00,\n",
       "        1.18733417e+01, 1.34376049e-02, 5.60491562e-02, 1.09892893e-01,\n",
       "        1.80379820e-01, 2.90270901e-01, 1.38367176e-02, 5.53467751e-02,\n",
       "        1.10895109e-01, 1.87699175e-01, 2.88461876e-01, 2.83474889e+00,\n",
       "        6.53031378e+00, 1.23224010e+01, 2.20311120e+01, 3.07476424e+01,\n",
       "        1.49398804e-02, 6.06626034e-02, 1.09591627e-01, 1.88907909e-01,\n",
       "        3.10926867e-01, 1.43387318e-02, 5.54548264e-02, 1.15708637e-01,\n",
       "        1.83791113e-01, 2.85359812e-01, 1.47191143e-01, 7.53296804e-01,\n",
       "        1.66404791e+00, 2.89131265e+00, 3.82307611e+00, 1.32372379e-02,\n",
       "        5.58538437e-02, 1.11598253e-01, 1.79073191e-01, 2.88467073e-01,\n",
       "        1.36364937e-02, 5.46458721e-02, 1.14303350e-01, 1.86896896e-01,\n",
       "        2.86362696e-01]),\n",
       " 'std_fit_time': array([9.16821806e+01, 2.03231884e+02, 2.98688684e-01, 5.55070139e-01,\n",
       "        1.43107661e+00, 1.08016048e-03, 2.79400371e-03, 6.16800484e-03,\n",
       "        3.36962322e-03, 3.08417646e-03, 1.36803265e-03, 4.75693614e-03,\n",
       "        9.64601119e-03, 8.57812547e-03, 1.33280295e-02, 3.33235769e+00,\n",
       "        3.83722444e+01, 1.83837572e+03, 1.05469643e+02, 1.82659360e+03,\n",
       "        1.58500932e-02, 4.42092498e-03, 1.17444507e-03, 4.49124061e-03,\n",
       "        6.52607448e-03, 7.50108555e-04, 3.43498145e-03, 3.06640951e-03,\n",
       "        8.90843243e-03, 4.86133420e-03, 6.04877602e+01, 2.32188284e+02,\n",
       "        2.84595433e+02, 3.98080481e+02, 3.46605735e+02, 3.08541001e-03,\n",
       "        7.08719200e-03, 8.31282171e-03, 1.18529668e-02, 3.31931540e-02,\n",
       "        2.44287577e-03, 4.34022970e-03, 1.00332500e-02, 8.71199482e-03,\n",
       "        1.25963003e-02, 4.46012526e+01, 3.24688165e+01, 1.09044364e+01,\n",
       "        1.94948882e+01, 4.67998869e+01, 2.85924450e-03, 8.89688461e-03,\n",
       "        6.69111154e-03, 1.94865939e-02, 2.07427000e-02, 1.28429459e-03,\n",
       "        1.44455813e-02, 1.59582347e-02, 2.92146917e-02, 3.16148785e-02,\n",
       "        4.47578798e+00, 1.85481660e+00, 2.98545403e+00, 3.84083145e+00,\n",
       "        6.74829211e+00, 1.83278048e-03, 6.22466728e-03, 2.31740557e-03,\n",
       "        6.85367445e-03, 8.87240970e-03, 1.25227683e-03, 4.80229953e-03,\n",
       "        6.24044487e-03, 4.64542527e-03, 1.02526621e-02, 9.94144755e-01,\n",
       "        2.32405837e+00, 7.71333124e+00, 1.03040051e+01, 1.80283833e+01,\n",
       "        1.39672291e-03, 5.11213505e-03, 6.67050212e-03, 3.25891901e-03,\n",
       "        2.28176153e-02, 3.19494588e-03, 4.26854042e-03, 6.56856218e-03,\n",
       "        1.12554596e-02, 5.76391755e-03, 2.48823905e-02, 6.11310474e-02,\n",
       "        3.47612578e-01, 2.55450877e-01, 3.51661759e-01, 1.36637255e-03,\n",
       "        3.61847807e-03, 5.31433369e-03, 9.12679028e-03, 4.61264192e-03,\n",
       "        1.32208270e-03, 4.02372896e-03, 3.58797235e-03, 1.02710456e-02,\n",
       "        7.59292265e-03]),\n",
       " 'mean_score_time': array([0.0012033 , 0.00230579, 0.00130382, 0.00070219, 0.00120192,\n",
       "        0.00100317, 0.00100231, 0.00110288, 0.00100331, 0.00100284,\n",
       "        0.00080252, 0.00120316, 0.0013041 , 0.00170527, 0.00100355,\n",
       "        0.0010025 , 0.0011035 , 0.00611668, 0.00260649, 0.01483836,\n",
       "        0.00060091, 0.00110369, 0.00100427, 0.00230937, 0.00080953,\n",
       "        0.000703  , 0.00050297, 0.00060167, 0.00120349, 0.00210557,\n",
       "        0.00090241, 0.00711932, 0.00741949, 0.0036098 , 0.00451055,\n",
       "        0.00110593, 0.00140319, 0.00070186, 0.00090232, 0.00090222,\n",
       "        0.00110264, 0.00080209, 0.00260701, 0.00100217, 0.00100222,\n",
       "        0.00130181, 0.00080247, 0.001403  , 0.00100293, 0.00161028,\n",
       "        0.00110216, 0.00110393, 0.0011035 , 0.00290909, 0.00090184,\n",
       "        0.00131102, 0.0018055 , 0.00280714, 0.00130324, 0.00090241,\n",
       "        0.00120883, 0.00099859, 0.00150437, 0.00070205, 0.00090199,\n",
       "        0.00191002, 0.00100284, 0.00120387, 0.00201144, 0.00201159,\n",
       "        0.00080242, 0.00100379, 0.00110345, 0.00160375, 0.00100274,\n",
       "        0.0006959 , 0.00240397, 0.00080242, 0.00200477, 0.00100307,\n",
       "        0.0020061 , 0.00090337, 0.00190563, 0.00150409, 0.00341063,\n",
       "        0.00220528, 0.00099692, 0.00240488, 0.00090041, 0.00231128,\n",
       "        0.00220618, 0.00121121, 0.00089726, 0.00110741, 0.00080252,\n",
       "        0.00210338, 0.00129728, 0.00080571, 0.00070257, 0.0009028 ,\n",
       "        0.00070176, 0.00100327, 0.00210667, 0.00140405, 0.00201654]),\n",
       " 'std_score_time': array([4.01378538e-04, 1.96993403e-03, 6.80215846e-04, 2.45049784e-04,\n",
       "        5.11186901e-04, 8.34124359e-07, 3.16810084e-04, 4.91351791e-04,\n",
       "        1.16215302e-06, 3.16206586e-04, 2.45573822e-04, 4.01091700e-04,\n",
       "        6.80405780e-04, 8.74856951e-04, 5.49251177e-04, 2.04762559e-06,\n",
       "        2.01416580e-04, 9.48393024e-03, 2.73479881e-03, 9.02876934e-03,\n",
       "        8.01432294e-04, 4.91187232e-04, 6.34672629e-04, 2.60672775e-03,\n",
       "        4.04896119e-04, 4.01844811e-04, 4.49797451e-04, 4.91264143e-04,\n",
       "        4.00568797e-04, 2.20663571e-03, 3.75312284e-04, 7.76996168e-03,\n",
       "        5.77235823e-03, 5.21318915e-03, 6.52120781e-03, 7.41699325e-04,\n",
       "        8.62825402e-04, 2.45515549e-04, 2.00465063e-04, 2.00535362e-04,\n",
       "        2.00774742e-04, 2.44931406e-04, 1.56625326e-03, 3.16886244e-04,\n",
       "        3.16658097e-04, 5.09823564e-04, 2.45242937e-04, 7.36676999e-04,\n",
       "        3.17564798e-04, 5.90233688e-04, 7.37716005e-04, 2.00724623e-04,\n",
       "        3.75413189e-04, 2.38384223e-03, 2.00585369e-04, 3.96996457e-04,\n",
       "        6.80721952e-04, 2.34401088e-03, 6.01586883e-04, 3.75503071e-04,\n",
       "        5.10231477e-04, 3.05627124e-04, 1.00426793e-03, 4.00474139e-04,\n",
       "        2.00536949e-04, 2.31272952e-03, 3.17638887e-04, 6.80710131e-04,\n",
       "        2.51308015e-03, 2.29922613e-03, 2.45399165e-04, 3.17866295e-04,\n",
       "        3.74279974e-04, 7.37318445e-04, 5.48510042e-04, 2.37884610e-04,\n",
       "        2.56413671e-03, 2.44232650e-04, 2.26354913e-03, 5.49686956e-04,\n",
       "        2.28573807e-03, 4.91147412e-04, 2.33821418e-03, 3.10469644e-04,\n",
       "        2.27271024e-03, 2.40533365e-03, 1.21126024e-05, 2.13499534e-03,\n",
       "        3.73637761e-04, 2.20789064e-03, 2.21026238e-03, 6.81965869e-04,\n",
       "        3.73162006e-04, 4.89968740e-04, 2.46064653e-04, 2.46490960e-03,\n",
       "        5.02330812e-04, 2.49002912e-04, 2.46196774e-04, 3.74904118e-04,\n",
       "        2.45496803e-04, 1.31454933e-06, 2.20561263e-03, 1.07085495e-03,\n",
       "        2.25888420e-03]),\n",
       " 'param_n_iter_max': masked_array(data=[300000, 300000, 300000, 300000, 300000, 300000, 300000,\n",
       "                    300000, 300000, 300000, 300000, 300000, 300000, 300000,\n",
       "                    300000, 300000, 300000, 300000, 300000, 300000, 300000,\n",
       "                    300000, 300000, 300000, 300000, 300000, 300000, 300000,\n",
       "                    300000, 300000, 300000, 300000, 300000, 300000, 300000,\n",
       "                    300000, 300000, 300000, 300000, 300000, 300000, 300000,\n",
       "                    300000, 300000, 300000, 300000, 300000, 300000, 300000,\n",
       "                    300000, 300000, 300000, 300000, 300000, 300000, 300000,\n",
       "                    300000, 300000, 300000, 300000, 300000, 300000, 300000,\n",
       "                    300000, 300000, 300000, 300000, 300000, 300000, 300000,\n",
       "                    300000, 300000, 300000, 300000, 300000, 300000, 300000,\n",
       "                    300000, 300000, 300000, 300000, 300000, 300000, 300000,\n",
       "                    300000, 300000, 300000, 300000, 300000, 300000, 300000,\n",
       "                    300000, 300000, 300000, 300000, 300000, 300000, 300000,\n",
       "                    300000, 300000, 300000, 300000, 300000, 300000, 300000],\n",
       "              mask=[False, False, False, False, False, False, False, False,\n",
       "                    False, False, False, False, False, False, False, False,\n",
       "                    False, False, False, False, False, False, False, False,\n",
       "                    False, False, False, False, False, False, False, False,\n",
       "                    False, False, False, False, False, False, False, False,\n",
       "                    False, False, False, False, False, False, False, False,\n",
       "                    False, False, False, False, False, False, False, False,\n",
       "                    False, False, False, False, False, False, False, False,\n",
       "                    False, False, False, False, False, False, False, False,\n",
       "                    False, False, False, False, False, False, False, False,\n",
       "                    False, False, False, False, False, False, False, False,\n",
       "                    False, False, False, False, False, False, False, False,\n",
       "                    False, False, False, False, False, False, False, False,\n",
       "                    False],\n",
       "        fill_value='?',\n",
       "             dtype=object),\n",
       " 'param_reg_W': masked_array(data=[1e-06, 1e-06, 1e-06, 1e-06, 1e-06, 1e-06, 1e-06, 1e-06,\n",
       "                    1e-06, 1e-06, 1e-06, 1e-06, 1e-06, 1e-06, 1e-06,\n",
       "                    3.1622776601683795e-05, 3.1622776601683795e-05,\n",
       "                    3.1622776601683795e-05, 3.1622776601683795e-05,\n",
       "                    3.1622776601683795e-05, 3.1622776601683795e-05,\n",
       "                    3.1622776601683795e-05, 3.1622776601683795e-05,\n",
       "                    3.1622776601683795e-05, 3.1622776601683795e-05,\n",
       "                    3.1622776601683795e-05, 3.1622776601683795e-05,\n",
       "                    3.1622776601683795e-05, 3.1622776601683795e-05,\n",
       "                    3.1622776601683795e-05, 0.001, 0.001, 0.001, 0.001,\n",
       "                    0.001, 0.001, 0.001, 0.001, 0.001, 0.001, 0.001, 0.001,\n",
       "                    0.001, 0.001, 0.001, 0.03162277660168379,\n",
       "                    0.03162277660168379, 0.03162277660168379,\n",
       "                    0.03162277660168379, 0.03162277660168379,\n",
       "                    0.03162277660168379, 0.03162277660168379,\n",
       "                    0.03162277660168379, 0.03162277660168379,\n",
       "                    0.03162277660168379, 0.03162277660168379,\n",
       "                    0.03162277660168379, 0.03162277660168379,\n",
       "                    0.03162277660168379, 0.03162277660168379, 1.0, 1.0,\n",
       "                    1.0, 1.0, 1.0, 1.0, 1.0, 1.0, 1.0, 1.0, 1.0, 1.0, 1.0,\n",
       "                    1.0, 1.0, 31.622776601683793, 31.622776601683793,\n",
       "                    31.622776601683793, 31.622776601683793,\n",
       "                    31.622776601683793, 31.622776601683793,\n",
       "                    31.622776601683793, 31.622776601683793,\n",
       "                    31.622776601683793, 31.622776601683793,\n",
       "                    31.622776601683793, 31.622776601683793,\n",
       "                    31.622776601683793, 31.622776601683793,\n",
       "                    31.622776601683793, 1000.0, 1000.0, 1000.0, 1000.0,\n",
       "                    1000.0, 1000.0, 1000.0, 1000.0, 1000.0, 1000.0, 1000.0,\n",
       "                    1000.0, 1000.0, 1000.0, 1000.0],\n",
       "              mask=[False, False, False, False, False, False, False, False,\n",
       "                    False, False, False, False, False, False, False, False,\n",
       "                    False, False, False, False, False, False, False, False,\n",
       "                    False, False, False, False, False, False, False, False,\n",
       "                    False, False, False, False, False, False, False, False,\n",
       "                    False, False, False, False, False, False, False, False,\n",
       "                    False, False, False, False, False, False, False, False,\n",
       "                    False, False, False, False, False, False, False, False,\n",
       "                    False, False, False, False, False, False, False, False,\n",
       "                    False, False, False, False, False, False, False, False,\n",
       "                    False, False, False, False, False, False, False, False,\n",
       "                    False, False, False, False, False, False, False, False,\n",
       "                    False, False, False, False, False, False, False, False,\n",
       "                    False],\n",
       "        fill_value='?',\n",
       "             dtype=object),\n",
       " 'param_tol': masked_array(data=[1e-06, 1e-06, 1e-06, 1e-06, 1e-06, 1.0, 1.0, 1.0, 1.0,\n",
       "                    1.0, 1000000.0, 1000000.0, 1000000.0, 1000000.0,\n",
       "                    1000000.0, 1e-06, 1e-06, 1e-06, 1e-06, 1e-06, 1.0, 1.0,\n",
       "                    1.0, 1.0, 1.0, 1000000.0, 1000000.0, 1000000.0,\n",
       "                    1000000.0, 1000000.0, 1e-06, 1e-06, 1e-06, 1e-06,\n",
       "                    1e-06, 1.0, 1.0, 1.0, 1.0, 1.0, 1000000.0, 1000000.0,\n",
       "                    1000000.0, 1000000.0, 1000000.0, 1e-06, 1e-06, 1e-06,\n",
       "                    1e-06, 1e-06, 1.0, 1.0, 1.0, 1.0, 1.0, 1000000.0,\n",
       "                    1000000.0, 1000000.0, 1000000.0, 1000000.0, 1e-06,\n",
       "                    1e-06, 1e-06, 1e-06, 1e-06, 1.0, 1.0, 1.0, 1.0, 1.0,\n",
       "                    1000000.0, 1000000.0, 1000000.0, 1000000.0, 1000000.0,\n",
       "                    1e-06, 1e-06, 1e-06, 1e-06, 1e-06, 1.0, 1.0, 1.0, 1.0,\n",
       "                    1.0, 1000000.0, 1000000.0, 1000000.0, 1000000.0,\n",
       "                    1000000.0, 1e-06, 1e-06, 1e-06, 1e-06, 1e-06, 1.0, 1.0,\n",
       "                    1.0, 1.0, 1.0, 1000000.0, 1000000.0, 1000000.0,\n",
       "                    1000000.0, 1000000.0],\n",
       "              mask=[False, False, False, False, False, False, False, False,\n",
       "                    False, False, False, False, False, False, False, False,\n",
       "                    False, False, False, False, False, False, False, False,\n",
       "                    False, False, False, False, False, False, False, False,\n",
       "                    False, False, False, False, False, False, False, False,\n",
       "                    False, False, False, False, False, False, False, False,\n",
       "                    False, False, False, False, False, False, False, False,\n",
       "                    False, False, False, False, False, False, False, False,\n",
       "                    False, False, False, False, False, False, False, False,\n",
       "                    False, False, False, False, False, False, False, False,\n",
       "                    False, False, False, False, False, False, False, False,\n",
       "                    False, False, False, False, False, False, False, False,\n",
       "                    False, False, False, False, False, False, False, False,\n",
       "                    False],\n",
       "        fill_value='?',\n",
       "             dtype=object),\n",
       " 'param_weight_rank': masked_array(data=[1, 2, 3, 4, 5, 1, 2, 3, 4, 5, 1, 2, 3, 4, 5, 1, 2, 3,\n",
       "                    4, 5, 1, 2, 3, 4, 5, 1, 2, 3, 4, 5, 1, 2, 3, 4, 5, 1,\n",
       "                    2, 3, 4, 5, 1, 2, 3, 4, 5, 1, 2, 3, 4, 5, 1, 2, 3, 4,\n",
       "                    5, 1, 2, 3, 4, 5, 1, 2, 3, 4, 5, 1, 2, 3, 4, 5, 1, 2,\n",
       "                    3, 4, 5, 1, 2, 3, 4, 5, 1, 2, 3, 4, 5, 1, 2, 3, 4, 5,\n",
       "                    1, 2, 3, 4, 5, 1, 2, 3, 4, 5, 1, 2, 3, 4, 5],\n",
       "              mask=[False, False, False, False, False, False, False, False,\n",
       "                    False, False, False, False, False, False, False, False,\n",
       "                    False, False, False, False, False, False, False, False,\n",
       "                    False, False, False, False, False, False, False, False,\n",
       "                    False, False, False, False, False, False, False, False,\n",
       "                    False, False, False, False, False, False, False, False,\n",
       "                    False, False, False, False, False, False, False, False,\n",
       "                    False, False, False, False, False, False, False, False,\n",
       "                    False, False, False, False, False, False, False, False,\n",
       "                    False, False, False, False, False, False, False, False,\n",
       "                    False, False, False, False, False, False, False, False,\n",
       "                    False, False, False, False, False, False, False, False,\n",
       "                    False, False, False, False, False, False, False, False,\n",
       "                    False],\n",
       "        fill_value='?',\n",
       "             dtype=object),\n",
       " 'params': [{'n_iter_max': 300000,\n",
       "   'reg_W': 1e-06,\n",
       "   'tol': 1e-06,\n",
       "   'weight_rank': 1},\n",
       "  {'n_iter_max': 300000, 'reg_W': 1e-06, 'tol': 1e-06, 'weight_rank': 2},\n",
       "  {'n_iter_max': 300000, 'reg_W': 1e-06, 'tol': 1e-06, 'weight_rank': 3},\n",
       "  {'n_iter_max': 300000, 'reg_W': 1e-06, 'tol': 1e-06, 'weight_rank': 4},\n",
       "  {'n_iter_max': 300000, 'reg_W': 1e-06, 'tol': 1e-06, 'weight_rank': 5},\n",
       "  {'n_iter_max': 300000, 'reg_W': 1e-06, 'tol': 1.0, 'weight_rank': 1},\n",
       "  {'n_iter_max': 300000, 'reg_W': 1e-06, 'tol': 1.0, 'weight_rank': 2},\n",
       "  {'n_iter_max': 300000, 'reg_W': 1e-06, 'tol': 1.0, 'weight_rank': 3},\n",
       "  {'n_iter_max': 300000, 'reg_W': 1e-06, 'tol': 1.0, 'weight_rank': 4},\n",
       "  {'n_iter_max': 300000, 'reg_W': 1e-06, 'tol': 1.0, 'weight_rank': 5},\n",
       "  {'n_iter_max': 300000, 'reg_W': 1e-06, 'tol': 1000000.0, 'weight_rank': 1},\n",
       "  {'n_iter_max': 300000, 'reg_W': 1e-06, 'tol': 1000000.0, 'weight_rank': 2},\n",
       "  {'n_iter_max': 300000, 'reg_W': 1e-06, 'tol': 1000000.0, 'weight_rank': 3},\n",
       "  {'n_iter_max': 300000, 'reg_W': 1e-06, 'tol': 1000000.0, 'weight_rank': 4},\n",
       "  {'n_iter_max': 300000, 'reg_W': 1e-06, 'tol': 1000000.0, 'weight_rank': 5},\n",
       "  {'n_iter_max': 300000,\n",
       "   'reg_W': 3.1622776601683795e-05,\n",
       "   'tol': 1e-06,\n",
       "   'weight_rank': 1},\n",
       "  {'n_iter_max': 300000,\n",
       "   'reg_W': 3.1622776601683795e-05,\n",
       "   'tol': 1e-06,\n",
       "   'weight_rank': 2},\n",
       "  {'n_iter_max': 300000,\n",
       "   'reg_W': 3.1622776601683795e-05,\n",
       "   'tol': 1e-06,\n",
       "   'weight_rank': 3},\n",
       "  {'n_iter_max': 300000,\n",
       "   'reg_W': 3.1622776601683795e-05,\n",
       "   'tol': 1e-06,\n",
       "   'weight_rank': 4},\n",
       "  {'n_iter_max': 300000,\n",
       "   'reg_W': 3.1622776601683795e-05,\n",
       "   'tol': 1e-06,\n",
       "   'weight_rank': 5},\n",
       "  {'n_iter_max': 300000,\n",
       "   'reg_W': 3.1622776601683795e-05,\n",
       "   'tol': 1.0,\n",
       "   'weight_rank': 1},\n",
       "  {'n_iter_max': 300000,\n",
       "   'reg_W': 3.1622776601683795e-05,\n",
       "   'tol': 1.0,\n",
       "   'weight_rank': 2},\n",
       "  {'n_iter_max': 300000,\n",
       "   'reg_W': 3.1622776601683795e-05,\n",
       "   'tol': 1.0,\n",
       "   'weight_rank': 3},\n",
       "  {'n_iter_max': 300000,\n",
       "   'reg_W': 3.1622776601683795e-05,\n",
       "   'tol': 1.0,\n",
       "   'weight_rank': 4},\n",
       "  {'n_iter_max': 300000,\n",
       "   'reg_W': 3.1622776601683795e-05,\n",
       "   'tol': 1.0,\n",
       "   'weight_rank': 5},\n",
       "  {'n_iter_max': 300000,\n",
       "   'reg_W': 3.1622776601683795e-05,\n",
       "   'tol': 1000000.0,\n",
       "   'weight_rank': 1},\n",
       "  {'n_iter_max': 300000,\n",
       "   'reg_W': 3.1622776601683795e-05,\n",
       "   'tol': 1000000.0,\n",
       "   'weight_rank': 2},\n",
       "  {'n_iter_max': 300000,\n",
       "   'reg_W': 3.1622776601683795e-05,\n",
       "   'tol': 1000000.0,\n",
       "   'weight_rank': 3},\n",
       "  {'n_iter_max': 300000,\n",
       "   'reg_W': 3.1622776601683795e-05,\n",
       "   'tol': 1000000.0,\n",
       "   'weight_rank': 4},\n",
       "  {'n_iter_max': 300000,\n",
       "   'reg_W': 3.1622776601683795e-05,\n",
       "   'tol': 1000000.0,\n",
       "   'weight_rank': 5},\n",
       "  {'n_iter_max': 300000, 'reg_W': 0.001, 'tol': 1e-06, 'weight_rank': 1},\n",
       "  {'n_iter_max': 300000, 'reg_W': 0.001, 'tol': 1e-06, 'weight_rank': 2},\n",
       "  {'n_iter_max': 300000, 'reg_W': 0.001, 'tol': 1e-06, 'weight_rank': 3},\n",
       "  {'n_iter_max': 300000, 'reg_W': 0.001, 'tol': 1e-06, 'weight_rank': 4},\n",
       "  {'n_iter_max': 300000, 'reg_W': 0.001, 'tol': 1e-06, 'weight_rank': 5},\n",
       "  {'n_iter_max': 300000, 'reg_W': 0.001, 'tol': 1.0, 'weight_rank': 1},\n",
       "  {'n_iter_max': 300000, 'reg_W': 0.001, 'tol': 1.0, 'weight_rank': 2},\n",
       "  {'n_iter_max': 300000, 'reg_W': 0.001, 'tol': 1.0, 'weight_rank': 3},\n",
       "  {'n_iter_max': 300000, 'reg_W': 0.001, 'tol': 1.0, 'weight_rank': 4},\n",
       "  {'n_iter_max': 300000, 'reg_W': 0.001, 'tol': 1.0, 'weight_rank': 5},\n",
       "  {'n_iter_max': 300000, 'reg_W': 0.001, 'tol': 1000000.0, 'weight_rank': 1},\n",
       "  {'n_iter_max': 300000, 'reg_W': 0.001, 'tol': 1000000.0, 'weight_rank': 2},\n",
       "  {'n_iter_max': 300000, 'reg_W': 0.001, 'tol': 1000000.0, 'weight_rank': 3},\n",
       "  {'n_iter_max': 300000, 'reg_W': 0.001, 'tol': 1000000.0, 'weight_rank': 4},\n",
       "  {'n_iter_max': 300000, 'reg_W': 0.001, 'tol': 1000000.0, 'weight_rank': 5},\n",
       "  {'n_iter_max': 300000,\n",
       "   'reg_W': 0.03162277660168379,\n",
       "   'tol': 1e-06,\n",
       "   'weight_rank': 1},\n",
       "  {'n_iter_max': 300000,\n",
       "   'reg_W': 0.03162277660168379,\n",
       "   'tol': 1e-06,\n",
       "   'weight_rank': 2},\n",
       "  {'n_iter_max': 300000,\n",
       "   'reg_W': 0.03162277660168379,\n",
       "   'tol': 1e-06,\n",
       "   'weight_rank': 3},\n",
       "  {'n_iter_max': 300000,\n",
       "   'reg_W': 0.03162277660168379,\n",
       "   'tol': 1e-06,\n",
       "   'weight_rank': 4},\n",
       "  {'n_iter_max': 300000,\n",
       "   'reg_W': 0.03162277660168379,\n",
       "   'tol': 1e-06,\n",
       "   'weight_rank': 5},\n",
       "  {'n_iter_max': 300000,\n",
       "   'reg_W': 0.03162277660168379,\n",
       "   'tol': 1.0,\n",
       "   'weight_rank': 1},\n",
       "  {'n_iter_max': 300000,\n",
       "   'reg_W': 0.03162277660168379,\n",
       "   'tol': 1.0,\n",
       "   'weight_rank': 2},\n",
       "  {'n_iter_max': 300000,\n",
       "   'reg_W': 0.03162277660168379,\n",
       "   'tol': 1.0,\n",
       "   'weight_rank': 3},\n",
       "  {'n_iter_max': 300000,\n",
       "   'reg_W': 0.03162277660168379,\n",
       "   'tol': 1.0,\n",
       "   'weight_rank': 4},\n",
       "  {'n_iter_max': 300000,\n",
       "   'reg_W': 0.03162277660168379,\n",
       "   'tol': 1.0,\n",
       "   'weight_rank': 5},\n",
       "  {'n_iter_max': 300000,\n",
       "   'reg_W': 0.03162277660168379,\n",
       "   'tol': 1000000.0,\n",
       "   'weight_rank': 1},\n",
       "  {'n_iter_max': 300000,\n",
       "   'reg_W': 0.03162277660168379,\n",
       "   'tol': 1000000.0,\n",
       "   'weight_rank': 2},\n",
       "  {'n_iter_max': 300000,\n",
       "   'reg_W': 0.03162277660168379,\n",
       "   'tol': 1000000.0,\n",
       "   'weight_rank': 3},\n",
       "  {'n_iter_max': 300000,\n",
       "   'reg_W': 0.03162277660168379,\n",
       "   'tol': 1000000.0,\n",
       "   'weight_rank': 4},\n",
       "  {'n_iter_max': 300000,\n",
       "   'reg_W': 0.03162277660168379,\n",
       "   'tol': 1000000.0,\n",
       "   'weight_rank': 5},\n",
       "  {'n_iter_max': 300000, 'reg_W': 1.0, 'tol': 1e-06, 'weight_rank': 1},\n",
       "  {'n_iter_max': 300000, 'reg_W': 1.0, 'tol': 1e-06, 'weight_rank': 2},\n",
       "  {'n_iter_max': 300000, 'reg_W': 1.0, 'tol': 1e-06, 'weight_rank': 3},\n",
       "  {'n_iter_max': 300000, 'reg_W': 1.0, 'tol': 1e-06, 'weight_rank': 4},\n",
       "  {'n_iter_max': 300000, 'reg_W': 1.0, 'tol': 1e-06, 'weight_rank': 5},\n",
       "  {'n_iter_max': 300000, 'reg_W': 1.0, 'tol': 1.0, 'weight_rank': 1},\n",
       "  {'n_iter_max': 300000, 'reg_W': 1.0, 'tol': 1.0, 'weight_rank': 2},\n",
       "  {'n_iter_max': 300000, 'reg_W': 1.0, 'tol': 1.0, 'weight_rank': 3},\n",
       "  {'n_iter_max': 300000, 'reg_W': 1.0, 'tol': 1.0, 'weight_rank': 4},\n",
       "  {'n_iter_max': 300000, 'reg_W': 1.0, 'tol': 1.0, 'weight_rank': 5},\n",
       "  {'n_iter_max': 300000, 'reg_W': 1.0, 'tol': 1000000.0, 'weight_rank': 1},\n",
       "  {'n_iter_max': 300000, 'reg_W': 1.0, 'tol': 1000000.0, 'weight_rank': 2},\n",
       "  {'n_iter_max': 300000, 'reg_W': 1.0, 'tol': 1000000.0, 'weight_rank': 3},\n",
       "  {'n_iter_max': 300000, 'reg_W': 1.0, 'tol': 1000000.0, 'weight_rank': 4},\n",
       "  {'n_iter_max': 300000, 'reg_W': 1.0, 'tol': 1000000.0, 'weight_rank': 5},\n",
       "  {'n_iter_max': 300000,\n",
       "   'reg_W': 31.622776601683793,\n",
       "   'tol': 1e-06,\n",
       "   'weight_rank': 1},\n",
       "  {'n_iter_max': 300000,\n",
       "   'reg_W': 31.622776601683793,\n",
       "   'tol': 1e-06,\n",
       "   'weight_rank': 2},\n",
       "  {'n_iter_max': 300000,\n",
       "   'reg_W': 31.622776601683793,\n",
       "   'tol': 1e-06,\n",
       "   'weight_rank': 3},\n",
       "  {'n_iter_max': 300000,\n",
       "   'reg_W': 31.622776601683793,\n",
       "   'tol': 1e-06,\n",
       "   'weight_rank': 4},\n",
       "  {'n_iter_max': 300000,\n",
       "   'reg_W': 31.622776601683793,\n",
       "   'tol': 1e-06,\n",
       "   'weight_rank': 5},\n",
       "  {'n_iter_max': 300000,\n",
       "   'reg_W': 31.622776601683793,\n",
       "   'tol': 1.0,\n",
       "   'weight_rank': 1},\n",
       "  {'n_iter_max': 300000,\n",
       "   'reg_W': 31.622776601683793,\n",
       "   'tol': 1.0,\n",
       "   'weight_rank': 2},\n",
       "  {'n_iter_max': 300000,\n",
       "   'reg_W': 31.622776601683793,\n",
       "   'tol': 1.0,\n",
       "   'weight_rank': 3},\n",
       "  {'n_iter_max': 300000,\n",
       "   'reg_W': 31.622776601683793,\n",
       "   'tol': 1.0,\n",
       "   'weight_rank': 4},\n",
       "  {'n_iter_max': 300000,\n",
       "   'reg_W': 31.622776601683793,\n",
       "   'tol': 1.0,\n",
       "   'weight_rank': 5},\n",
       "  {'n_iter_max': 300000,\n",
       "   'reg_W': 31.622776601683793,\n",
       "   'tol': 1000000.0,\n",
       "   'weight_rank': 1},\n",
       "  {'n_iter_max': 300000,\n",
       "   'reg_W': 31.622776601683793,\n",
       "   'tol': 1000000.0,\n",
       "   'weight_rank': 2},\n",
       "  {'n_iter_max': 300000,\n",
       "   'reg_W': 31.622776601683793,\n",
       "   'tol': 1000000.0,\n",
       "   'weight_rank': 3},\n",
       "  {'n_iter_max': 300000,\n",
       "   'reg_W': 31.622776601683793,\n",
       "   'tol': 1000000.0,\n",
       "   'weight_rank': 4},\n",
       "  {'n_iter_max': 300000,\n",
       "   'reg_W': 31.622776601683793,\n",
       "   'tol': 1000000.0,\n",
       "   'weight_rank': 5},\n",
       "  {'n_iter_max': 300000, 'reg_W': 1000.0, 'tol': 1e-06, 'weight_rank': 1},\n",
       "  {'n_iter_max': 300000, 'reg_W': 1000.0, 'tol': 1e-06, 'weight_rank': 2},\n",
       "  {'n_iter_max': 300000, 'reg_W': 1000.0, 'tol': 1e-06, 'weight_rank': 3},\n",
       "  {'n_iter_max': 300000, 'reg_W': 1000.0, 'tol': 1e-06, 'weight_rank': 4},\n",
       "  {'n_iter_max': 300000, 'reg_W': 1000.0, 'tol': 1e-06, 'weight_rank': 5},\n",
       "  {'n_iter_max': 300000, 'reg_W': 1000.0, 'tol': 1.0, 'weight_rank': 1},\n",
       "  {'n_iter_max': 300000, 'reg_W': 1000.0, 'tol': 1.0, 'weight_rank': 2},\n",
       "  {'n_iter_max': 300000, 'reg_W': 1000.0, 'tol': 1.0, 'weight_rank': 3},\n",
       "  {'n_iter_max': 300000, 'reg_W': 1000.0, 'tol': 1.0, 'weight_rank': 4},\n",
       "  {'n_iter_max': 300000, 'reg_W': 1000.0, 'tol': 1.0, 'weight_rank': 5},\n",
       "  {'n_iter_max': 300000, 'reg_W': 1000.0, 'tol': 1000000.0, 'weight_rank': 1},\n",
       "  {'n_iter_max': 300000, 'reg_W': 1000.0, 'tol': 1000000.0, 'weight_rank': 2},\n",
       "  {'n_iter_max': 300000, 'reg_W': 1000.0, 'tol': 1000000.0, 'weight_rank': 3},\n",
       "  {'n_iter_max': 300000, 'reg_W': 1000.0, 'tol': 1000000.0, 'weight_rank': 4},\n",
       "  {'n_iter_max': 300000, 'reg_W': 1000.0, 'tol': 1000000.0, 'weight_rank': 5}],\n",
       " 'split0_test_score': array([ 0.62443939,  0.7021353 ,  0.88039528,  0.91856774,  0.97916527,\n",
       "         0.6746012 ,  0.73913891,  0.69085792,  0.89667369,  0.89222702,\n",
       "         0.30242191,  0.50422768,  0.93933802,  0.96448066,  0.97382562,\n",
       "        -0.00484483,  0.46374693,  0.77793612,  0.86820281,  0.98002017,\n",
       "         0.85853113,  0.80718308,  0.86779181,  0.93111667,  0.9960771 ,\n",
       "         0.69047824,  0.65508522,  0.96504562,  0.91275181,  0.88558962,\n",
       "         0.58419379,  0.50462432,  0.76809602,  0.96976301,  0.97733551,\n",
       "        -2.57938382,  0.56941581,  0.7540019 ,  0.91144517,  0.94742919,\n",
       "         0.43304114,  0.85142366,  0.78608159,  0.93264441,  0.94555845,\n",
       "         0.38048275,  0.9222764 ,  0.97518037,  0.97422276,  0.97560753,\n",
       "         0.71647864,  0.23240497,  0.95159067,  0.91594923,  0.96392269,\n",
       "         0.61155314,  0.7715306 ,  0.7759878 ,  0.83337328,  0.82888761,\n",
       "         0.69073241,  0.82035853,  0.92286087,  0.92286081,  0.92286094,\n",
       "         0.6747385 ,  0.73249334,  0.90094036,  0.87772036,  0.88667424,\n",
       "         0.65238708,  0.70393757,  0.85709649,  0.88567152,  0.81979003,\n",
       "         0.69345085,  0.70184569,  0.70185268,  0.70184565,  0.70185262,\n",
       "         0.68252844,  0.6796672 ,  0.6807085 ,  0.68652218,  0.68392075,\n",
       "         0.69374873,  0.68516059,  0.6922342 ,  0.68057217,  0.71095537,\n",
       "        -3.23152028, -3.2318907 , -3.23192776, -3.23151152, -3.23149433,\n",
       "        -3.53477003, -3.3104092 , -3.62912293, -3.41983507, -2.6725576 ,\n",
       "        -3.14380562, -3.13008395, -2.5592483 , -2.53934733, -2.38909359]),\n",
       " 'split1_test_score': array([ -60.56777003,  -37.87097693,  -22.08543024,  -12.70098054,\n",
       "         -20.74373124,  -33.87982428,  -13.91327503,  -21.14421268,\n",
       "         -22.34060069,  -28.49021688,  -30.84189896,  -24.81219992,\n",
       "         -31.9643049 ,  -24.0137247 ,  -20.29066504,  -16.08614165,\n",
       "         -17.91593087,  -22.64581849,  -20.04119247,  -17.57371081,\n",
       "         -56.16244927,  -15.06495071,  -14.42005416,  -21.11705412,\n",
       "         -20.45727996,  -54.47344845,  -34.16398429,  -27.28574736,\n",
       "         -19.01396416,  -17.57462767,  -24.00077865,  -21.40127275,\n",
       "         -19.84297795,  -16.52478961,  -16.36681125,  -16.6557866 ,\n",
       "         -71.00423874,  -19.98586524,  -10.97849308,  -12.65312462,\n",
       "         -42.06777192,  -39.04310212,  -23.61595055,  -17.94609681,\n",
       "         -18.15690493,  -22.05182762,  -22.03887877,  -22.84201872,\n",
       "         -22.44175903,  -22.09976739,  -48.69973421,  -23.00268348,\n",
       "         -24.66831261,   -9.37866954,  -16.79508318,  -42.16888121,\n",
       "         -45.9786153 ,  -16.45623074,  -10.56309141,  -20.76168138,\n",
       "         -24.68348166,  -19.27028394,  -19.27028306,  -19.27028464,\n",
       "         -19.27028404,  -22.82339068,  -15.27229535,  -16.35128166,\n",
       "         -17.8989321 ,  -17.58480395,  -31.46016167,  -15.93666036,\n",
       "         -14.86865092,  -19.70101093,  -17.23458384,  -38.8779792 ,\n",
       "         -38.71081622,  -38.71082932,  -38.71079833,  -38.71077761,\n",
       "         -28.74841071,  -38.72862775,  -30.98691486,  -34.76502047,\n",
       "         -41.53259746,  -40.95677993,  -29.42091429,  -36.29897809,\n",
       "         -41.19435263,  -32.76177977, -144.7735721 , -144.77366964,\n",
       "        -144.77367019, -144.77366789, -144.77367444, -144.85475216,\n",
       "        -144.66701063, -155.00681585, -150.14780492, -157.01315926,\n",
       "        -144.73548743, -144.942868  , -146.6253206 , -144.86408394,\n",
       "        -156.30989048]),\n",
       " 'split2_test_score': array([ 2.98432906e-02, -2.40320677e-01, -1.75889850e+00, -1.04135455e+00,\n",
       "        -5.81575818e-01, -6.77123485e-01,  1.07861424e-01, -8.77137955e-01,\n",
       "        -2.42006303e+00, -2.57130822e-01,  7.86050930e-01,  7.50260983e-01,\n",
       "        -1.70900729e+00, -9.28912639e-02, -2.29820189e+00, -1.23003380e+01,\n",
       "        -1.28358679e+00, -5.80769000e+00, -1.91090253e+00, -5.78404246e-01,\n",
       "        -2.35882718e+01, -3.60850732e+00, -3.65427421e-01, -3.19334304e-01,\n",
       "        -2.06109342e+00,  3.31779008e-02, -7.58339442e-02, -9.01257964e-01,\n",
       "        -1.96254135e+00, -4.76365218e-01,  7.03961512e-01, -7.42400984e-01,\n",
       "        -1.14270547e+00, -1.31427338e+00, -1.22750684e+00, -1.04229717e+00,\n",
       "         3.51779379e-01, -1.98137110e+00,  2.13330829e-01, -1.57220548e+00,\n",
       "         4.36195678e-02, -3.95759588e+00,  5.71007961e-01, -3.56118234e+00,\n",
       "        -6.14089360e-01, -5.67055188e+00, -8.48406738e-01, -1.03863137e+00,\n",
       "        -1.22812541e+00, -1.38644607e+00,  6.79435468e-01,  5.72743097e-01,\n",
       "        -2.18451766e+00, -3.27006878e-02, -1.12141730e+00, -1.55215732e+00,\n",
       "        -2.12111696e+00, -3.92088028e+00, -4.52787291e-01, -4.94319052e-01,\n",
       "        -1.38930252e+00, -7.63325467e-01, -8.62814342e-01, -8.62881549e-01,\n",
       "        -8.67815894e-01, -4.13222987e-01, -1.06453228e+00, -1.74304148e+00,\n",
       "        -2.01159996e+00, -1.57643880e+00, -3.62268963e-01, -3.06864276e+00,\n",
       "        -6.67178353e-01, -1.55766551e+00, -1.06829861e+00, -3.16465293e-01,\n",
       "        -3.16465264e-01, -3.16465291e-01, -3.16413301e-01, -3.16465485e-01,\n",
       "        -3.63679967e-01, -2.52462916e-01, -2.22729329e-01, -2.51509262e-01,\n",
       "        -2.38708868e-01, -1.19205341e-01, -2.13268634e-02, -3.04610884e-01,\n",
       "        -3.96435031e-01, -1.05518393e-01, -7.81354175e+00, -7.81357031e+00,\n",
       "        -7.81354102e+00, -7.81357100e+00, -7.81357034e+00, -7.74949298e+00,\n",
       "        -7.59259725e+00, -7.98450912e+00, -7.78196643e+00, -7.83048420e+00,\n",
       "        -7.62343681e+00, -7.87725466e+00, -7.80947607e+00, -8.06302225e+00,\n",
       "        -8.02018292e+00]),\n",
       " 'split3_test_score': array([-0.73722102, -1.82372135, -0.2396228 ,  0.50099071,  0.12021393,\n",
       "        -0.58062698, -2.41755221,  0.20749739,  0.26579611,  0.28110607,\n",
       "        -4.46026516,  0.3857207 , -0.48394704, -0.19473719,  0.16183391,\n",
       "        -1.7975042 ,  0.2634872 ,  0.46220716,  0.11970273, -0.26703732,\n",
       "        -5.26060896, -0.87345438, -0.01199776,  0.05088761,  0.0447911 ,\n",
       "        -4.03718682,  0.86616181, -0.54721259,  0.47186793,  0.06254778,\n",
       "        -0.21776275, -1.27200909,  0.09343388,  0.22857564,  0.31828493,\n",
       "         0.04099947, -0.19465714, -1.47929581,  0.39380845, -0.15617759,\n",
       "        -1.36257339,  0.16712718,  0.5251515 , -0.07569006,  0.30207699,\n",
       "         0.47006147, -1.56205117,  0.08302742,  0.07262989,  0.06957517,\n",
       "         0.32520052, -1.06502488, -1.01296134,  0.09692546,  0.16764014,\n",
       "         0.06815242, -0.27571633,  0.130218  ,  0.55820633, -0.49387066,\n",
       "         0.13782041, -0.21506621,  0.05878329,  0.05902251,  0.05886786,\n",
       "         0.77282545, -0.60187928, -0.08834093,  0.31041223,  0.05790349,\n",
       "        -0.40854309,  0.49459132, -0.12939236, -0.05991006,  0.20111764,\n",
       "         0.31559328,  0.31559334,  0.3155917 ,  0.31559144,  0.31559392,\n",
       "         0.76416669,  0.66688221,  0.49199118,  0.69235045,  0.50839171,\n",
       "         0.30536606,  0.73824167,  0.36594897,  0.36226628,  0.326702  ,\n",
       "        -2.21647452, -2.21649145, -2.21647599, -2.21649268, -2.21647502,\n",
       "        -2.17638356, -2.15284472, -2.08526873, -2.07279584, -2.06091652,\n",
       "        -2.28026282, -2.26755132, -2.06142663, -2.21605612, -2.13638134]),\n",
       " 'split4_test_score': array([-1.75997854e+00, -2.12469275e+00, -1.59720721e+00, -9.59998985e-01,\n",
       "        -1.28077391e+00, -5.85976960e-01, -2.74834015e+00, -9.12536834e-01,\n",
       "        -1.09777774e+00, -2.01925298e-01, -3.10444426e+00, -1.20714620e-01,\n",
       "        -6.77630007e-01, -4.07075290e-01,  5.16151241e-02, -1.27063037e+00,\n",
       "        -1.08392217e+00, -1.01909368e+00, -1.17729661e+00,  1.44055475e-01,\n",
       "        -4.78874705e+00, -2.96786624e-01, -4.98705094e-01,  7.40012069e-01,\n",
       "        -4.81378429e-01,  4.31333585e-01,  3.33023633e-01, -2.08823846e+00,\n",
       "         6.06007711e-02, -7.97196497e-01, -2.64128957e+00,  3.99688716e-01,\n",
       "        -2.41634219e-01, -4.66920495e-01, -4.86442769e-01, -2.73250013e-01,\n",
       "         5.09527283e-01, -2.59252502e-04, -7.10978012e-01,  4.48447646e-01,\n",
       "        -1.37864639e-01,  5.13439986e-01, -7.56207512e-01, -4.98124228e-01,\n",
       "        -6.95346387e-01, -2.33467494e+00, -1.23251412e+00, -4.01760191e-01,\n",
       "        -3.20632976e-01, -6.96468600e-01,  2.19687076e-01, -2.16661064e+00,\n",
       "        -8.63635452e-01, -4.20783317e-01,  3.26836125e-01, -8.76327426e-01,\n",
       "        -3.89372577e-03, -1.20393874e+00, -2.38308601e-01,  1.33564790e-01,\n",
       "        -1.87179806e+00, -7.64026935e-01, -2.98858596e-01, -2.98860945e-01,\n",
       "        -2.98860216e-01, -1.93214548e-01, -1.50586780e+00, -9.95774976e-01,\n",
       "         8.25005234e-03, -6.45038922e-01, -5.91994542e-01, -1.25009543e+00,\n",
       "         2.36534345e-01, -3.15063944e-01,  2.83051401e-03, -1.85303085e-01,\n",
       "        -1.85302968e-01, -1.85302530e-01, -1.85301958e-01, -1.85301222e-01,\n",
       "         4.58687836e-01, -1.52771256e-01,  1.43149909e-01,  2.85150157e-01,\n",
       "        -1.51813828e-02,  4.53722748e-01,  2.56178237e-01,  3.57454711e-01,\n",
       "         2.82144236e-01, -3.26807144e-02, -7.50083232e-01, -7.50092325e-01,\n",
       "        -7.50092058e-01, -7.50083303e-01, -7.50082867e-01, -9.22388998e-01,\n",
       "        -9.74540390e-01, -7.89453253e-01, -9.63017252e-01, -9.14077150e-01,\n",
       "        -7.65660162e-01, -7.62892835e-01, -7.47207944e-01, -7.71514533e-01,\n",
       "        -1.06323736e+00]),\n",
       " 'mean_test_score': array([-12.48213738,  -8.27151528,  -4.96015269,  -2.65655513,\n",
       "         -4.30134035,  -7.0097901 ,  -3.64643341,  -4.40710643,\n",
       "         -4.93919433,  -5.55518798,  -7.46362711,  -4.65854103,\n",
       "         -6.77911024,  -4.74878956,  -4.28031845,  -6.2918918 ,\n",
       "         -3.91124114,  -5.64649178,  -4.42829721,  -3.45901534,\n",
       "        -17.78830918,  -3.80730319,  -2.88567852,  -3.94287441,\n",
       "         -4.39177672, -11.47112911,  -6.47710951,  -5.97148215,\n",
       "         -3.906257  ,  -3.5800104 ,  -5.11433514,  -4.50227396,\n",
       "         -4.07315755,  -3.42152897,  -3.35702808,  -4.10194363,\n",
       "        -13.95363468,  -4.5385579 ,  -2.03417733,  -2.59712617,\n",
       "         -8.61830985,  -8.29374144,  -4.4979834 ,  -4.2296898 ,\n",
       "         -3.64374105,  -5.84130204,  -4.95191488,  -4.6448405 ,\n",
       "         -4.58873295,  -4.62749987,  -9.3517865 ,  -5.08583419,\n",
       "         -5.55556728,  -1.76385577,  -3.29162031,  -8.78353208,\n",
       "         -9.52156234,  -4.13496879,  -1.97252154,  -4.15748374,\n",
       "         -5.42320588,  -4.0384688 ,  -3.89006237,  -3.89002876,\n",
       "         -3.89104627,  -4.39645285,  -3.54241627,  -3.65549974,\n",
       "         -3.74282988,  -3.77234079,  -6.43411624,  -3.81137393,\n",
       "         -2.91431816,  -4.14959578,  -3.45582885,  -7.67414069,\n",
       "         -7.63902909,  -7.63903055,  -7.6390153 ,  -7.63901955,\n",
       "         -5.44134154,  -7.5574625 ,  -5.97875892,  -6.67050139,\n",
       "         -8.11883505,  -7.92462955,  -5.55253213,  -7.03759022,\n",
       "         -8.053161  ,  -6.3724643 , -31.75703838, -31.75714288,\n",
       "        -31.75714141, -31.75706528, -31.7570594 , -31.84755755,\n",
       "        -31.73948044, -33.89903398, -32.8770839 , -34.09823895,\n",
       "        -31.70973057, -31.79613015, -31.96053591, -31.69080484,\n",
       "        -33.98375714]),\n",
       " 'std_test_score': array([24.05605052, 14.83584912,  8.61658825,  5.08191414,  8.25525977,\n",
       "        13.44433551,  5.31136012,  8.39151033,  8.77565642, 11.47496292,\n",
       "        11.85693854, 10.08083064, 12.6208681 ,  9.64413239,  8.07916307,\n",
       "         6.58738645,  7.03702369,  8.82049186,  7.86646039,  7.07670019,\n",
       "        20.87989816,  5.81375656,  5.78684214,  8.59904461,  8.09364932,\n",
       "        21.57028214, 13.84708715, 10.70161459,  7.61771135,  7.02048136,\n",
       "         9.51962113,  8.47638702,  7.90890101,  6.59503428,  6.54712475,\n",
       "         6.34194718, 28.52657641,  7.78620494,  4.50277116,  5.09845447,\n",
       "        16.73550807, 15.47328102,  9.57439769,  7.02020959,  7.2819626 ,\n",
       "         8.41012062,  8.58643529,  9.12231483,  8.95450367,  8.77148671,\n",
       "        19.67492592,  9.01116449,  9.60888763,  3.83223151,  6.78561193,\n",
       "        16.70938747, 18.25323395,  6.36803863,  4.32186549,  8.31645613,\n",
       "         9.67624257,  7.63784441,  7.71193589,  7.71195552,  7.71155239,\n",
       "         9.22522401,  5.91268318,  6.4093725 ,  7.14480572,  6.95360818,\n",
       "        12.52059684,  6.21391572,  5.99771558,  7.8147002 ,  6.91622568,\n",
       "        15.60608888, 15.54014247, 15.54014833, 15.54014011, 15.54012798,\n",
       "        11.66038235, 15.59053665, 12.50789048, 14.05150478, 16.71025231,\n",
       "        16.518194  , 11.93748433, 14.63428234, 16.5743106 , 13.19785665,\n",
       "        56.5575977 , 56.55759413, 56.55759474, 56.55763249, 56.55763878,\n",
       "        56.55033387, 56.50798471, 60.60245034, 58.68105018, 61.50321072,\n",
       "        56.55901766, 56.62338365, 57.38283861, 56.64103462, 61.21115718]),\n",
       " 'rank_test_score': array([ 88,  81,  51,   5,  36,  69,  16,  39,  49,  57,  71,  47,  68,\n",
       "         48,  35,  63,  26,  59,  40,  12,  90,  20,   6,  27,  37,  87,\n",
       "         66,  61,  25,  14,  53,  42,  29,  10,   9,  30,  89,  43,   3,\n",
       "          4,  83,  82,  41,  34,  15,  60,  50,  46,  44,  45,  85,  52,\n",
       "         58,   1,   8,  84,  86,  31,   2,  33,  54,  28,  23,  22,  24,\n",
       "         38,  13,  17,  18,  19,  65,  21,   7,  32,  11,  77,  75,  76,\n",
       "         73,  74,  55,  72,  62,  67,  80,  78,  56,  70,  79,  64,  94,\n",
       "         98,  97,  96,  95, 100,  93, 103, 102, 105,  92,  99, 101,  91,\n",
       "        104]),\n",
       " 'split0_train_score': array([ 1.        ,  1.        ,  1.        ,  1.        ,  1.        ,\n",
       "         1.        ,  1.        ,  1.        ,  1.        ,  1.        ,\n",
       "         1.        ,  1.        ,  1.        ,  1.        ,  1.        ,\n",
       "         1.        ,  1.        ,  1.        ,  1.        ,  1.        ,\n",
       "         1.        ,  1.        ,  1.        ,  1.        ,  1.        ,\n",
       "         1.        ,  1.        ,  1.        ,  1.        ,  1.        ,\n",
       "         0.99999987,  0.99999997,  0.99999996,  0.99999998,  0.99999998,\n",
       "         1.        ,  0.99999998,  1.        ,  0.99999999,  0.99999999,\n",
       "         0.99999993,  0.99999998,  0.99999999,  1.        ,  0.99999999,\n",
       "         0.99990307,  0.99996457,  0.99998236,  0.99998216,  0.9999824 ,\n",
       "         0.99964928,  0.99998675,  0.99999788,  0.99998465,  0.99997941,\n",
       "         0.99960448,  0.99996063,  0.99998114,  0.99998908,  0.99998039,\n",
       "         0.94551857,  0.98020876,  0.98559515,  0.98559516,  0.98559515,\n",
       "         0.92069291,  0.9272518 ,  0.97807167,  0.98306728,  0.98341532,\n",
       "         0.92369139,  0.96844346,  0.98143804,  0.98057249,  0.98192582,\n",
       "         0.56722515,  0.5677162 ,  0.56770316,  0.56771627,  0.56770327,\n",
       "         0.69397603,  0.6689437 ,  0.68258897,  0.69254509,  0.68195946,\n",
       "         0.71402841,  0.68832593,  0.71098912,  0.61712325,  0.54458381,\n",
       "        -2.32385083, -2.32387651, -2.32387908, -2.32385022, -2.32384903,\n",
       "        -2.34553415, -2.32936636, -2.34865122, -2.3373708 , -2.29945644,\n",
       "        -2.3181713 , -2.31645559, -2.30034189, -2.30085585, -2.30905892]),\n",
       " 'split1_train_score': array([ 1.        ,  1.        ,  1.        ,  1.        ,  1.        ,\n",
       "         1.        ,  1.        ,  1.        ,  1.        ,  1.        ,\n",
       "         1.        ,  1.        ,  1.        ,  1.        ,  1.        ,\n",
       "         1.        ,  1.        ,  1.        ,  1.        ,  1.        ,\n",
       "         1.        ,  1.        ,  1.        ,  1.        ,  1.        ,\n",
       "         1.        ,  1.        ,  1.        ,  1.        ,  1.        ,\n",
       "         0.99999975,  0.99999999,  0.99999999,  0.99999998,  0.99999999,\n",
       "         0.99999989,  1.        ,  0.99999998,  0.99999999,  0.99999996,\n",
       "         0.99999996,  0.99999997,  0.99999999,  0.99999999,  0.99999998,\n",
       "         0.99989596,  0.99999316,  0.99999308,  0.99999319,  0.99999318,\n",
       "         0.99992807,  0.99994729,  0.99999402,  0.9999875 ,  0.99998801,\n",
       "         0.99926672,  0.99997354,  0.99999588,  0.99998641,  0.99999635,\n",
       "         0.96842833,  0.99465013,  0.99465016,  0.99465011,  0.99465013,\n",
       "         0.90800787,  0.97792897,  0.98918258,  0.98738448,  0.99334584,\n",
       "         0.88804738,  0.98104206,  0.98492657,  0.99444515,  0.99229522,\n",
       "         0.61606547,  0.61863621,  0.61863604,  0.61863643,  0.6186367 ,\n",
       "         0.72839953,  0.61895993,  0.70687467,  0.66113571,  0.59001199,\n",
       "         0.59453648,  0.72288092,  0.6461587 ,  0.59271008,  0.68695153,\n",
       "        -2.21362293, -2.21359732, -2.21359717, -2.21359778, -2.21359606,\n",
       "        -2.30024864, -2.30650297, -2.03084476, -2.0527345 , -2.0297216 ,\n",
       "        -2.27328924, -2.31724128, -2.10343687, -2.20040433, -2.02991222]),\n",
       " 'split2_train_score': array([ 1.        ,  1.        ,  1.        ,  1.        ,  1.        ,\n",
       "         1.        ,  1.        ,  1.        ,  1.        ,  1.        ,\n",
       "         1.        ,  1.        ,  1.        ,  1.        ,  1.        ,\n",
       "         1.        ,  1.        ,  1.        ,  1.        ,  1.        ,\n",
       "         1.        ,  1.        ,  1.        ,  1.        ,  1.        ,\n",
       "         1.        ,  1.        ,  1.        ,  1.        ,  1.        ,\n",
       "         0.99999985,  0.99999998,  0.99999999,  0.99999998,  0.99999999,\n",
       "         1.        ,  0.99999999,  0.99999999,  0.99999999,  0.99999999,\n",
       "         0.99999997,  0.99999999,  0.99999999,  1.        ,  0.99999999,\n",
       "         0.99992689,  0.99998611,  0.99998963,  0.99999058,  0.99999048,\n",
       "         0.99981792,  0.99998314,  0.9999908 ,  0.9999949 ,  0.9999867 ,\n",
       "         0.99957797,  0.99996578,  0.99999134,  0.99999251,  0.99999109,\n",
       "         0.95794426,  0.99140058,  0.99195623,  0.99195631,  0.99196152,\n",
       "         0.91909096,  0.96366308,  0.98775875,  0.99046678,  0.99189358,\n",
       "         0.91941574,  0.98648883,  0.99269292,  0.99178107,  0.99274406,\n",
       "         0.57917508,  0.57917503,  0.57917508,  0.57907283,  0.57917546,\n",
       "         0.53430394,  0.62337   ,  0.6363089 ,  0.6303832 ,  0.49168407,\n",
       "         0.76333848,  0.68481212,  0.56263361,  0.52927632,  0.66727517,\n",
       "        -2.03674866, -2.03672584, -2.03674924, -2.03672529, -2.03672581,\n",
       "        -2.07204688, -2.05687581, -1.99681483, -2.05897326, -2.02338336,\n",
       "        -2.06514992, -2.00241047, -2.04363475, -2.01023051, -2.00201115]),\n",
       " 'split3_train_score': array([ 1.        ,  1.        ,  1.        ,  1.        ,  1.        ,\n",
       "         1.        ,  1.        ,  1.        ,  1.        ,  1.        ,\n",
       "         1.        ,  1.        ,  1.        ,  1.        ,  1.        ,\n",
       "         1.        ,  1.        ,  1.        ,  1.        ,  1.        ,\n",
       "         1.        ,  1.        ,  1.        ,  1.        ,  1.        ,\n",
       "         1.        ,  1.        ,  1.        ,  1.        ,  1.        ,\n",
       "         0.99999991,  0.99999995,  0.99999999,  0.99999999,  0.99999999,\n",
       "         0.99999999,  0.99999999,  0.99999999,  0.99999999,  0.99999999,\n",
       "         0.99999998,  0.99999994,  1.        ,  0.99999999,  0.99999998,\n",
       "         0.99986702,  0.99997646,  0.99998813,  0.99998819,  0.99998819,\n",
       "         0.99972168,  0.99998162,  0.99998732,  0.99998936,  0.99996023,\n",
       "         0.99974282,  0.9999887 ,  0.99999722,  0.99999695,  0.99998958,\n",
       "         0.9480168 ,  0.98792358,  0.99156852,  0.99157018,  0.9915701 ,\n",
       "         0.89675102,  0.97024586,  0.98178017,  0.99166648,  0.98931108,\n",
       "         0.90923545,  0.95105418,  0.98179228,  0.98929542,  0.99106986,\n",
       "         0.52374841,  0.52374842,  0.52374819,  0.52374815,  0.5237485 ,\n",
       "         0.67909363,  0.62743434,  0.57545495,  0.63272396,  0.57415729,\n",
       "         0.52338474,  0.66964078,  0.53216024,  0.53632919,  0.53026146,\n",
       "        -2.37392395, -2.373952  , -2.37392639, -2.37395403, -2.37392479,\n",
       "        -2.31232091, -2.28017345, -2.20866428, -2.20428782, -2.20993323,\n",
       "        -2.54124732, -2.47148575, -2.2086907 , -2.3731811 , -2.25956274]),\n",
       " 'split4_train_score': array([ 1.        ,  1.        ,  1.        ,  1.        ,  1.        ,\n",
       "         1.        ,  1.        ,  1.        ,  1.        ,  1.        ,\n",
       "         1.        ,  1.        ,  1.        ,  1.        ,  1.        ,\n",
       "         1.        ,  1.        ,  1.        ,  1.        ,  1.        ,\n",
       "         1.        ,  1.        ,  1.        ,  1.        ,  1.        ,\n",
       "         1.        ,  1.        ,  1.        ,  1.        ,  1.        ,\n",
       "         0.99999997,  0.99999996,  0.99999999,  0.99999999,  0.99999999,\n",
       "         0.9999999 ,  0.99999999,  1.        ,  0.99999998,  0.99999998,\n",
       "         0.99999999,  0.99999999,  1.        ,  0.99999997,  0.99999997,\n",
       "         0.9999729 ,  0.999986  ,  0.99998884,  0.99998851,  0.99999054,\n",
       "         0.99995084,  0.99996968,  0.99998387,  0.9999921 ,  0.99999046,\n",
       "         0.99950508,  0.99996624,  0.99998485,  0.99999085,  0.99998739,\n",
       "         0.98543734,  0.99166228,  0.99260997,  0.99260996,  0.99260996,\n",
       "         0.9292978 ,  0.99094192,  0.99266272,  0.99295489,  0.99208333,\n",
       "         0.9476445 ,  0.98965808,  0.99060277,  0.99304594,  0.99177595,\n",
       "         0.65069816,  0.65069818,  0.65069825,  0.65069835,  0.65069847,\n",
       "         0.78875419,  0.65581044,  0.73000971,  0.75819985,  0.69144461,\n",
       "         0.79320618,  0.75860759,  0.76121906,  0.75950395,  0.68443937,\n",
       "        -2.55361299, -2.55358716, -2.55358792, -2.55361278, -2.55361402,\n",
       "        -2.34706152, -2.32869195, -2.46724053, -2.33222101, -2.3511865 ,\n",
       "        -2.51981916, -2.52015191, -2.56187108, -2.50025581, -2.3136429 ]),\n",
       " 'mean_train_score': array([ 1.        ,  1.        ,  1.        ,  1.        ,  1.        ,\n",
       "         1.        ,  1.        ,  1.        ,  1.        ,  1.        ,\n",
       "         1.        ,  1.        ,  1.        ,  1.        ,  1.        ,\n",
       "         1.        ,  1.        ,  1.        ,  1.        ,  1.        ,\n",
       "         1.        ,  1.        ,  1.        ,  1.        ,  1.        ,\n",
       "         1.        ,  1.        ,  1.        ,  1.        ,  1.        ,\n",
       "         0.99999987,  0.99999997,  0.99999998,  0.99999998,  0.99999999,\n",
       "         0.99999995,  0.99999999,  0.99999999,  0.99999999,  0.99999999,\n",
       "         0.99999996,  0.99999997,  0.99999999,  0.99999999,  0.99999998,\n",
       "         0.99991317,  0.99998126,  0.99998841,  0.99998853,  0.99998896,\n",
       "         0.99981356,  0.9999737 ,  0.99999078,  0.9999897 ,  0.99998096,\n",
       "         0.99953942,  0.99997098,  0.99999008,  0.99999116,  0.99998896,\n",
       "         0.96106906,  0.98916907,  0.991276  ,  0.99127634,  0.99127737,\n",
       "         0.91476811,  0.96600633,  0.98589118,  0.98910798,  0.99000983,\n",
       "         0.91760689,  0.97533732,  0.98629052,  0.98982801,  0.98996218,\n",
       "         0.58738245,  0.58799481,  0.58799214,  0.58797441,  0.58799248,\n",
       "         0.68490546,  0.63890369,  0.66624744,  0.67499756,  0.60585148,\n",
       "         0.67769886,  0.70485347,  0.64263215,  0.60698856,  0.62270227,\n",
       "        -2.30035187, -2.30034777, -2.30034796, -2.30034802, -2.30034194,\n",
       "        -2.27544242, -2.26032211, -2.21044312, -2.19711748, -2.18273623,\n",
       "        -2.34353539, -2.325549  , -2.24359506, -2.27698552, -2.18283758]),\n",
       " 'std_train_score': array([1.90406369e-13, 5.78808574e-15, 3.73800733e-15, 5.59292411e-15,\n",
       "        1.39551987e-14, 5.12224708e-14, 3.13582095e-14, 2.23041568e-15,\n",
       "        4.46276514e-15, 3.02991234e-15, 3.37327340e-14, 1.34563427e-14,\n",
       "        9.56687626e-15, 1.47002920e-14, 4.24244677e-15, 2.54156126e-10,\n",
       "        9.65796281e-12, 5.44975721e-12, 3.17846598e-12, 2.60089745e-12,\n",
       "        1.94269588e-11, 8.62615377e-12, 3.08098157e-12, 7.70398886e-12,\n",
       "        1.48064094e-11, 6.77292785e-11, 5.00033132e-12, 2.47452042e-12,\n",
       "        6.24803643e-12, 6.44485342e-12, 7.42270940e-08, 1.64539072e-08,\n",
       "        1.04652475e-08, 4.68304697e-09, 5.52972099e-09, 4.82222007e-08,\n",
       "        5.76189529e-09, 6.27984904e-09, 4.80501573e-09, 1.18140555e-08,\n",
       "        1.95046687e-08, 1.85045013e-08, 4.41948766e-09, 1.05551949e-08,\n",
       "        8.32256464e-09, 3.54493857e-05, 9.89109881e-06, 3.46855942e-06,\n",
       "        3.65190212e-06, 3.63832383e-06, 1.16111371e-04, 1.43933519e-05,\n",
       "        4.91129455e-06, 3.55562354e-06, 1.10019134e-05, 1.56611324e-04,\n",
       "        9.76823528e-06, 6.22151513e-06, 3.52883519e-06, 5.20539041e-06,\n",
       "        1.46281583e-02, 4.96137335e-03, 3.03264562e-03, 3.03267047e-03,\n",
       "        3.03291060e-03, 1.12713663e-02, 2.13977134e-02, 5.25775483e-03,\n",
       "        3.53981703e-03, 3.54831630e-03, 1.94236818e-02, 1.41363400e-02,\n",
       "        4.58753240e-03, 4.92820182e-03, 4.05664123e-03, 4.32540483e-02,\n",
       "        4.35596540e-02, 4.35609311e-02, 4.35639635e-02, 4.35609707e-02,\n",
       "        8.42296426e-02, 1.97931078e-02, 5.49960667e-02, 4.73290304e-02,\n",
       "        7.40381204e-02, 1.02688607e-01, 3.20288717e-02, 8.64312176e-02,\n",
       "        8.31859006e-02, 7.01056023e-02, 1.71531226e-01, 1.71536315e-01,\n",
       "        1.71527236e-01, 1.71543456e-01, 1.71541293e-01, 1.03331758e-01,\n",
       "        1.03304101e-01, 1.80522671e-01, 1.24824390e-01, 1.35311192e-01,\n",
       "        1.75067016e-01, 1.80963007e-01, 1.81860707e-01, 1.65345649e-01,\n",
       "        1.37849898e-01])}"
      ]
     },
     "execution_count": 60,
     "metadata": {},
     "output_type": "execute_result"
    }
   ],
   "source": [
    " gridCought.cv_results_"
   ]
  },
  {
   "cell_type": "code",
   "execution_count": null,
   "metadata": {},
   "outputs": [],
   "source": []
  },
  {
   "cell_type": "code",
   "execution_count": null,
   "metadata": {},
   "outputs": [],
   "source": []
  },
  {
   "cell_type": "code",
   "execution_count": null,
   "metadata": {},
   "outputs": [],
   "source": []
  },
  {
   "cell_type": "code",
   "execution_count": null,
   "metadata": {},
   "outputs": [],
   "source": []
  },
  {
   "cell_type": "code",
   "execution_count": 43,
   "metadata": {},
   "outputs": [
    {
     "data": {
      "text/plain": [
       "array([-1.94725903, -1.20234605, -2.37135473, -2.34971526, -1.28876866,\n",
       "       -0.56440616, -1.22393784, -1.42054168, -1.25347567, -1.57954612,\n",
       "       -2.26944725, -0.50615847, -2.07489042, -1.02799115, -1.55341373,\n",
       "       -1.69953442, -1.18511589, -0.70894033, -1.32380483, -0.58988544,\n",
       "       -2.43341858, -0.83157111, -1.79958815, -1.35884643, -1.01983707,\n",
       "       -2.76231602, -1.45865063, -1.37313893, -3.04093676, -0.93891769,\n",
       "        0.23592157, -0.47413206, -0.44717629, -0.44620373, -0.44710572,\n",
       "       -0.26337899, -1.00981646, -0.73992456, -0.54187129, -0.38447075,\n",
       "        0.06204808, -0.63420008, -0.37747817, -1.1881647 , -0.5797442 ,\n",
       "       -5.64052295, -5.64442679, -5.6405567 , -5.64050837, -5.64050528,\n",
       "       -5.61944225, -5.78447084, -5.69142617, -5.88714542, -6.03647555,\n",
       "       -6.12199827, -5.50324003, -5.8004489 , -5.85361174, -5.55129827])"
      ]
     },
     "execution_count": 43,
     "metadata": {},
     "output_type": "execute_result"
    }
   ],
   "source": [
    "gridCought.cv_results_['mean_test_score']"
   ]
  },
  {
   "cell_type": "code",
   "execution_count": 44,
   "metadata": {},
   "outputs": [],
   "source": [
    "cvres  = gridCought.cv_results_"
   ]
  },
  {
   "cell_type": "code",
   "execution_count": 45,
   "metadata": {},
   "outputs": [
    {
     "data": {
      "text/plain": [
       "-1.2239378435385617"
      ]
     },
     "execution_count": 45,
     "metadata": {},
     "output_type": "execute_result"
    }
   ],
   "source": [
    "gridCought.cv_results_['mean_test_score'][6]"
   ]
  },
  {
   "cell_type": "code",
   "execution_count": 46,
   "metadata": {},
   "outputs": [
    {
     "data": {
      "text/plain": [
       "-6.121998273597158"
      ]
     },
     "execution_count": 46,
     "metadata": {},
     "output_type": "execute_result"
    }
   ],
   "source": [
    "min(gridCought.cv_results_['mean_test_score'])"
   ]
  },
  {
   "cell_type": "code",
   "execution_count": 47,
   "metadata": {},
   "outputs": [
    {
     "name": "stdout",
     "output_type": "stream",
     "text": [
      "1.94725902535621 {'n_iter_max': 300000, 'reg_W': 1e-06, 'tol': 1e-06, 'weight_rank': 1}\n",
      "1.2023460524784542 {'n_iter_max': 300000, 'reg_W': 1e-06, 'tol': 1e-06, 'weight_rank': 2}\n",
      "2.371354732753063 {'n_iter_max': 300000, 'reg_W': 1e-06, 'tol': 1e-06, 'weight_rank': 3}\n",
      "2.349715257986199 {'n_iter_max': 300000, 'reg_W': 1e-06, 'tol': 1e-06, 'weight_rank': 4}\n",
      "1.2887686631751205 {'n_iter_max': 300000, 'reg_W': 1e-06, 'tol': 1e-06, 'weight_rank': 5}\n",
      "0.5644061556187371 {'n_iter_max': 300000, 'reg_W': 1e-06, 'tol': 1.0, 'weight_rank': 1}\n",
      "1.2239378435385617 {'n_iter_max': 300000, 'reg_W': 1e-06, 'tol': 1.0, 'weight_rank': 2}\n",
      "1.4205416841124738 {'n_iter_max': 300000, 'reg_W': 1e-06, 'tol': 1.0, 'weight_rank': 3}\n",
      "1.2534756749570546 {'n_iter_max': 300000, 'reg_W': 1e-06, 'tol': 1.0, 'weight_rank': 4}\n",
      "1.5795461204158883 {'n_iter_max': 300000, 'reg_W': 1e-06, 'tol': 1.0, 'weight_rank': 5}\n",
      "2.2694472466629407 {'n_iter_max': 300000, 'reg_W': 1e-06, 'tol': 1000000.0, 'weight_rank': 1}\n",
      "0.5061584667764485 {'n_iter_max': 300000, 'reg_W': 1e-06, 'tol': 1000000.0, 'weight_rank': 2}\n",
      "2.0748904151459038 {'n_iter_max': 300000, 'reg_W': 1e-06, 'tol': 1000000.0, 'weight_rank': 3}\n",
      "1.0279911503684547 {'n_iter_max': 300000, 'reg_W': 1e-06, 'tol': 1000000.0, 'weight_rank': 4}\n",
      "1.5534137275352307 {'n_iter_max': 300000, 'reg_W': 1e-06, 'tol': 1000000.0, 'weight_rank': 5}\n",
      "1.699534415606945 {'n_iter_max': 300000, 'reg_W': 0.001, 'tol': 1e-06, 'weight_rank': 1}\n",
      "1.1851158880268478 {'n_iter_max': 300000, 'reg_W': 0.001, 'tol': 1e-06, 'weight_rank': 2}\n",
      "0.7089403337452049 {'n_iter_max': 300000, 'reg_W': 0.001, 'tol': 1e-06, 'weight_rank': 3}\n",
      "1.323804833003571 {'n_iter_max': 300000, 'reg_W': 0.001, 'tol': 1e-06, 'weight_rank': 4}\n",
      "0.5898854441789938 {'n_iter_max': 300000, 'reg_W': 0.001, 'tol': 1e-06, 'weight_rank': 5}\n",
      "2.433418582784821 {'n_iter_max': 300000, 'reg_W': 0.001, 'tol': 1.0, 'weight_rank': 1}\n",
      "0.8315711073000298 {'n_iter_max': 300000, 'reg_W': 0.001, 'tol': 1.0, 'weight_rank': 2}\n",
      "1.799588152260373 {'n_iter_max': 300000, 'reg_W': 0.001, 'tol': 1.0, 'weight_rank': 3}\n",
      "1.3588464333255594 {'n_iter_max': 300000, 'reg_W': 0.001, 'tol': 1.0, 'weight_rank': 4}\n",
      "1.019837065952647 {'n_iter_max': 300000, 'reg_W': 0.001, 'tol': 1.0, 'weight_rank': 5}\n",
      "2.762316017377907 {'n_iter_max': 300000, 'reg_W': 0.001, 'tol': 1000000.0, 'weight_rank': 1}\n",
      "1.458650626244646 {'n_iter_max': 300000, 'reg_W': 0.001, 'tol': 1000000.0, 'weight_rank': 2}\n",
      "1.3731389332953234 {'n_iter_max': 300000, 'reg_W': 0.001, 'tol': 1000000.0, 'weight_rank': 3}\n",
      "3.040936759892355 {'n_iter_max': 300000, 'reg_W': 0.001, 'tol': 1000000.0, 'weight_rank': 4}\n",
      "0.9389176927210698 {'n_iter_max': 300000, 'reg_W': 0.001, 'tol': 1000000.0, 'weight_rank': 5}\n",
      "0.23592157219047458 {'n_iter_max': 300000, 'reg_W': 1.0, 'tol': 1e-06, 'weight_rank': 1}\n",
      "0.4741320636788845 {'n_iter_max': 300000, 'reg_W': 1.0, 'tol': 1e-06, 'weight_rank': 2}\n",
      "0.4471762927188154 {'n_iter_max': 300000, 'reg_W': 1.0, 'tol': 1e-06, 'weight_rank': 3}\n",
      "0.4462037276005529 {'n_iter_max': 300000, 'reg_W': 1.0, 'tol': 1e-06, 'weight_rank': 4}\n",
      "0.4471057151935199 {'n_iter_max': 300000, 'reg_W': 1.0, 'tol': 1e-06, 'weight_rank': 5}\n",
      "0.26337899349340893 {'n_iter_max': 300000, 'reg_W': 1.0, 'tol': 1.0, 'weight_rank': 1}\n",
      "1.0098164574679078 {'n_iter_max': 300000, 'reg_W': 1.0, 'tol': 1.0, 'weight_rank': 2}\n",
      "0.7399245649738032 {'n_iter_max': 300000, 'reg_W': 1.0, 'tol': 1.0, 'weight_rank': 3}\n",
      "0.5418712907963712 {'n_iter_max': 300000, 'reg_W': 1.0, 'tol': 1.0, 'weight_rank': 4}\n",
      "0.3844707532529392 {'n_iter_max': 300000, 'reg_W': 1.0, 'tol': 1.0, 'weight_rank': 5}\n",
      "0.06204807848998151 {'n_iter_max': 300000, 'reg_W': 1.0, 'tol': 1000000.0, 'weight_rank': 1}\n",
      "0.6342000800256801 {'n_iter_max': 300000, 'reg_W': 1.0, 'tol': 1000000.0, 'weight_rank': 2}\n",
      "0.37747816644807597 {'n_iter_max': 300000, 'reg_W': 1.0, 'tol': 1000000.0, 'weight_rank': 3}\n",
      "1.1881647041437944 {'n_iter_max': 300000, 'reg_W': 1.0, 'tol': 1000000.0, 'weight_rank': 4}\n",
      "0.5797441955925351 {'n_iter_max': 300000, 'reg_W': 1.0, 'tol': 1000000.0, 'weight_rank': 5}\n",
      "5.640522952953501 {'n_iter_max': 300000, 'reg_W': 1000.0, 'tol': 1e-06, 'weight_rank': 1}\n",
      "5.6444267921341975 {'n_iter_max': 300000, 'reg_W': 1000.0, 'tol': 1e-06, 'weight_rank': 2}\n",
      "5.64055670053684 {'n_iter_max': 300000, 'reg_W': 1000.0, 'tol': 1e-06, 'weight_rank': 3}\n",
      "5.64050836797422 {'n_iter_max': 300000, 'reg_W': 1000.0, 'tol': 1e-06, 'weight_rank': 4}\n",
      "5.640505283951504 {'n_iter_max': 300000, 'reg_W': 1000.0, 'tol': 1e-06, 'weight_rank': 5}\n",
      "5.619442246856266 {'n_iter_max': 300000, 'reg_W': 1000.0, 'tol': 1.0, 'weight_rank': 1}\n",
      "5.78447083740813 {'n_iter_max': 300000, 'reg_W': 1000.0, 'tol': 1.0, 'weight_rank': 2}\n",
      "5.6914261706594225 {'n_iter_max': 300000, 'reg_W': 1000.0, 'tol': 1.0, 'weight_rank': 3}\n",
      "5.887145423476017 {'n_iter_max': 300000, 'reg_W': 1000.0, 'tol': 1.0, 'weight_rank': 4}\n",
      "6.036475549630256 {'n_iter_max': 300000, 'reg_W': 1000.0, 'tol': 1.0, 'weight_rank': 5}\n",
      "6.121998273597158 {'n_iter_max': 300000, 'reg_W': 1000.0, 'tol': 1000000.0, 'weight_rank': 1}\n",
      "5.50324003318599 {'n_iter_max': 300000, 'reg_W': 1000.0, 'tol': 1000000.0, 'weight_rank': 2}\n",
      "5.800448897057822 {'n_iter_max': 300000, 'reg_W': 1000.0, 'tol': 1000000.0, 'weight_rank': 3}\n",
      "5.853611736903892 {'n_iter_max': 300000, 'reg_W': 1000.0, 'tol': 1000000.0, 'weight_rank': 4}\n",
      "5.5512982733060925 {'n_iter_max': 300000, 'reg_W': 1000.0, 'tol': 1000000.0, 'weight_rank': 5}\n"
     ]
    }
   ],
   "source": [
    "for mean_score,  params  in zip(cvres [ \"mean_test_score\" ], \n",
    "                                cvres [ \"params\" ]\n",
    "                                ): \n",
    "    print (np.sqrt(mean_score**2) , params) "
   ]
  },
  {
   "cell_type": "code",
   "execution_count": 48,
   "metadata": {},
   "outputs": [],
   "source": [
    "score=[]\n",
    "score_l=[]\n",
    "parametr_reg_w=[]\n",
    "my_error=[]"
   ]
  },
  {
   "cell_type": "code",
   "execution_count": 49,
   "metadata": {},
   "outputs": [
    {
     "name": "stdout",
     "output_type": "stream",
     "text": [
      "[7.850956241146074, 14.643503530972978, 97.84755979576325, 1.2699418109641938, 7.174238516316934, 3.705601479475632, 0.2091952710743093, 43.9737599086611, 20.99064700853719, 8.000135861234329]\n"
     ]
    }
   ],
   "source": [
    "def f(x,y):\n",
    "    my_error=[]\n",
    "    for i in range(0,len(y)):\n",
    "        my_error+=[(x[i]-y[i])**2]\n",
    "    return my_error\n",
    "my_error=f(np.array(y_test.iloc[:,0]),predictors)\n",
    "print(my_error)"
   ]
  },
  {
   "cell_type": "code",
   "execution_count": 50,
   "metadata": {},
   "outputs": [
    {
     "name": "stdout",
     "output_type": "stream",
     "text": [
      "[3.791817711831217, 1.4456360299105218, 5.62332326855035, 5.521161793613149, 1.6609246671821871, 0.31855430850032207, 1.4980238448458247, 2.0179386763011036, 1.5712012677090437, 2.494965946520884, 5.150390805386002, 0.2561963934894851, 4.305170234864341, 1.0567658052358588, 2.4130942088948997, 2.8884172298324398, 1.4044996680536639, 0.5025963968107625, 1.7524592358836124, 0.3479648372542488, 5.921525999042486, 0.6915105064961977, 3.2385175177559034, 1.8464636293615941, 1.0400676410909038, 7.630389779862541, 2.1276616494438976, 1.8855105301314188, 9.247296377664615, 0.8815664337046574, 0.055658988224825304, 0.2248012138083978, 0.1999666367697437, 0.1990977665246284, 0.1999035205587089, 0.06936849421360114, 1.019729277773035, 0.5474883618516719, 0.2936244957893255, 0.14781776010688247, 0.0038499640442989065, 0.402209741504579, 0.14248976614500133, 1.4117353641731105, 0.3361033323232356, 31.815499182795282, 31.859553811762346, 31.815879891971047, 31.815334649187193, 31.81529985828484, 31.578131165753003, 33.46010286882512, 32.392331856066974, 34.65848123715461, 36.439037061283905, 37.47886286192658, 30.285650862860933, 33.6452074073793, 34.26477036641899, 30.816912519211204]     [1e-06, 1e-06, 1e-06, 1e-06, 1e-06, 1e-06, 1e-06, 1e-06, 1e-06, 1e-06, 1e-06, 1e-06, 1e-06, 1e-06, 1e-06, 0.001, 0.001, 0.001, 0.001, 0.001, 0.001, 0.001, 0.001, 0.001, 0.001, 0.001, 0.001, 0.001, 0.001, 0.001, 1.0, 1.0, 1.0, 1.0, 1.0, 1.0, 1.0, 1.0, 1.0, 1.0, 1.0, 1.0, 1.0, 1.0, 1.0, 1000.0, 1000.0, 1000.0, 1000.0, 1000.0, 1000.0, 1000.0, 1000.0, 1000.0, 1000.0, 1000.0, 1000.0, 1000.0, 1000.0, 1000.0]\n"
     ]
    }
   ],
   "source": [
    "for mean_score,  params  in zip (cvres [ \"mean_test_score\"],cvres [ \"params\" ] )  : \n",
    "    score+=[np.array(mean_score)**2]\n",
    "    score_l+=[np.array((mean_score))]\n",
    "    parametr_reg_w+=[params[\"reg_W\"]]\n",
    "print (score,\"   \",parametr_reg_w) \n"
   ]
  },
  {
   "cell_type": "code",
   "execution_count": 54,
   "metadata": {
    "scrolled": false
   },
   "outputs": [
    {
     "data": {
      "image/png": "[encoded data removed]",
      "text/plain": [
       "<Figure size 432x288 with 1 Axes>"
      ]
     },
     "metadata": {
      "needs_background": "light"
     },
     "output_type": "display_data"
    }
   ],
   "source": [
    "plt.plot(parametr_reg_w,score_l,\".\",color=\"red\")\n",
    "#plt.plot(parametr_reg_w,score_l,\".\",color=\"blue\")\n",
    "plt.grid()\n",
    "plt.ylabel(\"Ошибка\",fontsize=15)\n",
    "plt.xlabel(\"Параметр\",fontsize=15)\n",
    "plt.title(\"График зависимости квадрата ошибки от reg_W\",fontsize=18)\n",
    "plt.show();"
   ]
  },
  {
   "cell_type": "code",
   "execution_count": 52,
   "metadata": {},
   "outputs": [
    {
     "name": "stdout",
     "output_type": "stream",
     "text": [
      "Object `file_obj.write(plt)` not found.\n"
     ]
    }
   ],
   "source": [
    "?file_obj.write(plt)"
   ]
  },
  {
   "cell_type": "code",
   "execution_count": null,
   "metadata": {},
   "outputs": [],
   "source": []
  }
 ],
 "metadata": {
  "kernelspec": {
   "display_name": "Python 3",
   "language": "python",
   "name": "python3"
  },
  "language_info": {
   "codemirror_mode": {
    "name": "ipython",
    "version": 3
   },
   "file_extension": ".py",
   "mimetype": "text/x-python",
   "name": "python",
   "nbconvert_exporter": "python",
   "pygments_lexer": "ipython3",
   "version": "3.7.4"
  }
 },
 "nbformat": 4,
 "nbformat_minor": 2
}
