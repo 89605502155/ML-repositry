{
 "cells": [
  {
   "cell_type": "code",
   "execution_count": 1,
   "metadata": {},
   "outputs": [],
   "source": [
    "import numpy as np\n",
    "from gzip import open # NB: overrides standard open()\n",
    "import pickle as pkl\n",
    "import pandas as pd\n",
    "import warnings \n",
    "from glob import glob\n",
    "import os\n",
    "import math\n",
    "import functools\n",
    "import matplotlib.pyplot as plt\n",
    "import matplotlib as mpl"
   ]
  },
  {
   "cell_type": "code",
   "execution_count": 2,
   "metadata": {},
   "outputs": [],
   "source": [
    "Xdata_numpy = pkl.load(open('C:/Users/admin/Desktop/PLS2021/N-PLS/X_new.pkl.gz', 'rb'))"
   ]
  },
  {
   "cell_type": "code",
   "execution_count": 3,
   "metadata": {},
   "outputs": [],
   "source": [
    "import  subprocess\n",
    "import sys\n",
    "import os\n",
    "from N_PLS1_help_scripts.EasySelectWaveLenth import firstSellectionVariables as sell"
   ]
  },
  {
   "cell_type": "code",
   "execution_count": 4,
   "metadata": {},
   "outputs": [],
   "source": [
    "a=sell()"
   ]
  },
  {
   "cell_type": "code",
   "execution_count": 5,
   "metadata": {},
   "outputs": [],
   "source": [
    "a.variance(Xdata_numpy['X'])"
   ]
  },
  {
   "cell_type": "code",
   "execution_count": 6,
   "metadata": {},
   "outputs": [
    {
     "name": "stdout",
     "output_type": "stream",
     "text": [
      "{0.1605522917411513: 0, 0.2374102236292818: 1, 0.32874194872720225: 2, 0.4142525017312679: 3, 0.4906916368453562: 4, 0.5302252138281708: 5, 0.4590632894247468: 6, 0.293389273191901: 7, 0.1382565726010714: 8, 0.0459477572661032: 9, 0.011304033659109633: 10, 0.002886570906326224: 11, 0.00046621988343901354: 12, 0.00024064142121766666: 13, 0.00022753680554078989: 14, 0.0002620528606457099: 15, 0.00017601217971162847: 16, 0.00017388250824226065: 17, 0.00015836629286681178: 18, 0.00015492085251024503: 19, 0.00013695743781238037: 20, 0.00013004610509751861: 21, 0.000117415767646884: 22, 0.00010807525745506577: 23, 9.942601770276432e-05: 24, 9.615694799377252e-05: 25, 8.764756495926845e-05: 26, 8.376781538739066e-05: 27, 7.371527587065567e-05: 28, 6.162634019746911e-05: 29, 5.8302370410976175e-05: 30, 4.8765420181841406e-05: 31, 4.513457237565857e-05: 32, 4.1447518085188714e-05: 33, 4.294553369509502e-05: 34, 3.84800735359776e-05: 35, 3.900047727680657e-05: 36, 3.776167988005552e-05: 37, 3.856046336418876e-05: 38, 3.762440132435115e-05: 39, 4.320065818585735e-05: 40, 6.997693622957026e-05: 41, 8.25778981086601e-05: 42, 6.988568743608752e-05: 43, 4.159818491637844e-05: 44, 3.7325244318775496e-05: 45, 3.176863618795604e-05: 46, 2.9488406999201325e-05: 47, 2.992233397882765e-05: 48, 2.93641945582635e-05: 49, 4.6732535703990396e-05: 50, 2.7242336036531417e-05: 51}\n",
      "[0.5302252138281708, 0.4906916368453562, 0.4590632894247468, 0.4142525017312679, 0.32874194872720225, 0.293389273191901, 0.2374102236292818, 0.1605522917411513, 0.1382565726010714, 0.0459477572661032, 0.011304033659109633, 0.002886570906326224, 0.00046621988343901354, 0.0002620528606457099, 0.00024064142121766666, 0.00022753680554078989, 0.00017601217971162847, 0.00017388250824226065, 0.00015836629286681178, 0.00015492085251024503, 0.00013695743781238037, 0.00013004610509751861, 0.000117415767646884, 0.00010807525745506577, 9.942601770276432e-05, 9.615694799377252e-05, 8.764756495926845e-05, 8.376781538739066e-05, 8.25778981086601e-05, 7.371527587065567e-05, 6.997693622957026e-05, 6.988568743608752e-05, 6.162634019746911e-05, 5.8302370410976175e-05, 4.8765420181841406e-05, 4.6732535703990396e-05, 4.513457237565857e-05, 4.320065818585735e-05, 4.294553369509502e-05, 4.159818491637844e-05, 4.1447518085188714e-05, 3.900047727680657e-05, 3.856046336418876e-05, 3.84800735359776e-05, 3.776167988005552e-05, 3.762440132435115e-05, 3.7325244318775496e-05, 3.176863618795604e-05, 2.992233397882765e-05, 2.9488406999201325e-05, 2.93641945582635e-05, 2.7242336036531417e-05]\n"
     ]
    }
   ],
   "source": [
    "b=a.selectionWave(Xdata_numpy['X'],Xdata_numpy['excitation'],Xdata_numpy['emission'])"
   ]
  },
  {
   "cell_type": "code",
   "execution_count": 7,
   "metadata": {},
   "outputs": [],
   "source": [
    "?b"
   ]
  },
  {
   "cell_type": "code",
   "execution_count": 8,
   "metadata": {},
   "outputs": [
    {
     "data": {
      "text/plain": [
       "['__class__',\n",
       " '__delattr__',\n",
       " '__dict__',\n",
       " '__dir__',\n",
       " '__doc__',\n",
       " '__eq__',\n",
       " '__format__',\n",
       " '__ge__',\n",
       " '__getattribute__',\n",
       " '__gt__',\n",
       " '__hash__',\n",
       " '__init__',\n",
       " '__init_subclass__',\n",
       " '__le__',\n",
       " '__lt__',\n",
       " '__module__',\n",
       " '__ne__',\n",
       " '__new__',\n",
       " '__reduce__',\n",
       " '__reduce_ex__',\n",
       " '__repr__',\n",
       " '__setattr__',\n",
       " '__sizeof__',\n",
       " '__str__',\n",
       " '__subclasshook__',\n",
       " '__weakref__',\n",
       " 'dispersion',\n",
       " 'new_emission',\n",
       " 'new_excitation',\n",
       " 'selectionWave',\n",
       " 'var_emission',\n",
       " 'var_excitation',\n",
       " 'variance',\n",
       " 'x_new_']"
      ]
     },
     "execution_count": 8,
     "metadata": {},
     "output_type": "execute_result"
    }
   ],
   "source": [
    "dir(b)"
   ]
  },
  {
   "cell_type": "code",
   "execution_count": 9,
   "metadata": {},
   "outputs": [
    {
     "data": {
      "text/plain": [
       "array([348., 350., 352., 354., 356., 358., 360.])"
      ]
     },
     "execution_count": 9,
     "metadata": {},
     "output_type": "execute_result"
    }
   ],
   "source": [
    "b.new_emission"
   ]
  },
  {
   "cell_type": "code",
   "execution_count": 10,
   "metadata": {},
   "outputs": [
    {
     "data": {
      "text/plain": [
       "array([265., 270., 275.])"
      ]
     },
     "execution_count": 10,
     "metadata": {},
     "output_type": "execute_result"
    }
   ],
   "source": [
    "b.new_excitation"
   ]
  },
  {
   "cell_type": "code",
   "execution_count": 11,
   "metadata": {},
   "outputs": [
    {
     "data": {
      "text/plain": [
       "array([[0.00000000e+00, 0.00000000e+00, 0.00000000e+00, ...,\n",
       "        0.00000000e+00, 0.00000000e+00, 0.00000000e+00],\n",
       "       [0.00000000e+00, 0.00000000e+00, 0.00000000e+00, ...,\n",
       "        0.00000000e+00, 0.00000000e+00, 0.00000000e+00],\n",
       "       [0.00000000e+00, 0.00000000e+00, 0.00000000e+00, ...,\n",
       "        0.00000000e+00, 0.00000000e+00, 0.00000000e+00],\n",
       "       ...,\n",
       "       [2.76838663e-04, 3.82525687e-04, 5.04326411e-04, ...,\n",
       "        2.10471444e-06, 1.95735177e-06, 1.79569404e-06],\n",
       "       [2.86850001e-04, 4.62676137e-04, 6.28902550e-04, ...,\n",
       "        1.71025945e-06, 2.01685143e-06, 2.21662381e-06],\n",
       "       [2.97761977e-04, 4.85311117e-04, 5.95710447e-04, ...,\n",
       "        1.76964703e-06, 1.94405951e-06, 2.68111885e-06]])"
      ]
     },
     "execution_count": 11,
     "metadata": {},
     "output_type": "execute_result"
    }
   ],
   "source": [
    "b.dispersion"
   ]
  },
  {
   "cell_type": "code",
   "execution_count": 12,
   "metadata": {},
   "outputs": [
    {
     "data": {
      "image/png": "[encoded data removed]",
      "text/plain": [
       "<Figure size 432x288 with 1 Axes>"
      ]
     },
     "metadata": {
      "needs_background": "light"
     },
     "output_type": "display_data"
    }
   ],
   "source": [
    "plt.imshow(b.dispersion, aspect='auto')\n",
    "plt.show()"
   ]
  },
  {
   "cell_type": "code",
   "execution_count": null,
   "metadata": {},
   "outputs": [],
   "source": []
  }
 ],
 "metadata": {
  "kernelspec": {
   "display_name": "Python 3",
   "language": "python",
   "name": "python3"
  },
  "language_info": {
   "codemirror_mode": {
    "name": "ipython",
    "version": 3
   },
   "file_extension": ".py",
   "mimetype": "text/x-python",
   "name": "python",
   "nbconvert_exporter": "python",
   "pygments_lexer": "ipython3",
   "version": "3.7.4"
  }
 },
 "nbformat": 4,
 "nbformat_minor": 2
}
